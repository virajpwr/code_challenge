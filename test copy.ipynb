{
 "cells": [
  {
   "cell_type": "code",
   "execution_count": 10,
   "metadata": {},
   "outputs": [
    {
     "name": "stderr",
     "output_type": "stream",
     "text": [
      "INFO: 2022-09-27 09:45:51,840: test data\n"
     ]
    },
    {
     "data": {
      "text/plain": [
       "5"
      ]
     },
     "execution_count": 10,
     "metadata": {},
     "output_type": "execute_result"
    }
   ],
   "source": [
    "from typing import TypeVar, Generic\n",
    "from logging import Logger\n",
    "from imports import *\n",
    "T = TypeVar('T')\n",
    "\n",
    "class LoggedVar(Generic[T]):\n",
    "    def __init__(self, value: T, name: str, logger: Logger) -> None:\n",
    "        self.name = name\n",
    "        self.logger = logger\n",
    "        self.value = value\n",
    "\n",
    "    def set(self, new: T) -> None:\n",
    "        logger.info(\"Reading the raw data and target data from the data/raw folder\")\n",
    "        self.value = new\n",
    "\n",
    "    def get(self) -> T:\n",
    "        logger.info('test data')\n",
    "        return self.value\n",
    "\n",
    "logger = logs(path=\"logs/\", file=\"data.logs\")\n",
    "rt = LoggedVar(5, 'runtime', logger)\n",
    "rt.get()"
   ]
  },
  {
   "cell_type": "code",
   "execution_count": 23,
   "metadata": {},
   "outputs": [],
   "source": [
    "## testing feature selection techniques....\n",
    "\n",
    "from sklearn.datasets import make_regression\n",
    "# generate regression dataset\n",
    "X, y = make_regression(n_samples=1000, n_features=100, n_informative=10, noise=0.1, random_state=1)\n",
    "from sklearn.model_selection import train_test_split\n",
    "# split into train and test sets\n",
    "X_train, X_test, y_train, y_test = train_test_split(X, y, test_size=0.33, random_state=1)"
   ]
  },
  {
   "cell_type": "code",
   "execution_count": 26,
   "metadata": {},
   "outputs": [
    {
     "name": "stdout",
     "output_type": "stream",
     "text": [
      "Train (670, 100) (670,)\n",
      "Test (330, 100) (330,)\n"
     ]
    }
   ],
   "source": [
    "# load and summarize the dataset\n",
    "from sklearn.datasets import make_regression\n",
    "from sklearn.model_selection import train_test_split\n",
    "# generate regression dataset\n",
    "X, y = make_regression(n_samples=1000, n_features=100, n_informative=10, noise=0.1, random_state=1)\n",
    "# split into train and test sets\n",
    "X_train, X_test, y_train, y_test = train_test_split(X, y, test_size=0.33, random_state=1)\n",
    "# summarize\n",
    "print('Train', X_train.shape, y_train.shape)\n",
    "print('Test', X_test.shape, y_test.shape)"
   ]
  },
  {
   "cell_type": "code",
   "execution_count": 57,
   "metadata": {},
   "outputs": [
    {
     "name": "stdout",
     "output_type": "stream",
     "text": [
      "Feature 0: 0.009419\n",
      "Feature 1: 1.018881\n",
      "Feature 2: 1.205187\n",
      "Feature 3: 0.000138\n",
      "Feature 4: 0.167511\n",
      "Feature 5: 5.985083\n",
      "Feature 6: 0.062405\n",
      "Feature 7: 1.455257\n",
      "Feature 8: 0.420384\n",
      "Feature 9: 101.392225\n",
      "Feature 10: 0.387091\n",
      "Feature 11: 1.581124\n",
      "Feature 12: 3.014463\n",
      "Feature 13: 0.232705\n",
      "Feature 14: 0.076281\n",
      "Feature 15: 4.299652\n",
      "Feature 16: 1.497530\n",
      "Feature 17: 0.261242\n",
      "Feature 18: 5.960005\n",
      "Feature 19: 0.523219\n",
      "Feature 20: 0.003365\n",
      "Feature 21: 0.024178\n",
      "Feature 22: 0.220958\n",
      "Feature 23: 0.576770\n",
      "Feature 24: 0.627198\n",
      "Feature 25: 0.350687\n",
      "Feature 26: 0.281877\n",
      "Feature 27: 0.584210\n",
      "Feature 28: 52.196337\n",
      "Feature 29: 0.046855\n",
      "Feature 30: 0.147323\n",
      "Feature 31: 0.368485\n",
      "Feature 32: 0.077631\n",
      "Feature 33: 0.698140\n",
      "Feature 34: 45.744046\n",
      "Feature 35: 2.047376\n",
      "Feature 36: 0.786270\n",
      "Feature 37: 0.996190\n",
      "Feature 38: 2.733533\n",
      "Feature 39: 63.957656\n",
      "Feature 40: 231.885540\n",
      "Feature 41: 1.372448\n",
      "Feature 42: 0.581860\n",
      "Feature 43: 1.072930\n",
      "Feature 44: 1.066976\n",
      "Feature 45: 0.344656\n",
      "Feature 46: 13.951551\n",
      "Feature 47: 3.575080\n",
      "Feature 48: 0.007299\n",
      "Feature 49: 0.004651\n",
      "Feature 50: 1.094585\n",
      "Feature 51: 0.241065\n",
      "Feature 52: 0.355137\n",
      "Feature 53: 0.020294\n",
      "Feature 54: 0.154567\n",
      "Feature 55: 2.592512\n",
      "Feature 56: 0.300175\n",
      "Feature 57: 0.357798\n",
      "Feature 58: 3.060090\n",
      "Feature 59: 0.890357\n",
      "Feature 60: 122.132164\n",
      "Feature 61: 2.029982\n",
      "Feature 62: 0.091551\n",
      "Feature 63: 1.081123\n",
      "Feature 64: 0.056041\n",
      "Feature 65: 2.930717\n",
      "Feature 66: 0.054886\n",
      "Feature 67: 1.332787\n",
      "Feature 68: 0.145579\n",
      "Feature 69: 0.986331\n",
      "Feature 70: 0.092661\n",
      "Feature 71: 0.083219\n",
      "Feature 72: 0.198847\n",
      "Feature 73: 2.065792\n",
      "Feature 74: 0.236594\n",
      "Feature 75: 0.512608\n",
      "Feature 76: 1.095650\n",
      "Feature 77: 0.015359\n",
      "Feature 78: 2.193730\n",
      "Feature 79: 1.574530\n",
      "Feature 80: 5.360863\n",
      "Feature 81: 0.041874\n",
      "Feature 82: 5.717705\n",
      "Feature 83: 0.436560\n",
      "Feature 84: 5.594438\n",
      "Feature 85: 0.000065\n",
      "Feature 86: 0.026748\n",
      "Feature 87: 0.408422\n",
      "Feature 88: 2.092557\n",
      "Feature 89: 9.568498\n",
      "Feature 90: 0.642445\n",
      "Feature 91: 0.065794\n",
      "Feature 92: 198.705931\n",
      "Feature 93: 0.073807\n",
      "Feature 94: 1.048605\n",
      "Feature 95: 0.004106\n",
      "Feature 96: 0.042110\n",
      "Feature 97: 0.034228\n",
      "Feature 98: 0.792433\n",
      "Feature 99: 0.015365\n"
     ]
    },
    {
     "data": {
      "image/png": "[encoded data removed]",
      "text/plain": [
       "<Figure size 432x288 with 1 Axes>"
      ]
     },
     "metadata": {
      "needs_background": "light"
     },
     "output_type": "display_data"
    }
   ],
   "source": [
    "# example of correlation feature selection for numerical data\n",
    "from sklearn.datasets import make_regression\n",
    "from sklearn.model_selection import train_test_split\n",
    "from sklearn.feature_selection import SelectKBest\n",
    "from sklearn.feature_selection import f_regression\n",
    "from matplotlib import pyplot\n",
    "\n",
    "# feature selection\n",
    "def select_features(X_train, y_train, X_test):\n",
    "\t# configure to select all features\n",
    "\tfs = SelectKBest(score_func=f_regression, k=20)\n",
    "\t# learn relationship from training data\n",
    "\tfs.fit(X_train, y_train)\n",
    "\t# transform train input data\n",
    "\tX_train_fs = fs.transform(X_train)\n",
    "\t# transform test input data\n",
    "\tX_test_fs = fs.transform(X_test)\n",
    "\treturn X_train_fs, X_test_fs, fs\n",
    "\n",
    "# load the dataset\n",
    "X, y = make_regression(n_samples=1000, n_features=100, n_informative=10, noise=0.1, random_state=1)\n",
    "# split into train and test sets\n",
    "X_train, X_test, y_train, y_test = train_test_split(X, y, test_size=0.33, random_state=1)\n",
    "# feature selection\n",
    "X_train_fs, X_test_fs, fs = select_features(X_train, y_train, X_test)\n",
    "# what are scores for the features\n",
    "for i in range(len(fs.scores_)):\n",
    "\tprint('Feature %d: %f' % (i, fs.scores_[i]))\n",
    "# plot the scores\n",
    "pyplot.bar([i for i in range(len(fs.scores_))], fs.scores_)\n",
    "pyplot.show()"
   ]
  },
  {
   "cell_type": "code",
   "execution_count": 32,
   "metadata": {},
   "outputs": [
    {
     "data": {
      "text/plain": [
       "array([[-1.48178836,  0.31796251,  0.34689416, ...,  1.84972109,\n",
       "         0.72490829,  0.16952573],\n",
       "       [ 0.31377031, -0.98103428, -0.94615899, ..., -0.12150219,\n",
       "         0.57875852, -1.03028732],\n",
       "       [-0.68121489,  0.7122178 , -0.23589626, ..., -1.05556351,\n",
       "         0.18834099,  0.96059188],\n",
       "       ...,\n",
       "       [-0.53045937,  0.21629528,  1.16263068, ..., -0.11695719,\n",
       "         1.94082041,  1.72113145],\n",
       "       [-1.43126274,  0.05019699,  0.29265029, ..., -0.48267966,\n",
       "        -0.33501374,  0.61883734],\n",
       "       [-0.62519622, -0.88218873, -0.48462293, ..., -0.18797853,\n",
       "        -0.13601316, -0.46244458]])"
      ]
     },
     "execution_count": 32,
     "metadata": {},
     "output_type": "execute_result"
    }
   ],
   "source": [
    "X_train_fs"
   ]
  },
  {
   "cell_type": "code",
   "execution_count": null,
   "metadata": {},
   "outputs": [],
   "source": []
  },
  {
   "cell_type": "code",
   "execution_count": null,
   "metadata": {},
   "outputs": [],
   "source": []
  },
  {
   "cell_type": "code",
   "execution_count": null,
   "metadata": {},
   "outputs": [],
   "source": []
  },
  {
   "cell_type": "code",
   "execution_count": 93,
   "metadata": {},
   "outputs": [],
   "source": [
    "df_ = pd.read_csv(r'D:\\final_solution\\solution_v1\\data\\raw\\md_raw_dataset.csv', sep=';')"
   ]
  },
  {
   "cell_type": "code",
   "execution_count": 96,
   "metadata": {},
   "outputs": [
    {
     "data": {
      "text/plain": [
       "['crystal_weight',\n",
       " 'first_factor_x',\n",
       " 'final_factor_x',\n",
       " 'previous_adamantium',\n",
       " 'Unnamed: 17',\n",
       " 'etherium_before_start',\n",
       " 'expected_start',\n",
       " 'start_subprocess1',\n",
       " 'start_critical_subprocess1',\n",
       " 'predicted_process_end',\n",
       " 'process_end',\n",
       " 'subprocess1_end',\n",
       " 'reported_on_tower',\n",
       " 'opened',\n",
       " 'chemical_x',\n",
       " 'raw_kryptonite',\n",
       " 'argon',\n",
       " 'pure_seastone',\n",
       " 'groups']"
      ]
     },
     "execution_count": 96,
     "metadata": {},
     "output_type": "execute_result"
    }
   ],
   "source": [
    "df_.columns[df_.isnull().any()].tolist()"
   ]
  },
  {
   "cell_type": "code",
   "execution_count": 335,
   "metadata": {},
   "outputs": [
    {
     "data": {
      "text/plain": [
       "groups_Categorify                  int64\n",
       "crystal_supergroup_Categorify      int64\n",
       "ts_month                           int64\n",
       "TE_groups_Categorify             float64\n",
       "NA_argon                           int64\n",
       "crystal_type_Categorify            int64\n",
       "tracking                           int64\n",
       "TE_crystal_type_Categorify       float64\n",
       "place                              int64\n",
       "argon                            float64\n",
       "CE_TE_groups_Categorify            int64\n",
       "ts_weekday                         int64\n",
       "Cycle_Categorify                   int64\n",
       "super_hero_group_Categorify        int64\n",
       "TE_Cycle_Categorify              float64\n",
       "time_diff_process                float64\n",
       "expected_final_factor_x          float64\n",
       "first_factor_x                   float64\n",
       "NA_first_factor_x                  int64\n",
       "dtype: object"
      ]
     },
     "execution_count": 335,
     "metadata": {},
     "output_type": "execute_result"
    }
   ],
   "source": [
    "\n",
    "import pandas as pd\n",
    "df = pd.read_csv(r'D:\\final_solution\\solution_v1\\data\\interim\\feature_engg.csv')\n",
    "\n",
    "rt = pd.read_csv(r'D:\\final_solution\\original\\code_challenge\\final_data_new.csv')\n",
    "rt.dtypes"
   ]
  },
  {
   "cell_type": "code",
   "execution_count": 336,
   "metadata": {},
   "outputs": [],
   "source": [
    "from imports import *\n",
    "config = load_config(r\"D:\\final_solution\\solution_v1\\config.yml\")\n",
    "preprocess = preprocessing(df, config)\n",
    "# convertd types\n",
    "df = preprocess.convert_dtypes()"
   ]
  },
  {
   "cell_type": "code",
   "execution_count": 426,
   "metadata": {},
   "outputs": [],
   "source": [
    "def left_subtract(l1,l2):\n",
    "    lst = []\n",
    "    for i in l1:\n",
    "        if i not in l2:\n",
    "            lst.append(i)\n",
    "    return lst\n",
    "#################################################################################\n",
    "def return_dictionary_list(lst_of_tuples):\n",
    "    \"\"\" Returns a dictionary of lists if you send in a list of Tuples\"\"\"\n",
    "    orDict = defaultdict(list)\n",
    "    # iterating over list of tuples\n",
    "    for key, val in lst_of_tuples:\n",
    "        orDict[key].append(val)\n",
    "    return orDict\n",
    "################################################################################\n",
    "def find_remove_duplicates(list_of_values):\n",
    "    \"\"\"\n",
    "    # Removes duplicates from a list to return unique values - USED ONLY ONCE\n",
    "    \"\"\"\n",
    "    output = []\n",
    "    seen = set()\n",
    "    for value in list_of_values:\n",
    "        if value not in seen:\n",
    "            output.append(value)\n",
    "            seen.add(value)\n",
    "    return output"
   ]
  },
  {
   "cell_type": "code",
   "execution_count": 556,
   "metadata": {},
   "outputs": [],
   "source": [
    "max_feats  = len(config['continous_col_feature_selection'])\n",
    "fs = SelectKBest(score_func=mutual_info_regression, k=max_feats)\n",
    "rt =fs.fit(df[config['continous_col_feature_selection']], df['target'])\n",
    "mutual_info = dict(zip(config['continous_col_feature_selection'], rt.scores_))\n",
    "mutual_info = pd.DataFrame(mutual_info.items(), columns=['feature', 'score'])\n",
    "mi_score = mutual_info.loc[mutual_info['score'] != 0].feature.tolist()\n",
    "mi_score_dict = dict(zip(mutual_info.feature, mutual_info.score))"
   ]
  },
  {
   "cell_type": "code",
   "execution_count": 559,
   "metadata": {},
   "outputs": [],
   "source": [
    "numvars = mi_score\n",
    "correlation_dataframe = df[mi_score].corr().abs().unstack().sort_values().drop_duplicates()\n",
    "corrdf = pd.DataFrame(correlation_dataframe[:].reset_index())\n",
    "corrdf.columns = ['var1','var2','coeff']\n",
    "corrdf1 = corrdf[corrdf['coeff']>=0.70]\n",
    "corrdf1 = corrdf1[corrdf1['var1'] != corrdf1['var2']]\n",
    "corrdf1\n",
    "corr_var = corrdf1['var1'].tolist()\n",
    "corr_var.extend(corrdf1['var2'].tolist())\n"
   ]
  },
  {
   "cell_type": "code",
   "execution_count": 540,
   "metadata": {},
   "outputs": [
    {
     "data": {
      "text/plain": [
       "'final_factor_x'"
      ]
     },
     "execution_count": 540,
     "metadata": {},
     "output_type": "execute_result"
    }
   ],
   "source": [
    "rt = mutual_info.loc[mutual_info['feature'].isin(corr_var1)]\n",
    "rt.sort_values(by='score', ascending=False).iloc[-1,0]"
   ]
  },
  {
   "cell_type": "code",
   "execution_count": 542,
   "metadata": {},
   "outputs": [
    {
     "data": {
      "text/plain": [
       "Index(['feature', 'score'], dtype='object')"
      ]
     },
     "execution_count": 542,
     "metadata": {},
     "output_type": "execute_result"
    }
   ],
   "source": [
    "mutual_info.columns"
   ]
  },
  {
   "cell_type": "code",
   "execution_count": 551,
   "metadata": {},
   "outputs": [],
   "source": [
    "mi_score_ = mutual_info[mutual_info.feature != rt.sort_values(by='score', ascending=False).iloc[-1,0]]"
   ]
  },
  {
   "cell_type": "code",
   "execution_count": 555,
   "metadata": {},
   "outputs": [
    {
     "data": {
      "text/plain": [
       "['TE_crystal_supergroup_Categorify',\n",
       " 'TE_crystal_type_Categorify',\n",
       " 'CE_TE_crystal_supergroup_Categorify',\n",
       " 'expected_factor_x',\n",
       " 'first_factor_x',\n",
       " 'expected_final_factor_x',\n",
       " 'previous_adamantium',\n",
       " 'etherium_before_start',\n",
       " 'chemical_x',\n",
       " 'raw_kryptonite',\n",
       " 'argon',\n",
       " 'pure_seastone']"
      ]
     },
     "execution_count": 555,
     "metadata": {},
     "output_type": "execute_result"
    }
   ],
   "source": [
    "mi_score_.loc[mi_score_['score'] !=0].feature.tolist()"
   ]
  },
  {
   "cell_type": "code",
   "execution_count": 550,
   "metadata": {},
   "outputs": [
    {
     "ename": "TypeError",
     "evalue": "list indices must be integers or slices, not str",
     "output_type": "error",
     "traceback": [
      "\u001b[1;31m---------------------------------------------------------------------------\u001b[0m",
      "\u001b[1;31mTypeError\u001b[0m                                 Traceback (most recent call last)",
      "\u001b[1;32m<ipython-input-550-ebf7e32a0932>\u001b[0m in \u001b[0;36m<module>\u001b[1;34m\u001b[0m\n\u001b[1;32m----> 1\u001b[1;33m \u001b[0mmi_score_\u001b[0m\u001b[1;33m[\u001b[0m\u001b[0mmi_score_\u001b[0m\u001b[1;33m[\u001b[0m\u001b[1;34m'score'\u001b[0m\u001b[1;33m]\u001b[0m \u001b[1;33m!=\u001b[0m \u001b[1;36m0\u001b[0m\u001b[1;33m]\u001b[0m\u001b[1;33m.\u001b[0m\u001b[0mfeature\u001b[0m\u001b[1;33m.\u001b[0m\u001b[0mtolist\u001b[0m\u001b[1;33m(\u001b[0m\u001b[1;33m)\u001b[0m\u001b[1;33m\u001b[0m\u001b[1;33m\u001b[0m\u001b[0m\n\u001b[0m\u001b[0;32m      2\u001b[0m \u001b[0mmi_score_\u001b[0m\u001b[1;33m\u001b[0m\u001b[1;33m\u001b[0m\u001b[0m\n",
      "\u001b[1;31mTypeError\u001b[0m: list indices must be integers or slices, not str"
     ]
    }
   ],
   "source": [
    "mi_score_[mi_score_['score'] != 0].feature.tolist()\n",
    "mi_score_"
   ]
  },
  {
   "cell_type": "code",
   "execution_count": 541,
   "metadata": {},
   "outputs": [
    {
     "ename": "KeyError",
     "evalue": "\"['final_factor_x'] not found in axis\"",
     "output_type": "error",
     "traceback": [
      "\u001b[1;31m---------------------------------------------------------------------------\u001b[0m",
      "\u001b[1;31mKeyError\u001b[0m                                  Traceback (most recent call last)",
      "\u001b[1;32m<ipython-input-541-8c576650b717>\u001b[0m in \u001b[0;36m<module>\u001b[1;34m\u001b[0m\n\u001b[1;32m----> 1\u001b[1;33m \u001b[0mmi_score_\u001b[0m \u001b[1;33m=\u001b[0m \u001b[0mmutual_info\u001b[0m\u001b[1;33m.\u001b[0m\u001b[0mdrop\u001b[0m\u001b[1;33m(\u001b[0m\u001b[0mrt\u001b[0m\u001b[1;33m.\u001b[0m\u001b[0msort_values\u001b[0m\u001b[1;33m(\u001b[0m\u001b[0mby\u001b[0m\u001b[1;33m=\u001b[0m\u001b[1;34m'score'\u001b[0m\u001b[1;33m,\u001b[0m \u001b[0mascending\u001b[0m\u001b[1;33m=\u001b[0m\u001b[1;32mFalse\u001b[0m\u001b[1;33m)\u001b[0m\u001b[1;33m.\u001b[0m\u001b[0miloc\u001b[0m\u001b[1;33m[\u001b[0m\u001b[1;33m-\u001b[0m\u001b[1;36m1\u001b[0m\u001b[1;33m,\u001b[0m\u001b[1;36m0\u001b[0m\u001b[1;33m]\u001b[0m\u001b[1;33m)\u001b[0m\u001b[1;33m\u001b[0m\u001b[1;33m\u001b[0m\u001b[0m\n\u001b[0m",
      "\u001b[1;32mc:\\ProgramData\\Anaconda3\\lib\\site-packages\\pandas\\core\\frame.py\u001b[0m in \u001b[0;36mdrop\u001b[1;34m(self, labels, axis, index, columns, level, inplace, errors)\u001b[0m\n\u001b[0;32m   4306\u001b[0m                 \u001b[0mweight\u001b[0m  \u001b[1;36m1.0\u001b[0m     \u001b[1;36m0.8\u001b[0m\u001b[1;33m\u001b[0m\u001b[1;33m\u001b[0m\u001b[0m\n\u001b[0;32m   4307\u001b[0m         \"\"\"\n\u001b[1;32m-> 4308\u001b[1;33m         return super().drop(\n\u001b[0m\u001b[0;32m   4309\u001b[0m             \u001b[0mlabels\u001b[0m\u001b[1;33m=\u001b[0m\u001b[0mlabels\u001b[0m\u001b[1;33m,\u001b[0m\u001b[1;33m\u001b[0m\u001b[1;33m\u001b[0m\u001b[0m\n\u001b[0;32m   4310\u001b[0m             \u001b[0maxis\u001b[0m\u001b[1;33m=\u001b[0m\u001b[0maxis\u001b[0m\u001b[1;33m,\u001b[0m\u001b[1;33m\u001b[0m\u001b[1;33m\u001b[0m\u001b[0m\n",
      "\u001b[1;32mc:\\ProgramData\\Anaconda3\\lib\\site-packages\\pandas\\core\\generic.py\u001b[0m in \u001b[0;36mdrop\u001b[1;34m(self, labels, axis, index, columns, level, inplace, errors)\u001b[0m\n\u001b[0;32m   4151\u001b[0m         \u001b[1;32mfor\u001b[0m \u001b[0maxis\u001b[0m\u001b[1;33m,\u001b[0m \u001b[0mlabels\u001b[0m \u001b[1;32min\u001b[0m \u001b[0maxes\u001b[0m\u001b[1;33m.\u001b[0m\u001b[0mitems\u001b[0m\u001b[1;33m(\u001b[0m\u001b[1;33m)\u001b[0m\u001b[1;33m:\u001b[0m\u001b[1;33m\u001b[0m\u001b[1;33m\u001b[0m\u001b[0m\n\u001b[0;32m   4152\u001b[0m             \u001b[1;32mif\u001b[0m \u001b[0mlabels\u001b[0m \u001b[1;32mis\u001b[0m \u001b[1;32mnot\u001b[0m \u001b[1;32mNone\u001b[0m\u001b[1;33m:\u001b[0m\u001b[1;33m\u001b[0m\u001b[1;33m\u001b[0m\u001b[0m\n\u001b[1;32m-> 4153\u001b[1;33m                 \u001b[0mobj\u001b[0m \u001b[1;33m=\u001b[0m \u001b[0mobj\u001b[0m\u001b[1;33m.\u001b[0m\u001b[0m_drop_axis\u001b[0m\u001b[1;33m(\u001b[0m\u001b[0mlabels\u001b[0m\u001b[1;33m,\u001b[0m \u001b[0maxis\u001b[0m\u001b[1;33m,\u001b[0m \u001b[0mlevel\u001b[0m\u001b[1;33m=\u001b[0m\u001b[0mlevel\u001b[0m\u001b[1;33m,\u001b[0m \u001b[0merrors\u001b[0m\u001b[1;33m=\u001b[0m\u001b[0merrors\u001b[0m\u001b[1;33m)\u001b[0m\u001b[1;33m\u001b[0m\u001b[1;33m\u001b[0m\u001b[0m\n\u001b[0m\u001b[0;32m   4154\u001b[0m \u001b[1;33m\u001b[0m\u001b[0m\n\u001b[0;32m   4155\u001b[0m         \u001b[1;32mif\u001b[0m \u001b[0minplace\u001b[0m\u001b[1;33m:\u001b[0m\u001b[1;33m\u001b[0m\u001b[1;33m\u001b[0m\u001b[0m\n",
      "\u001b[1;32mc:\\ProgramData\\Anaconda3\\lib\\site-packages\\pandas\\core\\generic.py\u001b[0m in \u001b[0;36m_drop_axis\u001b[1;34m(self, labels, axis, level, errors)\u001b[0m\n\u001b[0;32m   4186\u001b[0m                 \u001b[0mnew_axis\u001b[0m \u001b[1;33m=\u001b[0m \u001b[0maxis\u001b[0m\u001b[1;33m.\u001b[0m\u001b[0mdrop\u001b[0m\u001b[1;33m(\u001b[0m\u001b[0mlabels\u001b[0m\u001b[1;33m,\u001b[0m \u001b[0mlevel\u001b[0m\u001b[1;33m=\u001b[0m\u001b[0mlevel\u001b[0m\u001b[1;33m,\u001b[0m \u001b[0merrors\u001b[0m\u001b[1;33m=\u001b[0m\u001b[0merrors\u001b[0m\u001b[1;33m)\u001b[0m\u001b[1;33m\u001b[0m\u001b[1;33m\u001b[0m\u001b[0m\n\u001b[0;32m   4187\u001b[0m             \u001b[1;32melse\u001b[0m\u001b[1;33m:\u001b[0m\u001b[1;33m\u001b[0m\u001b[1;33m\u001b[0m\u001b[0m\n\u001b[1;32m-> 4188\u001b[1;33m                 \u001b[0mnew_axis\u001b[0m \u001b[1;33m=\u001b[0m \u001b[0maxis\u001b[0m\u001b[1;33m.\u001b[0m\u001b[0mdrop\u001b[0m\u001b[1;33m(\u001b[0m\u001b[0mlabels\u001b[0m\u001b[1;33m,\u001b[0m \u001b[0merrors\u001b[0m\u001b[1;33m=\u001b[0m\u001b[0merrors\u001b[0m\u001b[1;33m)\u001b[0m\u001b[1;33m\u001b[0m\u001b[1;33m\u001b[0m\u001b[0m\n\u001b[0m\u001b[0;32m   4189\u001b[0m             \u001b[0mresult\u001b[0m \u001b[1;33m=\u001b[0m \u001b[0mself\u001b[0m\u001b[1;33m.\u001b[0m\u001b[0mreindex\u001b[0m\u001b[1;33m(\u001b[0m\u001b[1;33m**\u001b[0m\u001b[1;33m{\u001b[0m\u001b[0maxis_name\u001b[0m\u001b[1;33m:\u001b[0m \u001b[0mnew_axis\u001b[0m\u001b[1;33m}\u001b[0m\u001b[1;33m)\u001b[0m\u001b[1;33m\u001b[0m\u001b[1;33m\u001b[0m\u001b[0m\n\u001b[0;32m   4190\u001b[0m \u001b[1;33m\u001b[0m\u001b[0m\n",
      "\u001b[1;32mc:\\ProgramData\\Anaconda3\\lib\\site-packages\\pandas\\core\\indexes\\base.py\u001b[0m in \u001b[0;36mdrop\u001b[1;34m(self, labels, errors)\u001b[0m\n\u001b[0;32m   5589\u001b[0m         \u001b[1;32mif\u001b[0m \u001b[0mmask\u001b[0m\u001b[1;33m.\u001b[0m\u001b[0many\u001b[0m\u001b[1;33m(\u001b[0m\u001b[1;33m)\u001b[0m\u001b[1;33m:\u001b[0m\u001b[1;33m\u001b[0m\u001b[1;33m\u001b[0m\u001b[0m\n\u001b[0;32m   5590\u001b[0m             \u001b[1;32mif\u001b[0m \u001b[0merrors\u001b[0m \u001b[1;33m!=\u001b[0m \u001b[1;34m\"ignore\"\u001b[0m\u001b[1;33m:\u001b[0m\u001b[1;33m\u001b[0m\u001b[1;33m\u001b[0m\u001b[0m\n\u001b[1;32m-> 5591\u001b[1;33m                 \u001b[1;32mraise\u001b[0m \u001b[0mKeyError\u001b[0m\u001b[1;33m(\u001b[0m\u001b[1;34mf\"{labels[mask]} not found in axis\"\u001b[0m\u001b[1;33m)\u001b[0m\u001b[1;33m\u001b[0m\u001b[1;33m\u001b[0m\u001b[0m\n\u001b[0m\u001b[0;32m   5592\u001b[0m             \u001b[0mindexer\u001b[0m \u001b[1;33m=\u001b[0m \u001b[0mindexer\u001b[0m\u001b[1;33m[\u001b[0m\u001b[1;33m~\u001b[0m\u001b[0mmask\u001b[0m\u001b[1;33m]\u001b[0m\u001b[1;33m\u001b[0m\u001b[1;33m\u001b[0m\u001b[0m\n\u001b[0;32m   5593\u001b[0m         \u001b[1;32mreturn\u001b[0m \u001b[0mself\u001b[0m\u001b[1;33m.\u001b[0m\u001b[0mdelete\u001b[0m\u001b[1;33m(\u001b[0m\u001b[0mindexer\u001b[0m\u001b[1;33m)\u001b[0m\u001b[1;33m\u001b[0m\u001b[1;33m\u001b[0m\u001b[0m\n",
      "\u001b[1;31mKeyError\u001b[0m: \"['final_factor_x'] not found in axis\""
     ]
    }
   ],
   "source": [
    "mi_score_ = mutual_info.drop(rt.sort_values(by='score', ascending=False).iloc[-1,0])"
   ]
  },
  {
   "cell_type": "code",
   "execution_count": 527,
   "metadata": {},
   "outputs": [
    {
     "name": "stdout",
     "output_type": "stream",
     "text": [
      "0.007590436393311251 0.007959602978181657\n"
     ]
    }
   ],
   "source": [
    "i = mutual_info.loc[mutual_info['feature'] == 'final_factor_x'].score.tolist()[0] \n",
    "j= mutual_info.loc[mutual_info['feature'] == 'expected_final_factor_x'].score.tolist()[0]\n",
    "print(i,j)"
   ]
  },
  {
   "cell_type": "code",
   "execution_count": 529,
   "metadata": {},
   "outputs": [
    {
     "ename": "AttributeError",
     "evalue": "'DataFrame' object has no attribute 'corr_var1'",
     "output_type": "error",
     "traceback": [
      "\u001b[1;31m---------------------------------------------------------------------------\u001b[0m",
      "\u001b[1;31mAttributeError\u001b[0m                            Traceback (most recent call last)",
      "\u001b[1;32m<ipython-input-529-775d1783007f>\u001b[0m in \u001b[0;36m<module>\u001b[1;34m\u001b[0m\n\u001b[1;32m----> 1\u001b[1;33m \u001b[1;32mfor\u001b[0m \u001b[0mi\u001b[0m \u001b[1;32min\u001b[0m \u001b[0mcorrdf1\u001b[0m\u001b[1;33m.\u001b[0m\u001b[0mcorr_var1\u001b[0m\u001b[1;33m(\u001b[0m\u001b[1;33m)\u001b[0m\u001b[1;33m:\u001b[0m\u001b[1;33m\u001b[0m\u001b[1;33m\u001b[0m\u001b[0m\n\u001b[0m\u001b[0;32m      2\u001b[0m     \u001b[1;32mfor\u001b[0m \u001b[0mj\u001b[0m \u001b[1;32min\u001b[0m \u001b[0mcorrdf1\u001b[0m\u001b[1;33m.\u001b[0m\u001b[0mcorr_var2\u001b[0m\u001b[1;33m(\u001b[0m\u001b[1;33m)\u001b[0m\u001b[1;33m:\u001b[0m\u001b[1;33m\u001b[0m\u001b[1;33m\u001b[0m\u001b[0m\n\u001b[0;32m      3\u001b[0m         \u001b[0mprint\u001b[0m\u001b[1;33m(\u001b[0m\u001b[0mi\u001b[0m\u001b[1;33m,\u001b[0m\u001b[0mj\u001b[0m\u001b[1;33m)\u001b[0m\u001b[1;33m\u001b[0m\u001b[1;33m\u001b[0m\u001b[0m\n",
      "\u001b[1;32mc:\\ProgramData\\Anaconda3\\lib\\site-packages\\pandas\\core\\generic.py\u001b[0m in \u001b[0;36m__getattr__\u001b[1;34m(self, name)\u001b[0m\n\u001b[0;32m   5463\u001b[0m             \u001b[1;32mif\u001b[0m \u001b[0mself\u001b[0m\u001b[1;33m.\u001b[0m\u001b[0m_info_axis\u001b[0m\u001b[1;33m.\u001b[0m\u001b[0m_can_hold_identifiers_and_holds_name\u001b[0m\u001b[1;33m(\u001b[0m\u001b[0mname\u001b[0m\u001b[1;33m)\u001b[0m\u001b[1;33m:\u001b[0m\u001b[1;33m\u001b[0m\u001b[1;33m\u001b[0m\u001b[0m\n\u001b[0;32m   5464\u001b[0m                 \u001b[1;32mreturn\u001b[0m \u001b[0mself\u001b[0m\u001b[1;33m[\u001b[0m\u001b[0mname\u001b[0m\u001b[1;33m]\u001b[0m\u001b[1;33m\u001b[0m\u001b[1;33m\u001b[0m\u001b[0m\n\u001b[1;32m-> 5465\u001b[1;33m             \u001b[1;32mreturn\u001b[0m \u001b[0mobject\u001b[0m\u001b[1;33m.\u001b[0m\u001b[0m__getattribute__\u001b[0m\u001b[1;33m(\u001b[0m\u001b[0mself\u001b[0m\u001b[1;33m,\u001b[0m \u001b[0mname\u001b[0m\u001b[1;33m)\u001b[0m\u001b[1;33m\u001b[0m\u001b[1;33m\u001b[0m\u001b[0m\n\u001b[0m\u001b[0;32m   5466\u001b[0m \u001b[1;33m\u001b[0m\u001b[0m\n\u001b[0;32m   5467\u001b[0m     \u001b[1;32mdef\u001b[0m \u001b[0m__setattr__\u001b[0m\u001b[1;33m(\u001b[0m\u001b[0mself\u001b[0m\u001b[1;33m,\u001b[0m \u001b[0mname\u001b[0m\u001b[1;33m:\u001b[0m \u001b[0mstr\u001b[0m\u001b[1;33m,\u001b[0m \u001b[0mvalue\u001b[0m\u001b[1;33m)\u001b[0m \u001b[1;33m->\u001b[0m \u001b[1;32mNone\u001b[0m\u001b[1;33m:\u001b[0m\u001b[1;33m\u001b[0m\u001b[1;33m\u001b[0m\u001b[0m\n",
      "\u001b[1;31mAttributeError\u001b[0m: 'DataFrame' object has no attribute 'corr_var1'"
     ]
    }
   ],
   "source": [
    "for i in corrdf1.corr_var1():\n",
    "    t = mutual_info.loc[mutual_info['feature'] == i].score.tolist()[0] "
   ]
  },
  {
   "cell_type": "code",
   "execution_count": 514,
   "metadata": {},
   "outputs": [],
   "source": [
    "# compare final_factor_x and exppected_final_factor_x mi_score\n",
    "corr_var1 = corrdf1['var1'].tolist()\n",
    "corr_var1.extend(corrdf1['var2'].tolist())"
   ]
  },
  {
   "cell_type": "code",
   "execution_count": 525,
   "metadata": {},
   "outputs": [
    {
     "data": {
      "text/plain": [
       "0.007959602978181657"
      ]
     },
     "execution_count": 525,
     "metadata": {},
     "output_type": "execute_result"
    }
   ],
   "source": []
  },
  {
   "cell_type": "code",
   "execution_count": 561,
   "metadata": {},
   "outputs": [],
   "source": [
    "df = pd.read_csv(r'D:\\final_solution\\solution_v1\\data\\interim\\feature_engg.csv')"
   ]
  },
  {
   "cell_type": "code",
   "execution_count": 563,
   "metadata": {},
   "outputs": [],
   "source": [
    "class features_selection_cont_var(object):\n",
    "    \n",
    "    def __init__(self, df, var_list, target) -> None:\n",
    "        self.df = df\n",
    "        self.var_list = var_list\n",
    "        self.target = target\n",
    "\n",
    "    def find_correlated_feature(self, non_zero_mi_cols):\n",
    "        # Correlated features\n",
    "        self.var_list = non_zero_mi_cols\n",
    "        corrdf = self.df[self.var_list].corr().abs(\n",
    "        ).unstack().sort_values().drop_duplicates()\n",
    "        corrdf = pd.DataFrame(corrdf[:].reset_index())\n",
    "        corrdf.columns = ['var1', 'var2', 'coeff']\n",
    "        corrdf1 = corrdf[corrdf['coeff'] >= 0.70]\n",
    "        corrdf1 = corrdf1[corrdf1['var1'] != corrdf1['var2']]\n",
    "        corr_var = corrdf1['var1'].tolist()\n",
    "        corr_var.extend(corrdf1['var2'].tolist())\n",
    "        return corr_var\n",
    "\n",
    "    def mutual_info(self) -> list:\n",
    "        # Mutual information\n",
    "        fs = SelectKBest(score_func=mutual_info_regression, k=30)\n",
    "        rt = fs.fit(self.df[self.var_list], self.df[self.target])\n",
    "        mutual_info = dict(zip(self.var_list, rt.scores_))\n",
    "        mutual_info = pd.DataFrame(\n",
    "            mutual_info.items(), columns=['feature', 'score'])\n",
    "        non_zero_cols = mutual_info.loc[mutual_info['score'] != 0].feature.tolist(\n",
    "        )\n",
    "        return mutual_info, non_zero_cols\n",
    "\n",
    "    def remove_corr_features(self, mi_df, var_corr) -> list:\n",
    "        self.df = mi_df\n",
    "        self.var_list = var_corr\n",
    "        continous_features = self.df.loc[self.df['feature'].isin(\n",
    "            self.var_list)]\n",
    "        mi_score_df = self.df[self.df.feature != continous_features.sort_values(\n",
    "            by='score', ascending=False).iloc[-1, 0]]\n",
    "        final_cont_features = mi_score_df.loc[mi_score_df['score'] != 0].feature.tolist(\n",
    "        )\n",
    "        return final_cont_features"
   ]
  },
  {
   "cell_type": "code",
   "execution_count": 577,
   "metadata": {},
   "outputs": [
    {
     "name": "stderr",
     "output_type": "stream",
     "text": [
      "c:\\ProgramData\\Anaconda3\\lib\\site-packages\\sklearn\\utils\\validation.py:63: DataConversionWarning: A column-vector y was passed when a 1d array was expected. Please change the shape of y to (n_samples, ), for example using ravel().\n",
      "  return f(*args, **kwargs)\n"
     ]
    }
   ],
   "source": [
    " # Load config file\n",
    "config = load_config(r\"D:\\final_solution\\solution_v1\\config.yml\")\n",
    "cont_features_df = features_selection_cont_var(df, config['continous_col_feature_selection'], config['target_col'])\n",
    "mi_df, selected_cols = cont_features_df.mutual_info()"
   ]
  },
  {
   "cell_type": "code",
   "execution_count": 578,
   "metadata": {},
   "outputs": [],
   "source": [
    "cont_features_df.var_list = selected_cols"
   ]
  },
  {
   "cell_type": "code",
   "execution_count": 579,
   "metadata": {},
   "outputs": [],
   "source": [
    "cor_var = cont_features_df.find_correlated_feature(selected_cols)"
   ]
  },
  {
   "cell_type": "code",
   "execution_count": 580,
   "metadata": {},
   "outputs": [],
   "source": [
    "\n",
    "cont_features_df.var_list = cor_var\n",
    "cont_features_df.df = mi_df\n",
    "final_continous_var = cont_features_df.remove_corr_features(mi_df, cor_var)"
   ]
  },
  {
   "cell_type": "code",
   "execution_count": 614,
   "metadata": {},
   "outputs": [],
   "source": [
    "data = df[['cycle_Categorify', 'target']]"
   ]
  },
  {
   "cell_type": "code",
   "execution_count": null,
   "metadata": {},
   "outputs": [],
   "source": []
  },
  {
   "cell_type": "code",
   "execution_count": null,
   "metadata": {},
   "outputs": [],
   "source": [
    "def anova(data, i): \n",
    "    try:\n",
    "        from scipy import stats\n",
    "        grps = pd.unique(data[i].values)\n",
    "        d_dat = {grp:data[i][data[i] == grp] for grp in grps}\n",
    "        k = len(pd.unique(data[i]))  # number of conditions\n",
    "        N = len(data.values)  # conditions times participants\n",
    "        n = data.groupby(i).size()[0] #Participants in each condition\n",
    "        ss_between = (sum(data.groupby(i).sum()['target'] ** 2)/n) - (data['target'].sum() ** 2)/N\n",
    "        sum_y_pred= sum([value**2 for value in data['target'].values])\n",
    "        ss_within = sum_y_pred - sum(data.groupby(i).sum()['target'] ** 2)/n\n",
    "        ss_total = sum_y_pred - (data['target'].sum() ** 2)/N\n",
    "        ms_between = ss_between/(k-1)\n",
    "        ms_within = ss_within/(N-k)\n",
    "        f = ms_between/ms_within\n",
    "        p = stats.f.sf(f, k-1, N-k)\n",
    "        eta_squared = ss_between/ss_total\n",
    "        omega_squared = (ss_between - (k-1)*ms_within)/(ss_total + ms_within)\n",
    "        # print(f, p)\n",
    "        return p\n",
    "    except Exception as e:\n",
    "        print(e)\n",
    "\n",
    "rt = []\n",
    "y = []\n",
    "for i in config['cat_cols_feature_selection']:\n",
    "    r = anova(df, str(i))\n",
    "    rt.append(r)\n",
    "    y.append(i)\n"
   ]
  },
  {
   "cell_type": "code",
   "execution_count": 652,
   "metadata": {},
   "outputs": [
    {
     "name": "stdout",
     "output_type": "stream",
     "text": [
      "0\n",
      "0\n",
      "0\n",
      "0\n",
      "0\n",
      "0\n",
      "0\n",
      "0\n",
      "0\n",
      "0\n",
      "0\n",
      "[0.0, None, 1.9473860627883925e-23, None, 0.9999723237619043, None, None, None, None, 2.8202478143993497e-143, 0.8683213466475195, 0.9737087496116154, 0.9837182210204771, 0.9031208790281496, 0.24439467087302916, 0.9798531337774941, 0.9798592623340466, 0.5451999259774027, 0.7462416573446744, 0.9579291755702368, 0.9903874795715556, 0.9413731900980106, 0.9413731900980106, 0.9999671794905043, 0.1281021442761406, 0.6378542945157006, 0.35985134015687603, nan, None, None, None, None, 0.9125831380049118, None]\n"
     ]
    },
    {
     "name": "stderr",
     "output_type": "stream",
     "text": [
      "<ipython-input-641-ca8b463e9628>:13: RuntimeWarning: divide by zero encountered in double_scalars\n",
      "  ms_between = ss_between/(k-1)\n"
     ]
    }
   ],
   "source": [
    "cols = [anova(df, str(x)) for x in config['cat_cols_feature_selection'] ]\n",
    "print(cols)"
   ]
  },
  {
   "cell_type": "code",
   "execution_count": 645,
   "metadata": {},
   "outputs": [],
   "source": [
    "yu =pd.DataFrame({'feature':y, 'p_value':rt})\n",
    "yu = yu.sort_values(by='p_value', ascending=False)\n",
    "yu = yu[yu['p_value'] < 0.05]"
   ]
  },
  {
   "cell_type": "code",
   "execution_count": 653,
   "metadata": {},
   "outputs": [
    {
     "data": {
      "text/plain": [
       "['tracking_times_Categorify', 'groups', 'super_hero_group_Categorify']"
      ]
     },
     "execution_count": 653,
     "metadata": {},
     "output_type": "execute_result"
    }
   ],
   "source": [
    "yu.feature.tolist()"
   ]
  },
  {
   "cell_type": "code",
   "execution_count": 659,
   "metadata": {},
   "outputs": [
    {
     "name": "stdout",
     "output_type": "stream",
     "text": [
      "0\n",
      "0\n",
      "0\n",
      "0\n",
      "0\n",
      "0\n",
      "0\n",
      "0\n",
      "0\n",
      "0\n",
      "0\n"
     ]
    },
    {
     "name": "stderr",
     "output_type": "stream",
     "text": [
      "<ipython-input-659-a3e10ea57b60>:14: RuntimeWarning: divide by zero encountered in double_scalars\n",
      "  ms_between = ss_between/(k-1)\n"
     ]
    }
   ],
   "source": [
    "def anova(data, i):\n",
    "    try:\n",
    "        from scipy import stats\n",
    "        grps = pd.unique(data[i].values)\n",
    "        d_dat = {grp: data[i][data[i] == grp] for grp in grps}\n",
    "        k = len(pd.unique(data[i]))  # number of conditions\n",
    "        N = len(data.values)  # conditions times participants\n",
    "        n = data.groupby(i).size()[0]  # Participants in each condition\n",
    "        ss_between = (sum(data.groupby(i).sum()[\n",
    "                      'target'] ** 2)/n) - (data['target'].sum() ** 2)/N\n",
    "        sum_y_pred = sum([value**2 for value in data['target'].values])\n",
    "        ss_within = sum_y_pred - sum(data.groupby(i).sum()['target'] ** 2)/n\n",
    "        ss_total = sum_y_pred - (data['target'].sum() ** 2)/N\n",
    "        ms_between = ss_between/(k-1)\n",
    "        ms_within = ss_within/(N-k)\n",
    "        f = ms_between/ms_within\n",
    "        p = stats.f.sf(f, k-1, N-k)\n",
    "        eta_squared = ss_between/ss_total\n",
    "        omega_squared = (ss_between - (k-1)*ms_within)/(ss_total + ms_within)\n",
    "        # print(f, p)\n",
    "        return p\n",
    "    except Exception as e:\n",
    "        print(e)\n",
    "\n",
    "class features_selection_cat_var(object):\n",
    "    \n",
    "    def __init__(self, df, var_list) -> None:\n",
    "        self.df = df\n",
    "        self.var_list = var_list\n",
    "\n",
    "    def perform_anova_test(self) -> list:\n",
    "        p_value = [anova(self.df, str(x))\n",
    "                   for x in self.var_list]\n",
    "        vars = [i for i in self.var_list]\n",
    "        df_temp = pd.DataFrame(\n",
    "            {'feature': vars, 'p_value': p_value})\n",
    "        return df_temp\n",
    "\n",
    "cat_features_selection = features_selection_cat_var(df, config['cat_cols_feature_selection'])\n",
    "final_cat_var = cat_features_selection.perform_anova_test()"
   ]
  },
  {
   "cell_type": "code",
   "execution_count": 661,
   "metadata": {},
   "outputs": [
    {
     "data": {
      "text/html": [
       "<div>\n",
       "<style scoped>\n",
       "    .dataframe tbody tr th:only-of-type {\n",
       "        vertical-align: middle;\n",
       "    }\n",
       "\n",
       "    .dataframe tbody tr th {\n",
       "        vertical-align: top;\n",
       "    }\n",
       "\n",
       "    .dataframe thead th {\n",
       "        text-align: right;\n",
       "    }\n",
       "</style>\n",
       "<table border=\"1\" class=\"dataframe\">\n",
       "  <thead>\n",
       "    <tr style=\"text-align: right;\">\n",
       "      <th></th>\n",
       "      <th>feature</th>\n",
       "      <th>p_value</th>\n",
       "    </tr>\n",
       "  </thead>\n",
       "  <tbody>\n",
       "    <tr>\n",
       "      <th>0</th>\n",
       "      <td>super_hero_group_Categorify</td>\n",
       "      <td>0.000000e+00</td>\n",
       "    </tr>\n",
       "    <tr>\n",
       "      <th>2</th>\n",
       "      <td>tracking_times_Categorify</td>\n",
       "      <td>1.947386e-23</td>\n",
       "    </tr>\n",
       "    <tr>\n",
       "      <th>9</th>\n",
       "      <td>groups</td>\n",
       "      <td>2.820248e-143</td>\n",
       "    </tr>\n",
       "  </tbody>\n",
       "</table>\n",
       "</div>"
      ],
      "text/plain": [
       "                       feature        p_value\n",
       "0  super_hero_group_Categorify   0.000000e+00\n",
       "2    tracking_times_Categorify   1.947386e-23\n",
       "9                       groups  2.820248e-143"
      ]
     },
     "execution_count": 661,
     "metadata": {},
     "output_type": "execute_result"
    }
   ],
   "source": [
    "final_cat_var[final_cat_var['p_value']<0.05].feature.tolist()"
   ]
  },
  {
   "cell_type": "code",
   "execution_count": null,
   "metadata": {},
   "outputs": [],
   "source": [
    "def hyperparameter_search(self):\n",
    "    # hyperparameter search for xgboost.\n",
    "    self.xgb_model = xgb.XGBRegressor(objective=\"reg:linear\", random_state=42,\n",
    "                                        n_jobs=-1)\n",
    "    search = RandomizedSearchCV(self.xgb_model,\n",
    "                                param_distributions=self.config[\"parameter_grid_xgb\"][\"params\"],\n",
    "                                random_state=42, n_iter=200,\n",
    "                                cv=5, verbose=1, n_jobs=1,\n",
    "                                return_train_score=True)\n",
    "\n",
    "    search.fit(self.df[self.final_columns], self.target)\n",
    "\n",
    "    # self.report_best_scores(search.cv_results_, 1)\n",
    "    with open('best_params.txt', 'w') as f:\n",
    "        f.write(str(search.best_params_))"
   ]
  },
  {
   "cell_type": "code",
   "execution_count": null,
   "metadata": {},
   "outputs": [],
   "source": [
    "# set a logger file\n",
    "logger = logs(path=\"logs/\", file=\"main.logs\")\n",
    "\n",
    "# Load config file\n",
    "config = load_config(r\"D:\\final_solution\\solution_v1\\config.yml\")\n",
    "\n",
    "# read the raw data and target data from the data/raw folder\n",
    "data = read_data()\n",
    "raw_data, target_data = data.read_data()\n",
    "\n",
    "# Merge the raw data and target data\n",
    "merge_data = merge_dataset(raw_data, target_data)\n",
    "df = merge_data.merge_dataset()\n",
    "print(df.shape)\n",
    "# df.to_csv('./data/interim/merged_df.csv', index=False)\n",
    "# preprocessing the data\n",
    "\n",
    "preprocess = preprocessing(df, config)\n",
    "df = preprocess.drop_duplicate_columns()\n",
    "# convertd types\n",
    "df = preprocess.convert_dtypes()\n",
    "df = preprocess.replace_values()\n",
    "df = preprocess.processing_missing_values()\n",
    "df = preprocess.interpolate_datetime()\n",
    "df = preprocess.convert_dtypes()\n",
    "df[config['date_cols']] = df[config['date_cols']].apply(pd.to_datetime)\n",
    "df = preprocess.drop_duplicate_rows()\n",
    "df = preprocess.remove_outliers()\n",
    "# df.to_csv('./data/interim/imputed_df.csv', index=False)\n",
    "# df.to_csv('./data/interim/imputed_df_original_outliers.csv', index=False)\n",
    "# Feature Engineering\n",
    "feat_engg = FeatEngg(df, config)\n",
    "df = feat_engg.split_datetime_col()\n",
    "df = feat_engg.split_datetime_col()\n",
    "df = feat_engg.cal_time_diff()\n",
    "df = feat_engg.categorify_columns()\n",
    "df = feat_engg.target_encode_columns()\n",
    "df = feat_engg.count_encode_columns()\n",
    "df = feat_engg.transforming_target_continuous()\n",
    "# df.to_csv('./data/interim/feature_engg.csv', index=False)\n",
    "# Continous feature selection\n",
    "cont_features_df = features_selection_cont_var(\n",
    "df, config['continous_col_feature_selection'], config['target_col'])\n",
    "mi_df, selected_cols = cont_features_df.mutual_info()\n",
    "cont_features_df.var_list = selected_cols\n",
    "cor_var = cont_features_df.find_correlated_feature(selected_cols)\n",
    "cont_features_df.var_list = cor_var\n",
    "cont_features_df.df = mi_df\n",
    "# print(cor_var)\n",
    "final_continous_var = cont_features_df.remove_corr_features(mi_df, cor_var)\n",
    "print(final_continous_var)\n",
    "cat_features_selection = features_selection_cat_var(\n",
    "df, config['cat_cols_feature_selection'])\n",
    "final_cat_var = cat_features_selection.perform_anova_test()\n",
    "selected_features = final_continous_var + final_cat_var\n",
    "print(selected_features)\n",
    "df[selected_features].to_csv(\n",
    "'./data/interim/selected_features.csv', index=False)\n",
    "train_model = model_training(\n",
    "df, config['target_col'], selected_features, config)\n",
    "train_model.convert_to_DMatrix()\n",
    "print('training model')\n",
    "# train_model.base_model()  # Train base model\n",
    "train_model.train_xgb()  # Train xgboost model to see performance improvement\n",
    "error = train_model.evaluate_model()  # evaluate the model\n",
    "train_model.save_model()"
   ]
  },
  {
   "cell_type": "code",
   "execution_count": 1,
   "metadata": {},
   "outputs": [],
   "source": [
    "from imports import *\n",
    "df = pd.read_csv(r'D:\\final_solution\\solution_v1\\data\\interim\\feature_engg.csv')\n",
    "df_selected = pd.read_csv(r'D:\\final_solution\\solution_v1\\data\\interim\\selected_features.csv')"
   ]
  },
  {
   "cell_type": "code",
   "execution_count": 2,
   "metadata": {},
   "outputs": [],
   "source": [
    "class model_training(object):\n",
    "    def __init__(self, df, target, final_columns, config) -> None:\n",
    "        self.df = df\n",
    "        self.target = target\n",
    "        self.final_columns = final_columns\n",
    "        self.config = config\n",
    "        self.model_params = self.config[\"logging_params\"][\"xgb\"]\n",
    "        self.param_grid = self.config[\"parameter_grid\"][\"params\"]\n",
    "\n",
    "    def hyperparameter_search(self):\n",
    "        # hyperparameter search for xgboost.\n",
    "        self.xgb_model = xgb.XGBRegressor(random_state=42)\n",
    "        search = RandomizedSearchCV(estimator=self.xgb_model,\n",
    "                                    param_distributions=self.config[\"parameter_grid\"][\"params\"],\n",
    "                                    random_state=42,\n",
    "                                    cv=5, scoring='neg_mean_squared_error')\n",
    "        print(self.df[self.final_columns].shape)\n",
    "        # print(self.target.shape)\n",
    "        search.fit(self.df[self.final_columns], self.target)\n",
    "        print(search.best_params_)\n",
    "        # self.report_best_scores(search.cv_results_, 1)\n",
    "        with open('best_params.txt', 'w') as f:\n",
    "            f.write(str(search.best_score_))"
   ]
  },
  {
   "cell_type": "code",
   "execution_count": 3,
   "metadata": {},
   "outputs": [
    {
     "name": "stdout",
     "output_type": "stream",
     "text": [
      "['TE_crystal_type_Categorify', 'TE_unnamed_7_Categorify', 'human_measure', 'expected_factor_x', 'first_factor_x', 'expected_final_factor_x', 'previous_adamantium', 'etherium_before_start', 'raw_kryptonite', 'argon', 'pure_seastone', 'super_hero_group_Categorify', 'place_Categorify', 'tracking_times_Categorify', 'unnamed_7_Categorify', 'groups_Categorify', 'groups', 'place', 'unnamed_7', 'human_behavior_report']\n"
     ]
    }
   ],
   "source": [
    "config = load_config(r\"D:\\final_solution\\solution_v1\\config.yml\")\n",
    "\n",
    "# read the raw data and target data from the data/raw folder\n",
    "data = read_data()\n",
    "raw_data, target_data = data.read_data()\n",
    "\n",
    "# Merge the raw data and target data\n",
    "merge_data = merge_dataset(raw_data, target_data)\n",
    "df = merge_data.merge_dataset()\n",
    "print(df.shape)\n",
    "# df.to_csv('./data/interim/merged_df.csv', index=False)\n",
    "# preprocessing the data\n",
    "\n",
    "preprocess = preprocessing(df, config)\n",
    "df = preprocess.drop_duplicate_columns()\n",
    "# convertd types\n",
    "df = preprocess.convert_dtypes()\n",
    "df = preprocess.replace_values()\n",
    "df = preprocess.processing_missing_values()\n",
    "df = preprocess.interpolate_datetime()\n",
    "df = preprocess.convert_dtypes()\n",
    "df[config['date_cols']] = df[config['date_cols']].apply(pd.to_datetime)\n",
    "df = preprocess.drop_duplicate_rows()\n",
    "df = preprocess.remove_outliers()\n",
    "# df.to_csv('./data/interim/imputed_df.csv', index=False)\n",
    "# df.to_csv('./data/interim/imputed_df_original_outliers.csv', index=False)\n",
    "# Feature Engineering\n",
    "feat_engg = FeatEngg(df, config)\n",
    "df = feat_engg.split_datetime_col()\n",
    "df = feat_engg.split_datetime_col()\n",
    "df = feat_engg.cal_time_diff()\n",
    "df = feat_engg.categorify_columns()\n",
    "df = feat_engg.target_encode_columns()\n",
    "df = feat_engg.count_encode_columns()\n",
    "df = feat_engg.transforming_target_continuous()\n",
    "# df.to_csv('./data/interim/feature_engg.csv', index=False)\n",
    "# Continous feature selection\n",
    "cont_features_df = features_selection_cont_var(\n",
    "df, config['continous_col_feature_selection'], config['target_col'])\n",
    "mi_df, selected_cols = cont_features_df.mutual_info()\n",
    "cont_features_df.var_list = selected_cols\n",
    "cor_var = cont_features_df.find_correlated_feature(selected_cols)\n",
    "cont_features_df.var_list = cor_var\n",
    "cont_features_df.df = mi_df\n",
    "# print(cor_var)\n",
    "final_continous_var = cont_features_df.remove_corr_features(mi_df, cor_var)\n",
    "print(final_continous_var)\n",
    "cat_features_selection = features_selection_cat_var(\n",
    "df, config['cat_cols_feature_selection'])\n",
    "final_cat_var = cat_features_selection.perform_anova_test()\n",
    "selected_features = final_continous_var + final_cat_var\n",
    "print(selected_features)\n",
    "train_model = model_training(df, df['target'], selected_features, config)"
   ]
  },
  {
   "cell_type": "code",
   "execution_count": 6,
   "metadata": {},
   "outputs": [
    {
     "data": {
      "text/html": [
       "<div>\n",
       "<style scoped>\n",
       "    .dataframe tbody tr th:only-of-type {\n",
       "        vertical-align: middle;\n",
       "    }\n",
       "\n",
       "    .dataframe tbody tr th {\n",
       "        vertical-align: top;\n",
       "    }\n",
       "\n",
       "    .dataframe thead th {\n",
       "        text-align: right;\n",
       "    }\n",
       "</style>\n",
       "<table border=\"1\" class=\"dataframe\">\n",
       "  <thead>\n",
       "    <tr style=\"text-align: right;\">\n",
       "      <th></th>\n",
       "      <th>TE_crystal_type_Categorify</th>\n",
       "      <th>TE_unnamed_7_Categorify</th>\n",
       "      <th>human_measure</th>\n",
       "      <th>expected_factor_x</th>\n",
       "      <th>first_factor_x</th>\n",
       "      <th>expected_final_factor_x</th>\n",
       "      <th>previous_adamantium</th>\n",
       "      <th>etherium_before_start</th>\n",
       "      <th>raw_kryptonite</th>\n",
       "      <th>argon</th>\n",
       "      <th>pure_seastone</th>\n",
       "      <th>super_hero_group_Categorify</th>\n",
       "      <th>place_Categorify</th>\n",
       "      <th>tracking_times_Categorify</th>\n",
       "      <th>unnamed_7_Categorify</th>\n",
       "      <th>groups_Categorify</th>\n",
       "      <th>groups</th>\n",
       "      <th>place</th>\n",
       "      <th>unnamed_7</th>\n",
       "      <th>human_behavior_report</th>\n",
       "    </tr>\n",
       "  </thead>\n",
       "  <tbody>\n",
       "    <tr>\n",
       "      <th>0</th>\n",
       "      <td>84.937783</td>\n",
       "      <td>95.930227</td>\n",
       "      <td>-0.980415</td>\n",
       "      <td>0.915998</td>\n",
       "      <td>0.532665</td>\n",
       "      <td>1.410975</td>\n",
       "      <td>0.911934</td>\n",
       "      <td>1.005818</td>\n",
       "      <td>-0.759242</td>\n",
       "      <td>0.228212</td>\n",
       "      <td>0.590982</td>\n",
       "      <td>8</td>\n",
       "      <td>2</td>\n",
       "      <td>2</td>\n",
       "      <td>18</td>\n",
       "      <td>21</td>\n",
       "      <td>45</td>\n",
       "      <td>2</td>\n",
       "      <td>19</td>\n",
       "      <td>4</td>\n",
       "    </tr>\n",
       "    <tr>\n",
       "      <th>1</th>\n",
       "      <td>81.799942</td>\n",
       "      <td>95.715821</td>\n",
       "      <td>-0.239383</td>\n",
       "      <td>0.201902</td>\n",
       "      <td>-0.267107</td>\n",
       "      <td>0.238216</td>\n",
       "      <td>0.987377</td>\n",
       "      <td>0.776728</td>\n",
       "      <td>0.209027</td>\n",
       "      <td>-0.210178</td>\n",
       "      <td>0.317028</td>\n",
       "      <td>8</td>\n",
       "      <td>3</td>\n",
       "      <td>2</td>\n",
       "      <td>4</td>\n",
       "      <td>11</td>\n",
       "      <td>35</td>\n",
       "      <td>1</td>\n",
       "      <td>2</td>\n",
       "      <td>4</td>\n",
       "    </tr>\n",
       "    <tr>\n",
       "      <th>2</th>\n",
       "      <td>83.403418</td>\n",
       "      <td>93.120763</td>\n",
       "      <td>0.718542</td>\n",
       "      <td>1.250101</td>\n",
       "      <td>-0.504409</td>\n",
       "      <td>0.820507</td>\n",
       "      <td>0.573049</td>\n",
       "      <td>1.437784</td>\n",
       "      <td>0.166793</td>\n",
       "      <td>0.878541</td>\n",
       "      <td>0.893517</td>\n",
       "      <td>8</td>\n",
       "      <td>2</td>\n",
       "      <td>2</td>\n",
       "      <td>7</td>\n",
       "      <td>21</td>\n",
       "      <td>45</td>\n",
       "      <td>2</td>\n",
       "      <td>1</td>\n",
       "      <td>2</td>\n",
       "    </tr>\n",
       "    <tr>\n",
       "      <th>3</th>\n",
       "      <td>83.375303</td>\n",
       "      <td>92.635474</td>\n",
       "      <td>0.857478</td>\n",
       "      <td>1.429184</td>\n",
       "      <td>-1.395198</td>\n",
       "      <td>1.084608</td>\n",
       "      <td>0.656672</td>\n",
       "      <td>-1.140018</td>\n",
       "      <td>0.175869</td>\n",
       "      <td>2.462305</td>\n",
       "      <td>2.327845</td>\n",
       "      <td>8</td>\n",
       "      <td>3</td>\n",
       "      <td>2</td>\n",
       "      <td>5</td>\n",
       "      <td>11</td>\n",
       "      <td>35</td>\n",
       "      <td>1</td>\n",
       "      <td>7</td>\n",
       "      <td>1</td>\n",
       "    </tr>\n",
       "    <tr>\n",
       "      <th>4</th>\n",
       "      <td>85.211666</td>\n",
       "      <td>94.492194</td>\n",
       "      <td>0.652275</td>\n",
       "      <td>0.320687</td>\n",
       "      <td>-0.555477</td>\n",
       "      <td>0.440760</td>\n",
       "      <td>0.655316</td>\n",
       "      <td>0.982725</td>\n",
       "      <td>0.293566</td>\n",
       "      <td>0.209718</td>\n",
       "      <td>0.579807</td>\n",
       "      <td>8</td>\n",
       "      <td>2</td>\n",
       "      <td>2</td>\n",
       "      <td>18</td>\n",
       "      <td>21</td>\n",
       "      <td>45</td>\n",
       "      <td>2</td>\n",
       "      <td>19</td>\n",
       "      <td>4</td>\n",
       "    </tr>\n",
       "    <tr>\n",
       "      <th>...</th>\n",
       "      <td>...</td>\n",
       "      <td>...</td>\n",
       "      <td>...</td>\n",
       "      <td>...</td>\n",
       "      <td>...</td>\n",
       "      <td>...</td>\n",
       "      <td>...</td>\n",
       "      <td>...</td>\n",
       "      <td>...</td>\n",
       "      <td>...</td>\n",
       "      <td>...</td>\n",
       "      <td>...</td>\n",
       "      <td>...</td>\n",
       "      <td>...</td>\n",
       "      <td>...</td>\n",
       "      <td>...</td>\n",
       "      <td>...</td>\n",
       "      <td>...</td>\n",
       "      <td>...</td>\n",
       "      <td>...</td>\n",
       "    </tr>\n",
       "    <tr>\n",
       "      <th>8040</th>\n",
       "      <td>85.811580</td>\n",
       "      <td>97.678389</td>\n",
       "      <td>-0.671397</td>\n",
       "      <td>-0.222648</td>\n",
       "      <td>-0.095034</td>\n",
       "      <td>-0.426929</td>\n",
       "      <td>0.610262</td>\n",
       "      <td>0.631975</td>\n",
       "      <td>0.498742</td>\n",
       "      <td>0.272320</td>\n",
       "      <td>1.014375</td>\n",
       "      <td>2</td>\n",
       "      <td>2</td>\n",
       "      <td>2</td>\n",
       "      <td>13</td>\n",
       "      <td>55</td>\n",
       "      <td>16</td>\n",
       "      <td>2</td>\n",
       "      <td>20</td>\n",
       "      <td>3</td>\n",
       "    </tr>\n",
       "    <tr>\n",
       "      <th>8041</th>\n",
       "      <td>86.565133</td>\n",
       "      <td>101.292518</td>\n",
       "      <td>-0.238216</td>\n",
       "      <td>-0.160908</td>\n",
       "      <td>0.180190</td>\n",
       "      <td>-0.335904</td>\n",
       "      <td>1.482339</td>\n",
       "      <td>-1.124143</td>\n",
       "      <td>0.666227</td>\n",
       "      <td>0.146919</td>\n",
       "      <td>0.636588</td>\n",
       "      <td>2</td>\n",
       "      <td>2</td>\n",
       "      <td>2</td>\n",
       "      <td>3</td>\n",
       "      <td>55</td>\n",
       "      <td>16</td>\n",
       "      <td>2</td>\n",
       "      <td>13</td>\n",
       "      <td>4</td>\n",
       "    </tr>\n",
       "    <tr>\n",
       "      <th>8042</th>\n",
       "      <td>86.976553</td>\n",
       "      <td>94.350440</td>\n",
       "      <td>-0.246161</td>\n",
       "      <td>0.802626</td>\n",
       "      <td>-0.629351</td>\n",
       "      <td>-0.089922</td>\n",
       "      <td>1.387562</td>\n",
       "      <td>0.774717</td>\n",
       "      <td>-0.635267</td>\n",
       "      <td>0.545038</td>\n",
       "      <td>0.938381</td>\n",
       "      <td>2</td>\n",
       "      <td>2</td>\n",
       "      <td>2</td>\n",
       "      <td>10</td>\n",
       "      <td>55</td>\n",
       "      <td>16</td>\n",
       "      <td>2</td>\n",
       "      <td>6</td>\n",
       "      <td>1</td>\n",
       "    </tr>\n",
       "    <tr>\n",
       "      <th>8043</th>\n",
       "      <td>96.645439</td>\n",
       "      <td>99.016162</td>\n",
       "      <td>0.567862</td>\n",
       "      <td>0.847904</td>\n",
       "      <td>0.207186</td>\n",
       "      <td>1.614967</td>\n",
       "      <td>0.340350</td>\n",
       "      <td>1.492404</td>\n",
       "      <td>-0.747195</td>\n",
       "      <td>0.535596</td>\n",
       "      <td>0.932566</td>\n",
       "      <td>5</td>\n",
       "      <td>2</td>\n",
       "      <td>2</td>\n",
       "      <td>3</td>\n",
       "      <td>55</td>\n",
       "      <td>16</td>\n",
       "      <td>2</td>\n",
       "      <td>13</td>\n",
       "      <td>3</td>\n",
       "    </tr>\n",
       "    <tr>\n",
       "      <th>8044</th>\n",
       "      <td>95.295668</td>\n",
       "      <td>94.749934</td>\n",
       "      <td>-0.497612</td>\n",
       "      <td>0.561195</td>\n",
       "      <td>0.327540</td>\n",
       "      <td>0.681144</td>\n",
       "      <td>0.624129</td>\n",
       "      <td>0.995028</td>\n",
       "      <td>-0.755722</td>\n",
       "      <td>0.219177</td>\n",
       "      <td>0.665884</td>\n",
       "      <td>5</td>\n",
       "      <td>2</td>\n",
       "      <td>2</td>\n",
       "      <td>6</td>\n",
       "      <td>55</td>\n",
       "      <td>16</td>\n",
       "      <td>2</td>\n",
       "      <td>11</td>\n",
       "      <td>3</td>\n",
       "    </tr>\n",
       "  </tbody>\n",
       "</table>\n",
       "<p>8045 rows × 20 columns</p>\n",
       "</div>"
      ],
      "text/plain": [
       "      TE_crystal_type_Categorify  TE_unnamed_7_Categorify  human_measure  \\\n",
       "0                      84.937783                95.930227      -0.980415   \n",
       "1                      81.799942                95.715821      -0.239383   \n",
       "2                      83.403418                93.120763       0.718542   \n",
       "3                      83.375303                92.635474       0.857478   \n",
       "4                      85.211666                94.492194       0.652275   \n",
       "...                          ...                      ...            ...   \n",
       "8040                   85.811580                97.678389      -0.671397   \n",
       "8041                   86.565133               101.292518      -0.238216   \n",
       "8042                   86.976553                94.350440      -0.246161   \n",
       "8043                   96.645439                99.016162       0.567862   \n",
       "8044                   95.295668                94.749934      -0.497612   \n",
       "\n",
       "      expected_factor_x  first_factor_x  expected_final_factor_x  \\\n",
       "0              0.915998        0.532665                 1.410975   \n",
       "1              0.201902       -0.267107                 0.238216   \n",
       "2              1.250101       -0.504409                 0.820507   \n",
       "3              1.429184       -1.395198                 1.084608   \n",
       "4              0.320687       -0.555477                 0.440760   \n",
       "...                 ...             ...                      ...   \n",
       "8040          -0.222648       -0.095034                -0.426929   \n",
       "8041          -0.160908        0.180190                -0.335904   \n",
       "8042           0.802626       -0.629351                -0.089922   \n",
       "8043           0.847904        0.207186                 1.614967   \n",
       "8044           0.561195        0.327540                 0.681144   \n",
       "\n",
       "      previous_adamantium  etherium_before_start  raw_kryptonite     argon  \\\n",
       "0                0.911934               1.005818       -0.759242  0.228212   \n",
       "1                0.987377               0.776728        0.209027 -0.210178   \n",
       "2                0.573049               1.437784        0.166793  0.878541   \n",
       "3                0.656672              -1.140018        0.175869  2.462305   \n",
       "4                0.655316               0.982725        0.293566  0.209718   \n",
       "...                   ...                    ...             ...       ...   \n",
       "8040             0.610262               0.631975        0.498742  0.272320   \n",
       "8041             1.482339              -1.124143        0.666227  0.146919   \n",
       "8042             1.387562               0.774717       -0.635267  0.545038   \n",
       "8043             0.340350               1.492404       -0.747195  0.535596   \n",
       "8044             0.624129               0.995028       -0.755722  0.219177   \n",
       "\n",
       "      pure_seastone super_hero_group_Categorify place_Categorify  \\\n",
       "0          0.590982                           8                2   \n",
       "1          0.317028                           8                3   \n",
       "2          0.893517                           8                2   \n",
       "3          2.327845                           8                3   \n",
       "4          0.579807                           8                2   \n",
       "...             ...                         ...              ...   \n",
       "8040       1.014375                           2                2   \n",
       "8041       0.636588                           2                2   \n",
       "8042       0.938381                           2                2   \n",
       "8043       0.932566                           5                2   \n",
       "8044       0.665884                           5                2   \n",
       "\n",
       "     tracking_times_Categorify unnamed_7_Categorify groups_Categorify groups  \\\n",
       "0                            2                   18                21     45   \n",
       "1                            2                    4                11     35   \n",
       "2                            2                    7                21     45   \n",
       "3                            2                    5                11     35   \n",
       "4                            2                   18                21     45   \n",
       "...                        ...                  ...               ...    ...   \n",
       "8040                         2                   13                55     16   \n",
       "8041                         2                    3                55     16   \n",
       "8042                         2                   10                55     16   \n",
       "8043                         2                    3                55     16   \n",
       "8044                         2                    6                55     16   \n",
       "\n",
       "     place unnamed_7 human_behavior_report  \n",
       "0        2        19                     4  \n",
       "1        1         2                     4  \n",
       "2        2         1                     2  \n",
       "3        1         7                     1  \n",
       "4        2        19                     4  \n",
       "...    ...       ...                   ...  \n",
       "8040     2        20                     3  \n",
       "8041     2        13                     4  \n",
       "8042     2         6                     1  \n",
       "8043     2        13                     3  \n",
       "8044     2        11                     3  \n",
       "\n",
       "[8045 rows x 20 columns]"
      ]
     },
     "execution_count": 6,
     "metadata": {},
     "output_type": "execute_result"
    }
   ],
   "source": [
    "df[selected_features]"
   ]
  },
  {
   "cell_type": "code",
   "execution_count": null,
   "metadata": {},
   "outputs": [],
   "source": [
    "train_model.hyperparameter_search()"
   ]
  },
  {
   "cell_type": "code",
   "execution_count": 14,
   "metadata": {},
   "outputs": [
    {
     "data": {
      "text/plain": [
       "TE_crystal_type_Categorify     category\n",
       "TE_unnamed_7_Categorify        category\n",
       "human_measure                  category\n",
       "expected_factor_x              category\n",
       "first_factor_x                 category\n",
       "expected_final_factor_x        category\n",
       "previous_adamantium            category\n",
       "etherium_before_start          category\n",
       "raw_kryptonite                 category\n",
       "argon                          category\n",
       "pure_seastone                  category\n",
       "super_hero_group_Categorify    category\n",
       "place_Categorify               category\n",
       "tracking_times_Categorify      category\n",
       "unnamed_7_Categorify           category\n",
       "groups_Categorify              category\n",
       "groups                         category\n",
       "place                          category\n",
       "unnamed_7                      category\n",
       "human_behavior_report          category\n",
       "dtype: object"
      ]
     },
     "execution_count": 14,
     "metadata": {},
     "output_type": "execute_result"
    }
   ],
   "source": [
    "df[selected_features].dtypes"
   ]
  },
  {
   "cell_type": "code",
   "execution_count": null,
   "metadata": {},
   "outputs": [],
   "source": [
    "df_ ="
   ]
  },
  {
   "cell_type": "code",
   "execution_count": 2,
   "metadata": {},
   "outputs": [],
   "source": [
    "from imports import *\n",
    "df= pd.read_csv(r'D:\\final_solution\\solv1_old\\solution_v1\\data\\interim\\feature_engg.csv')\n",
    "df_selected = pd.read_csv(r'D:\\final_solution\\solution_v1\\data\\interim\\selected_features.csv')\n",
    "df_x = df[df_selected.columns.tolist()]\n",
    "df_y = df['target']\n"
   ]
  },
  {
   "cell_type": "code",
   "execution_count": 8,
   "metadata": {},
   "outputs": [
    {
     "data": {
      "text/plain": [
       "RandomForestRegressor(max_depth=100, max_features=2, min_samples_leaf=5,\n",
       "                      min_samples_split=12, oob_score=True)"
      ]
     },
     "execution_count": 8,
     "metadata": {},
     "output_type": "execute_result"
    }
   ],
   "source": [
    "params = {'n_estimators': 100, 'min_samples_split': 12, 'min_samples_leaf': 5, 'max_features': 2, 'max_depth': 100, \n",
    "'bootstrap': True}\n",
    "randomforest = RandomForestRegressor(**params,  oob_score=True)\n",
    "randomforest.set_params(**params)"
   ]
  },
  {
   "cell_type": "code",
   "execution_count": 61,
   "metadata": {},
   "outputs": [
    {
     "name": "stdout",
     "output_type": "stream",
     "text": [
      "0.25145903768005984\n"
     ]
    }
   ],
   "source": [
    "rf = RandomForestRegressor(bootstrap= True, max_depth= 80, max_features= 3,\n",
    "                                                min_samples_leaf= 3, min_samples_split= 8,\n",
    "                                                 n_estimators = 1000, oob_score=True)\n",
    "rf.fit(df_x, df_y)\n",
    "print(rf.oob_score_) "
   ]
  },
  {
   "cell_type": "code",
   "execution_count": 62,
   "metadata": {},
   "outputs": [
    {
     "name": "stdout",
     "output_type": "stream",
     "text": [
      "Variable: TE_crystal_type_Categorify Importance: 0.1\n",
      "Variable: etherium_before_start Importance: 0.1\n",
      "Variable: groups               Importance: 0.1\n",
      "Variable: argon                Importance: 0.09\n",
      "Variable: raw_kryptonite       Importance: 0.07\n",
      "Variable: human_measure        Importance: 0.06\n",
      "Variable: expected_factor_x    Importance: 0.06\n",
      "Variable: first_factor_x       Importance: 0.06\n",
      "Variable: expected_final_factor_x Importance: 0.06\n",
      "Variable: previous_adamantium  Importance: 0.06\n",
      "Variable: chemical_x           Importance: 0.06\n",
      "Variable: pure_seastone        Importance: 0.06\n",
      "Variable: TE_unnamed_7_Categorify Importance: 0.05\n",
      "Variable: super_hero_group_Categorify Importance: 0.03\n",
      "Variable: TE_crystal_supergroup_Categorify Importance: 0.02\n",
      "Variable: cycle                Importance: 0.02\n",
      "Variable: tracking_times_Categorify Importance: 0.0\n"
     ]
    }
   ],
   "source": [
    "# Get numerical feature importances\n",
    "importances = list(rf.feature_importances_)\n",
    "\n",
    "# List of tuples with variable and importance\n",
    "feature_importances = [(feature, round(importance, 2)) for feature, importance in zip(df_selected.columns.tolist(), importances)]\n",
    "\n",
    "# Sort the feature importances by most important first\n",
    "feature_importances = sorted(feature_importances, key = lambda x: x[1], reverse = True)\n",
    "\n",
    "# Print out the feature and importances \n",
    "[print('Variable: {:20} Importance: {}'.format(*pair)) for pair in feature_importances];"
   ]
  },
  {
   "cell_type": "code",
   "execution_count": 65,
   "metadata": {},
   "outputs": [],
   "source": [
    "explainer = shap.TreeExplainer(rf)\n",
    "shap_values = explainer.shap_values(df_x)\n",
    "shap.summary_plot(\n",
    "    shap_values, df_x, plot_type=\"bar\")\n",
    "shap.summary_plot(\n",
    "    shap_values, df_x)"
   ]
  },
  {
   "cell_type": "code",
   "execution_count": 64,
   "metadata": {},
   "outputs": [
    {
     "data": {
      "image/png": "[encoded data removed]",
      "text/plain": [
       "<Figure size 432x288 with 1 Axes>"
      ]
     },
     "metadata": {
      "needs_background": "light"
     },
     "output_type": "display_data"
    }
   ],
   "source": [
    "# list of x locations for plotting\n",
    "x_values = list(range(len(importances)))\n",
    "\n",
    "# Make a bar chart\n",
    "plt.bar(x_values, importances, orientation = 'vertical')\n",
    "\n",
    "# Tick labels for x axis\n",
    "plt.xticks(x_values, df_selected.columns.tolist(), rotation='vertical')\n",
    "\n",
    "# Axis labels and title\n",
    "plt.ylabel('Importance'); plt.xlabel('Variable'); plt.title('Variable Importances'); "
   ]
  },
  {
   "cell_type": "code",
   "execution_count": 53,
   "metadata": {},
   "outputs": [],
   "source": [
    "# Import tools needed for visualization\n",
    "from sklearn.tree import export_graphviz\n",
    "import pydot\n",
    "\n",
    "# Pull out one tree from the forest\n",
    "tree = random_forest_out_of_bag.estimators_[5]\n",
    "\n",
    "# # Export the image to a dot file\n",
    "# export_graphviz(tree, out_file = 'tree.dot', feature_names = df_selected.columns.tolist(), rounded = True, precision = 1)\n",
    "\n",
    "# # Use dot file to create a graph\n",
    "# (graph, ) = pydot.graph_from_dot_file('tree.dot')\n",
    "\n",
    "# # Write graph to a png file\n",
    "# graph.write_png('tree.png');\n",
    "\n",
    "# Extract the small tree\n",
    "# tree_small = rf_small.estimators_[5]\n",
    "\n",
    "# Save the tree as a png image\n",
    "export_graphviz(tree, out_file = 'small_tree.dot', feature_names = df_selected.columns.tolist(), rounded = True, precision = 1)\n",
    "(graph, ) = pydot.graph_from_dot_file(r'D:\\final_solution\\solution_v1\\small_tree.dot')"
   ]
  },
  {
   "cell_type": "code",
   "execution_count": null,
   "metadata": {},
   "outputs": [],
   "source": []
  },
  {
   "cell_type": "code",
   "execution_count": null,
   "metadata": {},
   "outputs": [],
   "source": [
    "def hyperparameter_tuning(self):\n",
    "    # hyperparameter tuning.\n",
    "    # enable categorical features\n",
    "    self.xgb_model = xgb.XGBRegressor(objective='reg:squarederror', enable_categorical=True)\n",
    "    self.grid_search = GridSearchCV(\n",
    "        self.xgb_model, self.param_grid, scoring='neg_mean_squared_error', cv=3, verbose=2, n_jobs=-1)\n",
    "    self.grid_search.fit(self.train[self.final_columns],\n",
    "                            self.train.target)\n",
    "    self.best_params = self.grid_search.best_params_\n",
    "    print(self.best_params)"
   ]
  },
  {
   "cell_type": "code",
   "execution_count": 41,
   "metadata": {},
   "outputs": [],
   "source": [
    "# X is a dataframe we created in previous snippet\n",
    "Xy = xgb.DMatrix(df_x, df_y, enable_categorical=True)\n",
    "booster = xgb.train({\"tree_method\": \"hist\", \"max_cat_to_onehot\": 5}, Xy)\n",
    "# Must use JSON for serialization, otherwise the information is lost\n",
    "booster.save_model(\"categorical-model.json\")"
   ]
  },
  {
   "cell_type": "code",
   "execution_count": 42,
   "metadata": {},
   "outputs": [
    {
     "name": "stdout",
     "output_type": "stream",
     "text": [
      "['c', 'c', 'c', 'c', 'c', 'c', 'c', 'c', 'c', 'c', 'c', 'c', 'c', 'c', 'c', 'c', 'c']\n"
     ]
    },
    {
     "ename": "AttributeError",
     "evalue": "'Booster' object has no attribute 'feature_importances_'",
     "output_type": "error",
     "traceback": [
      "\u001b[1;31m---------------------------------------------------------------------------\u001b[0m",
      "\u001b[1;31mAttributeError\u001b[0m                            Traceback (most recent call last)",
      "\u001b[1;32m<ipython-input-42-3ed7552694de>\u001b[0m in \u001b[0;36m<module>\u001b[1;34m\u001b[0m\n\u001b[0;32m      4\u001b[0m \u001b[0mprint\u001b[0m\u001b[1;33m(\u001b[0m\u001b[0mbooster\u001b[0m\u001b[1;33m.\u001b[0m\u001b[0mfeature_types\u001b[0m\u001b[1;33m)\u001b[0m\u001b[1;33m\u001b[0m\u001b[1;33m\u001b[0m\u001b[0m\n\u001b[0;32m      5\u001b[0m \u001b[1;31m# Get feature importances\u001b[0m\u001b[1;33m\u001b[0m\u001b[1;33m\u001b[0m\u001b[1;33m\u001b[0m\u001b[0m\n\u001b[1;32m----> 6\u001b[1;33m \u001b[0mbooster\u001b[0m\u001b[1;33m.\u001b[0m\u001b[0mfeature_importances_\u001b[0m\u001b[1;33m\u001b[0m\u001b[1;33m\u001b[0m\u001b[0m\n\u001b[0m",
      "\u001b[1;31mAttributeError\u001b[0m: 'Booster' object has no attribute 'feature_importances_'"
     ]
    }
   ],
   "source": [
    "SHAP = booster.predict(Xy, pred_interactions=True)\n",
    "\n",
    "# categorical features are listed as \"c\"\n",
    "print(booster.feature_types)\n",
    "# Get feature importances\n",
    "booster.feature_importances_"
   ]
  },
  {
   "cell_type": "code",
   "execution_count": null,
   "metadata": {},
   "outputs": [],
   "source": []
  },
  {
   "cell_type": "code",
   "execution_count": 7,
   "metadata": {},
   "outputs": [],
   "source": [
    "X_train, X_val, y_train, y_val = train_test_split(df_x, df_y, test_size=0.2)\n",
    "regr = RandomForestRegressor()\n",
    "regr.fit(X_train, y_train)\n",
    "y_pred = regr.predict(X_val)\n"
   ]
  },
  {
   "cell_type": "code",
   "execution_count": 14,
   "metadata": {},
   "outputs": [
    {
     "data": {
      "text/plain": [
       "array([-0.65154696,  0.10651902, -0.16311294, ...,  0.26480901,\n",
       "        0.83526067, -0.04550748])"
      ]
     },
     "execution_count": 14,
     "metadata": {},
     "output_type": "execute_result"
    }
   ],
   "source": [
    "y_pred"
   ]
  },
  {
   "cell_type": "code",
   "execution_count": 16,
   "metadata": {},
   "outputs": [
    {
     "data": {
      "text/plain": [
       "5842   -1.298118\n",
       "3865    0.197087\n",
       "1223    0.760419\n",
       "1251   -1.422453\n",
       "4617    0.091033\n",
       "          ...   \n",
       "6990    0.486105\n",
       "7735    0.373135\n",
       "7099    1.024341\n",
       "566     1.639874\n",
       "3847   -0.057352\n",
       "Name: target, Length: 1609, dtype: float64"
      ]
     },
     "execution_count": 16,
     "metadata": {},
     "output_type": "execute_result"
    }
   ],
   "source": [
    "y_val"
   ]
  },
  {
   "cell_type": "code",
   "execution_count": null,
   "metadata": {},
   "outputs": [],
   "source": [
    "\n",
    "\n",
    "    # def hyperparameter_search(self):\n",
    "    #     # hyperparameter search for xgboost.\n",
    "    #     self.xgb_model = xgb.XGBRegressor(objective=\"reg:linear\", random_state=42,\n",
    "    #                                       n_jobs=-1)\n",
    "    #     search = GridSearchCV(self.xgb_model,\n",
    "    #                           param_grid=self.config[\"parameter_grid\"][\"params\"],\n",
    "    #                           scoring='neg_mean_squared_error',\n",
    "    #                           cv=5, verbose=1,\n",
    "    #                           return_train_score=True)\n",
    "\n",
    "    #     search.fit(self.df[self.final_columns], self.target)\n",
    "\n",
    "    #     # self.report_best_scores(search.cv_results_, 1)\n",
    "    #     with open('best_params.txt', 'w') as f:\n",
    "    #         f.write(str(search.best_params_))\n",
    "    def plot_linear_reg(self, y_pred):\n",
    "        plt.figure(figsize=(10, 10))\n",
    "        plt.scatter(self.y_test, y_pred)\n",
    "        plt.xlabel('True Values')\n",
    "        plt.ylabel('Predictions')\n",
    "        plt.savefig('./reports/figures/linear_reg.png')\n",
    "        plt.show()\n",
    "\n",
    "    def plot_residuals(self, y_pred):\n",
    "        plt.figure(figsize=(10, 10))\n",
    "        plt.scatter(y_pred, self.y_test - y_pred)\n",
    "        plt.xlabel('Predictions')\n",
    "        plt.ylabel('Residuals')\n",
    "        plt.savefig('./reports/figures/residuals.png')\n",
    "        # plt.show()\n",
    "\n",
    "    def plot_qq(self, y_pred):\n",
    "        from scipy import stats\n",
    "        plt.figure(figsize=(10, 10))\n",
    "        stats.probplot(self.y_test - y_pred, dist=\"norm\", plot=plt)\n",
    "        plt.savefig('./reports/figures/qq_plot.png')\n",
    "        plt.show()\n"
   ]
  },
  {
   "cell_type": "code",
   "execution_count": 18,
   "metadata": {},
   "outputs": [
    {
     "data": {
      "text/plain": [
       "[<matplotlib.lines.Line2D at 0x1ec56e990a0>]"
      ]
     },
     "execution_count": 18,
     "metadata": {},
     "output_type": "execute_result"
    },
    {
     "data": {
      "image/png": "[encoded data removed]",
      "text/plain": [
       "<Figure size 432x288 with 1 Axes>"
      ]
     },
     "metadata": {
      "needs_background": "light"
     },
     "output_type": "display_data"
    }
   ],
   "source": [
    "from sklearn import metrics\n",
    "import matplotlib.pyplot as plt\n",
    "mse = metrics.mean_squared_error(y_val, y_pred)\n",
    "rmse = mse**0.5\n",
    "rmse\n",
    "\n",
    "plt.scatter(y_val, y_pred)\n",
    "plt.xlim(-2, 1)\n",
    "plt.ylim(-2, 1)\n",
    "plt.ylabel('Predicted target')\n",
    "plt.xlabel('Actual target')\n",
    "plt.plot([40,140], [40,140], 'black') #1 to 1 line"
   ]
  },
  {
   "cell_type": "code",
   "execution_count": null,
   "metadata": {},
   "outputs": [],
   "source": [
    "plt.figure(figsize=(15, 5))\n",
    "plt.plot(test_df['DEPTH'], test_df['DT'], label='Actual DT')\n",
    "plt.plot(test_df['DEPTH'], test_df['TEST_DT'], label='Predicted DT')\n",
    "plt.xlabel('Depth (m)')\n",
    "plt.ylabel('DT')\n",
    "plt.ylim(40, 140)\n",
    "plt.legend()\n",
    "plt.grid()"
   ]
  },
  {
   "cell_type": "code",
   "execution_count": 81,
   "metadata": {},
   "outputs": [],
   "source": [
    "df_x_ = df['ts_weekday']\n",
    "features = pd.get_dummies(df_x_, drop_first=False)\n",
    "features.columns = [f'weekday_{i}' for i in range(7)]\n",
    "features.to_clipboard()"
   ]
  },
  {
   "cell_type": "code",
   "execution_count": 37,
   "metadata": {},
   "outputs": [
    {
     "data": {
      "text/plain": [
       "5631.5"
      ]
     },
     "execution_count": 37,
     "metadata": {},
     "output_type": "execute_result"
    }
   ],
   "source": [
    "len(df_x) * 0.70"
   ]
  },
  {
   "cell_type": "code",
   "execution_count": 16,
   "metadata": {},
   "outputs": [
    {
     "data": {
      "text/plain": [
       "array([   1,  316,  632,  948, 1263, 1579, 1895, 2211, 2526, 2842, 3158,\n",
       "       3474, 3789, 4105, 4421, 4737, 5052, 5368, 5684, 6000], dtype=int64)"
      ]
     },
     "execution_count": 16,
     "metadata": {},
     "output_type": "execute_result"
    }
   ],
   "source": [
    "np.int64(np.linspace(1, 6000, 20))\n"
   ]
  },
  {
   "cell_type": "code",
   "execution_count": 33,
   "metadata": {},
   "outputs": [
    {
     "data": {
      "image/png": "[encoded data removed]",
      "text/plain": [
       "<Figure size 576x396 with 1 Axes>"
      ]
     },
     "metadata": {},
     "output_type": "display_data"
    }
   ],
   "source": [
    "from xgboost.sklearn import XGBRegressor\n",
    "# Load config file\n",
    "config = load_config(r\"D:\\final_solution\\solv1_old\\solution_v1\\config.yml\")\n",
    "from sklearn.model_selection import learning_curve\n",
    "from sklearn.linear_model import LinearRegression\n",
    "import matplotlib.pyplot as plt\n",
    "import pandas as pd\n",
    "import numpy as np\n",
    "import xgboost as xgb\n",
    "from sklearn.model_selection import RandomizedSearchCV\n",
    "train_sizes = [1,100,200, 400, 2000, 4000, 5000, 6000]\n",
    "# train_sizes = np.int64(np.linspace(1, 6000, 20))\n",
    "# xgr =XGBRegressor(base_score=0.5, booster='gbtree', colsample_bylevel=1,\n",
    "#              colsample_bynode=1, colsample_bytree=0.9697304149116983,\n",
    "#              gamma=2.684899398839369, gpu_id=-1, importance_type='gain',\n",
    "#              interaction_constraints='', learning_rate=0.01,\n",
    "#              max_delta_step=0, max_depth=29,\n",
    "#              min_child_weight=33.522965527801304,\n",
    "#              monotone_constraints='()', n_estimators=24, n_jobs=8,\n",
    "#              num_parallel_tree=1, random_state=0, reg_alpha=1.8409864324165623,\n",
    "#              reg_lambda=6.009121364172622, scale_pos_weight=1,\n",
    "#              subsample=0.8948522801808735, tree_method='exact',\n",
    "#              validate_parameters=1, verbosity=None)\n",
    "xgr =  xgb.XGBRegressor(random_state=42, n_jobs=-1, learning_rate=0.05, max_depth=5, \n",
    "                n_estimators=1000, subsample=0.8, colsample_bytree=0.8)\n",
    "# xgr = XGBRegressor(config[\"logging_params\"][\"xgb\"])\n",
    "# xgr= RandomForestRegressor('bootstrap': True, 'max_depth': 80, 'max_features': 3, 'min_samples_leaf': 3, 'min_samples_split': 8, 'n_estimators': 1000)\n",
    "train_sizes, train_scores, validation_scores = learning_curve(\n",
    "    estimator = xgr,\n",
    "    X = df_x,\n",
    "    y = df_y, train_sizes = train_sizes, cv = 5,\n",
    "    scoring = 'neg_mean_squared_error',\n",
    "    shuffle=True)\n",
    "\n",
    "train_scores_mean = -train_scores.mean(axis = 1)\n",
    "validation_scores_mean = -validation_scores.mean(axis = 1)\n",
    "plt.style.use('seaborn')\n",
    "plt.plot(train_sizes, train_scores_mean, label = 'Training error', color='red',)\n",
    "plt.plot(train_sizes, validation_scores_mean, label = 'Validation error')\n",
    "plt.ylabel('MSE', fontsize = 14)\n",
    "plt.xlabel('Training set size', fontsize = 14)\n",
    "plt.title('Learning curves for a XGboost', fontsize = 18, y = 1.03)\n",
    "plt.ylim([0, 1])\n",
    "plt.legend()\n",
    "\n",
    "\n",
    "plt.style.use('seaborn')"
   ]
  },
  {
   "cell_type": "code",
   "execution_count": 9,
   "metadata": {},
   "outputs": [],
   "source": [
    "from imports import *\n",
    "\n",
    "\n",
    "class visualize(object):\n",
    "\n",
    "    def __init__(self, y_test, model) -> None:\n",
    "        self.y_test = y_test\n",
    "        self.model = model\n",
    "\n",
    "    def create_plot(self, y_pred):\n",
    "        # create linear regression plot, residuals plot and qq plot using scipy\n",
    "        fig, ax = plt.subplots(1, 3, figsize=(15, 5))\n",
    "        ax[0].scatter(self.y_test, y_pred)\n",
    "        ax[0].set_xlabel('Actual')\n",
    "        ax[0].set_ylabel('Predicted')\n",
    "        ax[0].set_title('Actual vs Predicted')\n",
    "        ax[1].scatter(y_pred,  self.y_test - y_pred)\n",
    "        ax[1].set_xlabel('Predicted')\n",
    "        ax[1].set_ylabel('Residuals')\n",
    "        ax[2].set_title('Residuals vs Predicted')\n",
    "        # qq plot\n",
    "        stats.probplot(self.y_test - y_pred, dist=\"norm\", plot=ax[2])\n",
    "        ax[2].set_title('QQ plot')\n",
    "        plt.savefig('./reports/plots/linear_regression_plots.png')\n",
    "\n",
    "    def rf_feature_importance(self, rf_model):\n",
    "        self.model = rf_model\n",
    "        # Feature importance\n",
    "        feature_importance = pd.DataFrame(\n",
    "            {'feature': self.X_test.columns, 'importance': self.model.feature_importances_})\n",
    "        feature_importance.sort_values(\n",
    "            'importance', ascending=False, inplace=True)\n",
    "        feature_importance.to_csv(\n",
    "            './reports/eval/rf_feature_importance.csv', index=False)\n",
    "        # plot feature importance\n",
    "        plt.figure(figsize=(10, 10))\n",
    "        sns.barplot(x='importance', y='feature', data=feature_importance)\n",
    "        plt.title('Random Forest Feature Importance')\n",
    "        plt.tight_layout()\n",
    "        plt.savefig('./reports/plots/rf_feature_importance.png')\n",
    "        return feature_importance"
   ]
  },
  {
   "cell_type": "code",
   "execution_count": 10,
   "metadata": {},
   "outputs": [
    {
     "ename": "NameError",
     "evalue": "name 'y_test' is not defined",
     "output_type": "error",
     "traceback": [
      "\u001b[1;31m---------------------------------------------------------------------------\u001b[0m",
      "\u001b[1;31mNameError\u001b[0m                                 Traceback (most recent call last)",
      "\u001b[1;32m<ipython-input-10-1a41290c4c0a>\u001b[0m in \u001b[0;36m<module>\u001b[1;34m\u001b[0m\n\u001b[1;32m----> 1\u001b[1;33m \u001b[0mrt\u001b[0m\u001b[1;33m=\u001b[0m \u001b[0mvisualize\u001b[0m\u001b[1;33m(\u001b[0m\u001b[0my_test\u001b[0m\u001b[1;33m,\u001b[0m \u001b[0mrf_model\u001b[0m\u001b[1;33m)\u001b[0m\u001b[1;33m\u001b[0m\u001b[1;33m\u001b[0m\u001b[0m\n\u001b[0m",
      "\u001b[1;31mNameError\u001b[0m: name 'y_test' is not defined"
     ]
    }
   ],
   "source": [
    "rt = visualize(y_test, rf_model)\n"
   ]
  },
  {
   "cell_type": "code",
   "execution_count": 62,
   "metadata": {},
   "outputs": [
    {
     "data": {
      "text/plain": [
       "array([-0.75186214, -0.50983604, -0.50767314, -0.5748942 , -0.61491088,\n",
       "       -0.61921281])"
      ]
     },
     "execution_count": 62,
     "metadata": {},
     "output_type": "execute_result"
    }
   ],
   "source": [
    "train_scores_mean = -train_scores.mean(axis = 1)\n",
    "validation_scores_mean = -validation_scores.mean(axis = 1)\n",
    "print('Mean training scores\\n\\n', pd.Series(train_scores_mean, index = train_sizes))\n",
    "print('\\n', '-' * 20) # sepa`rator\n",
    "print('\\nMean validation scores\\n\\n',pd.Series(validation_scores_mean, index = train_sizes))\n",
    "import matplotlib.pyplot as plt\n",
    "\n"
   ]
  },
  {
   "cell_type": "code",
   "execution_count": 64,
   "metadata": {},
   "outputs": [
    {
     "data": {
      "text/plain": [
       "array([1.1114712 , 0.42748455, 0.3935583 , 0.30400859, 0.2309932 ,\n",
       "       0.21498242])"
      ]
     },
     "execution_count": 64,
     "metadata": {},
     "output_type": "execute_result"
    }
   ],
   "source": [
    "class model_training(object):\n",
    "    def __init__(self, df, target, final_columns, config) -> None:\n",
    "        self.df = df\n",
    "        self.target = target\n",
    "        self.final_columns = final_columns\n",
    "        self.config = config\n",
    "        self.model_params = self.config[\"logging_params\"][\"xgb\"]\n",
    "        self.param_grid = self.config[\"parameter_grid\"][\"params\"]\n",
    "    \n",
    "    # Multiple regression model is our base model\n",
    "    def base_model(self):\n",
    "        X = self.df[self.final_columns]\n",
    "        y = self.target\n",
    "        X_train, X_test, y_train, y_test = train_test_split(\n",
    "            X, y, test_size=0.2, random_state=23)\n",
    "        # Add x0=1 to the first column of X\n",
    "        X_train_0 = np.c_[np.ones((X_train.shape[0], 1)), X_train]\n",
    "        X_test_0 = np.c_[np.ones((X_test.shape[0], 1)), X_test]\n",
    "        # Build the model\n",
    "        theta = np.matmul(np.linalg.inv(\n",
    "            np.matmul(X_train_0.T, X_train_0)), np.matmul(X_train_0.T, y_train))\n",
    "        # Make predictions\n",
    "        y_pred = np.matmul(X_test_0, theta)\n",
    "        # Evaluate the model\n",
    "        mse = mean_squared_error(y_test, y_pred)\n",
    "        # R_square\n",
    "        sse = np.sum((y_pred - y_test)**2)\n",
    "        sst = np.sum((y_test - y_test.mean())**2)\n",
    "        R_square = 1 - (sse/sst)\n",
    "        with open('./eval/RMSE_multiple_regression.txt', 'w') as f:\n",
    "            f.write(str(np.sqrt(mse)))\n",
    "            f.write(str(R_square))\n",
    "            f.close()\n",
    "        print('Root mean squared error of multiple regression model', np.sqrt(mse))\n",
    "        print('r square of multiple regression', R_square)"
   ]
  },
  {
   "cell_type": "code",
   "execution_count": 67,
   "metadata": {},
   "outputs": [
    {
     "name": "stdout",
     "output_type": "stream",
     "text": [
      "Mean training scores\n",
      "\n",
      " 1       0.747603\n",
      "2       0.506718\n",
      "3       0.561184\n",
      "10      0.672441\n",
      "25      0.691639\n",
      "50      0.461241\n",
      "100     0.435281\n",
      "200     0.424814\n",
      "500     0.383862\n",
      "800     0.355472\n",
      "1100    0.345850\n",
      "1400    0.329727\n",
      "2000    0.304038\n",
      "4000    0.251099\n",
      "5000    0.235874\n",
      "6000    0.214681\n",
      "dtype: float64\n",
      "\n",
      " --------------------\n",
      "\n",
      "Mean validation scores\n",
      "\n",
      " 1       0.751862\n",
      "2       0.751862\n",
      "3       0.751862\n",
      "10      0.751862\n",
      "25      0.751862\n",
      "50      0.506504\n",
      "100     0.505896\n",
      "200     0.507724\n",
      "500     0.508586\n",
      "800     0.527417\n",
      "1100    0.536308\n",
      "1400    0.541468\n",
      "2000    0.568756\n",
      "4000    0.595658\n",
      "5000    0.611491\n",
      "6000    0.625895\n",
      "dtype: float64\n"
     ]
    },
    {
     "data": {
      "text/plain": [
       "(0.0, 40.0)"
      ]
     },
     "execution_count": 67,
     "metadata": {},
     "output_type": "execute_result"
    },
    {
     "data": {
      "image/png": "[encoded data removed]",
      "text/plain": [
       "<Figure size 576x396 with 1 Axes>"
      ]
     },
     "metadata": {},
     "output_type": "display_data"
    }
   ],
   "source": []
  },
  {
   "cell_type": "code",
   "execution_count": null,
   "metadata": {},
   "outputs": [],
   "source": []
  },
  {
   "cell_type": "code",
   "execution_count": 30,
   "metadata": {},
   "outputs": [
    {
     "name": "stdout",
     "output_type": "stream",
     "text": [
      "RMSE: 0.55\n"
     ]
    }
   ],
   "source": [
    "dmatrix = xgb.DMatrix(data=df_x, label=df_y)\n",
    "params={ 'objective':'reg:squarederror',\n",
    "         'max_depth': 6, \n",
    "         'colsample_bylevel':0.5,\n",
    "         'learning_rate':0.01,\n",
    "         'random_state':20}\n",
    "cv_results = xgb.cv(dtrain=dmatrix, params=params, nfold=10, metrics={'rmse'}, as_pandas=True, seed=20, num_boost_round=1000)\n",
    "print('RMSE: %.2f' % cv_results['test-rmse-mean'].min())"
   ]
  },
  {
   "cell_type": "code",
   "execution_count": 31,
   "metadata": {},
   "outputs": [],
   "source": [
    "pickle.dump(cv_results, open('cv_results.pkl', 'wb'))"
   ]
  },
  {
   "cell_type": "code",
   "execution_count": 36,
   "metadata": {},
   "outputs": [],
   "source": [
    "cv_results = pickle.load(open('cv_results.pkl', 'rb'))\n",
    "cv_results.to_clipboard()"
   ]
  },
  {
   "cell_type": "code",
   "execution_count": 28,
   "metadata": {},
   "outputs": [],
   "source": [
    "dmatrix = xgb.DMatrix(data=df_x, label=df_y,  enable_categorical=True)"
   ]
  },
  {
   "cell_type": "code",
   "execution_count": null,
   "metadata": {},
   "outputs": [],
   "source": []
  },
  {
   "cell_type": "code",
   "execution_count": null,
   "metadata": {},
   "outputs": [],
   "source": []
  },
  {
   "cell_type": "code",
   "execution_count": 29,
   "metadata": {},
   "outputs": [
    {
     "ename": "TypeError",
     "evalue": "Singleton array array(<xgboost.core.DMatrix object at 0x0000028BD07DF1C0>, dtype=object) cannot be considered a valid collection.",
     "output_type": "error",
     "traceback": [
      "\u001b[1;31m---------------------------------------------------------------------------\u001b[0m",
      "\u001b[1;31mTypeError\u001b[0m                                 Traceback (most recent call last)",
      "\u001b[1;32m<ipython-input-29-e9af5dff092f>\u001b[0m in \u001b[0;36m<module>\u001b[1;34m\u001b[0m\n\u001b[0;32m      8\u001b[0m                    \u001b[0mscoring\u001b[0m\u001b[1;33m=\u001b[0m\u001b[1;34m'neg_mean_squared_error'\u001b[0m\u001b[1;33m,\u001b[0m\u001b[1;33m\u001b[0m\u001b[1;33m\u001b[0m\u001b[0m\n\u001b[0;32m      9\u001b[0m                    verbose=1)\n\u001b[1;32m---> 10\u001b[1;33m \u001b[0mclf\u001b[0m\u001b[1;33m.\u001b[0m\u001b[0mfit\u001b[0m\u001b[1;33m(\u001b[0m\u001b[0mdmatrix\u001b[0m\u001b[1;33m,\u001b[0m \u001b[0mdf_y\u001b[0m\u001b[1;33m)\u001b[0m\u001b[1;33m\u001b[0m\u001b[1;33m\u001b[0m\u001b[0m\n\u001b[0m",
      "\u001b[1;32mc:\\ProgramData\\Anaconda3\\lib\\site-packages\\sklearn\\utils\\validation.py\u001b[0m in \u001b[0;36minner_f\u001b[1;34m(*args, **kwargs)\u001b[0m\n\u001b[0;32m     61\u001b[0m             \u001b[0mextra_args\u001b[0m \u001b[1;33m=\u001b[0m \u001b[0mlen\u001b[0m\u001b[1;33m(\u001b[0m\u001b[0margs\u001b[0m\u001b[1;33m)\u001b[0m \u001b[1;33m-\u001b[0m \u001b[0mlen\u001b[0m\u001b[1;33m(\u001b[0m\u001b[0mall_args\u001b[0m\u001b[1;33m)\u001b[0m\u001b[1;33m\u001b[0m\u001b[1;33m\u001b[0m\u001b[0m\n\u001b[0;32m     62\u001b[0m             \u001b[1;32mif\u001b[0m \u001b[0mextra_args\u001b[0m \u001b[1;33m<=\u001b[0m \u001b[1;36m0\u001b[0m\u001b[1;33m:\u001b[0m\u001b[1;33m\u001b[0m\u001b[1;33m\u001b[0m\u001b[0m\n\u001b[1;32m---> 63\u001b[1;33m                 \u001b[1;32mreturn\u001b[0m \u001b[0mf\u001b[0m\u001b[1;33m(\u001b[0m\u001b[1;33m*\u001b[0m\u001b[0margs\u001b[0m\u001b[1;33m,\u001b[0m \u001b[1;33m**\u001b[0m\u001b[0mkwargs\u001b[0m\u001b[1;33m)\u001b[0m\u001b[1;33m\u001b[0m\u001b[1;33m\u001b[0m\u001b[0m\n\u001b[0m\u001b[0;32m     64\u001b[0m \u001b[1;33m\u001b[0m\u001b[0m\n\u001b[0;32m     65\u001b[0m             \u001b[1;31m# extra_args > 0\u001b[0m\u001b[1;33m\u001b[0m\u001b[1;33m\u001b[0m\u001b[1;33m\u001b[0m\u001b[0m\n",
      "\u001b[1;32mc:\\ProgramData\\Anaconda3\\lib\\site-packages\\sklearn\\model_selection\\_search.py\u001b[0m in \u001b[0;36mfit\u001b[1;34m(self, X, y, groups, **fit_params)\u001b[0m\n\u001b[0;32m    757\u001b[0m             \u001b[0mrefit_metric\u001b[0m \u001b[1;33m=\u001b[0m \u001b[0mself\u001b[0m\u001b[1;33m.\u001b[0m\u001b[0mrefit\u001b[0m\u001b[1;33m\u001b[0m\u001b[1;33m\u001b[0m\u001b[0m\n\u001b[0;32m    758\u001b[0m \u001b[1;33m\u001b[0m\u001b[0m\n\u001b[1;32m--> 759\u001b[1;33m         \u001b[0mX\u001b[0m\u001b[1;33m,\u001b[0m \u001b[0my\u001b[0m\u001b[1;33m,\u001b[0m \u001b[0mgroups\u001b[0m \u001b[1;33m=\u001b[0m \u001b[0mindexable\u001b[0m\u001b[1;33m(\u001b[0m\u001b[0mX\u001b[0m\u001b[1;33m,\u001b[0m \u001b[0my\u001b[0m\u001b[1;33m,\u001b[0m \u001b[0mgroups\u001b[0m\u001b[1;33m)\u001b[0m\u001b[1;33m\u001b[0m\u001b[1;33m\u001b[0m\u001b[0m\n\u001b[0m\u001b[0;32m    760\u001b[0m         \u001b[0mfit_params\u001b[0m \u001b[1;33m=\u001b[0m \u001b[0m_check_fit_params\u001b[0m\u001b[1;33m(\u001b[0m\u001b[0mX\u001b[0m\u001b[1;33m,\u001b[0m \u001b[0mfit_params\u001b[0m\u001b[1;33m)\u001b[0m\u001b[1;33m\u001b[0m\u001b[1;33m\u001b[0m\u001b[0m\n\u001b[0;32m    761\u001b[0m \u001b[1;33m\u001b[0m\u001b[0m\n",
      "\u001b[1;32mc:\\ProgramData\\Anaconda3\\lib\\site-packages\\sklearn\\utils\\validation.py\u001b[0m in \u001b[0;36mindexable\u001b[1;34m(*iterables)\u001b[0m\n\u001b[0;32m    297\u001b[0m     \"\"\"\n\u001b[0;32m    298\u001b[0m     \u001b[0mresult\u001b[0m \u001b[1;33m=\u001b[0m \u001b[1;33m[\u001b[0m\u001b[0m_make_indexable\u001b[0m\u001b[1;33m(\u001b[0m\u001b[0mX\u001b[0m\u001b[1;33m)\u001b[0m \u001b[1;32mfor\u001b[0m \u001b[0mX\u001b[0m \u001b[1;32min\u001b[0m \u001b[0miterables\u001b[0m\u001b[1;33m]\u001b[0m\u001b[1;33m\u001b[0m\u001b[1;33m\u001b[0m\u001b[0m\n\u001b[1;32m--> 299\u001b[1;33m     \u001b[0mcheck_consistent_length\u001b[0m\u001b[1;33m(\u001b[0m\u001b[1;33m*\u001b[0m\u001b[0mresult\u001b[0m\u001b[1;33m)\u001b[0m\u001b[1;33m\u001b[0m\u001b[1;33m\u001b[0m\u001b[0m\n\u001b[0m\u001b[0;32m    300\u001b[0m     \u001b[1;32mreturn\u001b[0m \u001b[0mresult\u001b[0m\u001b[1;33m\u001b[0m\u001b[1;33m\u001b[0m\u001b[0m\n\u001b[0;32m    301\u001b[0m \u001b[1;33m\u001b[0m\u001b[0m\n",
      "\u001b[1;32mc:\\ProgramData\\Anaconda3\\lib\\site-packages\\sklearn\\utils\\validation.py\u001b[0m in \u001b[0;36mcheck_consistent_length\u001b[1;34m(*arrays)\u001b[0m\n\u001b[0;32m    257\u001b[0m     \"\"\"\n\u001b[0;32m    258\u001b[0m \u001b[1;33m\u001b[0m\u001b[0m\n\u001b[1;32m--> 259\u001b[1;33m     \u001b[0mlengths\u001b[0m \u001b[1;33m=\u001b[0m \u001b[1;33m[\u001b[0m\u001b[0m_num_samples\u001b[0m\u001b[1;33m(\u001b[0m\u001b[0mX\u001b[0m\u001b[1;33m)\u001b[0m \u001b[1;32mfor\u001b[0m \u001b[0mX\u001b[0m \u001b[1;32min\u001b[0m \u001b[0marrays\u001b[0m \u001b[1;32mif\u001b[0m \u001b[0mX\u001b[0m \u001b[1;32mis\u001b[0m \u001b[1;32mnot\u001b[0m \u001b[1;32mNone\u001b[0m\u001b[1;33m]\u001b[0m\u001b[1;33m\u001b[0m\u001b[1;33m\u001b[0m\u001b[0m\n\u001b[0m\u001b[0;32m    260\u001b[0m     \u001b[0muniques\u001b[0m \u001b[1;33m=\u001b[0m \u001b[0mnp\u001b[0m\u001b[1;33m.\u001b[0m\u001b[0munique\u001b[0m\u001b[1;33m(\u001b[0m\u001b[0mlengths\u001b[0m\u001b[1;33m)\u001b[0m\u001b[1;33m\u001b[0m\u001b[1;33m\u001b[0m\u001b[0m\n\u001b[0;32m    261\u001b[0m     \u001b[1;32mif\u001b[0m \u001b[0mlen\u001b[0m\u001b[1;33m(\u001b[0m\u001b[0muniques\u001b[0m\u001b[1;33m)\u001b[0m \u001b[1;33m>\u001b[0m \u001b[1;36m1\u001b[0m\u001b[1;33m:\u001b[0m\u001b[1;33m\u001b[0m\u001b[1;33m\u001b[0m\u001b[0m\n",
      "\u001b[1;32mc:\\ProgramData\\Anaconda3\\lib\\site-packages\\sklearn\\utils\\validation.py\u001b[0m in \u001b[0;36m<listcomp>\u001b[1;34m(.0)\u001b[0m\n\u001b[0;32m    257\u001b[0m     \"\"\"\n\u001b[0;32m    258\u001b[0m \u001b[1;33m\u001b[0m\u001b[0m\n\u001b[1;32m--> 259\u001b[1;33m     \u001b[0mlengths\u001b[0m \u001b[1;33m=\u001b[0m \u001b[1;33m[\u001b[0m\u001b[0m_num_samples\u001b[0m\u001b[1;33m(\u001b[0m\u001b[0mX\u001b[0m\u001b[1;33m)\u001b[0m \u001b[1;32mfor\u001b[0m \u001b[0mX\u001b[0m \u001b[1;32min\u001b[0m \u001b[0marrays\u001b[0m \u001b[1;32mif\u001b[0m \u001b[0mX\u001b[0m \u001b[1;32mis\u001b[0m \u001b[1;32mnot\u001b[0m \u001b[1;32mNone\u001b[0m\u001b[1;33m]\u001b[0m\u001b[1;33m\u001b[0m\u001b[1;33m\u001b[0m\u001b[0m\n\u001b[0m\u001b[0;32m    260\u001b[0m     \u001b[0muniques\u001b[0m \u001b[1;33m=\u001b[0m \u001b[0mnp\u001b[0m\u001b[1;33m.\u001b[0m\u001b[0munique\u001b[0m\u001b[1;33m(\u001b[0m\u001b[0mlengths\u001b[0m\u001b[1;33m)\u001b[0m\u001b[1;33m\u001b[0m\u001b[1;33m\u001b[0m\u001b[0m\n\u001b[0;32m    261\u001b[0m     \u001b[1;32mif\u001b[0m \u001b[0mlen\u001b[0m\u001b[1;33m(\u001b[0m\u001b[0muniques\u001b[0m\u001b[1;33m)\u001b[0m \u001b[1;33m>\u001b[0m \u001b[1;36m1\u001b[0m\u001b[1;33m:\u001b[0m\u001b[1;33m\u001b[0m\u001b[1;33m\u001b[0m\u001b[0m\n",
      "\u001b[1;32mc:\\ProgramData\\Anaconda3\\lib\\site-packages\\sklearn\\utils\\validation.py\u001b[0m in \u001b[0;36m_num_samples\u001b[1;34m(x)\u001b[0m\n\u001b[0;32m    200\u001b[0m     \u001b[1;32mif\u001b[0m \u001b[0mhasattr\u001b[0m\u001b[1;33m(\u001b[0m\u001b[0mx\u001b[0m\u001b[1;33m,\u001b[0m \u001b[1;34m'shape'\u001b[0m\u001b[1;33m)\u001b[0m \u001b[1;32mand\u001b[0m \u001b[0mx\u001b[0m\u001b[1;33m.\u001b[0m\u001b[0mshape\u001b[0m \u001b[1;32mis\u001b[0m \u001b[1;32mnot\u001b[0m \u001b[1;32mNone\u001b[0m\u001b[1;33m:\u001b[0m\u001b[1;33m\u001b[0m\u001b[1;33m\u001b[0m\u001b[0m\n\u001b[0;32m    201\u001b[0m         \u001b[1;32mif\u001b[0m \u001b[0mlen\u001b[0m\u001b[1;33m(\u001b[0m\u001b[0mx\u001b[0m\u001b[1;33m.\u001b[0m\u001b[0mshape\u001b[0m\u001b[1;33m)\u001b[0m \u001b[1;33m==\u001b[0m \u001b[1;36m0\u001b[0m\u001b[1;33m:\u001b[0m\u001b[1;33m\u001b[0m\u001b[1;33m\u001b[0m\u001b[0m\n\u001b[1;32m--> 202\u001b[1;33m             raise TypeError(\"Singleton array %r cannot be considered\"\n\u001b[0m\u001b[0;32m    203\u001b[0m                             \" a valid collection.\" % x)\n\u001b[0;32m    204\u001b[0m         \u001b[1;31m# Check that shape is returning an integer or default to len\u001b[0m\u001b[1;33m\u001b[0m\u001b[1;33m\u001b[0m\u001b[1;33m\u001b[0m\u001b[0m\n",
      "\u001b[1;31mTypeError\u001b[0m: Singleton array array(<xgboost.core.DMatrix object at 0x0000028BD07DF1C0>, dtype=object) cannot be considered a valid collection."
     ]
    }
   ],
   "source": [
    "params = { 'max_depth': [3,6,10],\n",
    "           'learning_rate': [0.01, 0.05, 0.1],\n",
    "           'n_estimators': [100, 500, 1000],\n",
    "           'colsample_bytree': [0.3, 0.7]}\n",
    "xgbr = xgb.XGBRegressor(seed = 20)\n",
    "clf = GridSearchCV(estimator=xgbr, \n",
    "                   param_grid=params,\n",
    "                   scoring='neg_mean_squared_error', \n",
    "                   verbose=1)\n",
    "clf.fit(dmatrix, df_y)"
   ]
  },
  {
   "cell_type": "code",
   "execution_count": 11,
   "metadata": {},
   "outputs": [],
   "source": []
  },
  {
   "cell_type": "code",
   "execution_count": 2,
   "metadata": {},
   "outputs": [],
   "source": [
    "select_ = df_selected.columns.tolist()\n",
    "select_.append('target')\n",
    "X = df[select_].drop('target', axis=1)\n",
    "y = df['target']"
   ]
  },
  {
   "cell_type": "code",
   "execution_count": 3,
   "metadata": {},
   "outputs": [
    {
     "name": "stdout",
     "output_type": "stream",
     "text": [
      "Fitting 5 folds for each of 25 candidates, totalling 125 fits\n",
      "Best parameters: {'n_estimators': 150, 'min_child_weight': 3, 'max_depth': 2, 'learning_rate': 0.05}\n",
      "Lowest RMSE:  0.7174739578884294\n"
     ]
    }
   ],
   "source": [
    "params = { 'n_estimators': [100, 150],\n",
    "    'max_depth': [2, 3],\n",
    "    'learning_rate': [0.05, 0.1, 0.15, 0.20],\n",
    "    'min_child_weight': [1, 2, 3]}\n",
    "\n",
    "xgbr = xgb.XGBRegressor(seed = 20)\n",
    "clf = RandomizedSearchCV(estimator=xgbr,\n",
    "                        param_distributions=params,\n",
    "                        scoring='neg_mean_squared_error',\n",
    "                        n_iter=25,\n",
    "                        verbose=1)\n",
    "clf.fit(X, y)\n",
    "print(\"Best parameters:\", clf.best_params_)\n",
    "print(\"Lowest RMSE: \", (-clf.best_score_)**(1/2.0))"
   ]
  },
  {
   "cell_type": "code",
   "execution_count": 21,
   "metadata": {},
   "outputs": [
    {
     "data": {
      "text/plain": [
       "Index(['TE_crystal_supergroup_Categorify', 'TE_crystal_type_Categorify',\n",
       "       'TE_unnamed_7_Categorify', 'human_measure', 'expected_factor_x',\n",
       "       'first_factor_x', 'expected_final_factor_x', 'previous_adamantium',\n",
       "       'etherium_before_start', 'chemical_x', 'raw_kryptonite', 'argon',\n",
       "       'pure_seastone', 'super_hero_group_Categorify',\n",
       "       'tracking_times_Categorify', 'groups', 'cycle'],\n",
       "      dtype='object')"
      ]
     },
     "execution_count": 21,
     "metadata": {},
     "output_type": "execute_result"
    }
   ],
   "source": [
    "df_selected.columns"
   ]
  },
  {
   "cell_type": "code",
   "execution_count": null,
   "metadata": {},
   "outputs": [],
   "source": [
    "config = load_config(r\"D:\\final_solution\\solution_v1\\config.yml\")\n",
    "cont_features_df = features_selection_cont_var(\n",
    "    df, config['continous_col_feature_selection'], config['target_col'])\n",
    "mi_df, selected_cols = cont_features_df.mutual_info()\n",
    "cont_features_df.var_list = selected_cols\n",
    "cor_var = cont_features_df.find_correlated_feature(selected_cols)\n",
    "cont_features_df.var_list = cor_var\n",
    "cont_features_df.df = mi_df\n",
    "# print(cor_var)\n",
    "final_continous_var = cont_features_df.remove_corr_features(mi_df, cor_var)\n",
    "print(final_continous_var)\n",
    "cat_features_selection = features_selection_cat_var(\n",
    "    df, config['cat_cols_feature_selection'])\n",
    "final_cat_var = cat_features_selection.perform_anova_test()\n",
    "selected_features = final_continous_var + final_cat_var\n",
    "print(selected_features)\n",
    "target = df['target']\n"
   ]
  },
  {
   "cell_type": "code",
   "execution_count": 23,
   "metadata": {},
   "outputs": [],
   "source": [
    "df_org = pd.read_csv(r'D:\\final_solution\\original\\code_challenge\\final_data_new.csv')\n",
    "df_org.dtypes.to_clipboard()"
   ]
  },
  {
   "cell_type": "code",
   "execution_count": 16,
   "metadata": {},
   "outputs": [],
   "source": []
  },
  {
   "cell_type": "code",
   "execution_count": 9,
   "metadata": {},
   "outputs": [],
   "source": [
    "train_model = model_training(df, target, selected_features, config)"
   ]
  },
  {
   "cell_type": "code",
   "execution_count": 10,
   "metadata": {},
   "outputs": [
    {
     "name": "stdout",
     "output_type": "stream",
     "text": [
      "(8045, 14)\n",
      "(8045,)\n",
      "{'n_estimators': 100, 'min_child_weight': 3, 'max_depth': 2, 'learning_rate': 0.15}\n"
     ]
    }
   ],
   "source": [
    "from imports import *\n",
    "train_model.hyperparameter_search()"
   ]
  },
  {
   "cell_type": "code",
   "execution_count": null,
   "metadata": {},
   "outputs": [],
   "source": [
    "config = load_config(r\"D:\\final_solution\\solution_v1\\config.yml\")\n",
    "\n",
    "# read the raw data and target data from the data/raw folder\n",
    "data = read_data()\n",
    "raw_data, target_data = data.read_data()\n",
    "\n",
    "# Merge the raw data and target data\n",
    "merge_data = merge_dataset(raw_data, target_data)\n",
    "df = merge_data.merge_dataset()\n",
    "print(df.shape)\n",
    "# df.to_csv('./data/interim/merged_df.csv', index=False)\n",
    "# preprocessing the data\n",
    "\n",
    "preprocess = preprocessing(df, config)\n",
    "df = preprocess.drop_duplicate_columns()\n",
    "# convertd types\n",
    "df = preprocess.convert_dtypes()\n",
    "df = preprocess.replace_values()\n",
    "df = preprocess.processing_missing_values()\n",
    "df = preprocess.interpolate_datetime()\n",
    "df = preprocess.convert_dtypes()\n",
    "df[config['date_cols']] = df[config['date_cols']].apply(pd.to_datetime)\n",
    "df = preprocess.drop_duplicate_rows()\n",
    "df = preprocess.remove_outliers()\n",
    "# df.to_csv('./data/interim/imputed_df.csv', index=False)\n",
    "# df.to_csv('./data/interim/imputed_df_original_outliers.csv', index=False)\n",
    "# Feature Engineering\n",
    "feat_engg = FeatEngg(df, config)\n",
    "df = feat_engg.split_datetime_col()\n",
    "df = feat_engg.split_datetime_col()\n",
    "df = feat_engg.cal_time_diff()\n",
    "df = feat_engg.categorify_columns()\n",
    "df = feat_engg.target_encode_columns()\n",
    "df = feat_engg.count_encode_columns()\n",
    "df = feat_engg.transforming_target_continuous()\n",
    "# df.to_csv('./data/interim/feature_engg.csv', index=False)\n",
    "# Continous feature selection\n",
    "cont_features_df = features_selection_cont_var(\n",
    "    df, config['continous_col_feature_selection'], config['target_col'])\n",
    "mi_df, selected_cols = cont_features_df.mutual_info()\n",
    "cont_features_df.var_list = selected_cols\n",
    "cor_var = cont_features_df.find_correlated_feature(selected_cols)\n",
    "cont_features_df.var_list = cor_var\n",
    "cont_features_df.df = mi_df\n",
    "# print(cor_var)\n",
    "final_continous_var = cont_features_df.remove_corr_features(mi_df, cor_var)\n",
    "print(final_continous_var)\n",
    "cat_features_selection = features_selection_cat_var(\n",
    "    df, config['cat_cols_feature_selection'])\n",
    "final_cat_var = cat_features_selection.perform_anova_test()\n",
    "selected_features = final_continous_var + final_cat_var\n",
    "print(selected_features)\n",
    "target = df['target']\n",
    "# df[selected_features].to_csv('./data/interim/selected_features.csv', index=False)\n",
    "train_model = model_training(df, target, selected_features, config)\n",
    "train_model.convert_to_DMatrix()\n",
    "print('training model')\n",
    "# train_model.base_model()  # Train base model\n",
    "# train_model.train_xgb()  # Train xgboost model to see performance improvement\n",
    "# error = train_model.evaluate_model()  # evaluate the model\n",
    "# train_model.save_model()\n",
    "train_model.hyperparameter_search()"
   ]
  },
  {
   "cell_type": "code",
   "execution_count": null,
   "metadata": {},
   "outputs": [],
   "source": []
  },
  {
   "cell_type": "code",
   "execution_count": 4,
   "metadata": {},
   "outputs": [],
   "source": [
    "from sklearn.model_selection import train_test_split\n",
    "x_train, x_test, y_train, y_test = train_test_split(x, y, test_size=0.2, random_state=42)\n"
   ]
  },
  {
   "cell_type": "code",
   "execution_count": 10,
   "metadata": {},
   "outputs": [
    {
     "data": {
      "text/plain": [
       "GridSearchCV(cv=5, estimator=RandomForestRegressor(random_state=42), n_jobs=-1,\n",
       "             param_grid={'max_features': array([1, 2, 3, 4, 5]),\n",
       "                         'n_estimators': array([ 10,  20,  30,  40,  50,  60,  70,  80,  90, 100, 110, 120, 130,\n",
       "       140, 150, 160, 170, 180, 190])},\n",
       "             scoring='neg_mean_squared_error')"
      ]
     },
     "execution_count": 10,
     "metadata": {},
     "output_type": "execute_result"
    }
   ],
   "source": [
    "from sklearn.model_selection import GridSearchCV\n",
    "import numpy as np\n",
    "\n",
    "max_features_range = np.arange(1,6,1)\n",
    "n_estimators_range = np.arange(10,200,10)\n",
    "param_grid = dict(max_features=max_features_range, n_estimators=n_estimators_range)\n",
    "\n",
    "rf = RandomForestRegressor(random_state = 42)\n",
    "\n",
    "grid = GridSearchCV(estimator=rf, param_grid=param_grid, cv=5, scoring='neg_mean_squared_error', n_jobs=-1)\n",
    "grid.fit(x_train, y_train)"
   ]
  },
  {
   "cell_type": "code",
   "execution_count": 11,
   "metadata": {},
   "outputs": [
    {
     "name": "stdout",
     "output_type": "stream",
     "text": [
      "The best parameters are {'max_features': 5, 'n_estimators': 190} with a score of -0.35\n"
     ]
    }
   ],
   "source": [
    "print(\"The best parameters are %s with a score of %0.2f\" % (grid.best_params_, grid.best_score_))"
   ]
  },
  {
   "cell_type": "code",
   "execution_count": 12,
   "metadata": {},
   "outputs": [],
   "source": [
    "# Create and train model\n",
    "rf = RandomForestRegressor(n_estimators=grid.best_params_['n_estimators'], max_features=grid.best_params_['max_features'], random_state=42)\n",
    "rf.fit(x_train, y_train)\n",
    "# Predict on test data\n",
    "prediction = rf.predict(x_test)\n",
    "# Compute mean squared error\n",
    "mse = mean_squared_error(y_test, prediction)"
   ]
  },
  {
   "cell_type": "code",
   "execution_count": 14,
   "metadata": {},
   "outputs": [
    {
     "data": {
      "text/plain": [
       "0.10303840417993985"
      ]
     },
     "execution_count": 14,
     "metadata": {},
     "output_type": "execute_result"
    }
   ],
   "source": [
    "mse ** 2"
   ]
  },
  {
   "cell_type": "code",
   "execution_count": 10,
   "metadata": {},
   "outputs": [
    {
     "name": "stdout",
     "output_type": "stream",
     "text": [
      "Fitting 3 folds for each of 216 candidates, totalling 648 fits\n"
     ]
    },
    {
     "ename": "KeyboardInterrupt",
     "evalue": "",
     "output_type": "error",
     "traceback": [
      "\u001b[1;31m---------------------------------------------------------------------------\u001b[0m",
      "\u001b[1;31mKeyboardInterrupt\u001b[0m                         Traceback (most recent call last)",
      "\u001b[1;32m<ipython-input-10-294558879b72>\u001b[0m in \u001b[0;36m<module>\u001b[1;34m\u001b[0m\n\u001b[0;32m     18\u001b[0m                           cv = 3, n_jobs = -1, verbose = 2, return_train_score=True)\n\u001b[0;32m     19\u001b[0m \u001b[1;31m# Fit the grid search to the data\u001b[0m\u001b[1;33m\u001b[0m\u001b[1;33m\u001b[0m\u001b[1;33m\u001b[0m\u001b[0m\n\u001b[1;32m---> 20\u001b[1;33m \u001b[0mgrid_search\u001b[0m\u001b[1;33m.\u001b[0m\u001b[0mfit\u001b[0m\u001b[1;33m(\u001b[0m\u001b[0mx_train\u001b[0m\u001b[1;33m,\u001b[0m \u001b[0my_train\u001b[0m\u001b[1;33m)\u001b[0m\u001b[1;33m;\u001b[0m\u001b[1;33m\u001b[0m\u001b[1;33m\u001b[0m\u001b[0m\n\u001b[0m",
      "\u001b[1;32mc:\\ProgramData\\Anaconda3\\lib\\site-packages\\sklearn\\utils\\validation.py\u001b[0m in \u001b[0;36minner_f\u001b[1;34m(*args, **kwargs)\u001b[0m\n\u001b[0;32m     61\u001b[0m             \u001b[0mextra_args\u001b[0m \u001b[1;33m=\u001b[0m \u001b[0mlen\u001b[0m\u001b[1;33m(\u001b[0m\u001b[0margs\u001b[0m\u001b[1;33m)\u001b[0m \u001b[1;33m-\u001b[0m \u001b[0mlen\u001b[0m\u001b[1;33m(\u001b[0m\u001b[0mall_args\u001b[0m\u001b[1;33m)\u001b[0m\u001b[1;33m\u001b[0m\u001b[1;33m\u001b[0m\u001b[0m\n\u001b[0;32m     62\u001b[0m             \u001b[1;32mif\u001b[0m \u001b[0mextra_args\u001b[0m \u001b[1;33m<=\u001b[0m \u001b[1;36m0\u001b[0m\u001b[1;33m:\u001b[0m\u001b[1;33m\u001b[0m\u001b[1;33m\u001b[0m\u001b[0m\n\u001b[1;32m---> 63\u001b[1;33m                 \u001b[1;32mreturn\u001b[0m \u001b[0mf\u001b[0m\u001b[1;33m(\u001b[0m\u001b[1;33m*\u001b[0m\u001b[0margs\u001b[0m\u001b[1;33m,\u001b[0m \u001b[1;33m**\u001b[0m\u001b[0mkwargs\u001b[0m\u001b[1;33m)\u001b[0m\u001b[1;33m\u001b[0m\u001b[1;33m\u001b[0m\u001b[0m\n\u001b[0m\u001b[0;32m     64\u001b[0m \u001b[1;33m\u001b[0m\u001b[0m\n\u001b[0;32m     65\u001b[0m             \u001b[1;31m# extra_args > 0\u001b[0m\u001b[1;33m\u001b[0m\u001b[1;33m\u001b[0m\u001b[1;33m\u001b[0m\u001b[0m\n",
      "\u001b[1;32mc:\\ProgramData\\Anaconda3\\lib\\site-packages\\sklearn\\model_selection\\_search.py\u001b[0m in \u001b[0;36mfit\u001b[1;34m(self, X, y, groups, **fit_params)\u001b[0m\n\u001b[0;32m    839\u001b[0m                 \u001b[1;32mreturn\u001b[0m \u001b[0mresults\u001b[0m\u001b[1;33m\u001b[0m\u001b[1;33m\u001b[0m\u001b[0m\n\u001b[0;32m    840\u001b[0m \u001b[1;33m\u001b[0m\u001b[0m\n\u001b[1;32m--> 841\u001b[1;33m             \u001b[0mself\u001b[0m\u001b[1;33m.\u001b[0m\u001b[0m_run_search\u001b[0m\u001b[1;33m(\u001b[0m\u001b[0mevaluate_candidates\u001b[0m\u001b[1;33m)\u001b[0m\u001b[1;33m\u001b[0m\u001b[1;33m\u001b[0m\u001b[0m\n\u001b[0m\u001b[0;32m    842\u001b[0m \u001b[1;33m\u001b[0m\u001b[0m\n\u001b[0;32m    843\u001b[0m             \u001b[1;31m# multimetric is determined here because in the case of a callable\u001b[0m\u001b[1;33m\u001b[0m\u001b[1;33m\u001b[0m\u001b[1;33m\u001b[0m\u001b[0m\n",
      "\u001b[1;32mc:\\ProgramData\\Anaconda3\\lib\\site-packages\\sklearn\\model_selection\\_search.py\u001b[0m in \u001b[0;36m_run_search\u001b[1;34m(self, evaluate_candidates)\u001b[0m\n\u001b[0;32m   1286\u001b[0m     \u001b[1;32mdef\u001b[0m \u001b[0m_run_search\u001b[0m\u001b[1;33m(\u001b[0m\u001b[0mself\u001b[0m\u001b[1;33m,\u001b[0m \u001b[0mevaluate_candidates\u001b[0m\u001b[1;33m)\u001b[0m\u001b[1;33m:\u001b[0m\u001b[1;33m\u001b[0m\u001b[1;33m\u001b[0m\u001b[0m\n\u001b[0;32m   1287\u001b[0m         \u001b[1;34m\"\"\"Search all candidates in param_grid\"\"\"\u001b[0m\u001b[1;33m\u001b[0m\u001b[1;33m\u001b[0m\u001b[0m\n\u001b[1;32m-> 1288\u001b[1;33m         \u001b[0mevaluate_candidates\u001b[0m\u001b[1;33m(\u001b[0m\u001b[0mParameterGrid\u001b[0m\u001b[1;33m(\u001b[0m\u001b[0mself\u001b[0m\u001b[1;33m.\u001b[0m\u001b[0mparam_grid\u001b[0m\u001b[1;33m)\u001b[0m\u001b[1;33m)\u001b[0m\u001b[1;33m\u001b[0m\u001b[1;33m\u001b[0m\u001b[0m\n\u001b[0m\u001b[0;32m   1289\u001b[0m \u001b[1;33m\u001b[0m\u001b[0m\n\u001b[0;32m   1290\u001b[0m \u001b[1;33m\u001b[0m\u001b[0m\n",
      "\u001b[1;32mc:\\ProgramData\\Anaconda3\\lib\\site-packages\\sklearn\\model_selection\\_search.py\u001b[0m in \u001b[0;36mevaluate_candidates\u001b[1;34m(candidate_params, cv, more_results)\u001b[0m\n\u001b[0;32m    793\u001b[0m                               n_splits, n_candidates, n_candidates * n_splits))\n\u001b[0;32m    794\u001b[0m \u001b[1;33m\u001b[0m\u001b[0m\n\u001b[1;32m--> 795\u001b[1;33m                 out = parallel(delayed(_fit_and_score)(clone(base_estimator),\n\u001b[0m\u001b[0;32m    796\u001b[0m                                                        \u001b[0mX\u001b[0m\u001b[1;33m,\u001b[0m \u001b[0my\u001b[0m\u001b[1;33m,\u001b[0m\u001b[1;33m\u001b[0m\u001b[1;33m\u001b[0m\u001b[0m\n\u001b[0;32m    797\u001b[0m                                                        \u001b[0mtrain\u001b[0m\u001b[1;33m=\u001b[0m\u001b[0mtrain\u001b[0m\u001b[1;33m,\u001b[0m \u001b[0mtest\u001b[0m\u001b[1;33m=\u001b[0m\u001b[0mtest\u001b[0m\u001b[1;33m,\u001b[0m\u001b[1;33m\u001b[0m\u001b[1;33m\u001b[0m\u001b[0m\n",
      "\u001b[1;32m~\\AppData\\Roaming\\Python\\Python38\\site-packages\\joblib\\parallel.py\u001b[0m in \u001b[0;36m__call__\u001b[1;34m(self, iterable)\u001b[0m\n\u001b[0;32m   1054\u001b[0m \u001b[1;33m\u001b[0m\u001b[0m\n\u001b[0;32m   1055\u001b[0m             \u001b[1;32mwith\u001b[0m \u001b[0mself\u001b[0m\u001b[1;33m.\u001b[0m\u001b[0m_backend\u001b[0m\u001b[1;33m.\u001b[0m\u001b[0mretrieval_context\u001b[0m\u001b[1;33m(\u001b[0m\u001b[1;33m)\u001b[0m\u001b[1;33m:\u001b[0m\u001b[1;33m\u001b[0m\u001b[1;33m\u001b[0m\u001b[0m\n\u001b[1;32m-> 1056\u001b[1;33m                 \u001b[0mself\u001b[0m\u001b[1;33m.\u001b[0m\u001b[0mretrieve\u001b[0m\u001b[1;33m(\u001b[0m\u001b[1;33m)\u001b[0m\u001b[1;33m\u001b[0m\u001b[1;33m\u001b[0m\u001b[0m\n\u001b[0m\u001b[0;32m   1057\u001b[0m             \u001b[1;31m# Make sure that we get a last message telling us we are done\u001b[0m\u001b[1;33m\u001b[0m\u001b[1;33m\u001b[0m\u001b[1;33m\u001b[0m\u001b[0m\n\u001b[0;32m   1058\u001b[0m             \u001b[0melapsed_time\u001b[0m \u001b[1;33m=\u001b[0m \u001b[0mtime\u001b[0m\u001b[1;33m.\u001b[0m\u001b[0mtime\u001b[0m\u001b[1;33m(\u001b[0m\u001b[1;33m)\u001b[0m \u001b[1;33m-\u001b[0m \u001b[0mself\u001b[0m\u001b[1;33m.\u001b[0m\u001b[0m_start_time\u001b[0m\u001b[1;33m\u001b[0m\u001b[1;33m\u001b[0m\u001b[0m\n",
      "\u001b[1;32m~\\AppData\\Roaming\\Python\\Python38\\site-packages\\joblib\\parallel.py\u001b[0m in \u001b[0;36mretrieve\u001b[1;34m(self)\u001b[0m\n\u001b[0;32m    933\u001b[0m             \u001b[1;32mtry\u001b[0m\u001b[1;33m:\u001b[0m\u001b[1;33m\u001b[0m\u001b[1;33m\u001b[0m\u001b[0m\n\u001b[0;32m    934\u001b[0m                 \u001b[1;32mif\u001b[0m \u001b[0mgetattr\u001b[0m\u001b[1;33m(\u001b[0m\u001b[0mself\u001b[0m\u001b[1;33m.\u001b[0m\u001b[0m_backend\u001b[0m\u001b[1;33m,\u001b[0m \u001b[1;34m'supports_timeout'\u001b[0m\u001b[1;33m,\u001b[0m \u001b[1;32mFalse\u001b[0m\u001b[1;33m)\u001b[0m\u001b[1;33m:\u001b[0m\u001b[1;33m\u001b[0m\u001b[1;33m\u001b[0m\u001b[0m\n\u001b[1;32m--> 935\u001b[1;33m                     \u001b[0mself\u001b[0m\u001b[1;33m.\u001b[0m\u001b[0m_output\u001b[0m\u001b[1;33m.\u001b[0m\u001b[0mextend\u001b[0m\u001b[1;33m(\u001b[0m\u001b[0mjob\u001b[0m\u001b[1;33m.\u001b[0m\u001b[0mget\u001b[0m\u001b[1;33m(\u001b[0m\u001b[0mtimeout\u001b[0m\u001b[1;33m=\u001b[0m\u001b[0mself\u001b[0m\u001b[1;33m.\u001b[0m\u001b[0mtimeout\u001b[0m\u001b[1;33m)\u001b[0m\u001b[1;33m)\u001b[0m\u001b[1;33m\u001b[0m\u001b[1;33m\u001b[0m\u001b[0m\n\u001b[0m\u001b[0;32m    936\u001b[0m                 \u001b[1;32melse\u001b[0m\u001b[1;33m:\u001b[0m\u001b[1;33m\u001b[0m\u001b[1;33m\u001b[0m\u001b[0m\n\u001b[0;32m    937\u001b[0m                     \u001b[0mself\u001b[0m\u001b[1;33m.\u001b[0m\u001b[0m_output\u001b[0m\u001b[1;33m.\u001b[0m\u001b[0mextend\u001b[0m\u001b[1;33m(\u001b[0m\u001b[0mjob\u001b[0m\u001b[1;33m.\u001b[0m\u001b[0mget\u001b[0m\u001b[1;33m(\u001b[0m\u001b[1;33m)\u001b[0m\u001b[1;33m)\u001b[0m\u001b[1;33m\u001b[0m\u001b[1;33m\u001b[0m\u001b[0m\n",
      "\u001b[1;32m~\\AppData\\Roaming\\Python\\Python38\\site-packages\\joblib\\_parallel_backends.py\u001b[0m in \u001b[0;36mwrap_future_result\u001b[1;34m(future, timeout)\u001b[0m\n\u001b[0;32m    540\u001b[0m         AsyncResults.get from multiprocessing.\"\"\"\n\u001b[0;32m    541\u001b[0m         \u001b[1;32mtry\u001b[0m\u001b[1;33m:\u001b[0m\u001b[1;33m\u001b[0m\u001b[1;33m\u001b[0m\u001b[0m\n\u001b[1;32m--> 542\u001b[1;33m             \u001b[1;32mreturn\u001b[0m \u001b[0mfuture\u001b[0m\u001b[1;33m.\u001b[0m\u001b[0mresult\u001b[0m\u001b[1;33m(\u001b[0m\u001b[0mtimeout\u001b[0m\u001b[1;33m=\u001b[0m\u001b[0mtimeout\u001b[0m\u001b[1;33m)\u001b[0m\u001b[1;33m\u001b[0m\u001b[1;33m\u001b[0m\u001b[0m\n\u001b[0m\u001b[0;32m    543\u001b[0m         \u001b[1;32mexcept\u001b[0m \u001b[0mCfTimeoutError\u001b[0m \u001b[1;32mas\u001b[0m \u001b[0me\u001b[0m\u001b[1;33m:\u001b[0m\u001b[1;33m\u001b[0m\u001b[1;33m\u001b[0m\u001b[0m\n\u001b[0;32m    544\u001b[0m             \u001b[1;32mraise\u001b[0m \u001b[0mTimeoutError\u001b[0m \u001b[1;32mfrom\u001b[0m \u001b[0me\u001b[0m\u001b[1;33m\u001b[0m\u001b[1;33m\u001b[0m\u001b[0m\n",
      "\u001b[1;32mc:\\ProgramData\\Anaconda3\\lib\\concurrent\\futures\\_base.py\u001b[0m in \u001b[0;36mresult\u001b[1;34m(self, timeout)\u001b[0m\n\u001b[0;32m    432\u001b[0m                 \u001b[1;32mreturn\u001b[0m \u001b[0mself\u001b[0m\u001b[1;33m.\u001b[0m\u001b[0m__get_result\u001b[0m\u001b[1;33m(\u001b[0m\u001b[1;33m)\u001b[0m\u001b[1;33m\u001b[0m\u001b[1;33m\u001b[0m\u001b[0m\n\u001b[0;32m    433\u001b[0m \u001b[1;33m\u001b[0m\u001b[0m\n\u001b[1;32m--> 434\u001b[1;33m             \u001b[0mself\u001b[0m\u001b[1;33m.\u001b[0m\u001b[0m_condition\u001b[0m\u001b[1;33m.\u001b[0m\u001b[0mwait\u001b[0m\u001b[1;33m(\u001b[0m\u001b[0mtimeout\u001b[0m\u001b[1;33m)\u001b[0m\u001b[1;33m\u001b[0m\u001b[1;33m\u001b[0m\u001b[0m\n\u001b[0m\u001b[0;32m    435\u001b[0m \u001b[1;33m\u001b[0m\u001b[0m\n\u001b[0;32m    436\u001b[0m             \u001b[1;32mif\u001b[0m \u001b[0mself\u001b[0m\u001b[1;33m.\u001b[0m\u001b[0m_state\u001b[0m \u001b[1;32min\u001b[0m \u001b[1;33m[\u001b[0m\u001b[0mCANCELLED\u001b[0m\u001b[1;33m,\u001b[0m \u001b[0mCANCELLED_AND_NOTIFIED\u001b[0m\u001b[1;33m]\u001b[0m\u001b[1;33m:\u001b[0m\u001b[1;33m\u001b[0m\u001b[1;33m\u001b[0m\u001b[0m\n",
      "\u001b[1;32mc:\\ProgramData\\Anaconda3\\lib\\threading.py\u001b[0m in \u001b[0;36mwait\u001b[1;34m(self, timeout)\u001b[0m\n\u001b[0;32m    300\u001b[0m         \u001b[1;32mtry\u001b[0m\u001b[1;33m:\u001b[0m    \u001b[1;31m# restore state no matter what (e.g., KeyboardInterrupt)\u001b[0m\u001b[1;33m\u001b[0m\u001b[1;33m\u001b[0m\u001b[0m\n\u001b[0;32m    301\u001b[0m             \u001b[1;32mif\u001b[0m \u001b[0mtimeout\u001b[0m \u001b[1;32mis\u001b[0m \u001b[1;32mNone\u001b[0m\u001b[1;33m:\u001b[0m\u001b[1;33m\u001b[0m\u001b[1;33m\u001b[0m\u001b[0m\n\u001b[1;32m--> 302\u001b[1;33m                 \u001b[0mwaiter\u001b[0m\u001b[1;33m.\u001b[0m\u001b[0macquire\u001b[0m\u001b[1;33m(\u001b[0m\u001b[1;33m)\u001b[0m\u001b[1;33m\u001b[0m\u001b[1;33m\u001b[0m\u001b[0m\n\u001b[0m\u001b[0;32m    303\u001b[0m                 \u001b[0mgotit\u001b[0m \u001b[1;33m=\u001b[0m \u001b[1;32mTrue\u001b[0m\u001b[1;33m\u001b[0m\u001b[1;33m\u001b[0m\u001b[0m\n\u001b[0;32m    304\u001b[0m             \u001b[1;32melse\u001b[0m\u001b[1;33m:\u001b[0m\u001b[1;33m\u001b[0m\u001b[1;33m\u001b[0m\u001b[0m\n",
      "\u001b[1;31mKeyboardInterrupt\u001b[0m: "
     ]
    }
   ],
   "source": [
    "from sklearn.model_selection import GridSearchCV\n",
    "\n",
    "# Create the parameter grid based on the results of random search \n",
    "param_grid = {\n",
    "    'bootstrap': [True],\n",
    "    'max_depth': [80, 90, 100, 110],\n",
    "    'max_features': [2, 3],\n",
    "    'min_samples_leaf': [3, 4, 5],\n",
    "    'min_samples_split': [8, 10, 12],\n",
    "    'n_estimators': [100, 200, 300]\n",
    "}\n",
    "\n",
    "# Create a base model\n",
    "rf = RandomForestRegressor(random_state = 42)\n",
    "\n",
    "# Instantiate the grid search model\n",
    "grid_search = GridSearchCV(estimator = rf, param_grid = param_grid, \n",
    "                          cv = 3, n_jobs = -1, verbose = 2, return_train_score=True)\n",
    "# Fit the grid search to the data\n",
    "grid_search.fit(x_train, y_train);"
   ]
  },
  {
   "cell_type": "code",
   "execution_count": 4,
   "metadata": {},
   "outputs": [
    {
     "name": "stdout",
     "output_type": "stream",
     "text": [
      "0.9210267973887352 0.4505179446609472\n"
     ]
    }
   ],
   "source": [
    "\n",
    "from sklearn.tree import plot_tree, export_text\n",
    "base_model = RandomForestRegressor(random_state=42, n_jobs=-1).fit(x_train, y_train)\n",
    "base_train_acc= base_model.score(x_train, y_train)\n",
    "base_test_acc = base_model.score(x_test, y_test)\n",
    "print(base_train_acc, base_test_acc)"
   ]
  },
  {
   "cell_type": "code",
   "execution_count": 5,
   "metadata": {},
   "outputs": [],
   "source": [
    "def test_params(**params):\n",
    "    model = RandomForestRegressor(random_state=42, n_jobs=-1, **params).fit(x_train, y_train)\n",
    "    return model.score(x_train, y_train), model.score(x_test, y_test)\n",
    "def test_params_plot(param_name, param_values):\n",
    "    train_acc, test_acc= [], []\n",
    "    for value in param_values:\n",
    "        params = {param_name: value}\n",
    "        train, test = test_params(**params)\n",
    "        train_acc.append(train)\n",
    "        test_acc.append(test)\n",
    "    plt.figure(figsize=(10, 5))\n",
    "    plt.title('overfitting curve', param_name)\n",
    "    plt.plot(param_values, train_acc, label='train')\n",
    "    plt.plot(param_values, test_acc, label='test')\n",
    "    plt.xlabel(param_name)\n",
    "    plt.ylabel('accuracy')\n",
    "    plt.legend(['training', 'testing'])"
   ]
  },
  {
   "cell_type": "code",
   "execution_count": 8,
   "metadata": {},
   "outputs": [
    {
     "data": {
      "text/plain": [
       "(0.1932586297152873, 0.10040366330689976)"
      ]
     },
     "execution_count": 8,
     "metadata": {},
     "output_type": "execute_result"
    }
   ],
   "source": [
    "\n"
   ]
  },
  {
   "cell_type": "code",
   "execution_count": null,
   "metadata": {},
   "outputs": [],
   "source": []
  },
  {
   "cell_type": "code",
   "execution_count": 665,
   "metadata": {},
   "outputs": [],
   "source": [
    "from sklearn.model_selection import RandomizedSearchCV\n",
    "# Number of trees in random forest\n",
    "n_estimators = [int(x) for x in np.linspace(start = 200, stop = 2000, num = 10)]\n",
    "# Number of features to consider at every split\n",
    "max_features = ['auto', 'sqrt']\n",
    "# Maximum number of levels in tree\n",
    "max_depth = [int(x) for x in np.linspace(10, 110, num = 11)]\n",
    "max_depth.append(None)\n",
    "# Minimum number of samples required to split a node\n",
    "min_samples_split = [2, 5, 10]\n",
    "# Minimum number of samples required at each leaf node\n",
    "min_samples_leaf = [1, 2, 4]\n",
    "# Method of selecting samples for training each tree\n",
    "bootstrap = [True, False]\n",
    "# Create the random grid\n",
    "random_grid = {'n_estimators': n_estimators,\n",
    "               'max_features': max_features,\n",
    "               'max_depth': max_depth,\n",
    "               'min_samples_split': min_samples_split,\n",
    "               'min_samples_leaf': min_samples_leaf,\n",
    "               'bootstrap': bootstrap}"
   ]
  },
  {
   "cell_type": "code",
   "execution_count": 666,
   "metadata": {},
   "outputs": [
    {
     "name": "stdout",
     "output_type": "stream",
     "text": [
      "Fitting 3 folds for each of 100 candidates, totalling 300 fits\n"
     ]
    },
    {
     "ename": "KeyboardInterrupt",
     "evalue": "",
     "output_type": "error",
     "traceback": [
      "\u001b[1;31m---------------------------------------------------------------------------\u001b[0m",
      "\u001b[1;31mKeyboardInterrupt\u001b[0m                         Traceback (most recent call last)",
      "\u001b[1;32m<ipython-input-666-9bb204f12f72>\u001b[0m in \u001b[0;36m<module>\u001b[1;34m\u001b[0m\n\u001b[0;32m      6\u001b[0m \u001b[0mrf_random\u001b[0m \u001b[1;33m=\u001b[0m \u001b[0mRandomizedSearchCV\u001b[0m\u001b[1;33m(\u001b[0m\u001b[0mestimator\u001b[0m \u001b[1;33m=\u001b[0m \u001b[0mrf\u001b[0m\u001b[1;33m,\u001b[0m \u001b[0mparam_distributions\u001b[0m \u001b[1;33m=\u001b[0m \u001b[0mrandom_grid\u001b[0m\u001b[1;33m,\u001b[0m \u001b[0mn_iter\u001b[0m \u001b[1;33m=\u001b[0m \u001b[1;36m100\u001b[0m\u001b[1;33m,\u001b[0m \u001b[0mcv\u001b[0m \u001b[1;33m=\u001b[0m \u001b[1;36m3\u001b[0m\u001b[1;33m,\u001b[0m \u001b[0mverbose\u001b[0m\u001b[1;33m=\u001b[0m\u001b[1;36m2\u001b[0m\u001b[1;33m,\u001b[0m \u001b[0mrandom_state\u001b[0m\u001b[1;33m=\u001b[0m\u001b[1;36m42\u001b[0m\u001b[1;33m,\u001b[0m \u001b[0mn_jobs\u001b[0m \u001b[1;33m=\u001b[0m \u001b[1;33m-\u001b[0m\u001b[1;36m1\u001b[0m\u001b[1;33m)\u001b[0m\u001b[1;33m\u001b[0m\u001b[1;33m\u001b[0m\u001b[0m\n\u001b[0;32m      7\u001b[0m \u001b[1;31m# Fit the random search model\u001b[0m\u001b[1;33m\u001b[0m\u001b[1;33m\u001b[0m\u001b[1;33m\u001b[0m\u001b[0m\n\u001b[1;32m----> 8\u001b[1;33m \u001b[0mrf_random\u001b[0m\u001b[1;33m.\u001b[0m\u001b[0mfit\u001b[0m\u001b[1;33m(\u001b[0m\u001b[0mx\u001b[0m\u001b[1;33m,\u001b[0m \u001b[0my\u001b[0m\u001b[1;33m)\u001b[0m\u001b[1;33m\u001b[0m\u001b[1;33m\u001b[0m\u001b[0m\n\u001b[0m",
      "\u001b[1;32mc:\\ProgramData\\Anaconda3\\lib\\site-packages\\sklearn\\utils\\validation.py\u001b[0m in \u001b[0;36minner_f\u001b[1;34m(*args, **kwargs)\u001b[0m\n\u001b[0;32m     61\u001b[0m             \u001b[0mextra_args\u001b[0m \u001b[1;33m=\u001b[0m \u001b[0mlen\u001b[0m\u001b[1;33m(\u001b[0m\u001b[0margs\u001b[0m\u001b[1;33m)\u001b[0m \u001b[1;33m-\u001b[0m \u001b[0mlen\u001b[0m\u001b[1;33m(\u001b[0m\u001b[0mall_args\u001b[0m\u001b[1;33m)\u001b[0m\u001b[1;33m\u001b[0m\u001b[1;33m\u001b[0m\u001b[0m\n\u001b[0;32m     62\u001b[0m             \u001b[1;32mif\u001b[0m \u001b[0mextra_args\u001b[0m \u001b[1;33m<=\u001b[0m \u001b[1;36m0\u001b[0m\u001b[1;33m:\u001b[0m\u001b[1;33m\u001b[0m\u001b[1;33m\u001b[0m\u001b[0m\n\u001b[1;32m---> 63\u001b[1;33m                 \u001b[1;32mreturn\u001b[0m \u001b[0mf\u001b[0m\u001b[1;33m(\u001b[0m\u001b[1;33m*\u001b[0m\u001b[0margs\u001b[0m\u001b[1;33m,\u001b[0m \u001b[1;33m**\u001b[0m\u001b[0mkwargs\u001b[0m\u001b[1;33m)\u001b[0m\u001b[1;33m\u001b[0m\u001b[1;33m\u001b[0m\u001b[0m\n\u001b[0m\u001b[0;32m     64\u001b[0m \u001b[1;33m\u001b[0m\u001b[0m\n\u001b[0;32m     65\u001b[0m             \u001b[1;31m# extra_args > 0\u001b[0m\u001b[1;33m\u001b[0m\u001b[1;33m\u001b[0m\u001b[1;33m\u001b[0m\u001b[0m\n",
      "\u001b[1;32mc:\\ProgramData\\Anaconda3\\lib\\site-packages\\sklearn\\model_selection\\_search.py\u001b[0m in \u001b[0;36mfit\u001b[1;34m(self, X, y, groups, **fit_params)\u001b[0m\n\u001b[0;32m    839\u001b[0m                 \u001b[1;32mreturn\u001b[0m \u001b[0mresults\u001b[0m\u001b[1;33m\u001b[0m\u001b[1;33m\u001b[0m\u001b[0m\n\u001b[0;32m    840\u001b[0m \u001b[1;33m\u001b[0m\u001b[0m\n\u001b[1;32m--> 841\u001b[1;33m             \u001b[0mself\u001b[0m\u001b[1;33m.\u001b[0m\u001b[0m_run_search\u001b[0m\u001b[1;33m(\u001b[0m\u001b[0mevaluate_candidates\u001b[0m\u001b[1;33m)\u001b[0m\u001b[1;33m\u001b[0m\u001b[1;33m\u001b[0m\u001b[0m\n\u001b[0m\u001b[0;32m    842\u001b[0m \u001b[1;33m\u001b[0m\u001b[0m\n\u001b[0;32m    843\u001b[0m             \u001b[1;31m# multimetric is determined here because in the case of a callable\u001b[0m\u001b[1;33m\u001b[0m\u001b[1;33m\u001b[0m\u001b[1;33m\u001b[0m\u001b[0m\n",
      "\u001b[1;32mc:\\ProgramData\\Anaconda3\\lib\\site-packages\\sklearn\\model_selection\\_search.py\u001b[0m in \u001b[0;36m_run_search\u001b[1;34m(self, evaluate_candidates)\u001b[0m\n\u001b[0;32m   1617\u001b[0m     \u001b[1;32mdef\u001b[0m \u001b[0m_run_search\u001b[0m\u001b[1;33m(\u001b[0m\u001b[0mself\u001b[0m\u001b[1;33m,\u001b[0m \u001b[0mevaluate_candidates\u001b[0m\u001b[1;33m)\u001b[0m\u001b[1;33m:\u001b[0m\u001b[1;33m\u001b[0m\u001b[1;33m\u001b[0m\u001b[0m\n\u001b[0;32m   1618\u001b[0m         \u001b[1;34m\"\"\"Search n_iter candidates from param_distributions\"\"\"\u001b[0m\u001b[1;33m\u001b[0m\u001b[1;33m\u001b[0m\u001b[0m\n\u001b[1;32m-> 1619\u001b[1;33m         evaluate_candidates(ParameterSampler(\n\u001b[0m\u001b[0;32m   1620\u001b[0m             \u001b[0mself\u001b[0m\u001b[1;33m.\u001b[0m\u001b[0mparam_distributions\u001b[0m\u001b[1;33m,\u001b[0m \u001b[0mself\u001b[0m\u001b[1;33m.\u001b[0m\u001b[0mn_iter\u001b[0m\u001b[1;33m,\u001b[0m\u001b[1;33m\u001b[0m\u001b[1;33m\u001b[0m\u001b[0m\n\u001b[0;32m   1621\u001b[0m             random_state=self.random_state))\n",
      "\u001b[1;32mc:\\ProgramData\\Anaconda3\\lib\\site-packages\\sklearn\\model_selection\\_search.py\u001b[0m in \u001b[0;36mevaluate_candidates\u001b[1;34m(candidate_params, cv, more_results)\u001b[0m\n\u001b[0;32m    793\u001b[0m                               n_splits, n_candidates, n_candidates * n_splits))\n\u001b[0;32m    794\u001b[0m \u001b[1;33m\u001b[0m\u001b[0m\n\u001b[1;32m--> 795\u001b[1;33m                 out = parallel(delayed(_fit_and_score)(clone(base_estimator),\n\u001b[0m\u001b[0;32m    796\u001b[0m                                                        \u001b[0mX\u001b[0m\u001b[1;33m,\u001b[0m \u001b[0my\u001b[0m\u001b[1;33m,\u001b[0m\u001b[1;33m\u001b[0m\u001b[1;33m\u001b[0m\u001b[0m\n\u001b[0;32m    797\u001b[0m                                                        \u001b[0mtrain\u001b[0m\u001b[1;33m=\u001b[0m\u001b[0mtrain\u001b[0m\u001b[1;33m,\u001b[0m \u001b[0mtest\u001b[0m\u001b[1;33m=\u001b[0m\u001b[0mtest\u001b[0m\u001b[1;33m,\u001b[0m\u001b[1;33m\u001b[0m\u001b[1;33m\u001b[0m\u001b[0m\n",
      "\u001b[1;32m~\\AppData\\Roaming\\Python\\Python38\\site-packages\\joblib\\parallel.py\u001b[0m in \u001b[0;36m__call__\u001b[1;34m(self, iterable)\u001b[0m\n\u001b[0;32m   1054\u001b[0m \u001b[1;33m\u001b[0m\u001b[0m\n\u001b[0;32m   1055\u001b[0m             \u001b[1;32mwith\u001b[0m \u001b[0mself\u001b[0m\u001b[1;33m.\u001b[0m\u001b[0m_backend\u001b[0m\u001b[1;33m.\u001b[0m\u001b[0mretrieval_context\u001b[0m\u001b[1;33m(\u001b[0m\u001b[1;33m)\u001b[0m\u001b[1;33m:\u001b[0m\u001b[1;33m\u001b[0m\u001b[1;33m\u001b[0m\u001b[0m\n\u001b[1;32m-> 1056\u001b[1;33m                 \u001b[0mself\u001b[0m\u001b[1;33m.\u001b[0m\u001b[0mretrieve\u001b[0m\u001b[1;33m(\u001b[0m\u001b[1;33m)\u001b[0m\u001b[1;33m\u001b[0m\u001b[1;33m\u001b[0m\u001b[0m\n\u001b[0m\u001b[0;32m   1057\u001b[0m             \u001b[1;31m# Make sure that we get a last message telling us we are done\u001b[0m\u001b[1;33m\u001b[0m\u001b[1;33m\u001b[0m\u001b[1;33m\u001b[0m\u001b[0m\n\u001b[0;32m   1058\u001b[0m             \u001b[0melapsed_time\u001b[0m \u001b[1;33m=\u001b[0m \u001b[0mtime\u001b[0m\u001b[1;33m.\u001b[0m\u001b[0mtime\u001b[0m\u001b[1;33m(\u001b[0m\u001b[1;33m)\u001b[0m \u001b[1;33m-\u001b[0m \u001b[0mself\u001b[0m\u001b[1;33m.\u001b[0m\u001b[0m_start_time\u001b[0m\u001b[1;33m\u001b[0m\u001b[1;33m\u001b[0m\u001b[0m\n",
      "\u001b[1;32m~\\AppData\\Roaming\\Python\\Python38\\site-packages\\joblib\\parallel.py\u001b[0m in \u001b[0;36mretrieve\u001b[1;34m(self)\u001b[0m\n\u001b[0;32m    933\u001b[0m             \u001b[1;32mtry\u001b[0m\u001b[1;33m:\u001b[0m\u001b[1;33m\u001b[0m\u001b[1;33m\u001b[0m\u001b[0m\n\u001b[0;32m    934\u001b[0m                 \u001b[1;32mif\u001b[0m \u001b[0mgetattr\u001b[0m\u001b[1;33m(\u001b[0m\u001b[0mself\u001b[0m\u001b[1;33m.\u001b[0m\u001b[0m_backend\u001b[0m\u001b[1;33m,\u001b[0m \u001b[1;34m'supports_timeout'\u001b[0m\u001b[1;33m,\u001b[0m \u001b[1;32mFalse\u001b[0m\u001b[1;33m)\u001b[0m\u001b[1;33m:\u001b[0m\u001b[1;33m\u001b[0m\u001b[1;33m\u001b[0m\u001b[0m\n\u001b[1;32m--> 935\u001b[1;33m                     \u001b[0mself\u001b[0m\u001b[1;33m.\u001b[0m\u001b[0m_output\u001b[0m\u001b[1;33m.\u001b[0m\u001b[0mextend\u001b[0m\u001b[1;33m(\u001b[0m\u001b[0mjob\u001b[0m\u001b[1;33m.\u001b[0m\u001b[0mget\u001b[0m\u001b[1;33m(\u001b[0m\u001b[0mtimeout\u001b[0m\u001b[1;33m=\u001b[0m\u001b[0mself\u001b[0m\u001b[1;33m.\u001b[0m\u001b[0mtimeout\u001b[0m\u001b[1;33m)\u001b[0m\u001b[1;33m)\u001b[0m\u001b[1;33m\u001b[0m\u001b[1;33m\u001b[0m\u001b[0m\n\u001b[0m\u001b[0;32m    936\u001b[0m                 \u001b[1;32melse\u001b[0m\u001b[1;33m:\u001b[0m\u001b[1;33m\u001b[0m\u001b[1;33m\u001b[0m\u001b[0m\n\u001b[0;32m    937\u001b[0m                     \u001b[0mself\u001b[0m\u001b[1;33m.\u001b[0m\u001b[0m_output\u001b[0m\u001b[1;33m.\u001b[0m\u001b[0mextend\u001b[0m\u001b[1;33m(\u001b[0m\u001b[0mjob\u001b[0m\u001b[1;33m.\u001b[0m\u001b[0mget\u001b[0m\u001b[1;33m(\u001b[0m\u001b[1;33m)\u001b[0m\u001b[1;33m)\u001b[0m\u001b[1;33m\u001b[0m\u001b[1;33m\u001b[0m\u001b[0m\n",
      "\u001b[1;32m~\\AppData\\Roaming\\Python\\Python38\\site-packages\\joblib\\_parallel_backends.py\u001b[0m in \u001b[0;36mwrap_future_result\u001b[1;34m(future, timeout)\u001b[0m\n\u001b[0;32m    540\u001b[0m         AsyncResults.get from multiprocessing.\"\"\"\n\u001b[0;32m    541\u001b[0m         \u001b[1;32mtry\u001b[0m\u001b[1;33m:\u001b[0m\u001b[1;33m\u001b[0m\u001b[1;33m\u001b[0m\u001b[0m\n\u001b[1;32m--> 542\u001b[1;33m             \u001b[1;32mreturn\u001b[0m \u001b[0mfuture\u001b[0m\u001b[1;33m.\u001b[0m\u001b[0mresult\u001b[0m\u001b[1;33m(\u001b[0m\u001b[0mtimeout\u001b[0m\u001b[1;33m=\u001b[0m\u001b[0mtimeout\u001b[0m\u001b[1;33m)\u001b[0m\u001b[1;33m\u001b[0m\u001b[1;33m\u001b[0m\u001b[0m\n\u001b[0m\u001b[0;32m    543\u001b[0m         \u001b[1;32mexcept\u001b[0m \u001b[0mCfTimeoutError\u001b[0m \u001b[1;32mas\u001b[0m \u001b[0me\u001b[0m\u001b[1;33m:\u001b[0m\u001b[1;33m\u001b[0m\u001b[1;33m\u001b[0m\u001b[0m\n\u001b[0;32m    544\u001b[0m             \u001b[1;32mraise\u001b[0m \u001b[0mTimeoutError\u001b[0m \u001b[1;32mfrom\u001b[0m \u001b[0me\u001b[0m\u001b[1;33m\u001b[0m\u001b[1;33m\u001b[0m\u001b[0m\n",
      "\u001b[1;32mc:\\ProgramData\\Anaconda3\\lib\\concurrent\\futures\\_base.py\u001b[0m in \u001b[0;36mresult\u001b[1;34m(self, timeout)\u001b[0m\n\u001b[0;32m    432\u001b[0m                 \u001b[1;32mreturn\u001b[0m \u001b[0mself\u001b[0m\u001b[1;33m.\u001b[0m\u001b[0m__get_result\u001b[0m\u001b[1;33m(\u001b[0m\u001b[1;33m)\u001b[0m\u001b[1;33m\u001b[0m\u001b[1;33m\u001b[0m\u001b[0m\n\u001b[0;32m    433\u001b[0m \u001b[1;33m\u001b[0m\u001b[0m\n\u001b[1;32m--> 434\u001b[1;33m             \u001b[0mself\u001b[0m\u001b[1;33m.\u001b[0m\u001b[0m_condition\u001b[0m\u001b[1;33m.\u001b[0m\u001b[0mwait\u001b[0m\u001b[1;33m(\u001b[0m\u001b[0mtimeout\u001b[0m\u001b[1;33m)\u001b[0m\u001b[1;33m\u001b[0m\u001b[1;33m\u001b[0m\u001b[0m\n\u001b[0m\u001b[0;32m    435\u001b[0m \u001b[1;33m\u001b[0m\u001b[0m\n\u001b[0;32m    436\u001b[0m             \u001b[1;32mif\u001b[0m \u001b[0mself\u001b[0m\u001b[1;33m.\u001b[0m\u001b[0m_state\u001b[0m \u001b[1;32min\u001b[0m \u001b[1;33m[\u001b[0m\u001b[0mCANCELLED\u001b[0m\u001b[1;33m,\u001b[0m \u001b[0mCANCELLED_AND_NOTIFIED\u001b[0m\u001b[1;33m]\u001b[0m\u001b[1;33m:\u001b[0m\u001b[1;33m\u001b[0m\u001b[1;33m\u001b[0m\u001b[0m\n",
      "\u001b[1;32mc:\\ProgramData\\Anaconda3\\lib\\threading.py\u001b[0m in \u001b[0;36mwait\u001b[1;34m(self, timeout)\u001b[0m\n\u001b[0;32m    300\u001b[0m         \u001b[1;32mtry\u001b[0m\u001b[1;33m:\u001b[0m    \u001b[1;31m# restore state no matter what (e.g., KeyboardInterrupt)\u001b[0m\u001b[1;33m\u001b[0m\u001b[1;33m\u001b[0m\u001b[0m\n\u001b[0;32m    301\u001b[0m             \u001b[1;32mif\u001b[0m \u001b[0mtimeout\u001b[0m \u001b[1;32mis\u001b[0m \u001b[1;32mNone\u001b[0m\u001b[1;33m:\u001b[0m\u001b[1;33m\u001b[0m\u001b[1;33m\u001b[0m\u001b[0m\n\u001b[1;32m--> 302\u001b[1;33m                 \u001b[0mwaiter\u001b[0m\u001b[1;33m.\u001b[0m\u001b[0macquire\u001b[0m\u001b[1;33m(\u001b[0m\u001b[1;33m)\u001b[0m\u001b[1;33m\u001b[0m\u001b[1;33m\u001b[0m\u001b[0m\n\u001b[0m\u001b[0;32m    303\u001b[0m                 \u001b[0mgotit\u001b[0m \u001b[1;33m=\u001b[0m \u001b[1;32mTrue\u001b[0m\u001b[1;33m\u001b[0m\u001b[1;33m\u001b[0m\u001b[0m\n\u001b[0;32m    304\u001b[0m             \u001b[1;32melse\u001b[0m\u001b[1;33m:\u001b[0m\u001b[1;33m\u001b[0m\u001b[1;33m\u001b[0m\u001b[0m\n",
      "\u001b[1;31mKeyboardInterrupt\u001b[0m: "
     ]
    }
   ],
   "source": [
    "# Use the random grid to search for best hyperparameters\n",
    "# First create the base model to tune\n",
    "rf = RandomForestRegressor()\n",
    "# Random search of parameters, using 3 fold cross validation, \n",
    "# search across 100 different combinations, and use all available cores\n",
    "rf_random = RandomizedSearchCV(estimator = rf, param_distributions = random_grid, n_iter = 100, cv = 3, verbose=2, random_state=42, n_jobs = -1)\n",
    "# Fit the random search model\n",
    "rf_random.fit(x, y)"
   ]
  },
  {
   "cell_type": "code",
   "execution_count": null,
   "metadata": {},
   "outputs": [],
   "source": [
    "rf_random.best_params_"
   ]
  },
  {
   "cell_type": "code",
   "execution_count": null,
   "metadata": {},
   "outputs": [],
   "source": []
  },
  {
   "cell_type": "code",
   "execution_count": null,
   "metadata": {},
   "outputs": [],
   "source": []
  },
  {
   "cell_type": "code",
   "execution_count": null,
   "metadata": {},
   "outputs": [],
   "source": []
  },
  {
   "cell_type": "code",
   "execution_count": null,
   "metadata": {},
   "outputs": [],
   "source": []
  },
  {
   "cell_type": "code",
   "execution_count": 595,
   "metadata": {},
   "outputs": [],
   "source": [
    "### Anova test\n",
    "DFbetween =  data.groups.nunique() - 1\n",
    "DFwithin = len(data) - data.groups.nunique()\n",
    "DFtotal = len(data) - 1\n",
    "SSbetween = (sum(data.groupby('group').sum()['weight']**2)/data.groups.nunique())  - (data['weight'].sum()**2)/len(data)\n",
    "\n",
    "\n",
    "SSbetween = (sum(data.groupby('groups').sum()['target']**2)) - (data['groups'].sum()**2)\n",
    "sum_y_squared = sum([value**2 for value in data['weight'].values])\n",
    "SSwithin = sum_y_squared - sum(data.groupby('group').sum()['weight']**2)\n",
    "SStotal = sum_y_squared - (data['weight'].sum()**2)\n",
    "MSbetween = SSbetween/DFbetween\n",
    "MSwithin = SSwithin/DFwithin"
   ]
  },
  {
   "cell_type": "code",
   "execution_count": 501,
   "metadata": {},
   "outputs": [
    {
     "ename": "KeyError",
     "evalue": "'expected_final_factor_x'",
     "output_type": "error",
     "traceback": [
      "\u001b[1;31m---------------------------------------------------------------------------\u001b[0m",
      "\u001b[1;31mKeyError\u001b[0m                                  Traceback (most recent call last)",
      "\u001b[1;32m<ipython-input-501-2f5e3aa2a9b7>\u001b[0m in \u001b[0;36m<module>\u001b[1;34m\u001b[0m\n\u001b[0;32m     35\u001b[0m     \u001b[1;31m### add the selected var to the selected_corr_list\u001b[0m\u001b[1;33m\u001b[0m\u001b[1;33m\u001b[0m\u001b[1;33m\u001b[0m\u001b[0m\n\u001b[0;32m     36\u001b[0m     \u001b[0mselected_corr_list\u001b[0m\u001b[1;33m.\u001b[0m\u001b[0mappend\u001b[0m\u001b[1;33m(\u001b[0m\u001b[0meach_corr_name\u001b[0m\u001b[1;33m)\u001b[0m\u001b[1;33m\u001b[0m\u001b[1;33m\u001b[0m\u001b[0m\n\u001b[1;32m---> 37\u001b[1;33m     \u001b[1;32mfor\u001b[0m \u001b[0meach_remove\u001b[0m \u001b[1;32min\u001b[0m \u001b[0mcopy_pair\u001b[0m\u001b[1;33m[\u001b[0m\u001b[0meach_corr_name\u001b[0m\u001b[1;33m]\u001b[0m\u001b[1;33m:\u001b[0m\u001b[1;33m\u001b[0m\u001b[1;33m\u001b[0m\u001b[0m\n\u001b[0m\u001b[0;32m     38\u001b[0m         \u001b[1;31m#### Now remove each variable that is highly correlated to the selected variable\u001b[0m\u001b[1;33m\u001b[0m\u001b[1;33m\u001b[0m\u001b[1;33m\u001b[0m\u001b[0m\n\u001b[0;32m     39\u001b[0m         \u001b[1;32mif\u001b[0m \u001b[0meach_remove\u001b[0m \u001b[1;32min\u001b[0m \u001b[0mcopy_sorted\u001b[0m\u001b[1;33m:\u001b[0m\u001b[1;33m\u001b[0m\u001b[1;33m\u001b[0m\u001b[0m\n",
      "\u001b[1;31mKeyError\u001b[0m: 'expected_final_factor_x'"
     ]
    }
   ],
   "source": [
    "# example of mutual information feature selection for numerical input data\n",
    "from sklearn.datasets import make_regression\n",
    "from sklearn.model_selection import train_test_split\n",
    "from sklearn.feature_selection import SelectKBest\n",
    "from sklearn.feature_selection import mutual_info_regression\n",
    "import copy\n",
    "numvars = config['continous_col_feature_selection']\n",
    "correlation_dataframe = df[config['continous_col_feature_selection']].corr().abs().unstack().sort_values().drop_duplicates()\n",
    "corrdf = pd.DataFrame(correlation_dataframe[:].reset_index())\n",
    "corrdf.columns = ['var1','var2','coeff']\n",
    "corrdf1 = corrdf[corrdf['coeff']>=0.70]\n",
    "corrdf1 = corrdf1[corrdf1['var1'] != corrdf1['var2']]\n",
    "correlated_pair = list(zip(corrdf1['var1'].values.tolist(),corrdf1['var2'].values.tolist()))\n",
    "corr_pair_dict = dict(return_dictionary_list(correlated_pair))\n",
    "corr_list = find_remove_duplicates(corrdf1['var1'].values.tolist()+corrdf1['var2'].values.tolist())\n",
    "keys_in_dict = list(corr_pair_dict.keys())\n",
    "reverse_correlated_pair = [(y,x) for (x,y) in correlated_pair]\n",
    "reverse_corr_pair_dict = dict(return_dictionary_list(reverse_correlated_pair))\n",
    "max_feats = len(corr_list)\n",
    "sel_function = mutual_info_regression\n",
    "fs = SelectKBest(score_func=sel_function, k=max_feats)\n",
    "fs.fit(df[corr_list], df['target'])\n",
    "mutual_info = dict(zip(corr_list,fs.scores_))\n",
    "#### The first variable in list has the highest correlation to the target variable ###\n",
    "sorted_by_mutual_info =[key for (key,val) in sorted(mutual_info.items(), key=lambda kv: kv[1],reverse=True)]\n",
    "#####   Now we select the final list of correlated variables ###########\n",
    "selected_corr_list = []\n",
    "#### You have to make multiple copies of this sorted list since it is iterated many times ####\n",
    "\n",
    "orig_sorted = copy.deepcopy(sorted_by_mutual_info)\n",
    "copy_sorted = copy.deepcopy(sorted_by_mutual_info)\n",
    "copy_pair = copy.deepcopy(corr_pair_dict)\n",
    "#### select each variable by the highest mutual info and see what vars are correlated to it\n",
    "for each_corr_name in copy_sorted:\n",
    "    ### add the selected var to the selected_corr_list\n",
    "    selected_corr_list.append(each_corr_name)\n",
    "    for each_remove in copy_pair[each_corr_name]:\n",
    "        #### Now remove each variable that is highly correlated to the selected variable\n",
    "        if each_remove in copy_sorted:\n",
    "            copy_sorted.remove(each_remove)\n",
    "##### Now we combine the uncorrelated list to the selected correlated list above\n",
    "rem_col_list = left_subtract(numvars,corr_list)\n",
    "final_list = rem_col_list + selected_corr_list\n",
    "removed_cols = left_subtract(numvars, final_list)"
   ]
  },
  {
   "cell_type": "code",
   "execution_count": 502,
   "metadata": {},
   "outputs": [
    {
     "data": {
      "text/plain": [
       "{'final_factor_x': 0.007590176417766159,\n",
       " 'expected_final_factor_x': 0.007958343897398912}"
      ]
     },
     "execution_count": 502,
     "metadata": {},
     "output_type": "execute_result"
    }
   ],
   "source": [
    "mutual_info"
   ]
  },
  {
   "cell_type": "code",
   "execution_count": 494,
   "metadata": {},
   "outputs": [
    {
     "data": {
      "text/plain": [
       "{'previous_factor_x': ['first_factor_x'],\n",
       " 'final_factor_x': ['expected_final_factor_x']}"
      ]
     },
     "execution_count": 494,
     "metadata": {},
     "output_type": "execute_result"
    }
   ],
   "source": [
    "reverse_corr_pair_dict"
   ]
  },
  {
   "cell_type": "code",
   "execution_count": 471,
   "metadata": {},
   "outputs": [],
   "source": [
    "from sklearn.datasets import make_regression\n",
    "from sklearn.model_selection import train_test_split\n",
    "from sklearn.feature_selection import SelectKBest\n",
    "from sklearn.feature_selection import mutual_info_regression\n",
    "import copy\n",
    "# numvars =config['continous_col_feature_selection']\n",
    "correlation_dataframe = df[config['continous_col_feature_selection']].corr().abs().unstack().sort_values().drop_duplicates()\n",
    "corrdf = pd.DataFrame(correlation_dataframe[:].reset_index())\n",
    "corrdf.columns = ['var1','var2','coeff']\n",
    "corrdf1 = corrdf[corrdf['coeff']>=0.70]\n",
    "corrdf1 = corrdf1[corrdf1['var1'] != corrdf1['var2']]\n",
    "corr_var =  corrdf1['var1'].tolist()\n",
    "corr_var.extend(corrdf1['var2'].tolist())\n"
   ]
  },
  {
   "cell_type": "code",
   "execution_count": 469,
   "metadata": {},
   "outputs": [],
   "source": [
    "corr = df[config['continous_col_feature_selection']].corr()\n",
    "corr = corr.abs().unstack().sort_values(kind=\"quicksort\").reset_index()\n",
    "corr.columns = ['feature1', 'feature2', 'corr_value']\n",
    "corr = corr[corr['feature1'] != corr['feature2']]\n",
    "corr = corr[corr['corr_value'] > 0.9]\n"
   ]
  },
  {
   "cell_type": "code",
   "execution_count": 456,
   "metadata": {},
   "outputs": [],
   "source": [
    "mi = mutual_info_regression(df[config['continous_col_feature_selection']],df['target'])\n",
    "# mutual_info = dict(zip(config['continous_col_feature_selection'], mi.scores_))\n",
    "# mutual_info = pd.DataFrame(mutual_info.items(), columns=['feature', 'score'])\n",
    "\n",
    "\n",
    "mi = pd.Series(mi,index=config['continous_col_feature_selection'])\n",
    "\n",
    "mi.sort_values(ascending=False, inplace=True)"
   ]
  },
  {
   "cell_type": "code",
   "execution_count": 449,
   "metadata": {},
   "outputs": [],
   "source": [
    "max_feats  = len(list(np.unique(var1)))\n",
    "fs = SelectKBest(score_func=mutual_info_regression, k=max_feats)\n",
    "rt =fs.fit(df[list(np.unique(var1))], df['target'])\n",
    "mutual_info = dict(zip(var1, rt.scores_))\n",
    "mutual_info = pd.DataFrame(mutual_info.items(), columns=['feature', 'score'])\n",
    "# sorted_by_mutual_info =[key for (key,val) in sorted(mutual_info.items(), key=lambda kv: kv[1],reverse=True)]\n",
    "# sorted_by_mutual_info"
   ]
  },
  {
   "cell_type": "code",
   "execution_count": 444,
   "metadata": {},
   "outputs": [
    {
     "data": {
      "text/plain": [
       "['TE_groups_Categorify',\n",
       " 'TE_crystal_type_Categorify',\n",
       " 'CE_TE_groups_Categorify',\n",
       " 'TE_place_Categorify',\n",
       " 'tracking',\n",
       " 'TE_cycle_Categorify',\n",
       " 'TE_unnamed_7_Categorify',\n",
       " 'CE_TE_crystal_type_Categorify',\n",
       " 'CE_TE_place_Categorify',\n",
       " 'final_factor_x',\n",
       " 'argon',\n",
       " 'chemical_x',\n",
       " 'expected_final_factor_x',\n",
       " 'CE_TE_cycle_Categorify',\n",
       " 'etherium_before_start']"
      ]
     },
     "execution_count": 444,
     "metadata": {},
     "output_type": "execute_result"
    }
   ],
   "source": [
    "from sklearn.feature_selection import f_regression\n",
    "# assigning f and p values to 2 separate arrays\n",
    "f_val, p_val = f_regression(df[config['continous_col_feature_selection']],df['target'])\n",
    "\n",
    "# creating a dictionary from the arrays\n",
    "feature_dict={'features':df[config['continous_col_feature_selection']].columns.tolist(),\n",
    "              'f_score':f_val.tolist()}\n",
    "\n",
    "# creating a sorted dataframe from the dictionary\n",
    "# feature_df = pd.DataFrame(feature_dict).sort_values(by='f_scores', ascending=False).reset_index(drop=True)\n",
    "\n",
    "# # printing 25 features with the highest scores\n",
    "# feature_df.iloc[:25,:]['columns'].tolist()\n",
    "f_.iloc[:15,:]['features'].tolist()"
   ]
  },
  {
   "cell_type": "code",
   "execution_count": 386,
   "metadata": {},
   "outputs": [],
   "source": [
    "f_ = pd.DataFrame(feature_dict).sort_values(by='f_score', ascending=False).reset_index(drop=True)"
   ]
  },
  {
   "cell_type": "code",
   "execution_count": null,
   "metadata": {},
   "outputs": [],
   "source": []
  },
  {
   "cell_type": "code",
   "execution_count": 230,
   "metadata": {},
   "outputs": [],
   "source": [
    "# select continous  columns from the dataframe\n",
    "continuous_cols = df.select_dtypes(include=['float64', 'int64']).columns\n",
    "# select categorical columns from the dataframe\n",
    "categorical_cols = df.select_dtypes(include=['object']).columns"
   ]
  },
  {
   "cell_type": "code",
   "execution_count": null,
   "metadata": {},
   "outputs": [],
   "source": []
  },
  {
   "cell_type": "code",
   "execution_count": 231,
   "metadata": {},
   "outputs": [],
   "source": [
    "from sklearn.feature_selection import SelectKBest, chi2\n",
    "X = df[config['continous_col_feature_selection']]\n",
    "y = df['target']"
   ]
  },
  {
   "cell_type": "code",
   "execution_count": 232,
   "metadata": {},
   "outputs": [],
   "source": [
    "X = df[config['cat_cols_feature_selection']]\n",
    "y = df['target']"
   ]
  },
  {
   "cell_type": "code",
   "execution_count": 233,
   "metadata": {},
   "outputs": [],
   "source": [
    "# df[config['cat_cols']] = df[config['cat_cols']].astype('int', errors='ignore')\n",
    "X = df[config['required_columns']]\n",
    "y = df['target']"
   ]
  },
  {
   "cell_type": "code",
   "execution_count": 261,
   "metadata": {},
   "outputs": [],
   "source": [
    "x = df[config['continous_col_feature_selection']]\n",
    "# .drop('target', axis=1)\n"
   ]
  },
  {
   "cell_type": "code",
   "execution_count": 264,
   "metadata": {},
   "outputs": [
    {
     "data": {
      "text/plain": [
       "(8045, 32)"
      ]
     },
     "execution_count": 264,
     "metadata": {},
     "output_type": "execute_result"
    }
   ],
   "source": [
    "x.shape"
   ]
  },
  {
   "cell_type": "code",
   "execution_count": 267,
   "metadata": {},
   "outputs": [],
   "source": [
    "from sklearn.feature_selection import VarianceThreshold\n",
    "var_selector=VarianceThreshold(threshold=0.25)\n",
    "df_var = var_selector.fit_transform(x)"
   ]
  },
  {
   "cell_type": "code",
   "execution_count": 268,
   "metadata": {},
   "outputs": [
    {
     "data": {
      "text/plain": [
       "array([ True,  True,  True, False,  True,  True,  True,  True,  True,\n",
       "        True,  True,  True,  True,  True,  True,  True,  True,  True,\n",
       "        True,  True,  True,  True,  True,  True,  True,  True,  True,\n",
       "        True,  True,  True,  True,  True])"
      ]
     },
     "execution_count": 268,
     "metadata": {},
     "output_type": "execute_result"
    }
   ],
   "source": [
    "var_selector.get_support()"
   ]
  },
  {
   "cell_type": "code",
   "execution_count": 259,
   "metadata": {},
   "outputs": [
    {
     "data": {
      "text/plain": [
       "array([[ 8.        ,  2.        ,  2.        , ..., -0.75924161,\n",
       "         0.2282117 ,  0.5909816 ],\n",
       "       [ 8.        ,  3.        ,  2.        , ...,  0.20902723,\n",
       "        -0.21017843,  0.31702847],\n",
       "       [ 8.        ,  2.        ,  2.        , ...,  0.16679251,\n",
       "         0.87854094,  0.89351714],\n",
       "       ...,\n",
       "       [ 2.        ,  2.        ,  2.        , ..., -0.63526695,\n",
       "         0.54503794,  0.93838062],\n",
       "       [ 5.        ,  2.        ,  2.        , ..., -0.74719526,\n",
       "         0.53559639,  0.93256561],\n",
       "       [ 5.        ,  2.        ,  2.        , ..., -0.75572168,\n",
       "         0.21917725,  0.66588405]])"
      ]
     },
     "execution_count": 259,
     "metadata": {},
     "output_type": "execute_result"
    }
   ],
   "source": [
    "from sklearn.feature_selection import VarianceThreshold\n",
    "X = [[0, 2, 0, 3], [0, 1, 4, 3], [0, 1, 1, 3]]\n",
    "selector = VarianceThreshold()\n",
    "selector.fit_transform(x)"
   ]
  },
  {
   "cell_type": "code",
   "execution_count": 260,
   "metadata": {},
   "outputs": [
    {
     "data": {
      "text/plain": [
       "array([ True,  True,  True,  True,  True,  True,  True,  True,  True,\n",
       "        True,  True,  True,  True,  True,  True,  True,  True,  True,\n",
       "        True,  True,  True,  True,  True,  True,  True,  True,  True,\n",
       "       False,  True,  True,  True,  True,  True,  True,  True,  True,\n",
       "        True,  True,  True,  True,  True,  True,  True,  True,  True,\n",
       "        True,  True,  True,  True,  True,  True,  True,  True,  True,\n",
       "        True,  True,  True,  True,  True,  True,  True,  True,  True,\n",
       "        True,  True,  True])"
      ]
     },
     "execution_count": 260,
     "metadata": {},
     "output_type": "execute_result"
    }
   ],
   "source": [
    "selector.get_support()"
   ]
  },
  {
   "cell_type": "code",
   "execution_count": 280,
   "metadata": {},
   "outputs": [
    {
     "data": {
      "text/plain": [
       "0      -0.275883\n",
       "1      -0.047189\n",
       "2      -0.257194\n",
       "3      -0.034829\n",
       "4      -0.238916\n",
       "          ...   \n",
       "8040    0.730836\n",
       "8041    0.754163\n",
       "8042    0.777534\n",
       "8043    0.802206\n",
       "8044    0.825277\n",
       "Name: target, Length: 8045, dtype: float64"
      ]
     },
     "execution_count": 280,
     "metadata": {},
     "output_type": "execute_result"
    }
   ],
   "source": [
    "df.target"
   ]
  },
  {
   "cell_type": "code",
   "execution_count": 290,
   "metadata": {},
   "outputs": [],
   "source": [
    "X = df[config['required_columns']]\n",
    "y = df['target']"
   ]
  },
  {
   "cell_type": "code",
   "execution_count": 296,
   "metadata": {},
   "outputs": [],
   "source": [
    "X = df[config['required_columns']]\n",
    "y = df['target']\n",
    "model = DecisionTreeRegressor()\n",
    "rfe = RFECV(estimator=model, step=10, cv=5)\n",
    "rfe_fit = rfe.fit(X,y)\n",
    "rfe_dict =dict(zip(np.array(X.columns),rfe_fit.ranking_))\n",
    "rfe_dict = {k: v for k, v in sorted(rfe_dict.items(), key=lambda item: item[1])}\n",
    "col_names = [k for k, v in rfe_dict.items() if v == 1]"
   ]
  },
  {
   "cell_type": "code",
   "execution_count": 298,
   "metadata": {},
   "outputs": [
    {
     "data": {
      "text/plain": [
       "['groups',\n",
       " 'TE_crystal_type_Categorify',\n",
       " 'TE_groups_Categorify',\n",
       " 'tracking',\n",
       " 'etherium_before_start',\n",
       " 'argon']"
      ]
     },
     "execution_count": 298,
     "metadata": {},
     "output_type": "execute_result"
    }
   ],
   "source": [
    "col_names"
   ]
  },
  {
   "cell_type": "code",
   "execution_count": 301,
   "metadata": {},
   "outputs": [
    {
     "name": "stdout",
     "output_type": "stream",
     "text": [
      "['TE_groups_Categorify']\n"
     ]
    }
   ],
   "source": [
    "X = df[config['required_columns']]\n",
    "y = df['target']\n",
    "from sklearn import linear_model\n",
    "from sklearn.feature_selection import RFECV\n",
    "from sklearn.datasets import make_classification\n",
    "from sklearn.feature_selection import RFE\n",
    "from sklearn.tree import DecisionTreeRegressor\n",
    "from sklearn.ensemble import RandomForestRegressor\n",
    "\n",
    "# initiating a linear DecisionTreeRegressor\n",
    "model = DecisionTreeRegressor()\n",
    "\n",
    "# feeding the model to RFECV\n",
    "rfe = RFECV(estimator=model, step=5, cv=5)\n",
    "\n",
    "# fitting to the trained rfe model\n",
    "rfe_fit = rfe.fit(X,y)\n",
    "\n",
    "# zipping the column names and their rankings according to RFECV\n",
    "rfe_dict = dict(zip(np.array(X.columns),rfe_fit.ranking_))\n",
    "\n",
    "# picking the features ranked 1st in the above dictionary\n",
    "selected = {}\n",
    "for key, value in rfe_dict.items():\n",
    "  if value==1:\n",
    "    selected[key]=value\n",
    "print(list(selected.keys()))"
   ]
  },
  {
   "cell_type": "code",
   "execution_count": 237,
   "metadata": {},
   "outputs": [],
   "source": [
    "y = df['target']\n"
   ]
  },
  {
   "cell_type": "code",
   "execution_count": 332,
   "metadata": {},
   "outputs": [
    {
     "data": {
      "text/plain": [
       "Index(['groups_Categorify', 'groups', 'unnamed_7',\n",
       "       'TE_crystal_type_Categorify', 'TE_unnamed_7_Categorify',\n",
       "       'TE_groups_Categorify', 'CE_TE_super_hero_group_Categorify',\n",
       "       'CE_TE_place_Categorify', 'CE_TE_tracking_times_Categorify',\n",
       "       'CE_TE_crystal_supergroup_Categorify', 'CE_TE_crystal_type_Categorify',\n",
       "       'CE_TE_human_behavior_report_Categorify', 'CE_TE_cycle_Categorify',\n",
       "       'CE_TE_groups_Categorify', 'tracking', 'final_factor_x', 'chemical_x',\n",
       "       'argon'],\n",
       "      dtype='object')"
      ]
     },
     "execution_count": 332,
     "metadata": {},
     "output_type": "execute_result"
    }
   ],
   "source": [
    "\n",
    "lasso = Lasso(alpha=0.01)\n",
    "lasso.fit(X, y)\n",
    "col_names = X.columns[lasso.coef_ != 0]\n",
    "col_names"
   ]
  },
  {
   "cell_type": "code",
   "execution_count": 334,
   "metadata": {},
   "outputs": [
    {
     "ename": "AttributeError",
     "evalue": "'function' object has no attribute 'best_estimator'",
     "output_type": "error",
     "traceback": [
      "\u001b[1;31m---------------------------------------------------------------------------\u001b[0m",
      "\u001b[1;31mAttributeError\u001b[0m                            Traceback (most recent call last)",
      "\u001b[1;32m<ipython-input-334-2e66d0009208>\u001b[0m in \u001b[0;36m<module>\u001b[1;34m\u001b[0m\n\u001b[1;32m----> 1\u001b[1;33m \u001b[0mlasso\u001b[0m\u001b[1;33m.\u001b[0m\u001b[0mfit\u001b[0m\u001b[1;33m.\u001b[0m\u001b[0mbest_estimator\u001b[0m\u001b[1;33m.\u001b[0m\u001b[0mcoef_\u001b[0m\u001b[1;33m\u001b[0m\u001b[1;33m\u001b[0m\u001b[0m\n\u001b[0m",
      "\u001b[1;31mAttributeError\u001b[0m: 'function' object has no attribute 'best_estimator'"
     ]
    }
   ],
   "source": [
    "lasso."
   ]
  },
  {
   "cell_type": "code",
   "execution_count": 333,
   "metadata": {},
   "outputs": [
    {
     "ename": "AttributeError",
     "evalue": "'Lasso' object has no attribute 'best_estimator_'",
     "output_type": "error",
     "traceback": [
      "\u001b[1;31m---------------------------------------------------------------------------\u001b[0m",
      "\u001b[1;31mAttributeError\u001b[0m                            Traceback (most recent call last)",
      "\u001b[1;32m<ipython-input-333-ae4807fa6380>\u001b[0m in \u001b[0;36m<module>\u001b[1;34m\u001b[0m\n\u001b[1;32m----> 1\u001b[1;33m coefs = pd.DataFrame({'variable':x.columns,'coef':lasso.best_estimator_.named_steps['model'].coef_,\n\u001b[0m\u001b[0;32m      2\u001b[0m                             'abs_coef':np.abs(lasso.best_estimator_.named_steps['model'].coef_)})\n\u001b[0;32m      3\u001b[0m \u001b[1;33m\u001b[0m\u001b[0m\n\u001b[0;32m      4\u001b[0m \u001b[1;31m# sorting based on the absolute of the coefficients\u001b[0m\u001b[1;33m\u001b[0m\u001b[1;33m\u001b[0m\u001b[1;33m\u001b[0m\u001b[0m\n\u001b[0;32m      5\u001b[0m \u001b[0mcoefs\u001b[0m\u001b[1;33m.\u001b[0m\u001b[0msort_values\u001b[0m\u001b[1;33m(\u001b[0m\u001b[1;34m'abs_coef'\u001b[0m\u001b[1;33m,\u001b[0m \u001b[0minplace\u001b[0m\u001b[1;33m=\u001b[0m\u001b[1;32mTrue\u001b[0m\u001b[1;33m,\u001b[0m \u001b[0mascending\u001b[0m\u001b[1;33m=\u001b[0m\u001b[1;32mFalse\u001b[0m\u001b[1;33m)\u001b[0m\u001b[1;33m\u001b[0m\u001b[1;33m\u001b[0m\u001b[0m\n",
      "\u001b[1;31mAttributeError\u001b[0m: 'Lasso' object has no attribute 'best_estimator_'"
     ]
    }
   ],
   "source": [
    "coefs = pd.DataFrame({'variable':x.columns,'coef':lasso.fit.best_estimator_.named_steps['model'].coef_,\n",
    "                            'abs_coef':np.abs(lasso.best_estimator_.named_steps['model'].coef_)})\n",
    "\n",
    "# sorting based on the absolute of the coefficients\n",
    "coefs.sort_values('abs_coef', inplace=True, ascending=False)"
   ]
  },
  {
   "cell_type": "code",
   "execution_count": 327,
   "metadata": {},
   "outputs": [
    {
     "name": "stdout",
     "output_type": "stream",
     "text": [
      "MAE: -0.53840\n",
      "Config: {'alpha': 0.0005}\n"
     ]
    }
   ],
   "source": [
    "from sklearn.model_selection import RepeatedKFold\n",
    "cv = RepeatedKFold(n_splits = 10, n_repeats=3, random_state=1)\n",
    "lasso_alphas = np.linspace(0, 0.01, 21)\n",
    "lasso = Lasso()\n",
    "grid = dict()\n",
    "grid['alpha'] = lasso_alphas\n",
    "gscv = GridSearchCV( \\\n",
    "    lasso, grid, scoring='neg_mean_absolute_error', \\\n",
    "    cv=cv, n_jobs=-1)\n",
    "results = gscv.fit(X, y)\n",
    "print('MAE: %.5f' % results.best_score_)\n",
    "print('Config: %s' % results.best_params_)"
   ]
  },
  {
   "cell_type": "code",
   "execution_count": 328,
   "metadata": {},
   "outputs": [
    {
     "data": {
      "text/plain": [
       "Lasso(alpha=0.0005)"
      ]
     },
     "execution_count": 328,
     "metadata": {},
     "output_type": "execute_result"
    }
   ],
   "source": [
    "results.best_estimator_"
   ]
  },
  {
   "cell_type": "code",
   "execution_count": 322,
   "metadata": {},
   "outputs": [
    {
     "ename": "AttributeError",
     "evalue": "'Lasso' object has no attribute 'named_steps'",
     "output_type": "error",
     "traceback": [
      "\u001b[1;31m---------------------------------------------------------------------------\u001b[0m",
      "\u001b[1;31mAttributeError\u001b[0m                            Traceback (most recent call last)",
      "\u001b[1;32m<ipython-input-322-075cd17e8968>\u001b[0m in \u001b[0;36m<module>\u001b[1;34m\u001b[0m\n\u001b[1;32m----> 1\u001b[1;33m coefs = pd.DataFrame({'variable':x.columns,'coef':gscv.best_estimator_.named_steps['model'].coef_,\n\u001b[0m\u001b[0;32m      2\u001b[0m                             'abs_coef':np.abs(gscv.best_estimator_.named_steps['model'].coef_)})\n\u001b[0;32m      3\u001b[0m \u001b[1;33m\u001b[0m\u001b[0m\n\u001b[0;32m      4\u001b[0m \u001b[1;31m# sorting based on the absolute of the coefficients\u001b[0m\u001b[1;33m\u001b[0m\u001b[1;33m\u001b[0m\u001b[1;33m\u001b[0m\u001b[0m\n\u001b[0;32m      5\u001b[0m \u001b[0mcoefs\u001b[0m\u001b[1;33m.\u001b[0m\u001b[0msort_values\u001b[0m\u001b[1;33m(\u001b[0m\u001b[1;34m'abs_coef'\u001b[0m\u001b[1;33m,\u001b[0m \u001b[0minplace\u001b[0m\u001b[1;33m=\u001b[0m\u001b[1;32mTrue\u001b[0m\u001b[1;33m,\u001b[0m \u001b[0mascending\u001b[0m\u001b[1;33m=\u001b[0m\u001b[1;32mFalse\u001b[0m\u001b[1;33m)\u001b[0m\u001b[1;33m\u001b[0m\u001b[1;33m\u001b[0m\u001b[0m\n",
      "\u001b[1;31mAttributeError\u001b[0m: 'Lasso' object has no attribute 'named_steps'"
     ]
    }
   ],
   "source": [
    "coefs = pd.DataFrame({'variable':x.columns,'coef':gscv.best_estimator_.named_steps['model'].coef_,\n",
    "                            'abs_coef':np.abs(gscv.best_estimator_.named_steps['model'].coef_)})\n",
    "\n",
    "# sorting based on the absolute of the coefficients\n",
    "coefs.sort_values('abs_coef', inplace=True, ascending=False)"
   ]
  },
  {
   "cell_type": "code",
   "execution_count": 321,
   "metadata": {},
   "outputs": [
    {
     "name": "stderr",
     "output_type": "stream",
     "text": [
      "c:\\ProgramData\\Anaconda3\\lib\\site-packages\\sklearn\\utils\\validation.py:70: FutureWarning: Pass memory=Lasso() as keyword args. From version 1.0 (renaming of 0.25) passing these as positional arguments will result in an error\n",
      "  warnings.warn(f\"Pass {args_msg} as keyword args. From version \"\n"
     ]
    },
    {
     "ename": "ValueError",
     "evalue": "not enough values to unpack (expected 2, got 1)",
     "output_type": "error",
     "traceback": [
      "\u001b[1;31m---------------------------------------------------------------------------\u001b[0m",
      "\u001b[1;31mValueError\u001b[0m                                Traceback (most recent call last)",
      "\u001b[1;32m<ipython-input-321-a7a22a61858c>\u001b[0m in \u001b[0;36m<module>\u001b[1;34m\u001b[0m\n\u001b[0;32m      5\u001b[0m \u001b[1;32mfrom\u001b[0m \u001b[0msklearn\u001b[0m\u001b[1;33m.\u001b[0m\u001b[0mmodel_selection\u001b[0m \u001b[1;32mimport\u001b[0m \u001b[0mGridSearchCV\u001b[0m\u001b[1;33m\u001b[0m\u001b[1;33m\u001b[0m\u001b[0m\n\u001b[0;32m      6\u001b[0m \u001b[1;31m# creating a pipeline to scale and model\u001b[0m\u001b[1;33m\u001b[0m\u001b[1;33m\u001b[0m\u001b[1;33m\u001b[0m\u001b[0m\n\u001b[1;32m----> 7\u001b[1;33m \u001b[0mpipeline\u001b[0m \u001b[1;33m=\u001b[0m \u001b[0mPipeline\u001b[0m\u001b[1;33m(\u001b[0m\u001b[1;34m'model'\u001b[0m\u001b[1;33m,\u001b[0m\u001b[0mLasso\u001b[0m\u001b[1;33m(\u001b[0m\u001b[1;33m)\u001b[0m\u001b[1;33m)\u001b[0m\u001b[1;33m\u001b[0m\u001b[1;33m\u001b[0m\u001b[0m\n\u001b[0m\u001b[0;32m      8\u001b[0m \u001b[1;31m# gridsearch over the pipeline to find the best alpha for lasso\u001b[0m\u001b[1;33m\u001b[0m\u001b[1;33m\u001b[0m\u001b[1;33m\u001b[0m\u001b[0m\n\u001b[0;32m      9\u001b[0m \u001b[1;31m# scoring is picked as mean squared error\u001b[0m\u001b[1;33m\u001b[0m\u001b[1;33m\u001b[0m\u001b[1;33m\u001b[0m\u001b[0m\n",
      "\u001b[1;32mc:\\ProgramData\\Anaconda3\\lib\\site-packages\\sklearn\\utils\\validation.py\u001b[0m in \u001b[0;36minner_f\u001b[1;34m(*args, **kwargs)\u001b[0m\n\u001b[0;32m     72\u001b[0m                           \"will result in an error\", FutureWarning)\n\u001b[0;32m     73\u001b[0m             \u001b[0mkwargs\u001b[0m\u001b[1;33m.\u001b[0m\u001b[0mupdate\u001b[0m\u001b[1;33m(\u001b[0m\u001b[0mzip\u001b[0m\u001b[1;33m(\u001b[0m\u001b[0msig\u001b[0m\u001b[1;33m.\u001b[0m\u001b[0mparameters\u001b[0m\u001b[1;33m,\u001b[0m \u001b[0margs\u001b[0m\u001b[1;33m)\u001b[0m\u001b[1;33m)\u001b[0m\u001b[1;33m\u001b[0m\u001b[1;33m\u001b[0m\u001b[0m\n\u001b[1;32m---> 74\u001b[1;33m             \u001b[1;32mreturn\u001b[0m \u001b[0mf\u001b[0m\u001b[1;33m(\u001b[0m\u001b[1;33m**\u001b[0m\u001b[0mkwargs\u001b[0m\u001b[1;33m)\u001b[0m\u001b[1;33m\u001b[0m\u001b[1;33m\u001b[0m\u001b[0m\n\u001b[0m\u001b[0;32m     75\u001b[0m         \u001b[1;32mreturn\u001b[0m \u001b[0minner_f\u001b[0m\u001b[1;33m\u001b[0m\u001b[1;33m\u001b[0m\u001b[0m\n\u001b[0;32m     76\u001b[0m \u001b[1;33m\u001b[0m\u001b[0m\n",
      "\u001b[1;32mc:\\ProgramData\\Anaconda3\\lib\\site-packages\\sklearn\\pipeline.py\u001b[0m in \u001b[0;36m__init__\u001b[1;34m(self, steps, memory, verbose)\u001b[0m\n\u001b[0;32m    116\u001b[0m         \u001b[0mself\u001b[0m\u001b[1;33m.\u001b[0m\u001b[0mmemory\u001b[0m \u001b[1;33m=\u001b[0m \u001b[0mmemory\u001b[0m\u001b[1;33m\u001b[0m\u001b[1;33m\u001b[0m\u001b[0m\n\u001b[0;32m    117\u001b[0m         \u001b[0mself\u001b[0m\u001b[1;33m.\u001b[0m\u001b[0mverbose\u001b[0m \u001b[1;33m=\u001b[0m \u001b[0mverbose\u001b[0m\u001b[1;33m\u001b[0m\u001b[1;33m\u001b[0m\u001b[0m\n\u001b[1;32m--> 118\u001b[1;33m         \u001b[0mself\u001b[0m\u001b[1;33m.\u001b[0m\u001b[0m_validate_steps\u001b[0m\u001b[1;33m(\u001b[0m\u001b[1;33m)\u001b[0m\u001b[1;33m\u001b[0m\u001b[1;33m\u001b[0m\u001b[0m\n\u001b[0m\u001b[0;32m    119\u001b[0m \u001b[1;33m\u001b[0m\u001b[0m\n\u001b[0;32m    120\u001b[0m     \u001b[1;32mdef\u001b[0m \u001b[0mget_params\u001b[0m\u001b[1;33m(\u001b[0m\u001b[0mself\u001b[0m\u001b[1;33m,\u001b[0m \u001b[0mdeep\u001b[0m\u001b[1;33m=\u001b[0m\u001b[1;32mTrue\u001b[0m\u001b[1;33m)\u001b[0m\u001b[1;33m:\u001b[0m\u001b[1;33m\u001b[0m\u001b[1;33m\u001b[0m\u001b[0m\n",
      "\u001b[1;32mc:\\ProgramData\\Anaconda3\\lib\\site-packages\\sklearn\\pipeline.py\u001b[0m in \u001b[0;36m_validate_steps\u001b[1;34m(self)\u001b[0m\n\u001b[0;32m    152\u001b[0m \u001b[1;33m\u001b[0m\u001b[0m\n\u001b[0;32m    153\u001b[0m     \u001b[1;32mdef\u001b[0m \u001b[0m_validate_steps\u001b[0m\u001b[1;33m(\u001b[0m\u001b[0mself\u001b[0m\u001b[1;33m)\u001b[0m\u001b[1;33m:\u001b[0m\u001b[1;33m\u001b[0m\u001b[1;33m\u001b[0m\u001b[0m\n\u001b[1;32m--> 154\u001b[1;33m         \u001b[0mnames\u001b[0m\u001b[1;33m,\u001b[0m \u001b[0mestimators\u001b[0m \u001b[1;33m=\u001b[0m \u001b[0mzip\u001b[0m\u001b[1;33m(\u001b[0m\u001b[1;33m*\u001b[0m\u001b[0mself\u001b[0m\u001b[1;33m.\u001b[0m\u001b[0msteps\u001b[0m\u001b[1;33m)\u001b[0m\u001b[1;33m\u001b[0m\u001b[1;33m\u001b[0m\u001b[0m\n\u001b[0m\u001b[0;32m    155\u001b[0m \u001b[1;33m\u001b[0m\u001b[0m\n\u001b[0;32m    156\u001b[0m         \u001b[1;31m# validate names\u001b[0m\u001b[1;33m\u001b[0m\u001b[1;33m\u001b[0m\u001b[1;33m\u001b[0m\u001b[0m\n",
      "\u001b[1;31mValueError\u001b[0m: not enough values to unpack (expected 2, got 1)"
     ]
    }
   ],
   "source": [
    "from sklearn.linear_model import Lasso\n",
    "from sklearn.preprocessing import StandardScaler\n",
    "from sklearn.feature_selection import SelectFromModel\n",
    "from sklearn.pipeline import Pipeline\n",
    "from sklearn.model_selection import GridSearchCV\n",
    "# creating a pipeline to scale and model\n",
    "pipeline = Pipeline('model',Lasso())\n",
    "# gridsearch over the pipeline to find the best alpha for lasso\n",
    "# scoring is picked as mean squared error\n",
    "# lasso = Lasso(alpha=0.01)\n",
    "lassocv = GridSearchCV(lasso,\n",
    "                      {'model__alpha':np.arange(0.1,10,0.2)},\n",
    "                      cv = 5, scoring=\"neg_root_mean_squared_error\"\n",
    "                      )\n",
    "# fitting to the model\n",
    "lassocv.fit(x,y)\n",
    "\n",
    "# dataframe of variables, coefficients and absolute coefficients \n",
    "coefs = pd.DataFrame({'variable':x.columns,'coef':lassocv.best_estimator_.named_steps['model'].coef_,\n",
    "                            'abs_coef':np.abs(lassocv.best_estimator_.named_steps['model'].coef_)})\n",
    "\n",
    "# sorting based on the absolute of the coefficients\n",
    "coefs.sort_values('abs_coef', inplace=True, ascending=False)"
   ]
  },
  {
   "cell_type": "code",
   "execution_count": 304,
   "metadata": {},
   "outputs": [],
   "source": [
    "coefs.to_clipboard()"
   ]
  },
  {
   "cell_type": "code",
   "execution_count": 198,
   "metadata": {},
   "outputs": [
    {
     "name": "stdout",
     "output_type": "stream",
     "text": [
      "Column: 0, Selected False, Rank: 60.000\n",
      "Column: 1, Selected False, Rank: 59.000\n",
      "Column: 2, Selected False, Rank: 58.000\n",
      "Column: 3, Selected False, Rank: 57.000\n",
      "Column: 4, Selected False, Rank: 56.000\n",
      "Column: 5, Selected False, Rank: 52.000\n",
      "Column: 6, Selected False, Rank: 51.000\n",
      "Column: 7, Selected False, Rank: 49.000\n",
      "Column: 8, Selected False, Rank: 48.000\n",
      "Column: 9, Selected False, Rank: 47.000\n",
      "Column: 10, Selected False, Rank: 45.000\n",
      "Column: 11, Selected False, Rank: 43.000\n",
      "Column: 12, Selected False, Rank: 42.000\n",
      "Column: 13, Selected False, Rank: 41.000\n",
      "Column: 14, Selected False, Rank: 40.000\n",
      "Column: 15, Selected False, Rank: 39.000\n",
      "Column: 16, Selected False, Rank: 38.000\n",
      "Column: 17, Selected False, Rank: 37.000\n",
      "Column: 18, Selected False, Rank: 36.000\n",
      "Column: 19, Selected False, Rank: 35.000\n",
      "Column: 20, Selected False, Rank: 34.000\n",
      "Column: 21, Selected False, Rank: 33.000\n",
      "Column: 22, Selected False, Rank: 32.000\n",
      "Column: 23, Selected False, Rank: 31.000\n",
      "Column: 24, Selected False, Rank: 30.000\n",
      "Column: 25, Selected False, Rank: 29.000\n",
      "Column: 26, Selected False, Rank: 28.000\n",
      "Column: 27, Selected False, Rank: 27.000\n",
      "Column: 28, Selected False, Rank: 26.000\n",
      "Column: 29, Selected False, Rank: 25.000\n",
      "Column: 30, Selected False, Rank: 24.000\n",
      "Column: 31, Selected False, Rank: 23.000\n",
      "Column: 32, Selected False, Rank: 22.000\n",
      "Column: 33, Selected False, Rank: 54.000\n",
      "Column: 34, Selected False, Rank: 55.000\n",
      "Column: 35, Selected False, Rank: 53.000\n",
      "Column: 36, Selected False, Rank: 50.000\n",
      "Column: 37, Selected False, Rank: 21.000\n",
      "Column: 38, Selected False, Rank: 46.000\n",
      "Column: 39, Selected False, Rank: 44.000\n",
      "Column: 40, Selected False, Rank: 20.000\n",
      "Column: 41, Selected False, Rank: 19.000\n",
      "Column: 42, Selected False, Rank: 18.000\n",
      "Column: 43, Selected False, Rank: 17.000\n",
      "Column: 44, Selected False, Rank: 16.000\n",
      "Column: 45, Selected False, Rank: 15.000\n",
      "Column: 46, Selected False, Rank: 13.000\n",
      "Column: 47, Selected True, Rank: 1.000\n",
      "Column: 48, Selected False, Rank: 12.000\n",
      "Column: 49, Selected False, Rank: 11.000\n",
      "Column: 50, Selected False, Rank: 10.000\n",
      "Column: 51, Selected False, Rank: 9.000\n",
      "Column: 52, Selected False, Rank: 4.000\n",
      "Column: 53, Selected False, Rank: 6.000\n",
      "Column: 54, Selected True, Rank: 1.000\n",
      "Column: 55, Selected False, Rank: 8.000\n",
      "Column: 56, Selected False, Rank: 7.000\n",
      "Column: 57, Selected False, Rank: 5.000\n",
      "Column: 58, Selected False, Rank: 3.000\n",
      "Column: 59, Selected True, Rank: 1.000\n",
      "Column: 60, Selected True, Rank: 1.000\n",
      "Column: 61, Selected True, Rank: 1.000\n",
      "Column: 62, Selected False, Rank: 2.000\n",
      "Column: 63, Selected False, Rank: 14.000\n"
     ]
    },
    {
     "ename": "IndexError",
     "evalue": "index 64 is out of bounds for axis 0 with size 64",
     "output_type": "error",
     "traceback": [
      "\u001b[1;31m---------------------------------------------------------------------------\u001b[0m",
      "\u001b[1;31mIndexError\u001b[0m                                Traceback (most recent call last)",
      "\u001b[1;32m<ipython-input-198-56584a10df50>\u001b[0m in \u001b[0;36m<module>\u001b[1;34m\u001b[0m\n\u001b[0;32m     10\u001b[0m \u001b[1;31m# summarize all features\u001b[0m\u001b[1;33m\u001b[0m\u001b[1;33m\u001b[0m\u001b[1;33m\u001b[0m\u001b[0m\n\u001b[0;32m     11\u001b[0m \u001b[1;32mfor\u001b[0m \u001b[0mi\u001b[0m \u001b[1;32min\u001b[0m \u001b[0mrange\u001b[0m\u001b[1;33m(\u001b[0m\u001b[0mX\u001b[0m\u001b[1;33m.\u001b[0m\u001b[0mshape\u001b[0m\u001b[1;33m[\u001b[0m\u001b[1;36m1\u001b[0m\u001b[1;33m]\u001b[0m\u001b[1;33m)\u001b[0m\u001b[1;33m:\u001b[0m\u001b[1;33m\u001b[0m\u001b[1;33m\u001b[0m\u001b[0m\n\u001b[1;32m---> 12\u001b[1;33m         \u001b[0mprint\u001b[0m\u001b[1;33m(\u001b[0m\u001b[1;34m'Column: %d, Selected %s, Rank: %.3f'\u001b[0m \u001b[1;33m%\u001b[0m \u001b[1;33m(\u001b[0m\u001b[0mi\u001b[0m\u001b[1;33m,\u001b[0m \u001b[0mrfe\u001b[0m\u001b[1;33m.\u001b[0m\u001b[0msupport_\u001b[0m\u001b[1;33m[\u001b[0m\u001b[0mi\u001b[0m\u001b[1;33m]\u001b[0m\u001b[1;33m,\u001b[0m \u001b[0mrfe\u001b[0m\u001b[1;33m.\u001b[0m\u001b[0mranking_\u001b[0m\u001b[1;33m[\u001b[0m\u001b[0mi\u001b[0m\u001b[1;33m]\u001b[0m\u001b[1;33m)\u001b[0m\u001b[1;33m)\u001b[0m\u001b[1;33m\u001b[0m\u001b[1;33m\u001b[0m\u001b[0m\n\u001b[0m",
      "\u001b[1;31mIndexError\u001b[0m: index 64 is out of bounds for axis 0 with size 64"
     ]
    }
   ],
   "source": [
    "# report which features were selected by RFE\n",
    "from sklearn.datasets import make_classification\n",
    "from sklearn.feature_selection import RFE\n",
    "from sklearn.tree import DecisionTreeRegressor\n",
    "# define dataset\n",
    "# define RFE\n",
    "rfe = RFE(estimator=DecisionTreeRegressor(), n_features_to_select=5)\n",
    "# fit RFE\n",
    "rfe.fit(x, y)\n",
    "# summarize all features\n",
    "for i in range(X.shape[1]):\n",
    "\tprint('Column: %d, Selected %s, Rank: %.3f' % (i, rfe.support_[i], rfe.ranking_[i]))"
   ]
  },
  {
   "cell_type": "code",
   "execution_count": 191,
   "metadata": {},
   "outputs": [
    {
     "ename": "IndexError",
     "evalue": "index 64 is out of bounds for axis 0 with size 64",
     "output_type": "error",
     "traceback": [
      "\u001b[1;31m---------------------------------------------------------------------------\u001b[0m",
      "\u001b[1;31mIndexError\u001b[0m                                Traceback (most recent call last)",
      "\u001b[1;32m<ipython-input-191-7af0ac3ee604>\u001b[0m in \u001b[0;36m<module>\u001b[1;34m\u001b[0m\n\u001b[1;32m----> 1\u001b[1;33m \u001b[0mrfe\u001b[0m\u001b[1;33m.\u001b[0m\u001b[0mranking_\u001b[0m\u001b[1;33m[\u001b[0m\u001b[0mi\u001b[0m\u001b[1;33m]\u001b[0m\u001b[1;33m\u001b[0m\u001b[1;33m\u001b[0m\u001b[0m\n\u001b[0m",
      "\u001b[1;31mIndexError\u001b[0m: index 64 is out of bounds for axis 0 with size 64"
     ]
    }
   ],
   "source": []
  },
  {
   "cell_type": "code",
   "execution_count": 107,
   "metadata": {},
   "outputs": [],
   "source": [
    "grps = pd.unique(df['cycle'])"
   ]
  },
  {
   "cell_type": "code",
   "execution_count": 122,
   "metadata": {},
   "outputs": [
    {
     "ename": "TypeError",
     "evalue": "at least two inputs are required; got 1.",
     "output_type": "error",
     "traceback": [
      "\u001b[1;31m---------------------------------------------------------------------------\u001b[0m",
      "\u001b[1;31mTypeError\u001b[0m                                 Traceback (most recent call last)",
      "\u001b[1;32m<ipython-input-122-fc51dfda42cf>\u001b[0m in \u001b[0;36m<module>\u001b[1;34m\u001b[0m\n\u001b[0;32m     17\u001b[0m               \u001b[1;33m[\u001b[0m\u001b[1;36m8.59\u001b[0m\u001b[1;33m,\u001b[0m \u001b[1;36m6.01\u001b[0m\u001b[1;33m,\u001b[0m \u001b[1;36m6.07\u001b[0m\u001b[1;33m]\u001b[0m\u001b[1;33m,\u001b[0m\u001b[1;33m\u001b[0m\u001b[1;33m\u001b[0m\u001b[0m\n\u001b[0;32m     18\u001b[0m               [3.07, 9.72, 7.48]])\n\u001b[1;32m---> 19\u001b[1;33m \u001b[0mF\u001b[0m\u001b[1;33m,\u001b[0m \u001b[0mp\u001b[0m \u001b[1;33m=\u001b[0m \u001b[0mf_oneway\u001b[0m\u001b[1;33m(\u001b[0m\u001b[0ml\u001b[0m\u001b[1;33m)\u001b[0m\u001b[1;33m\u001b[0m\u001b[1;33m\u001b[0m\u001b[0m\n\u001b[0m\u001b[0;32m     20\u001b[0m \u001b[0mF\u001b[0m\u001b[1;33m\u001b[0m\u001b[1;33m\u001b[0m\u001b[0m\n",
      "\u001b[1;32m~\\AppData\\Roaming\\Python\\Python38\\site-packages\\scipy\\stats\\stats.py\u001b[0m in \u001b[0;36mf_oneway\u001b[1;34m(axis, *args)\u001b[0m\n\u001b[0;32m   3593\u001b[0m     \"\"\"\n\u001b[0;32m   3594\u001b[0m     \u001b[1;32mif\u001b[0m \u001b[0mlen\u001b[0m\u001b[1;33m(\u001b[0m\u001b[0margs\u001b[0m\u001b[1;33m)\u001b[0m \u001b[1;33m<\u001b[0m \u001b[1;36m2\u001b[0m\u001b[1;33m:\u001b[0m\u001b[1;33m\u001b[0m\u001b[1;33m\u001b[0m\u001b[0m\n\u001b[1;32m-> 3595\u001b[1;33m         \u001b[1;32mraise\u001b[0m \u001b[0mTypeError\u001b[0m\u001b[1;33m(\u001b[0m\u001b[1;34mf'at least two inputs are required; got {len(args)}.'\u001b[0m\u001b[1;33m)\u001b[0m\u001b[1;33m\u001b[0m\u001b[1;33m\u001b[0m\u001b[0m\n\u001b[0m\u001b[0;32m   3596\u001b[0m \u001b[1;33m\u001b[0m\u001b[0m\n\u001b[0;32m   3597\u001b[0m     \u001b[0margs\u001b[0m \u001b[1;33m=\u001b[0m \u001b[1;33m[\u001b[0m\u001b[0mnp\u001b[0m\u001b[1;33m.\u001b[0m\u001b[0masarray\u001b[0m\u001b[1;33m(\u001b[0m\u001b[0marg\u001b[0m\u001b[1;33m,\u001b[0m \u001b[0mdtype\u001b[0m\u001b[1;33m=\u001b[0m\u001b[0mfloat\u001b[0m\u001b[1;33m)\u001b[0m \u001b[1;32mfor\u001b[0m \u001b[0marg\u001b[0m \u001b[1;32min\u001b[0m \u001b[0margs\u001b[0m\u001b[1;33m]\u001b[0m\u001b[1;33m\u001b[0m\u001b[1;33m\u001b[0m\u001b[0m\n",
      "\u001b[1;31mTypeError\u001b[0m: at least two inputs are required; got 1."
     ]
    }
   ],
   "source": [
    "a = np.array([[9.87, 9.03, 6.81],\n",
    "              [7.18, 8.35, 7.00],\n",
    "              [8.39, 7.58, 7.68],\n",
    "              [7.45, 6.33, 9.35],\n",
    "              [6.41, 7.10, 9.33],\n",
    "              [8.00, 8.24, 8.44]])\n",
    "b = np.array([[6.35, 7.30, 7.16],\n",
    "              [6.65, 6.68, 7.63],\n",
    "              [5.72, 7.73, 6.72],\n",
    "              [7.01, 9.19, 7.41],\n",
    "              [7.75, 7.87, 8.30],\n",
    "              [6.90, 7.97, 6.97]])\n",
    "c = np.array([[3.31, 8.77, 1.01],\n",
    "              [8.25, 3.24, 3.62],\n",
    "              [6.32, 8.81, 5.19],\n",
    "              [7.48, 8.83, 8.91],\n",
    "              [8.59, 6.01, 6.07],\n",
    "              [3.07, 9.72, 7.48]])\n",
    "F, p = f_oneway(a,b,c)\n",
    "F"
   ]
  },
  {
   "cell_type": "code",
   "execution_count": 115,
   "metadata": {},
   "outputs": [
    {
     "data": {
      "text/html": [
       "<div>\n",
       "<style scoped>\n",
       "    .dataframe tbody tr th:only-of-type {\n",
       "        vertical-align: middle;\n",
       "    }\n",
       "\n",
       "    .dataframe tbody tr th {\n",
       "        vertical-align: top;\n",
       "    }\n",
       "\n",
       "    .dataframe thead th {\n",
       "        text-align: right;\n",
       "    }\n",
       "</style>\n",
       "<table border=\"1\" class=\"dataframe\">\n",
       "  <thead>\n",
       "    <tr style=\"text-align: right;\">\n",
       "      <th></th>\n",
       "      <th>cycle</th>\n",
       "      <th>target</th>\n",
       "    </tr>\n",
       "  </thead>\n",
       "  <tbody>\n",
       "    <tr>\n",
       "      <th>0</th>\n",
       "      <td>1</td>\n",
       "      <td>-0.276835</td>\n",
       "    </tr>\n",
       "    <tr>\n",
       "      <th>1</th>\n",
       "      <td>1</td>\n",
       "      <td>-0.049177</td>\n",
       "    </tr>\n",
       "    <tr>\n",
       "      <th>2</th>\n",
       "      <td>1</td>\n",
       "      <td>-0.257900</td>\n",
       "    </tr>\n",
       "    <tr>\n",
       "      <th>3</th>\n",
       "      <td>1</td>\n",
       "      <td>-0.037035</td>\n",
       "    </tr>\n",
       "    <tr>\n",
       "      <th>4</th>\n",
       "      <td>1</td>\n",
       "      <td>-0.239149</td>\n",
       "    </tr>\n",
       "    <tr>\n",
       "      <th>...</th>\n",
       "      <td>...</td>\n",
       "      <td>...</td>\n",
       "    </tr>\n",
       "    <tr>\n",
       "      <th>8040</th>\n",
       "      <td>2</td>\n",
       "      <td>0.730460</td>\n",
       "    </tr>\n",
       "    <tr>\n",
       "      <th>8041</th>\n",
       "      <td>2</td>\n",
       "      <td>0.752997</td>\n",
       "    </tr>\n",
       "    <tr>\n",
       "      <th>8042</th>\n",
       "      <td>2</td>\n",
       "      <td>0.776325</td>\n",
       "    </tr>\n",
       "    <tr>\n",
       "      <th>8043</th>\n",
       "      <td>2</td>\n",
       "      <td>0.799695</td>\n",
       "    </tr>\n",
       "    <tr>\n",
       "      <th>8044</th>\n",
       "      <td>2</td>\n",
       "      <td>0.822237</td>\n",
       "    </tr>\n",
       "  </tbody>\n",
       "</table>\n",
       "<p>8045 rows × 2 columns</p>\n",
       "</div>"
      ],
      "text/plain": [
       "     cycle    target\n",
       "0        1 -0.276835\n",
       "1        1 -0.049177\n",
       "2        1 -0.257900\n",
       "3        1 -0.037035\n",
       "4        1 -0.239149\n",
       "...    ...       ...\n",
       "8040     2  0.730460\n",
       "8041     2  0.752997\n",
       "8042     2  0.776325\n",
       "8043     2  0.799695\n",
       "8044     2  0.822237\n",
       "\n",
       "[8045 rows x 2 columns]"
      ]
     },
     "execution_count": 115,
     "metadata": {},
     "output_type": "execute_result"
    }
   ],
   "source": [
    "df[['cycle', 'target']]"
   ]
  },
  {
   "cell_type": "code",
   "execution_count": 131,
   "metadata": {},
   "outputs": [],
   "source": [
    "X = df.drop(['target'], axis=1)\n",
    "y = df['target']"
   ]
  },
  {
   "cell_type": "code",
   "execution_count": 133,
   "metadata": {},
   "outputs": [],
   "source": [
    "X.to_clipboard()"
   ]
  },
  {
   "cell_type": "code",
   "execution_count": 125,
   "metadata": {},
   "outputs": [
    {
     "data": {
      "text/plain": [
       "array([1, 2, 3, 4], dtype=int64)"
      ]
     },
     "execution_count": 125,
     "metadata": {},
     "output_type": "execute_result"
    }
   ],
   "source": [
    "# report which features were selected by RFE\n",
    "from sklearn.datasets import make_classification\n",
    "from sklearn.feature_selection import RFE\n",
    "from sklearn.tree import DecisionTreeClassifier\n",
    "# define dataset\n",
    "X, y = make_classification(n_samples=1000, n_features=10, n_informative=5, n_redundant=5, random_state=1)\n",
    "# define RFE\n",
    "rfe = RFE(estimator=DecisionTreeClassifier(), n_features_to_select=5)\n",
    "# fit RFE\n",
    "rfe.fit(X, y)\n",
    "# summarize all features\n",
    "for i in range(X.shape[1]):\n",
    "\tprint('Column: %d, Selected %s, Rank: %.3f' % (i, rfe.support_[i], rfe.ranking_[i]))"
   ]
  },
  {
   "cell_type": "code",
   "execution_count": 127,
   "metadata": {},
   "outputs": [
    {
     "ename": "TypeError",
     "evalue": "at least two inputs are required; got 1.",
     "output_type": "error",
     "traceback": [
      "\u001b[1;31m---------------------------------------------------------------------------\u001b[0m",
      "\u001b[1;31mTypeError\u001b[0m                                 Traceback (most recent call last)",
      "\u001b[1;32m<ipython-input-127-c8c72792264f>\u001b[0m in \u001b[0;36m<module>\u001b[1;34m\u001b[0m\n\u001b[0;32m      1\u001b[0m \u001b[0md_data\u001b[0m \u001b[1;33m=\u001b[0m \u001b[1;33m{\u001b[0m\u001b[0mgrp\u001b[0m\u001b[1;33m:\u001b[0m\u001b[0mdf\u001b[0m\u001b[1;33m[\u001b[0m\u001b[1;34m'target'\u001b[0m\u001b[1;33m]\u001b[0m\u001b[1;33m[\u001b[0m\u001b[0mdf\u001b[0m\u001b[1;33m.\u001b[0m\u001b[0mcycle\u001b[0m \u001b[1;33m==\u001b[0m \u001b[0mgrp\u001b[0m\u001b[1;33m]\u001b[0m \u001b[1;32mfor\u001b[0m \u001b[0mgrp\u001b[0m \u001b[1;32min\u001b[0m \u001b[0mgrps\u001b[0m\u001b[1;33m}\u001b[0m\u001b[1;33m\u001b[0m\u001b[1;33m\u001b[0m\u001b[0m\n\u001b[1;32m----> 2\u001b[1;33m \u001b[0mF\u001b[0m\u001b[1;33m,\u001b[0m \u001b[0mp\u001b[0m \u001b[1;33m=\u001b[0m \u001b[0mf_oneway\u001b[0m\u001b[1;33m(\u001b[0m\u001b[0mnp\u001b[0m\u001b[1;33m.\u001b[0m\u001b[0munique\u001b[0m\u001b[1;33m(\u001b[0m\u001b[0mdf\u001b[0m\u001b[1;33m[\u001b[0m\u001b[1;34m'cycle'\u001b[0m\u001b[1;33m]\u001b[0m\u001b[1;33m)\u001b[0m\u001b[1;33m)\u001b[0m\u001b[1;33m\u001b[0m\u001b[1;33m\u001b[0m\u001b[0m\n\u001b[0m",
      "\u001b[1;32m~\\AppData\\Roaming\\Python\\Python38\\site-packages\\scipy\\stats\\stats.py\u001b[0m in \u001b[0;36mf_oneway\u001b[1;34m(axis, *args)\u001b[0m\n\u001b[0;32m   3593\u001b[0m     \"\"\"\n\u001b[0;32m   3594\u001b[0m     \u001b[1;32mif\u001b[0m \u001b[0mlen\u001b[0m\u001b[1;33m(\u001b[0m\u001b[0margs\u001b[0m\u001b[1;33m)\u001b[0m \u001b[1;33m<\u001b[0m \u001b[1;36m2\u001b[0m\u001b[1;33m:\u001b[0m\u001b[1;33m\u001b[0m\u001b[1;33m\u001b[0m\u001b[0m\n\u001b[1;32m-> 3595\u001b[1;33m         \u001b[1;32mraise\u001b[0m \u001b[0mTypeError\u001b[0m\u001b[1;33m(\u001b[0m\u001b[1;34mf'at least two inputs are required; got {len(args)}.'\u001b[0m\u001b[1;33m)\u001b[0m\u001b[1;33m\u001b[0m\u001b[1;33m\u001b[0m\u001b[0m\n\u001b[0m\u001b[0;32m   3596\u001b[0m \u001b[1;33m\u001b[0m\u001b[0m\n\u001b[0;32m   3597\u001b[0m     \u001b[0margs\u001b[0m \u001b[1;33m=\u001b[0m \u001b[1;33m[\u001b[0m\u001b[0mnp\u001b[0m\u001b[1;33m.\u001b[0m\u001b[0masarray\u001b[0m\u001b[1;33m(\u001b[0m\u001b[0marg\u001b[0m\u001b[1;33m,\u001b[0m \u001b[0mdtype\u001b[0m\u001b[1;33m=\u001b[0m\u001b[0mfloat\u001b[0m\u001b[1;33m)\u001b[0m \u001b[1;32mfor\u001b[0m \u001b[0marg\u001b[0m \u001b[1;32min\u001b[0m \u001b[0margs\u001b[0m\u001b[1;33m]\u001b[0m\u001b[1;33m\u001b[0m\u001b[1;33m\u001b[0m\u001b[0m\n",
      "\u001b[1;31mTypeError\u001b[0m: at least two inputs are required; got 1."
     ]
    }
   ],
   "source": [
    "d_data = {grp:df['target'][df.cycle == grp] for grp in grps}\n",
    "F, p = f_oneway(np.unique(df['cycle']))"
   ]
  },
  {
   "cell_type": "code",
   "execution_count": 90,
   "metadata": {},
   "outputs": [
    {
     "ename": "ValueError",
     "evalue": "Unknown label type: 'continuous'",
     "output_type": "error",
     "traceback": [
      "\u001b[1;31m---------------------------------------------------------------------------\u001b[0m",
      "\u001b[1;31mValueError\u001b[0m                                Traceback (most recent call last)",
      "\u001b[1;32m<ipython-input-90-a99533131f08>\u001b[0m in \u001b[0;36m<module>\u001b[1;34m\u001b[0m\n\u001b[0;32m     22\u001b[0m \u001b[0mX_train\u001b[0m\u001b[1;33m,\u001b[0m \u001b[0mX_test\u001b[0m\u001b[1;33m,\u001b[0m \u001b[0my_train\u001b[0m\u001b[1;33m,\u001b[0m \u001b[0my_test\u001b[0m \u001b[1;33m=\u001b[0m \u001b[0mtrain_test_split\u001b[0m\u001b[1;33m(\u001b[0m\u001b[0mX\u001b[0m\u001b[1;33m,\u001b[0m \u001b[0my\u001b[0m\u001b[1;33m,\u001b[0m \u001b[0mtest_size\u001b[0m\u001b[1;33m=\u001b[0m\u001b[1;36m0.33\u001b[0m\u001b[1;33m,\u001b[0m \u001b[0mrandom_state\u001b[0m\u001b[1;33m=\u001b[0m\u001b[1;36m1\u001b[0m\u001b[1;33m)\u001b[0m\u001b[1;33m\u001b[0m\u001b[1;33m\u001b[0m\u001b[0m\n\u001b[0;32m     23\u001b[0m \u001b[1;31m# feature selection\u001b[0m\u001b[1;33m\u001b[0m\u001b[1;33m\u001b[0m\u001b[1;33m\u001b[0m\u001b[0m\n\u001b[1;32m---> 24\u001b[1;33m \u001b[0mX_train_fs\u001b[0m\u001b[1;33m,\u001b[0m \u001b[0mX_test_fs\u001b[0m\u001b[1;33m,\u001b[0m \u001b[0mfs\u001b[0m \u001b[1;33m=\u001b[0m \u001b[0mselect_features\u001b[0m\u001b[1;33m(\u001b[0m\u001b[0mX_train\u001b[0m\u001b[1;33m,\u001b[0m \u001b[0my_train\u001b[0m\u001b[1;33m,\u001b[0m \u001b[0mX_test\u001b[0m\u001b[1;33m)\u001b[0m\u001b[1;33m\u001b[0m\u001b[1;33m\u001b[0m\u001b[0m\n\u001b[0m\u001b[0;32m     25\u001b[0m \u001b[1;31m# what are scores for the features\u001b[0m\u001b[1;33m\u001b[0m\u001b[1;33m\u001b[0m\u001b[1;33m\u001b[0m\u001b[0m\n\u001b[0;32m     26\u001b[0m \u001b[1;32mfor\u001b[0m \u001b[0mi\u001b[0m \u001b[1;32min\u001b[0m \u001b[0mrange\u001b[0m\u001b[1;33m(\u001b[0m\u001b[0mlen\u001b[0m\u001b[1;33m(\u001b[0m\u001b[0mfs\u001b[0m\u001b[1;33m.\u001b[0m\u001b[0mscores_\u001b[0m\u001b[1;33m)\u001b[0m\u001b[1;33m)\u001b[0m\u001b[1;33m:\u001b[0m\u001b[1;33m\u001b[0m\u001b[1;33m\u001b[0m\u001b[0m\n",
      "\u001b[1;32m<ipython-input-90-a99533131f08>\u001b[0m in \u001b[0;36mselect_features\u001b[1;34m(X_train, y_train, X_test)\u001b[0m\n\u001b[0;32m     13\u001b[0m         \u001b[0mfs\u001b[0m \u001b[1;33m=\u001b[0m \u001b[0mSelectKBest\u001b[0m\u001b[1;33m(\u001b[0m\u001b[0mscore_func\u001b[0m\u001b[1;33m=\u001b[0m\u001b[0mmutual_info_classif\u001b[0m\u001b[1;33m,\u001b[0m \u001b[0mk\u001b[0m\u001b[1;33m=\u001b[0m\u001b[1;36m10\u001b[0m\u001b[1;33m)\u001b[0m\u001b[1;33m\u001b[0m\u001b[1;33m\u001b[0m\u001b[0m\n\u001b[0;32m     14\u001b[0m         \u001b[1;31m# learn relationship from training data\u001b[0m\u001b[1;33m\u001b[0m\u001b[1;33m\u001b[0m\u001b[1;33m\u001b[0m\u001b[0m\n\u001b[1;32m---> 15\u001b[1;33m         \u001b[0mfs\u001b[0m\u001b[1;33m.\u001b[0m\u001b[0mfit\u001b[0m\u001b[1;33m(\u001b[0m\u001b[0mX_train\u001b[0m\u001b[1;33m,\u001b[0m \u001b[0my_train\u001b[0m\u001b[1;33m)\u001b[0m\u001b[1;33m\u001b[0m\u001b[1;33m\u001b[0m\u001b[0m\n\u001b[0m\u001b[0;32m     16\u001b[0m         \u001b[1;31m# transform train input data\u001b[0m\u001b[1;33m\u001b[0m\u001b[1;33m\u001b[0m\u001b[1;33m\u001b[0m\u001b[0m\n\u001b[0;32m     17\u001b[0m         \u001b[0mX_train_fs\u001b[0m \u001b[1;33m=\u001b[0m \u001b[0mfs\u001b[0m\u001b[1;33m.\u001b[0m\u001b[0mtransform\u001b[0m\u001b[1;33m(\u001b[0m\u001b[0mX_train\u001b[0m\u001b[1;33m)\u001b[0m\u001b[1;33m\u001b[0m\u001b[1;33m\u001b[0m\u001b[0m\n",
      "\u001b[1;32mc:\\ProgramData\\Anaconda3\\lib\\site-packages\\sklearn\\feature_selection\\_univariate_selection.py\u001b[0m in \u001b[0;36mfit\u001b[1;34m(self, X, y)\u001b[0m\n\u001b[0;32m    350\u001b[0m \u001b[1;33m\u001b[0m\u001b[0m\n\u001b[0;32m    351\u001b[0m         \u001b[0mself\u001b[0m\u001b[1;33m.\u001b[0m\u001b[0m_check_params\u001b[0m\u001b[1;33m(\u001b[0m\u001b[0mX\u001b[0m\u001b[1;33m,\u001b[0m \u001b[0my\u001b[0m\u001b[1;33m)\u001b[0m\u001b[1;33m\u001b[0m\u001b[1;33m\u001b[0m\u001b[0m\n\u001b[1;32m--> 352\u001b[1;33m         \u001b[0mscore_func_ret\u001b[0m \u001b[1;33m=\u001b[0m \u001b[0mself\u001b[0m\u001b[1;33m.\u001b[0m\u001b[0mscore_func\u001b[0m\u001b[1;33m(\u001b[0m\u001b[0mX\u001b[0m\u001b[1;33m,\u001b[0m \u001b[0my\u001b[0m\u001b[1;33m)\u001b[0m\u001b[1;33m\u001b[0m\u001b[1;33m\u001b[0m\u001b[0m\n\u001b[0m\u001b[0;32m    353\u001b[0m         \u001b[1;32mif\u001b[0m \u001b[0misinstance\u001b[0m\u001b[1;33m(\u001b[0m\u001b[0mscore_func_ret\u001b[0m\u001b[1;33m,\u001b[0m \u001b[1;33m(\u001b[0m\u001b[0mlist\u001b[0m\u001b[1;33m,\u001b[0m \u001b[0mtuple\u001b[0m\u001b[1;33m)\u001b[0m\u001b[1;33m)\u001b[0m\u001b[1;33m:\u001b[0m\u001b[1;33m\u001b[0m\u001b[1;33m\u001b[0m\u001b[0m\n\u001b[0;32m    354\u001b[0m             \u001b[0mself\u001b[0m\u001b[1;33m.\u001b[0m\u001b[0mscores_\u001b[0m\u001b[1;33m,\u001b[0m \u001b[0mself\u001b[0m\u001b[1;33m.\u001b[0m\u001b[0mpvalues_\u001b[0m \u001b[1;33m=\u001b[0m \u001b[0mscore_func_ret\u001b[0m\u001b[1;33m\u001b[0m\u001b[1;33m\u001b[0m\u001b[0m\n",
      "\u001b[1;32mc:\\ProgramData\\Anaconda3\\lib\\site-packages\\sklearn\\utils\\validation.py\u001b[0m in \u001b[0;36minner_f\u001b[1;34m(*args, **kwargs)\u001b[0m\n\u001b[0;32m     61\u001b[0m             \u001b[0mextra_args\u001b[0m \u001b[1;33m=\u001b[0m \u001b[0mlen\u001b[0m\u001b[1;33m(\u001b[0m\u001b[0margs\u001b[0m\u001b[1;33m)\u001b[0m \u001b[1;33m-\u001b[0m \u001b[0mlen\u001b[0m\u001b[1;33m(\u001b[0m\u001b[0mall_args\u001b[0m\u001b[1;33m)\u001b[0m\u001b[1;33m\u001b[0m\u001b[1;33m\u001b[0m\u001b[0m\n\u001b[0;32m     62\u001b[0m             \u001b[1;32mif\u001b[0m \u001b[0mextra_args\u001b[0m \u001b[1;33m<=\u001b[0m \u001b[1;36m0\u001b[0m\u001b[1;33m:\u001b[0m\u001b[1;33m\u001b[0m\u001b[1;33m\u001b[0m\u001b[0m\n\u001b[1;32m---> 63\u001b[1;33m                 \u001b[1;32mreturn\u001b[0m \u001b[0mf\u001b[0m\u001b[1;33m(\u001b[0m\u001b[1;33m*\u001b[0m\u001b[0margs\u001b[0m\u001b[1;33m,\u001b[0m \u001b[1;33m**\u001b[0m\u001b[0mkwargs\u001b[0m\u001b[1;33m)\u001b[0m\u001b[1;33m\u001b[0m\u001b[1;33m\u001b[0m\u001b[0m\n\u001b[0m\u001b[0;32m     64\u001b[0m \u001b[1;33m\u001b[0m\u001b[0m\n\u001b[0;32m     65\u001b[0m             \u001b[1;31m# extra_args > 0\u001b[0m\u001b[1;33m\u001b[0m\u001b[1;33m\u001b[0m\u001b[1;33m\u001b[0m\u001b[0m\n",
      "\u001b[1;32mc:\\ProgramData\\Anaconda3\\lib\\site-packages\\sklearn\\feature_selection\\_mutual_info.py\u001b[0m in \u001b[0;36mmutual_info_classif\u001b[1;34m(X, y, discrete_features, n_neighbors, copy, random_state)\u001b[0m\n\u001b[0;32m    445\u001b[0m            \u001b[0mof\u001b[0m \u001b[0ma\u001b[0m \u001b[0mRandom\u001b[0m \u001b[0mVector\u001b[0m\u001b[1;33m:\u001b[0m\u001b[1;33m,\u001b[0m \u001b[0mProbl\u001b[0m\u001b[1;33m.\u001b[0m \u001b[0mPeredachi\u001b[0m \u001b[0mInf\u001b[0m\u001b[1;33m.\u001b[0m\u001b[1;33m,\u001b[0m \u001b[1;36m23\u001b[0m\u001b[1;33m:\u001b[0m\u001b[1;36m2\u001b[0m \u001b[1;33m(\u001b[0m\u001b[1;36m1987\u001b[0m\u001b[1;33m)\u001b[0m\u001b[1;33m,\u001b[0m \u001b[1;36m9\u001b[0m\u001b[1;33m-\u001b[0m\u001b[1;36m16\u001b[0m\u001b[1;33m\u001b[0m\u001b[1;33m\u001b[0m\u001b[0m\n\u001b[0;32m    446\u001b[0m     \"\"\"\n\u001b[1;32m--> 447\u001b[1;33m     \u001b[0mcheck_classification_targets\u001b[0m\u001b[1;33m(\u001b[0m\u001b[0my\u001b[0m\u001b[1;33m)\u001b[0m\u001b[1;33m\u001b[0m\u001b[1;33m\u001b[0m\u001b[0m\n\u001b[0m\u001b[0;32m    448\u001b[0m     return _estimate_mi(X, y, discrete_features, True, n_neighbors,\n\u001b[0;32m    449\u001b[0m                         copy, random_state)\n",
      "\u001b[1;32mc:\\ProgramData\\Anaconda3\\lib\\site-packages\\sklearn\\utils\\multiclass.py\u001b[0m in \u001b[0;36mcheck_classification_targets\u001b[1;34m(y)\u001b[0m\n\u001b[0;32m    181\u001b[0m     if y_type not in ['binary', 'multiclass', 'multiclass-multioutput',\n\u001b[0;32m    182\u001b[0m                       'multilabel-indicator', 'multilabel-sequences']:\n\u001b[1;32m--> 183\u001b[1;33m         \u001b[1;32mraise\u001b[0m \u001b[0mValueError\u001b[0m\u001b[1;33m(\u001b[0m\u001b[1;34m\"Unknown label type: %r\"\u001b[0m \u001b[1;33m%\u001b[0m \u001b[0my_type\u001b[0m\u001b[1;33m)\u001b[0m\u001b[1;33m\u001b[0m\u001b[1;33m\u001b[0m\u001b[0m\n\u001b[0m\u001b[0;32m    184\u001b[0m \u001b[1;33m\u001b[0m\u001b[0m\n\u001b[0;32m    185\u001b[0m \u001b[1;33m\u001b[0m\u001b[0m\n",
      "\u001b[1;31mValueError\u001b[0m: Unknown label type: 'continuous'"
     ]
    }
   ],
   "source": [
    "# example of anova f-test feature selection for numerical data\n",
    "from pandas import read_csv\n",
    "from sklearn.model_selection import train_test_split\n",
    "from sklearn.feature_selection import SelectKBest\n",
    "from sklearn.feature_selection import f_classif, mutual_info_classif\n",
    "from matplotlib import pyplot\n",
    "\n",
    "\n",
    "# feature selection\n",
    "def select_features(X_train, y_train, X_test):\n",
    "\t# configure to select all features\n",
    "\tfs = SelectKBest(score_func=mutual_info_classif, k=10)\n",
    "\t# learn relationship from training data\n",
    "\tfs.fit(X_train, y_train)\n",
    "\t# transform train input data\n",
    "\tX_train_fs = fs.transform(X_train)\n",
    "\t# transform test input data\n",
    "\tX_test_fs = fs.transform(X_test)\n",
    "\treturn X_train_fs, X_test_fs, fs\n",
    "\n",
    "X_train, X_test, y_train, y_test = train_test_split(X, y, test_size=0.33, random_state=1)\n",
    "# feature selection\n",
    "X_train_fs, X_test_fs, fs = select_features(X_train, y_train, X_test)\n",
    "# what are scores for the features\n",
    "for i in range(len(fs.scores_)):\n",
    "\tprint('Feature %d: %f' % (i, fs.scores_[i]))\n",
    "# plot the scores\n",
    "pyplot.bar([i for i in range(len(fs.scores_))], fs.scores_)\n",
    "pyplot.show()"
   ]
  },
  {
   "cell_type": "code",
   "execution_count": 80,
   "metadata": {},
   "outputs": [],
   "source": [
    "def colinear_detector(df):\n",
    "\n",
    "    # dropping the target columns\n",
    "    df_x =df.copy()\n",
    "    # initiating an empty dictionary \n",
    "    colinear_dict = {}\n",
    "\n",
    "    # sorting the most correlated column for each column\n",
    "    for column in  df_x.columns.tolist():\n",
    "        df_corre = abs(df_x.corr()).sort_values(by=column, ascending=False)[[column]]\n",
    "        # if score is higher than 0.8, add them to a new list\n",
    "        # every predictor's correlation with itself is 1 so drop the first\n",
    "        colinear_cols = df_corre[df_corre[column]>0.7].index.tolist()[1:]\n",
    "        # add a list of correlated columns for each column\n",
    "        colinear_dict[column]= colinear_cols\n",
    "    # return the correlation dictionary\n",
    "    return colinear_dict\n",
    "rt = colinear_detector(X)"
   ]
  },
  {
   "cell_type": "code",
   "execution_count": 82,
   "metadata": {},
   "outputs": [
    {
     "name": "stdout",
     "output_type": "stream",
     "text": [
      "TE_super_hero_group_Categorify []\n",
      "TE_place_Categorify []\n",
      "TE_tracking_times_Categorify []\n",
      "TE_crystal_supergroup_Categorify []\n",
      "TE_crystal_type_Categorify []\n",
      "TE_unnamed_7_Categorify []\n",
      "TE_human_behavior_report_Categorify []\n",
      "TE_cycle_Categorify []\n",
      "TE_groups_Categorify []\n",
      "CE_TE_super_hero_group_Categorify []\n",
      "CE_TE_place_Categorify []\n",
      "CE_TE_tracking_times_Categorify []\n",
      "CE_TE_crystal_supergroup_Categorify []\n",
      "CE_TE_crystal_type_Categorify []\n",
      "CE_TE_unnamed_7_Categorify []\n",
      "CE_TE_human_behavior_report_Categorify []\n",
      "CE_TE_cycle_Categorify []\n",
      "CE_TE_groups_Categorify []\n",
      "tracking []\n",
      "human_measure []\n",
      "crystal_weight []\n",
      "expected_factor_x []\n",
      "previous_factor_x ['first_factor_x']\n",
      "first_factor_x ['previous_factor_x']\n",
      "expected_final_factor_x ['final_factor_x']\n",
      "final_factor_x ['expected_final_factor_x']\n",
      "previous_adamantium []\n",
      "etherium_before_start []\n",
      "chemical_x []\n",
      "raw_kryptonite []\n",
      "argon []\n",
      "pure_seastone []\n"
     ]
    }
   ],
   "source": []
  },
  {
   "cell_type": "code",
   "execution_count": null,
   "metadata": {},
   "outputs": [],
   "source": [
    "from sklearn.feature_selection import f_regression\n",
    "# assigning f and p values to 2 separate arrays\n",
    "f_val, p_val = f_regression(X_train,y_train)\n",
    "\n",
    "# creating a dictionary from the arrays\n",
    "feature_dict={'features':X_train.columns.tolist(),\n",
    "              'f_score':f_val.tolist()}\n",
    "\n",
    "# creating a sorted dataframe from the dictionary\n",
    "feature_df = pd.DataFrame(feature_dict).sort_values(by='f_scores', ascending=False).reset_index(drop=True)\n",
    "\n",
    "# printing 25 features with the highest scores\n",
    "feature_df.iloc[:25,:]['columns'].tolist()"
   ]
  },
  {
   "cell_type": "code",
   "execution_count": null,
   "metadata": {},
   "outputs": [],
   "source": []
  },
  {
   "cell_type": "code",
   "execution_count": null,
   "metadata": {},
   "outputs": [],
   "source": []
  },
  {
   "cell_type": "code",
   "execution_count": 64,
   "metadata": {},
   "outputs": [],
   "source": [
    "import numpy as np\n",
    "import matplotlib.pyplot as plt\n",
    "from sklearn.feature_selection import f_regression, mutual_info_regression\n",
    "\n",
    "def select_features(X_train, y_train, X_test):\n",
    "      # configure to select all features\n",
    "  fs = SelectKBest(score_func=f_regression, k=20)\n",
    "  # learn relationship from training data\n",
    "  fs.fit(X_train, y_train)\n",
    "  # transform train input data\n",
    "  X_train_fs = fs.transform(X_train)\n",
    "  # transform test input data\n",
    "  X_test_fs = fs.transform(X_test)\n",
    "  return X_train_fs, X_test_fs, fs\n",
    "\n",
    "X_train, X_test, y_train, y_test = train_test_split(X, y, test_size=0.33, random_state=1)\n",
    "X_train_fs, X_test_fs, fs = select_features(X_train, y_train, X_test)"
   ]
  },
  {
   "cell_type": "code",
   "execution_count": 65,
   "metadata": {},
   "outputs": [
    {
     "name": "stdout",
     "output_type": "stream",
     "text": [
      "(5390, 20)\n",
      "(2655, 20)\n"
     ]
    }
   ],
   "source": [
    "t = pd.DataFrame(X_train_fs)\n",
    "y = pd.DataFrame(X_test_fs)\n",
    "print(t.shape)\n",
    "print(y.shape)"
   ]
  },
  {
   "cell_type": "code",
   "execution_count": 66,
   "metadata": {},
   "outputs": [
    {
     "data": {
      "text/html": [
       "<div>\n",
       "<style scoped>\n",
       "    .dataframe tbody tr th:only-of-type {\n",
       "        vertical-align: middle;\n",
       "    }\n",
       "\n",
       "    .dataframe tbody tr th {\n",
       "        vertical-align: top;\n",
       "    }\n",
       "\n",
       "    .dataframe thead th {\n",
       "        text-align: right;\n",
       "    }\n",
       "</style>\n",
       "<table border=\"1\" class=\"dataframe\">\n",
       "  <thead>\n",
       "    <tr style=\"text-align: right;\">\n",
       "      <th></th>\n",
       "      <th>0</th>\n",
       "      <th>1</th>\n",
       "      <th>2</th>\n",
       "      <th>3</th>\n",
       "      <th>4</th>\n",
       "      <th>5</th>\n",
       "      <th>6</th>\n",
       "      <th>7</th>\n",
       "      <th>8</th>\n",
       "      <th>9</th>\n",
       "      <th>10</th>\n",
       "      <th>11</th>\n",
       "      <th>12</th>\n",
       "      <th>13</th>\n",
       "      <th>14</th>\n",
       "      <th>15</th>\n",
       "      <th>16</th>\n",
       "      <th>17</th>\n",
       "      <th>18</th>\n",
       "      <th>19</th>\n",
       "    </tr>\n",
       "  </thead>\n",
       "  <tbody>\n",
       "    <tr>\n",
       "      <th>0</th>\n",
       "      <td>96.574786</td>\n",
       "      <td>93.498843</td>\n",
       "      <td>93.180763</td>\n",
       "      <td>90.064994</td>\n",
       "      <td>93.495456</td>\n",
       "      <td>94.303132</td>\n",
       "      <td>93.233291</td>\n",
       "      <td>94.704811</td>\n",
       "      <td>797.0</td>\n",
       "      <td>18.0</td>\n",
       "      <td>692.0</td>\n",
       "      <td>744.0</td>\n",
       "      <td>14.0</td>\n",
       "      <td>-0.164301</td>\n",
       "      <td>-0.603891</td>\n",
       "      <td>-0.313378</td>\n",
       "      <td>-0.082153</td>\n",
       "      <td>0.697087</td>\n",
       "      <td>-0.202820</td>\n",
       "      <td>-1.161556</td>\n",
       "    </tr>\n",
       "    <tr>\n",
       "      <th>1</th>\n",
       "      <td>90.141581</td>\n",
       "      <td>93.395856</td>\n",
       "      <td>93.303457</td>\n",
       "      <td>84.970618</td>\n",
       "      <td>95.352110</td>\n",
       "      <td>95.054450</td>\n",
       "      <td>93.132495</td>\n",
       "      <td>75.954364</td>\n",
       "      <td>822.0</td>\n",
       "      <td>25.0</td>\n",
       "      <td>671.0</td>\n",
       "      <td>822.0</td>\n",
       "      <td>24.0</td>\n",
       "      <td>0.790985</td>\n",
       "      <td>0.569994</td>\n",
       "      <td>-0.619912</td>\n",
       "      <td>-0.607707</td>\n",
       "      <td>-0.826585</td>\n",
       "      <td>-0.483596</td>\n",
       "      <td>-0.741825</td>\n",
       "    </tr>\n",
       "    <tr>\n",
       "      <th>2</th>\n",
       "      <td>90.141581</td>\n",
       "      <td>93.395856</td>\n",
       "      <td>93.303457</td>\n",
       "      <td>91.685863</td>\n",
       "      <td>91.412788</td>\n",
       "      <td>95.054450</td>\n",
       "      <td>93.081264</td>\n",
       "      <td>62.325502</td>\n",
       "      <td>822.0</td>\n",
       "      <td>164.0</td>\n",
       "      <td>671.0</td>\n",
       "      <td>734.0</td>\n",
       "      <td>16.0</td>\n",
       "      <td>-0.886221</td>\n",
       "      <td>-0.261436</td>\n",
       "      <td>-0.879973</td>\n",
       "      <td>-0.495356</td>\n",
       "      <td>-0.510395</td>\n",
       "      <td>-0.777938</td>\n",
       "      <td>-0.001983</td>\n",
       "    </tr>\n",
       "    <tr>\n",
       "      <th>3</th>\n",
       "      <td>96.574786</td>\n",
       "      <td>93.498843</td>\n",
       "      <td>93.825863</td>\n",
       "      <td>102.800730</td>\n",
       "      <td>84.714309</td>\n",
       "      <td>94.303132</td>\n",
       "      <td>93.233291</td>\n",
       "      <td>97.461307</td>\n",
       "      <td>797.0</td>\n",
       "      <td>43.0</td>\n",
       "      <td>692.0</td>\n",
       "      <td>744.0</td>\n",
       "      <td>22.0</td>\n",
       "      <td>-1.229603</td>\n",
       "      <td>0.561497</td>\n",
       "      <td>1.653133</td>\n",
       "      <td>1.639874</td>\n",
       "      <td>1.030037</td>\n",
       "      <td>0.332208</td>\n",
       "      <td>0.241017</td>\n",
       "    </tr>\n",
       "    <tr>\n",
       "      <th>4</th>\n",
       "      <td>90.143679</td>\n",
       "      <td>93.498843</td>\n",
       "      <td>93.180763</td>\n",
       "      <td>83.902042</td>\n",
       "      <td>91.768786</td>\n",
       "      <td>92.729833</td>\n",
       "      <td>93.233291</td>\n",
       "      <td>88.075449</td>\n",
       "      <td>812.0</td>\n",
       "      <td>83.0</td>\n",
       "      <td>623.0</td>\n",
       "      <td>744.0</td>\n",
       "      <td>24.0</td>\n",
       "      <td>-0.407263</td>\n",
       "      <td>-0.081931</td>\n",
       "      <td>-0.319955</td>\n",
       "      <td>-0.484432</td>\n",
       "      <td>-0.716698</td>\n",
       "      <td>-1.010078</td>\n",
       "      <td>-0.549795</td>\n",
       "    </tr>\n",
       "  </tbody>\n",
       "</table>\n",
       "</div>"
      ],
      "text/plain": [
       "          0          1          2           3          4          5   \\\n",
       "0  96.574786  93.498843  93.180763   90.064994  93.495456  94.303132   \n",
       "1  90.141581  93.395856  93.303457   84.970618  95.352110  95.054450   \n",
       "2  90.141581  93.395856  93.303457   91.685863  91.412788  95.054450   \n",
       "3  96.574786  93.498843  93.825863  102.800730  84.714309  94.303132   \n",
       "4  90.143679  93.498843  93.180763   83.902042  91.768786  92.729833   \n",
       "\n",
       "          6          7      8      9      10     11    12        13        14  \\\n",
       "0  93.233291  94.704811  797.0   18.0  692.0  744.0  14.0 -0.164301 -0.603891   \n",
       "1  93.132495  75.954364  822.0   25.0  671.0  822.0  24.0  0.790985  0.569994   \n",
       "2  93.081264  62.325502  822.0  164.0  671.0  734.0  16.0 -0.886221 -0.261436   \n",
       "3  93.233291  97.461307  797.0   43.0  692.0  744.0  22.0 -1.229603  0.561497   \n",
       "4  93.233291  88.075449  812.0   83.0  623.0  744.0  24.0 -0.407263 -0.081931   \n",
       "\n",
       "         15        16        17        18        19  \n",
       "0 -0.313378 -0.082153  0.697087 -0.202820 -1.161556  \n",
       "1 -0.619912 -0.607707 -0.826585 -0.483596 -0.741825  \n",
       "2 -0.879973 -0.495356 -0.510395 -0.777938 -0.001983  \n",
       "3  1.653133  1.639874  1.030037  0.332208  0.241017  \n",
       "4 -0.319955 -0.484432 -0.716698 -1.010078 -0.549795  "
      ]
     },
     "execution_count": 66,
     "metadata": {},
     "output_type": "execute_result"
    }
   ],
   "source": [
    "t.head()"
   ]
  },
  {
   "cell_type": "code",
   "execution_count": 68,
   "metadata": {},
   "outputs": [
    {
     "data": {
      "text/html": [
       "<div>\n",
       "<style scoped>\n",
       "    .dataframe tbody tr th:only-of-type {\n",
       "        vertical-align: middle;\n",
       "    }\n",
       "\n",
       "    .dataframe tbody tr th {\n",
       "        vertical-align: top;\n",
       "    }\n",
       "\n",
       "    .dataframe thead th {\n",
       "        text-align: right;\n",
       "    }\n",
       "</style>\n",
       "<table border=\"1\" class=\"dataframe\">\n",
       "  <thead>\n",
       "    <tr style=\"text-align: right;\">\n",
       "      <th></th>\n",
       "      <th>TE_super_hero_group_Categorify</th>\n",
       "      <th>TE_place_Categorify</th>\n",
       "      <th>TE_tracking_times_Categorify</th>\n",
       "      <th>TE_crystal_supergroup_Categorify</th>\n",
       "      <th>TE_crystal_type_Categorify</th>\n",
       "      <th>TE_unnamed_7_Categorify</th>\n",
       "      <th>TE_human_behavior_report_Categorify</th>\n",
       "      <th>TE_cycle_Categorify</th>\n",
       "      <th>TE_groups_Categorify</th>\n",
       "      <th>CE_TE_super_hero_group_Categorify</th>\n",
       "      <th>...</th>\n",
       "      <th>previous_factor_x</th>\n",
       "      <th>first_factor_x</th>\n",
       "      <th>expected_final_factor_x</th>\n",
       "      <th>final_factor_x</th>\n",
       "      <th>previous_adamantium</th>\n",
       "      <th>etherium_before_start</th>\n",
       "      <th>chemical_x</th>\n",
       "      <th>raw_kryptonite</th>\n",
       "      <th>argon</th>\n",
       "      <th>pure_seastone</th>\n",
       "    </tr>\n",
       "  </thead>\n",
       "  <tbody>\n",
       "    <tr>\n",
       "      <th>5792</th>\n",
       "      <td>94.323175</td>\n",
       "      <td>96.574786</td>\n",
       "      <td>93.498843</td>\n",
       "      <td>93.180763</td>\n",
       "      <td>90.064994</td>\n",
       "      <td>93.495456</td>\n",
       "      <td>94.303132</td>\n",
       "      <td>93.233291</td>\n",
       "      <td>94.704811</td>\n",
       "      <td>334</td>\n",
       "      <td>...</td>\n",
       "      <td>-0.268764</td>\n",
       "      <td>-0.230767</td>\n",
       "      <td>-0.313378</td>\n",
       "      <td>-0.082153</td>\n",
       "      <td>0.697087</td>\n",
       "      <td>-0.066200</td>\n",
       "      <td>-0.202820</td>\n",
       "      <td>-0.090589</td>\n",
       "      <td>-1.161556</td>\n",
       "      <td>0.226124</td>\n",
       "    </tr>\n",
       "    <tr>\n",
       "      <th>4581</th>\n",
       "      <td>94.040576</td>\n",
       "      <td>90.141581</td>\n",
       "      <td>93.395856</td>\n",
       "      <td>93.303457</td>\n",
       "      <td>84.970618</td>\n",
       "      <td>95.352110</td>\n",
       "      <td>95.054450</td>\n",
       "      <td>93.132495</td>\n",
       "      <td>75.954364</td>\n",
       "      <td>360</td>\n",
       "      <td>...</td>\n",
       "      <td>-0.197774</td>\n",
       "      <td>-0.323621</td>\n",
       "      <td>-0.619912</td>\n",
       "      <td>-0.607707</td>\n",
       "      <td>-0.826585</td>\n",
       "      <td>-0.472244</td>\n",
       "      <td>-0.483596</td>\n",
       "      <td>-1.189636</td>\n",
       "      <td>-0.741825</td>\n",
       "      <td>-0.681495</td>\n",
       "    </tr>\n",
       "    <tr>\n",
       "      <th>1621</th>\n",
       "      <td>94.040576</td>\n",
       "      <td>90.141581</td>\n",
       "      <td>93.395856</td>\n",
       "      <td>93.303457</td>\n",
       "      <td>91.685863</td>\n",
       "      <td>91.412788</td>\n",
       "      <td>95.054450</td>\n",
       "      <td>93.081264</td>\n",
       "      <td>62.325502</td>\n",
       "      <td>360</td>\n",
       "      <td>...</td>\n",
       "      <td>-0.895970</td>\n",
       "      <td>-0.675907</td>\n",
       "      <td>-0.879973</td>\n",
       "      <td>-0.495356</td>\n",
       "      <td>-0.510395</td>\n",
       "      <td>-0.010357</td>\n",
       "      <td>-0.777938</td>\n",
       "      <td>0.177460</td>\n",
       "      <td>-0.001983</td>\n",
       "      <td>-0.881888</td>\n",
       "    </tr>\n",
       "    <tr>\n",
       "      <th>757</th>\n",
       "      <td>94.708475</td>\n",
       "      <td>96.574786</td>\n",
       "      <td>93.498843</td>\n",
       "      <td>93.825863</td>\n",
       "      <td>102.800730</td>\n",
       "      <td>84.714309</td>\n",
       "      <td>94.303132</td>\n",
       "      <td>93.233291</td>\n",
       "      <td>97.461307</td>\n",
       "      <td>71</td>\n",
       "      <td>...</td>\n",
       "      <td>0.392525</td>\n",
       "      <td>0.150298</td>\n",
       "      <td>1.653133</td>\n",
       "      <td>1.639874</td>\n",
       "      <td>1.030037</td>\n",
       "      <td>1.082470</td>\n",
       "      <td>0.332208</td>\n",
       "      <td>0.305860</td>\n",
       "      <td>0.241017</td>\n",
       "      <td>0.502422</td>\n",
       "    </tr>\n",
       "    <tr>\n",
       "      <th>3882</th>\n",
       "      <td>94.323175</td>\n",
       "      <td>90.143679</td>\n",
       "      <td>93.498843</td>\n",
       "      <td>93.180763</td>\n",
       "      <td>83.902042</td>\n",
       "      <td>91.768786</td>\n",
       "      <td>92.729833</td>\n",
       "      <td>93.233291</td>\n",
       "      <td>88.075449</td>\n",
       "      <td>334</td>\n",
       "      <td>...</td>\n",
       "      <td>0.380245</td>\n",
       "      <td>-0.244990</td>\n",
       "      <td>-0.319955</td>\n",
       "      <td>-0.484432</td>\n",
       "      <td>-0.716698</td>\n",
       "      <td>-0.527413</td>\n",
       "      <td>-1.010078</td>\n",
       "      <td>-0.528577</td>\n",
       "      <td>-0.549795</td>\n",
       "      <td>-0.355521</td>\n",
       "    </tr>\n",
       "  </tbody>\n",
       "</table>\n",
       "<p>5 rows × 32 columns</p>\n",
       "</div>"
      ],
      "text/plain": [
       "      TE_super_hero_group_Categorify  TE_place_Categorify  \\\n",
       "5792                       94.323175            96.574786   \n",
       "4581                       94.040576            90.141581   \n",
       "1621                       94.040576            90.141581   \n",
       "757                        94.708475            96.574786   \n",
       "3882                       94.323175            90.143679   \n",
       "\n",
       "      TE_tracking_times_Categorify  TE_crystal_supergroup_Categorify  \\\n",
       "5792                     93.498843                         93.180763   \n",
       "4581                     93.395856                         93.303457   \n",
       "1621                     93.395856                         93.303457   \n",
       "757                      93.498843                         93.825863   \n",
       "3882                     93.498843                         93.180763   \n",
       "\n",
       "      TE_crystal_type_Categorify  TE_unnamed_7_Categorify  \\\n",
       "5792                   90.064994                93.495456   \n",
       "4581                   84.970618                95.352110   \n",
       "1621                   91.685863                91.412788   \n",
       "757                   102.800730                84.714309   \n",
       "3882                   83.902042                91.768786   \n",
       "\n",
       "      TE_human_behavior_report_Categorify  TE_cycle_Categorify  \\\n",
       "5792                            94.303132            93.233291   \n",
       "4581                            95.054450            93.132495   \n",
       "1621                            95.054450            93.081264   \n",
       "757                             94.303132            93.233291   \n",
       "3882                            92.729833            93.233291   \n",
       "\n",
       "      TE_groups_Categorify  CE_TE_super_hero_group_Categorify  ...  \\\n",
       "5792             94.704811                                334  ...   \n",
       "4581             75.954364                                360  ...   \n",
       "1621             62.325502                                360  ...   \n",
       "757              97.461307                                 71  ...   \n",
       "3882             88.075449                                334  ...   \n",
       "\n",
       "      previous_factor_x  first_factor_x  expected_final_factor_x  \\\n",
       "5792          -0.268764       -0.230767                -0.313378   \n",
       "4581          -0.197774       -0.323621                -0.619912   \n",
       "1621          -0.895970       -0.675907                -0.879973   \n",
       "757            0.392525        0.150298                 1.653133   \n",
       "3882           0.380245       -0.244990                -0.319955   \n",
       "\n",
       "      final_factor_x  previous_adamantium  etherium_before_start  chemical_x  \\\n",
       "5792       -0.082153             0.697087              -0.066200   -0.202820   \n",
       "4581       -0.607707            -0.826585              -0.472244   -0.483596   \n",
       "1621       -0.495356            -0.510395              -0.010357   -0.777938   \n",
       "757         1.639874             1.030037               1.082470    0.332208   \n",
       "3882       -0.484432            -0.716698              -0.527413   -1.010078   \n",
       "\n",
       "      raw_kryptonite     argon  pure_seastone  \n",
       "5792       -0.090589 -1.161556       0.226124  \n",
       "4581       -1.189636 -0.741825      -0.681495  \n",
       "1621        0.177460 -0.001983      -0.881888  \n",
       "757         0.305860  0.241017       0.502422  \n",
       "3882       -0.528577 -0.549795      -0.355521  \n",
       "\n",
       "[5 rows x 32 columns]"
      ]
     },
     "execution_count": 68,
     "metadata": {},
     "output_type": "execute_result"
    }
   ],
   "source": [
    "X_train.head()"
   ]
  },
  {
   "cell_type": "code",
   "execution_count": null,
   "metadata": {},
   "outputs": [],
   "source": []
  },
  {
   "cell_type": "code",
   "execution_count": null,
   "metadata": {},
   "outputs": [],
   "source": []
  },
  {
   "cell_type": "code",
   "execution_count": null,
   "metadata": {},
   "outputs": [],
   "source": []
  },
  {
   "cell_type": "code",
   "execution_count": null,
   "metadata": {},
   "outputs": [],
   "source": []
  },
  {
   "cell_type": "code",
   "execution_count": null,
   "metadata": {},
   "outputs": [],
   "source": []
  },
  {
   "cell_type": "code",
   "execution_count": null,
   "metadata": {},
   "outputs": [],
   "source": []
  },
  {
   "cell_type": "code",
   "execution_count": 55,
   "metadata": {},
   "outputs": [],
   "source": [
    "# import pandas as pd\n",
    "# import os\n",
    "# from src.utils.utils import logs\n",
    "from imports import *\n",
    "\n",
    "\n",
    "class read_data(object):\n",
    "    \"\"\"_summary_: A class to read the raw data and target data from the data/raw folder\n",
    "\n",
    "    Methods:\n",
    "        read_data(): A function to check if data exists and read the raw data and target data from the data/raw folder\n",
    "    \"\"\"\n",
    "\n",
    "    def __init__(self) -> None:\n",
    "        \"\"\"_summary_: initialize the class\n",
    "        Returns:\n",
    "            None\n",
    "        \"\"\"\n",
    "        self.raw_data = './data/raw/md_raw_dataset.csv'\n",
    "        self.target_data = './data/raw/md_target_dataset.csv'\n",
    "\n",
    "    def read_data(self) -> pd.DataFrame:\n",
    "        \"\"\"__summary__: A function to read the raw data and target data csv from the data/raw folder\n",
    "            parameters:\n",
    "                None\n",
    "            Returns:\n",
    "                raw_df {dataframe}: A dataframe containing the raw data\n",
    "                target_df {dataframe}: A dataframe containing the target data\n",
    "        \"\"\"\n",
    "        # set a logger file\n",
    "        logger = logs(path=\"logs/\", file=\"data.logs\")\n",
    "\n",
    "        logger.info(\n",
    "            \"Reading the raw data and target data from the data/raw folder\")\n",
    "\n",
    "        # Check if file exists and read the data\n",
    "        if os.path.isfile(self.raw_data) and os.path.isfile(self.target_data):\n",
    "            raw_df = pd.read_csv(self.raw_data, ';')\n",
    "            target_df = pd.read_csv(self.target_data, ';')\n",
    "            logger.info(\n",
    "                \"Successfully read the raw data and target data from the data/raw folder\")\n",
    "            return raw_df, target_df\n",
    "        else:\n",
    "            logger.error(\"The raw data and target data are not available\")\n",
    "\n",
    "\n",
    "class merge_dataset(object):\n",
    "    \"\"\"_summary_: A class to merge the raw data and target data\n",
    "    attributes:\n",
    "        raw_data {dataframe}: A dataframe containing the raw data\n",
    "        target_data {dataframe}: A dataframe containing the target data\n",
    "    Methods:\n",
    "        merge_dataset(): A function to merge the raw data and target data\n",
    "\n",
    "    \"\"\"\n",
    "\n",
    "    def __init__(self, raw_data, target_data) -> None:\n",
    "        \"\"\"_summary_: initialize the class\n",
    "        Attributes:\n",
    "            raw_data {dataframe}: A dataframe containing the raw data\n",
    "            target_data {dataframe}: A dataframe containing the target data\n",
    "        Returns:\n",
    "            None\n",
    "\n",
    "        \"\"\"\n",
    "\n",
    "        self.raw_data = raw_data\n",
    "        self.target_data = target_data\n",
    "\n",
    "    def merge_dataset(self):\n",
    "        \"\"\"_summary_: A function to merge the raw data and target data\n",
    "\n",
    "        Returns:\n",
    "            merged_df {dataframe}: A dataframe containing the merged raw data and target data\n",
    "        \"\"\"\n",
    "        # set a logger file\n",
    "        logger = logs(path=\"logs/\", file=\"data.logs\")\n",
    "\n",
    "        logger.info(\"Merging the raw data and target data\")\n",
    "        # Lowercase the column names\n",
    "        self.raw_data.columns = self.raw_data.columns.str.lower()\n",
    "        self.target_data.columns = self.target_data.columns.str.lower()\n",
    "        # rename unnamed columns. unnamed column is the index of the raw data.\n",
    "        self.raw_data = self.raw_data.rename(columns={\n",
    "                                             'unnamed: 0': 'index', 'unnamed: 17': 'unnamed_17', 'unnamed: 7': 'unnamed_7'})\n",
    "        # comparing date the value is 33 for the two missing rows in groups column.\n",
    "\n",
    "        self.raw_data['groups'] = self.raw_data['groups'].fillna(value=int(\n",
    "            self.raw_data['groups'].loc[self.raw_data['when'] == '21/12/2020'].mode()))\n",
    "        # converting the index and groups column to int type\n",
    "        self.raw_data[['index', 'groups']] = self.raw_data[['index', 'groups']].astype(\n",
    "            int)\n",
    "        # converting the index and groups column to int type\n",
    "        self.target_data[['index', 'groups']] = self.target_data[[\n",
    "            'index', 'groups']].astype(int)\n",
    "        # use merge function from utils to join raw data and target data on index and groups\n",
    "        merged_df = merge_data_func(self.raw_data, self.target_data)\n",
    "        merged_df = merged_df.rename(columns={'groups_x': 'groups'})\n",
    "        merged_df = merged_df.drop(['index', 'groups_y'], axis=1)\n",
    "        logger.info(\"Merge successful\")\n",
    "        return merged_df\n",
    "\n",
    "\n",
    "class preprocessing(object):\n",
    "    \"\"\"_summary_: A class to preprocess the raw data and target data\n",
    "\n",
    "    \"\"\"\n",
    "\n",
    "    def __init__(self, df: pd.DataFrame, config: dict) -> None:\n",
    "        self.df = df\n",
    "        self.config = config\n",
    "\n",
    "    def convert_dtypes(self) -> pd.DataFrame:\n",
    "        \"\"\"_summary_: A function to convert the data types of the dataframe\n",
    "        parameters:\n",
    "            None\n",
    "        Returns:\n",
    "            df {dataframe}: A dataframe with the converted data types\n",
    "        \"\"\"\n",
    "        self.df[self.config['cat_cols']] = self.df[self.config['cat_cols']].astype(\n",
    "            'category', errors='ignore')  # converting the categorical columns to category type\n",
    "        self.df[self.config['continous_cols']] = self.df[self.config['continous_cols']].astype(\n",
    "            'float', errors='ignore')  # converting the continous columns to float type\n",
    "\n",
    "        return self.df\n",
    "\n",
    "    def replace_values(self) -> pd.DataFrame:\n",
    "        \"\"\"_summary_: A function to replace the values of the columns [cycle, crystal_supergroup, etherium_before_start]\n",
    "        parameters:\n",
    "            None\n",
    "        Returns:\n",
    "            df {dataframe}: A dataframe with the replaced values\n",
    "        \"\"\"\n",
    "        self.df['cycle'] = self.df['cycle'].replace(\n",
    "            ['33', '1ª', '2ª', '3ª', '131'], ['1', '1', '2', '3', '4'])\n",
    "        self.df['crystal_supergroup'] = self.df['crystal_supergroup'].replace(\n",
    "            '1ª', '0')\n",
    "        self.df['etherium_before_start'] = self.df['etherium_before_start'].replace(\n",
    "            ['21/12/2020 12:11'], 441.78)\n",
    "        return self.df\n",
    "\n",
    "    def interpolate_datetime(self) -> pd.DataFrame:\n",
    "        \"\"\"_summary_: A function to interpolate the datetime columns\n",
    "        parameters:\n",
    "            None\n",
    "        Returns:\n",
    "            df {dataframe}: A dataframe with the interpolated datetime column\n",
    "        \"\"\"\n",
    "        self.df = shuffle(self.df)\n",
    "        self.df = interpolate_date_time_features(\n",
    "            self.df, self.config['date_cols'])\n",
    "        self.df['start_critical_subprocess1'] = pd.to_datetime(\n",
    "            self.df['start_critical_subprocess1'], errors='coerce')\n",
    "        self.df['start_critical_subprocess1'] = self.df['start_critical_subprocess1'].values.astype(\n",
    "            'int64')\n",
    "        self.df['start_critical_subprocess1'][self.df['start_critical_subprocess1'] < 0] = np.nan\n",
    "        self.df['start_critical_subprocess1'] = pd.to_datetime(\n",
    "            self.df['start_critical_subprocess1'].interpolate(), unit='ns')\n",
    "        self.df['start_critical_subprocess1'] = self.df['start_critical_subprocess1'].apply(\n",
    "            pd.to_datetime)\n",
    "        self.df[self.config['date_cols']] = self.df[self.config['date_cols']].apply(\n",
    "            pd.to_datetime)\n",
    "        return self.df\n",
    "\n",
    "    def drop_duplicates(self):\n",
    "        \"\"\"_summary_: A function to drop the duplicates\n",
    "        parameters:\n",
    "            None\n",
    "        Returns:\n",
    "            df {dataframe}: A dataframe with the dropped duplicates\n",
    "        \"\"\"\n",
    "        self.df[self.config['date_cols']\n",
    "                ] = self.df[self.config['date_cols']].apply(pd.to_datetime)\n",
    "        self.df = self.df.sort_values(by=self.df['start_process'], ascending=[True])\n",
    "        self.df = self.df.drop_duplicates(\n",
    "            subset=self.config['date_cols'], keep='first')\n",
    "        return self.df\n",
    "\n",
    "    def processing_missing_values(self):\n",
    "        \"\"\"_summary_: A function to process the missing values\n",
    "        parameters:\n",
    "            None\n",
    "        Returns:\n",
    "            df {dataframe}: A dataframe with the processed missing values\n",
    "        \"\"\"\n",
    "        cols_imputed = mice(self.df[config['vars_with_na']])\n",
    "        self.df = pd.DataFrame(col_imputed, columns=df_[\n",
    "                               config['vars_with_na']].columns)\n",
    "        return self.df\n"
   ]
  },
  {
   "cell_type": "code",
   "execution_count": 92,
   "metadata": {},
   "outputs": [
    {
     "name": "stderr",
     "output_type": "stream",
     "text": [
      "INFO: 2022-09-22 16:07:20,466: Reading the raw data and target data from the data/raw folder\n",
      "INFO: 2022-09-22 16:07:20,616: Successfully read the raw data and target data from the data/raw folder\n",
      "INFO: 2022-09-22 16:07:20,625: Merging the raw data and target data\n",
      "INFO: 2022-09-22 16:07:21,824: Merge successful\n"
     ]
    },
    {
     "name": "stdout",
     "output_type": "stream",
     "text": [
      "(8546, 37)\n"
     ]
    },
    {
     "ename": "KeyError",
     "evalue": "\"['groups'] not in index\"",
     "output_type": "error",
     "traceback": [
      "\u001b[1;31m---------------------------------------------------------------------------\u001b[0m",
      "\u001b[1;31mKeyError\u001b[0m                                  Traceback (most recent call last)",
      "\u001b[1;32m<ipython-input-92-086b89bc5d45>\u001b[0m in \u001b[0;36m<module>\u001b[1;34m\u001b[0m\n\u001b[0;32m     17\u001b[0m \u001b[0mpreprocess\u001b[0m \u001b[1;33m=\u001b[0m \u001b[0mpreprocessing\u001b[0m\u001b[1;33m(\u001b[0m\u001b[0mdf\u001b[0m\u001b[1;33m,\u001b[0m \u001b[0mconfig\u001b[0m\u001b[1;33m)\u001b[0m\u001b[1;33m\u001b[0m\u001b[1;33m\u001b[0m\u001b[0m\n\u001b[0;32m     18\u001b[0m \u001b[1;31m# convertd types\u001b[0m\u001b[1;33m\u001b[0m\u001b[1;33m\u001b[0m\u001b[1;33m\u001b[0m\u001b[0m\n\u001b[1;32m---> 19\u001b[1;33m \u001b[0mdf\u001b[0m \u001b[1;33m=\u001b[0m \u001b[0mpreprocess\u001b[0m\u001b[1;33m.\u001b[0m\u001b[0mconvert_dtypes\u001b[0m\u001b[1;33m(\u001b[0m\u001b[1;33m)\u001b[0m\u001b[1;33m\u001b[0m\u001b[1;33m\u001b[0m\u001b[0m\n\u001b[0m\u001b[0;32m     20\u001b[0m \u001b[0mdf\u001b[0m \u001b[1;33m=\u001b[0m \u001b[0mpreprocess\u001b[0m\u001b[1;33m.\u001b[0m\u001b[0mreplace_values\u001b[0m\u001b[1;33m(\u001b[0m\u001b[1;33m)\u001b[0m\u001b[1;33m\u001b[0m\u001b[1;33m\u001b[0m\u001b[0m\n\u001b[0;32m     21\u001b[0m \u001b[0mdf\u001b[0m \u001b[1;33m=\u001b[0m \u001b[0mpreprocess\u001b[0m\u001b[1;33m.\u001b[0m\u001b[0minterpolate_datetime\u001b[0m\u001b[1;33m(\u001b[0m\u001b[1;33m)\u001b[0m\u001b[1;33m\u001b[0m\u001b[1;33m\u001b[0m\u001b[0m\n",
      "\u001b[1;32m<ipython-input-66-ebbf4f0e802e>\u001b[0m in \u001b[0;36mconvert_dtypes\u001b[1;34m(self)\u001b[0m\n\u001b[0;32m     15\u001b[0m             \u001b[0mdf\u001b[0m \u001b[1;33m{\u001b[0m\u001b[0mdataframe\u001b[0m\u001b[1;33m}\u001b[0m\u001b[1;33m:\u001b[0m \u001b[0mA\u001b[0m \u001b[0mdataframe\u001b[0m \u001b[1;32mwith\u001b[0m \u001b[0mthe\u001b[0m \u001b[0mconverted\u001b[0m \u001b[0mdata\u001b[0m \u001b[0mtypes\u001b[0m\u001b[1;33m\u001b[0m\u001b[1;33m\u001b[0m\u001b[0m\n\u001b[0;32m     16\u001b[0m         \"\"\"\n\u001b[1;32m---> 17\u001b[1;33m         self.df[self.config['cat_cols']] = self.df[self.config['cat_cols']].astype(\n\u001b[0m\u001b[0;32m     18\u001b[0m             'category', errors='ignore')  # converting the categorical columns to category type\n\u001b[0;32m     19\u001b[0m         self.df[self.config['continous_cols']] = self.df[self.config['continous_cols']].astype(\n",
      "\u001b[1;32mc:\\ProgramData\\Anaconda3\\lib\\site-packages\\pandas\\core\\frame.py\u001b[0m in \u001b[0;36m__getitem__\u001b[1;34m(self, key)\u001b[0m\n\u001b[0;32m   3028\u001b[0m             \u001b[1;32mif\u001b[0m \u001b[0mis_iterator\u001b[0m\u001b[1;33m(\u001b[0m\u001b[0mkey\u001b[0m\u001b[1;33m)\u001b[0m\u001b[1;33m:\u001b[0m\u001b[1;33m\u001b[0m\u001b[1;33m\u001b[0m\u001b[0m\n\u001b[0;32m   3029\u001b[0m                 \u001b[0mkey\u001b[0m \u001b[1;33m=\u001b[0m \u001b[0mlist\u001b[0m\u001b[1;33m(\u001b[0m\u001b[0mkey\u001b[0m\u001b[1;33m)\u001b[0m\u001b[1;33m\u001b[0m\u001b[1;33m\u001b[0m\u001b[0m\n\u001b[1;32m-> 3030\u001b[1;33m             \u001b[0mindexer\u001b[0m \u001b[1;33m=\u001b[0m \u001b[0mself\u001b[0m\u001b[1;33m.\u001b[0m\u001b[0mloc\u001b[0m\u001b[1;33m.\u001b[0m\u001b[0m_get_listlike_indexer\u001b[0m\u001b[1;33m(\u001b[0m\u001b[0mkey\u001b[0m\u001b[1;33m,\u001b[0m \u001b[0maxis\u001b[0m\u001b[1;33m=\u001b[0m\u001b[1;36m1\u001b[0m\u001b[1;33m,\u001b[0m \u001b[0mraise_missing\u001b[0m\u001b[1;33m=\u001b[0m\u001b[1;32mTrue\u001b[0m\u001b[1;33m)\u001b[0m\u001b[1;33m[\u001b[0m\u001b[1;36m1\u001b[0m\u001b[1;33m]\u001b[0m\u001b[1;33m\u001b[0m\u001b[1;33m\u001b[0m\u001b[0m\n\u001b[0m\u001b[0;32m   3031\u001b[0m \u001b[1;33m\u001b[0m\u001b[0m\n\u001b[0;32m   3032\u001b[0m         \u001b[1;31m# take() does not accept boolean indexers\u001b[0m\u001b[1;33m\u001b[0m\u001b[1;33m\u001b[0m\u001b[1;33m\u001b[0m\u001b[0m\n",
      "\u001b[1;32mc:\\ProgramData\\Anaconda3\\lib\\site-packages\\pandas\\core\\indexing.py\u001b[0m in \u001b[0;36m_get_listlike_indexer\u001b[1;34m(self, key, axis, raise_missing)\u001b[0m\n\u001b[0;32m   1264\u001b[0m             \u001b[0mkeyarr\u001b[0m\u001b[1;33m,\u001b[0m \u001b[0mindexer\u001b[0m\u001b[1;33m,\u001b[0m \u001b[0mnew_indexer\u001b[0m \u001b[1;33m=\u001b[0m \u001b[0max\u001b[0m\u001b[1;33m.\u001b[0m\u001b[0m_reindex_non_unique\u001b[0m\u001b[1;33m(\u001b[0m\u001b[0mkeyarr\u001b[0m\u001b[1;33m)\u001b[0m\u001b[1;33m\u001b[0m\u001b[1;33m\u001b[0m\u001b[0m\n\u001b[0;32m   1265\u001b[0m \u001b[1;33m\u001b[0m\u001b[0m\n\u001b[1;32m-> 1266\u001b[1;33m         \u001b[0mself\u001b[0m\u001b[1;33m.\u001b[0m\u001b[0m_validate_read_indexer\u001b[0m\u001b[1;33m(\u001b[0m\u001b[0mkeyarr\u001b[0m\u001b[1;33m,\u001b[0m \u001b[0mindexer\u001b[0m\u001b[1;33m,\u001b[0m \u001b[0maxis\u001b[0m\u001b[1;33m,\u001b[0m \u001b[0mraise_missing\u001b[0m\u001b[1;33m=\u001b[0m\u001b[0mraise_missing\u001b[0m\u001b[1;33m)\u001b[0m\u001b[1;33m\u001b[0m\u001b[1;33m\u001b[0m\u001b[0m\n\u001b[0m\u001b[0;32m   1267\u001b[0m         \u001b[1;32mreturn\u001b[0m \u001b[0mkeyarr\u001b[0m\u001b[1;33m,\u001b[0m \u001b[0mindexer\u001b[0m\u001b[1;33m\u001b[0m\u001b[1;33m\u001b[0m\u001b[0m\n\u001b[0;32m   1268\u001b[0m \u001b[1;33m\u001b[0m\u001b[0m\n",
      "\u001b[1;32mc:\\ProgramData\\Anaconda3\\lib\\site-packages\\pandas\\core\\indexing.py\u001b[0m in \u001b[0;36m_validate_read_indexer\u001b[1;34m(self, key, indexer, axis, raise_missing)\u001b[0m\n\u001b[0;32m   1314\u001b[0m             \u001b[1;32mif\u001b[0m \u001b[0mraise_missing\u001b[0m\u001b[1;33m:\u001b[0m\u001b[1;33m\u001b[0m\u001b[1;33m\u001b[0m\u001b[0m\n\u001b[0;32m   1315\u001b[0m                 \u001b[0mnot_found\u001b[0m \u001b[1;33m=\u001b[0m \u001b[0mlist\u001b[0m\u001b[1;33m(\u001b[0m\u001b[0mset\u001b[0m\u001b[1;33m(\u001b[0m\u001b[0mkey\u001b[0m\u001b[1;33m)\u001b[0m \u001b[1;33m-\u001b[0m \u001b[0mset\u001b[0m\u001b[1;33m(\u001b[0m\u001b[0max\u001b[0m\u001b[1;33m)\u001b[0m\u001b[1;33m)\u001b[0m\u001b[1;33m\u001b[0m\u001b[1;33m\u001b[0m\u001b[0m\n\u001b[1;32m-> 1316\u001b[1;33m                 \u001b[1;32mraise\u001b[0m \u001b[0mKeyError\u001b[0m\u001b[1;33m(\u001b[0m\u001b[1;34mf\"{not_found} not in index\"\u001b[0m\u001b[1;33m)\u001b[0m\u001b[1;33m\u001b[0m\u001b[1;33m\u001b[0m\u001b[0m\n\u001b[0m\u001b[0;32m   1317\u001b[0m \u001b[1;33m\u001b[0m\u001b[0m\n\u001b[0;32m   1318\u001b[0m             \u001b[0mnot_found\u001b[0m \u001b[1;33m=\u001b[0m \u001b[0mkey\u001b[0m\u001b[1;33m[\u001b[0m\u001b[0mmissing_mask\u001b[0m\u001b[1;33m]\u001b[0m\u001b[1;33m\u001b[0m\u001b[1;33m\u001b[0m\u001b[0m\n",
      "\u001b[1;31mKeyError\u001b[0m: \"['groups'] not in index\""
     ]
    }
   ],
   "source": [
    "logger = logs(path=\"logs/\", file=\"main.logs\")\n",
    "\n",
    "# Load config file\n",
    "config = load_config(r\"D:\\final_solution\\solution_v1\\config.yml\")\n",
    "\n",
    "# read the raw data and target data from the data/raw folder\n",
    "data = read_data()\n",
    "raw_data, target_data = data.read_data()\n",
    "\n",
    "# Merge the raw data and target data\n",
    "merge_data = merge_dataset(raw_data, target_data)\n",
    "df = merge_data.merge_dataset()\n",
    "print(df.shape)\n",
    "df.to_csv('./data/interim/merged_df.csv', index=False)\n",
    "# preprocessing the data\n",
    "\n",
    "preprocess = preprocessing(df, config)\n",
    "# convertd types\n",
    "df = preprocess.convert_dtypes()\n",
    "df = preprocess.replace_values()\n",
    "df = preprocess.interpolate_datetime()\n",
    "df = preprocess.convert_dtypes()\n",
    "df = preprocess.drop_duplicates()\n",
    "df.to_csv('./data/interim/interpolated_df.csv', index=False)"
   ]
  },
  {
   "cell_type": "code",
   "execution_count": 99,
   "metadata": {},
   "outputs": [],
   "source": [
    "int  = pd.read_csv(r'D:\\final_solution\\solution_v1\\data\\interim\\interpolated_df.csv')"
   ]
  },
  {
   "cell_type": "code",
   "execution_count": 107,
   "metadata": {},
   "outputs": [
    {
     "data": {
      "text/plain": [
       "dtype('float64')"
      ]
     },
     "execution_count": 107,
     "metadata": {},
     "output_type": "execute_result"
    }
   ],
   "source": [
    "int.unnamed_17.dtype"
   ]
  },
  {
   "cell_type": "code",
   "execution_count": 100,
   "metadata": {},
   "outputs": [],
   "source": [
    "# Load config file\n",
    "config = load_config(r\"D:\\final_solution\\solution_v1\\config.yml\")\n",
    "dr = int[config['cols']].T.drop_duplicates().T"
   ]
  },
  {
   "cell_type": "code",
   "execution_count": null,
   "metadata": {},
   "outputs": [],
   "source": [
    "int[config['cols']].T.drop_duplicates(keep='last')"
   ]
  },
  {
   "cell_type": "code",
   "execution_count": 1,
   "metadata": {},
   "outputs": [
    {
     "name": "stderr",
     "output_type": "stream",
     "text": [
      "INFO: 2022-09-22 13:20:41,432: Reading the raw data and target data from the data/raw folder\n",
      "INFO: 2022-09-22 13:20:41,540: Successfully read the raw data and target data from the data/raw folder\n",
      "INFO: 2022-09-22 13:20:41,569: Note: NumExpr detected 12 cores but \"NUMEXPR_MAX_THREADS\" not set, so enforcing safe limit of 8.\n",
      "INFO: 2022-09-22 13:20:41,570: NumExpr defaulting to 8 threads.\n"
     ]
    },
    {
     "name": "stdout",
     "output_type": "stream",
     "text": [
      "(9589, 3)\n",
      "(8546, 37)\n",
      "(9592, 35)\n",
      "(8546, 35)\n"
     ]
    }
   ],
   "source": [
    "# This function is used to create logs and save logs in file in folder named logs.\n",
    "# import pandas as pd\n",
    "# import os\n",
    "# import logging\n",
    "# import yaml\n",
    "\n",
    "from imports import *\n",
    "def logs(path: str, file: str) -> object:\n",
    "    \"\"\"[Create a log file to record the experiment's logs]\n",
    "    parameters:\n",
    "        path {string} -- path to the directory\n",
    "        file {string} -- file name\n",
    "    Returns:\n",
    "        [object] -- [logger that record logs]\n",
    "    \"\"\"\n",
    "\n",
    "    # check if the file exists\n",
    "    log_file = os.path.join(path, file)\n",
    "\n",
    "    if not os.path.exists(log_file):\n",
    "        open(log_file, \"w+\").close()\n",
    "\n",
    "    logging_format: str = \"%(levelname)s: %(asctime)s: %(message)s\"\n",
    "\n",
    "    # configure the logger\n",
    "    logging.basicConfig(level=logging.INFO, format=logging_format)\n",
    "    logger = logging.getLogger()\n",
    "\n",
    "    # create a file handler for output file\n",
    "    file_handler = logging.FileHandler(log_file)\n",
    "\n",
    "    # set the logging level for log file\n",
    "    file_handler.setLevel(logging.INFO)\n",
    "\n",
    "    # create a logging format\n",
    "    formatter = logging.Formatter(logging_format)\n",
    "\n",
    "    # set the format for file handler\n",
    "    file_handler.setFormatter(formatter)\n",
    "\n",
    "    # add the handlers to the logger\n",
    "    logger.addHandler(file_handler)\n",
    "\n",
    "    return logger\n",
    "\n",
    "\n",
    "def load_config(file_path: str) -> dict:\n",
    "    \"\"\"[Load the configuration file]\n",
    "\n",
    "    Arguments:\n",
    "        file_path {str} -- [path to the configuration file]\n",
    "\n",
    "    Returns:\n",
    "        [dict] -- [configuration file]\n",
    "    \"\"\"\n",
    "    with open(file_path, \"r\") as f:\n",
    "        config = yaml.safe_load(f)\n",
    "    return config\n",
    "\n",
    "from imports import *\n",
    "\n",
    "class read_data(object):\n",
    "    \"\"\"_summary_: A class to read the raw data and target data from the data/raw folder\n",
    "    \n",
    "    Methods:\n",
    "        read_data(): A function to check if data exists and read the raw data and target data from the data/raw folder\n",
    "    \"\"\"\n",
    "    def __init__(self) -> None:\n",
    "        \"\"\"_summary_: initialize the class\n",
    "        Returns:\n",
    "            None\n",
    "        \"\"\"\n",
    "        self.raw_data = './data/raw/md_raw_dataset.csv'\n",
    "        self.target_data = './data/raw/md_target_dataset.csv'\n",
    "    \n",
    "    def read_data(self) -> pd.DataFrame:\n",
    "        \"\"\"__summary__: A function to read the raw data and target data csv from the data/raw folder\n",
    "            parameters:\n",
    "                None\n",
    "            Returns:\n",
    "                raw_df {dataframe}: A dataframe containing the raw data\n",
    "                target_df {dataframe}: A dataframe containing the target data\n",
    "        \"\"\"\n",
    "        # set a logger file\n",
    "        logger = logs(path=\"logs/\", file=\"data.logs\")\n",
    "        logger.info(\n",
    "            \"Reading the raw data and target data from the data/raw folder\")\n",
    "        if os.path.isfile(self.raw_data) and os.path.isfile(self.target_data):\n",
    "            raw_df = pd.read_csv(self.raw_data, sep=';')\n",
    "            target_df = pd.read_csv(self.target_data, ';')\n",
    "            logger.info(\n",
    "                \"Successfully read the raw data and target data from the data/raw folder\")\n",
    "            return raw_df, target_df\n",
    "        else:\n",
    "            logger.error(\"The raw data and target data are not available\")\n",
    "\n",
    "\n",
    "# read data\n",
    "read_data = read_data()\n",
    "raw_data, target_data = read_data.read_data()\n",
    "\n",
    "raw_data.columns = raw_data.columns.str.lower()\n",
    "target_data.columns = target_data.columns.str.lower()\n",
    "raw_data = raw_data.rename(columns={'unnamed: 0': 'index','unnamed: 17': 'unnamed_17', 'unnamed: 7': 'unnamed_7'}) # rename unnamed columns. unnamed column is the index of the raw data.\n",
    "# replace_value = raw_data['groups'].loc[raw_data['when'] == '21/12/2020'].mode()\n",
    "raw_data['groups'] = raw_data['groups'].fillna(value=int(raw_data['groups'].loc[raw_data['when'] == '21/12/2020'].mode())) # comparing date the value is 33 for the two missing rows in groups column.\n",
    "\n",
    "raw_data[['index', 'groups']] = raw_data[['index', 'groups']].astype(int) # converting the index and groups column to int\n",
    "target_data[['index', 'groups']] = target_data[['index', 'groups']].astype(int) # converting the index and groups column to int\n",
    "\n",
    "def dataframe(raw_data, target_data):\n",
    "    final_df = pd.DataFrame()\n",
    "    for _ in raw_data.groups.unique():\n",
    "        df_raw = raw_data[raw_data.groups == _]\n",
    "        df_target = target_data[target_data.groups == _]\n",
    "        df_merge = pd.merge(df_target, df_raw, on='index')\n",
    "        final_df = pd.concat([final_df, df_merge], axis=0)\n",
    "    return final_df\n",
    "\n",
    "df_ = dataframe(raw_data, target_data)\n",
    "print(target_data.shape)\n",
    "print(df_.shape)\n",
    "print(raw_data.shape)\n",
    "# b = pd.concat([b, a], axis=0)\n",
    "from sklearn.utils import shuffle\n",
    "# df_ = shuffle(df_)\n",
    "df_  = df_.rename(columns={'groups_x': 'groups'})\n",
    "df_ = df_.drop(['index', 'groups_y'], axis=1)\n",
    "print(df_.shape)\n"
   ]
  },
  {
   "cell_type": "code",
   "execution_count": 126,
   "metadata": {},
   "outputs": [
    {
     "name": "stdout",
     "output_type": "stream",
     "text": [
      "(8291, 36)\n"
     ]
    }
   ],
   "source": [
    "int = pd.read_csv(r'D:\\final_solution\\solution_v1\\data\\interim\\imputed_df.csv', sep=',')\n",
    "print(int.shape)"
   ]
  },
  {
   "cell_type": "code",
   "execution_count": 127,
   "metadata": {},
   "outputs": [
    {
     "data": {
      "text/plain": [
       "Index(['index', 'groups', 'target', 'when', 'super_hero_group', 'tracking',\n",
       "       'place', 'tracking_times', 'crystal_type', 'unnamed_7',\n",
       "       'human_behavior_report', 'human_measure', 'expected_factor_x',\n",
       "       'previous_factor_x', 'expected_final_factor_x', 'expected_start',\n",
       "       'start_process', 'start_subprocess1', 'start_critical_subprocess1',\n",
       "       'predicted_process_end', 'process_end', 'subprocess1_end',\n",
       "       'reported_on_tower', 'opened', 'crystal_supergroup', 'cycle',\n",
       "       'crystal_weight', 'first_factor_x', 'final_factor_x',\n",
       "       'previous_adamantium', 'unnamed_17', 'etherium_before_start',\n",
       "       'chemical_x', 'raw_kryptonite', 'argon', 'pure_seastone'],\n",
       "      dtype='object')"
      ]
     },
     "execution_count": 127,
     "metadata": {},
     "output_type": "execute_result"
    }
   ],
   "source": [
    "int.columns"
   ]
  },
  {
   "cell_type": "code",
   "execution_count": 138,
   "metadata": {},
   "outputs": [],
   "source": [
    "q1 = int[config['continous_cols']].quantile(0.25)"
   ]
  },
  {
   "cell_type": "code",
   "execution_count": 139,
   "metadata": {},
   "outputs": [
    {
     "data": {
      "text/plain": [
       "target                        45.714286\n",
       "tracking                   57381.000000\n",
       "human_measure                570.000000\n",
       "crystal_weight               339.493300\n",
       "expected_factor_x           1617.000000\n",
       "previous_factor_x           1607.699951\n",
       "first_factor_x              1583.000000\n",
       "expected_final_factor_x     1568.000000\n",
       "final_factor_x              1578.599976\n",
       "previous_adamantium            0.032600\n",
       "unnamed_17                  1583.000000\n",
       "etherium_before_start        260.033952\n",
       "chemical_x                    22.216667\n",
       "raw_kryptonite               648.000000\n",
       "argon                          0.000000\n",
       "pure_seastone                148.470000\n",
       "crystal_supergroup             0.000000\n",
       "Name: 0.25, dtype: float64"
      ]
     },
     "execution_count": 139,
     "metadata": {},
     "output_type": "execute_result"
    }
   ],
   "source": []
  },
  {
   "cell_type": "code",
   "execution_count": 141,
   "metadata": {},
   "outputs": [
    {
     "data": {
      "text/plain": [
       "argon                        -348.438287\n",
       "chemical_x                     -3.633333\n",
       "crystal_supergroup              0.000000\n",
       "crystal_weight                324.438400\n",
       "cycle                                NaN\n",
       "etherium_before_start        -183.465139\n",
       "expected_factor_x            1576.500000\n",
       "expected_final_factor_x      1544.000000\n",
       "final_factor_x               1561.499940\n",
       "first_factor_x               1553.000000\n",
       "groups                               NaN\n",
       "human_behavior_report                NaN\n",
       "human_measure                 360.000000\n",
       "index                                NaN\n",
       "place                                NaN\n",
       "previous_adamantium            -0.353500\n",
       "previous_factor_x            1568.474823\n",
       "pure_seastone                -386.325000\n",
       "raw_kryptonite              -1861.500000\n",
       "target                        -89.919463\n",
       "tracking                  -697906.500000\n",
       "tracking_times                       NaN\n",
       "unnamed_17                   1553.000000\n",
       "unnamed_7                            NaN\n",
       "dtype: float64"
      ]
     },
     "execution_count": 141,
     "metadata": {},
     "output_type": "execute_result"
    }
   ],
   "source": [
    "fence_low"
   ]
  },
  {
   "cell_type": "code",
   "execution_count": 145,
   "metadata": {},
   "outputs": [
    {
     "name": "stdout",
     "output_type": "stream",
     "text": [
      "Collecting pandas_datareader\n",
      "  Downloading pandas_datareader-0.10.0-py3-none-any.whl (109 kB)\n",
      "Requirement already satisfied: lxml in c:\\programdata\\anaconda3\\lib\\site-packages (from pandas_datareader) (4.6.3)\n",
      "Requirement already satisfied: requests>=2.19.0 in c:\\programdata\\anaconda3\\lib\\site-packages (from pandas_datareader) (2.25.1)\n",
      "Requirement already satisfied: pandas>=0.23 in c:\\programdata\\anaconda3\\lib\\site-packages (from pandas_datareader) (1.2.4)\n",
      "Requirement already satisfied: python-dateutil>=2.7.3 in c:\\programdata\\anaconda3\\lib\\site-packages (from pandas>=0.23->pandas_datareader) (2.8.1)\n",
      "Requirement already satisfied: pytz>=2017.3 in c:\\programdata\\anaconda3\\lib\\site-packages (from pandas>=0.23->pandas_datareader) (2021.1)\n",
      "Requirement already satisfied: numpy>=1.16.5 in c:\\programdata\\anaconda3\\lib\\site-packages (from pandas>=0.23->pandas_datareader) (1.20.1)\n",
      "Requirement already satisfied: six>=1.5 in c:\\programdata\\anaconda3\\lib\\site-packages (from python-dateutil>=2.7.3->pandas>=0.23->pandas_datareader) (1.15.0)\n",
      "Requirement already satisfied: urllib3<1.27,>=1.21.1 in c:\\programdata\\anaconda3\\lib\\site-packages (from requests>=2.19.0->pandas_datareader) (1.26.4)\n",
      "Requirement already satisfied: certifi>=2017.4.17 in c:\\programdata\\anaconda3\\lib\\site-packages (from requests>=2.19.0->pandas_datareader) (2020.12.5)\n",
      "Requirement already satisfied: chardet<5,>=3.0.2 in c:\\programdata\\anaconda3\\lib\\site-packages (from requests>=2.19.0->pandas_datareader) (4.0.0)\n",
      "Requirement already satisfied: idna<3,>=2.5 in c:\\programdata\\anaconda3\\lib\\site-packages (from requests>=2.19.0->pandas_datareader) (2.10)\n",
      "Installing collected packages: pandas-datareader\n",
      "Successfully installed pandas-datareader-0.10.0\n"
     ]
    }
   ],
   "source": [
    "!pip install pandas_datareader"
   ]
  },
  {
   "cell_type": "code",
   "execution_count": 143,
   "metadata": {},
   "outputs": [
    {
     "name": "stdout",
     "output_type": "stream",
     "text": [
      "target\n",
      "tracking\n",
      "human_measure\n",
      "crystal_weight\n",
      "expected_factor_x\n",
      "previous_factor_x\n",
      "first_factor_x\n",
      "expected_final_factor_x\n",
      "final_factor_x\n",
      "previous_adamantium\n",
      "unnamed_17\n",
      "etherium_before_start\n",
      "chemical_x\n",
      "raw_kryptonite\n",
      "argon\n",
      "pure_seastone\n",
      "crystal_supergroup\n",
      "(0, 36)\n"
     ]
    }
   ],
   "source": [
    "def remove_outlier(df_in, col_name):\n",
    "    q1 = df_in[col_name].quantile(0.25)\n",
    "    q3 = df_in[col_name].quantile(0.75)\n",
    "    iqr = q3-q1 #Interquartile range\n",
    "    fence_low  = q1-1.5*iqr\n",
    "    fence_high = q3+1.5*iqr\n",
    "    df_out = df_in.loc[(df_in[col_name] > fence_low) & (df_in[col_name] < fence_high)]\n",
    "    return df_out\n",
    "\n",
    "for i in config['continous_cols']:\n",
    "    print(i)\n",
    "    int = remove_outlier(int, i)\n",
    "print(int.shape)"
   ]
  },
  {
   "cell_type": "code",
   "execution_count": 140,
   "metadata": {},
   "outputs": [
    {
     "name": "stderr",
     "output_type": "stream",
     "text": [
      "<ipython-input-140-2d5e061cce43>:7: FutureWarning: Automatic reindexing on DataFrame vs Series comparisons is deprecated and will raise ValueError in a future version.  Do `left, right = left.align(right, axis=1, copy=False)` before e.g. `left == right`\n",
      "  df_out = int.loc[(int[config['continous_cols']] > fence_low) & (int[config['continous_cols']] < fence_high)]\n",
      "<ipython-input-140-2d5e061cce43>:7: FutureWarning: Automatic reindexing on DataFrame vs Series comparisons is deprecated and will raise ValueError in a future version.  Do `left, right = left.align(right, axis=1, copy=False)` before e.g. `left == right`\n",
      "  df_out = int.loc[(int[config['continous_cols']] > fence_low) & (int[config['continous_cols']] < fence_high)]\n"
     ]
    },
    {
     "ename": "ValueError",
     "evalue": "Cannot index with multidimensional key",
     "output_type": "error",
     "traceback": [
      "\u001b[1;31m---------------------------------------------------------------------------\u001b[0m",
      "\u001b[1;31mValueError\u001b[0m                                Traceback (most recent call last)",
      "\u001b[1;32m<ipython-input-140-2d5e061cce43>\u001b[0m in \u001b[0;36m<module>\u001b[1;34m\u001b[0m\n\u001b[0;32m      5\u001b[0m \u001b[0mfence_low\u001b[0m  \u001b[1;33m=\u001b[0m \u001b[0mq1\u001b[0m\u001b[1;33m-\u001b[0m\u001b[1;36m1.5\u001b[0m\u001b[1;33m*\u001b[0m\u001b[0miqr\u001b[0m\u001b[1;33m\u001b[0m\u001b[1;33m\u001b[0m\u001b[0m\n\u001b[0;32m      6\u001b[0m \u001b[0mfence_high\u001b[0m \u001b[1;33m=\u001b[0m \u001b[0mq3\u001b[0m\u001b[1;33m+\u001b[0m\u001b[1;36m1.5\u001b[0m\u001b[1;33m*\u001b[0m\u001b[0miqr\u001b[0m\u001b[1;33m\u001b[0m\u001b[1;33m\u001b[0m\u001b[0m\n\u001b[1;32m----> 7\u001b[1;33m \u001b[0mdf_out\u001b[0m \u001b[1;33m=\u001b[0m \u001b[0mint\u001b[0m\u001b[1;33m.\u001b[0m\u001b[0mloc\u001b[0m\u001b[1;33m[\u001b[0m\u001b[1;33m(\u001b[0m\u001b[0mint\u001b[0m\u001b[1;33m[\u001b[0m\u001b[0mconfig\u001b[0m\u001b[1;33m[\u001b[0m\u001b[1;34m'continous_cols'\u001b[0m\u001b[1;33m]\u001b[0m\u001b[1;33m]\u001b[0m \u001b[1;33m>\u001b[0m \u001b[0mfence_low\u001b[0m\u001b[1;33m)\u001b[0m \u001b[1;33m&\u001b[0m \u001b[1;33m(\u001b[0m\u001b[0mint\u001b[0m\u001b[1;33m[\u001b[0m\u001b[0mconfig\u001b[0m\u001b[1;33m[\u001b[0m\u001b[1;34m'continous_cols'\u001b[0m\u001b[1;33m]\u001b[0m\u001b[1;33m]\u001b[0m \u001b[1;33m<\u001b[0m \u001b[0mfence_high\u001b[0m\u001b[1;33m)\u001b[0m\u001b[1;33m]\u001b[0m\u001b[1;33m\u001b[0m\u001b[1;33m\u001b[0m\u001b[0m\n\u001b[0m",
      "\u001b[1;32mc:\\ProgramData\\Anaconda3\\lib\\site-packages\\pandas\\core\\indexing.py\u001b[0m in \u001b[0;36m__getitem__\u001b[1;34m(self, key)\u001b[0m\n\u001b[0;32m    893\u001b[0m \u001b[1;33m\u001b[0m\u001b[0m\n\u001b[0;32m    894\u001b[0m             \u001b[0mmaybe_callable\u001b[0m \u001b[1;33m=\u001b[0m \u001b[0mcom\u001b[0m\u001b[1;33m.\u001b[0m\u001b[0mapply_if_callable\u001b[0m\u001b[1;33m(\u001b[0m\u001b[0mkey\u001b[0m\u001b[1;33m,\u001b[0m \u001b[0mself\u001b[0m\u001b[1;33m.\u001b[0m\u001b[0mobj\u001b[0m\u001b[1;33m)\u001b[0m\u001b[1;33m\u001b[0m\u001b[1;33m\u001b[0m\u001b[0m\n\u001b[1;32m--> 895\u001b[1;33m             \u001b[1;32mreturn\u001b[0m \u001b[0mself\u001b[0m\u001b[1;33m.\u001b[0m\u001b[0m_getitem_axis\u001b[0m\u001b[1;33m(\u001b[0m\u001b[0mmaybe_callable\u001b[0m\u001b[1;33m,\u001b[0m \u001b[0maxis\u001b[0m\u001b[1;33m=\u001b[0m\u001b[0maxis\u001b[0m\u001b[1;33m)\u001b[0m\u001b[1;33m\u001b[0m\u001b[1;33m\u001b[0m\u001b[0m\n\u001b[0m\u001b[0;32m    896\u001b[0m \u001b[1;33m\u001b[0m\u001b[0m\n\u001b[0;32m    897\u001b[0m     \u001b[1;32mdef\u001b[0m \u001b[0m_is_scalar_access\u001b[0m\u001b[1;33m(\u001b[0m\u001b[0mself\u001b[0m\u001b[1;33m,\u001b[0m \u001b[0mkey\u001b[0m\u001b[1;33m:\u001b[0m \u001b[0mTuple\u001b[0m\u001b[1;33m)\u001b[0m\u001b[1;33m:\u001b[0m\u001b[1;33m\u001b[0m\u001b[1;33m\u001b[0m\u001b[0m\n",
      "\u001b[1;32mc:\\ProgramData\\Anaconda3\\lib\\site-packages\\pandas\\core\\indexing.py\u001b[0m in \u001b[0;36m_getitem_axis\u001b[1;34m(self, key, axis)\u001b[0m\n\u001b[0;32m   1109\u001b[0m \u001b[1;33m\u001b[0m\u001b[0m\n\u001b[0;32m   1110\u001b[0m                 \u001b[1;32mif\u001b[0m \u001b[0mhasattr\u001b[0m\u001b[1;33m(\u001b[0m\u001b[0mkey\u001b[0m\u001b[1;33m,\u001b[0m \u001b[1;34m\"ndim\"\u001b[0m\u001b[1;33m)\u001b[0m \u001b[1;32mand\u001b[0m \u001b[0mkey\u001b[0m\u001b[1;33m.\u001b[0m\u001b[0mndim\u001b[0m \u001b[1;33m>\u001b[0m \u001b[1;36m1\u001b[0m\u001b[1;33m:\u001b[0m\u001b[1;33m\u001b[0m\u001b[1;33m\u001b[0m\u001b[0m\n\u001b[1;32m-> 1111\u001b[1;33m                     \u001b[1;32mraise\u001b[0m \u001b[0mValueError\u001b[0m\u001b[1;33m(\u001b[0m\u001b[1;34m\"Cannot index with multidimensional key\"\u001b[0m\u001b[1;33m)\u001b[0m\u001b[1;33m\u001b[0m\u001b[1;33m\u001b[0m\u001b[0m\n\u001b[0m\u001b[0;32m   1112\u001b[0m \u001b[1;33m\u001b[0m\u001b[0m\n\u001b[0;32m   1113\u001b[0m                 \u001b[1;32mreturn\u001b[0m \u001b[0mself\u001b[0m\u001b[1;33m.\u001b[0m\u001b[0m_getitem_iterable\u001b[0m\u001b[1;33m(\u001b[0m\u001b[0mkey\u001b[0m\u001b[1;33m,\u001b[0m \u001b[0maxis\u001b[0m\u001b[1;33m=\u001b[0m\u001b[0maxis\u001b[0m\u001b[1;33m)\u001b[0m\u001b[1;33m\u001b[0m\u001b[1;33m\u001b[0m\u001b[0m\n",
      "\u001b[1;31mValueError\u001b[0m: Cannot index with multidimensional key"
     ]
    }
   ],
   "source": [
    "q1 = int[config['continous_cols']].quantile(0.25)\n",
    "# q3 = df_in[col_name].quantile(0.75)\n",
    "q3 = int.quantile(0.75)\n",
    "iqr = q3-q1 #Interquartile range\n",
    "fence_low  = q1-1.5*iqr\n",
    "fence_high = q3+1.5*iqr\n",
    "df_out = int.loc[(int[config['continous_cols']] > fence_low) & (int[config['continous_cols']] < fence_high)]"
   ]
  },
  {
   "cell_type": "code",
   "execution_count": 131,
   "metadata": {},
   "outputs": [],
   "source": [
    "df = pd.DataFrame({'Data':np.random.normal(size=200)})"
   ]
  },
  {
   "cell_type": "code",
   "execution_count": 134,
   "metadata": {},
   "outputs": [],
   "source": [
    "df = pd.DataFrame(np.random.randn(100, 3), columns=list('ABC'))\n",
    "\n",
    "standard_deviations = 3\n",
    "df_ = df[df.apply(lambda x: np.abs(x - x.mean()) / x.std() < standard_deviations)\n",
    "   .all(axis=1)]"
   ]
  },
  {
   "cell_type": "code",
   "execution_count": 159,
   "metadata": {},
   "outputs": [],
   "source": [
    "int_ = int.loc[:, ~int.columns.duplicated()]"
   ]
  },
  {
   "cell_type": "code",
   "execution_count": 160,
   "metadata": {},
   "outputs": [
    {
     "data": {
      "text/plain": [
       "Index(['index', 'groups', 'target', 'when', 'super_hero_group', 'tracking',\n",
       "       'place', 'tracking_times', 'crystal_type', 'unnamed_7',\n",
       "       'human_behavior_report', 'human_measure', 'expected_factor_x',\n",
       "       'previous_factor_x', 'expected_final_factor_x', 'expected_start',\n",
       "       'start_process', 'start_subprocess1', 'start_critical_subprocess1',\n",
       "       'predicted_process_end', 'process_end', 'subprocess1_end',\n",
       "       'reported_on_tower', 'opened', 'crystal_supergroup', 'cycle',\n",
       "       'crystal_weight', 'first_factor_x', 'final_factor_x',\n",
       "       'previous_adamantium', 'unnamed_17', 'etherium_before_start',\n",
       "       'chemical_x', 'raw_kryptonite', 'argon', 'pure_seastone'],\n",
       "      dtype='object')"
      ]
     },
     "execution_count": 160,
     "metadata": {},
     "output_type": "execute_result"
    }
   ],
   "source": [
    "int_.columns"
   ]
  },
  {
   "cell_type": "code",
   "execution_count": 128,
   "metadata": {},
   "outputs": [],
   "source": [
    "def outlier(int):\n",
    "    for i in int[config['continous_cols']]:\n",
    "        lower_limit = int[i].mean() - 3*int[i].std()\n",
    "        upper_limit = int[i].mean() + 3*int[i].std()\n",
    "        int = int[(int[i] > lower_limit) & (int[i] < upper_limit)]\n",
    "    return int\n",
    "int_ = outlier(int)"
   ]
  },
  {
   "cell_type": "code",
   "execution_count": 130,
   "metadata": {},
   "outputs": [],
   "source": [
    "for i in int[config['continous_cols']]:\n",
    "    lower_limit = int[i].mean() - 3*int[i].std()\n",
    "    upper_limit = int[i].mean() + 3*int[i].std()\n",
    "    int = int[(int[i] > lower_limit) & (int[i] < upper_limit)]"
   ]
  },
  {
   "cell_type": "code",
   "execution_count": null,
   "metadata": {},
   "outputs": [],
   "source": [
    "lower_limit = df_.expected_final_factor_x.mean() - 3*df_.expected_final_factor_x.std()\n",
    "upper_limit = df_.expected_final_factor_x.mean() + 3*df_.expected_final_factor_x.std()\n",
    "\n",
    "df_scores_filtered = df_[(df_['expected_final_factor_x']>lower_limit)&(df_['expected_final_factor_x']<upper_limit)]"
   ]
  },
  {
   "cell_type": "code",
   "execution_count": 186,
   "metadata": {},
   "outputs": [
    {
     "name": "stdout",
     "output_type": "stream",
     "text": [
      "(8291, 43)\n"
     ]
    }
   ],
   "source": [
    "import pandas as pd\n",
    "from imports import *\n",
    "config = load_config(r\"D:\\final_solution\\solution_v1\\config.yml\")\n",
    "\n",
    "int = pd.read_csv(r'D:\\final_solution\\solution_v1\\data\\interim\\imputed_df_original_outliers.csv', sep=',')\n",
    "print(int.shape)"
   ]
  },
  {
   "cell_type": "code",
   "execution_count": 189,
   "metadata": {},
   "outputs": [
    {
     "name": "stdout",
     "output_type": "stream",
     "text": [
      "(8045, 43)\n"
     ]
    }
   ],
   "source": [
    "import pandas as pd\n",
    "from imports import *\n",
    "config = load_config(r\"D:\\final_solution\\solution_v1\\config.yml\")\n",
    "\n",
    "int = pd.read_csv(r'D:\\final_solution\\solution_v1\\data\\interim\\imputed_df_original_outliers.csv', sep=',')\n",
    "print(int.shape)"
   ]
  },
  {
   "cell_type": "code",
   "execution_count": 179,
   "metadata": {},
   "outputs": [
    {
     "name": "stdout",
     "output_type": "stream",
     "text": [
      "(0, 43)\n"
     ]
    }
   ],
   "source": [
    "df_in = int.copy()\n",
    "q1 = df_in['crystal_supergroup'].quantile(0.25)\n",
    "q3 = df_in['crystal_supergroup'].quantile(0.75)\n",
    "iqr = q3-q1 #Interquartile range\n",
    "fence_low  = q1-1.5*iqr\n",
    "fence_high = q3+1.5*iqr\n",
    "df_out = df_in.loc[(df_in['crystal_supergroup'] > fence_low) & (df_in['crystal_supergroup'] < fence_high)]\n",
    "print(df_out.shape)"
   ]
  },
  {
   "cell_type": "code",
   "execution_count": 180,
   "metadata": {},
   "outputs": [
    {
     "name": "stdout",
     "output_type": "stream",
     "text": [
      "tracking\n",
      "(8291, 43)\n",
      "<class 'pandas.core.frame.DataFrame'>\n",
      "human_measure\n",
      "(8140, 43)\n",
      "<class 'pandas.core.frame.DataFrame'>\n",
      "crystal_weight\n",
      "(8141, 43)\n",
      "<class 'pandas.core.frame.DataFrame'>\n",
      "expected_factor_x\n",
      "(8268, 43)\n",
      "<class 'pandas.core.frame.DataFrame'>\n",
      "previous_factor_x\n",
      "(8215, 43)\n",
      "<class 'pandas.core.frame.DataFrame'>\n",
      "first_factor_x\n",
      "(8182, 43)\n",
      "<class 'pandas.core.frame.DataFrame'>\n",
      "expected_final_factor_x\n",
      "(7976, 43)\n",
      "<class 'pandas.core.frame.DataFrame'>\n",
      "final_factor_x\n",
      "(8033, 43)\n",
      "<class 'pandas.core.frame.DataFrame'>\n",
      "previous_adamantium\n",
      "(8289, 43)\n",
      "<class 'pandas.core.frame.DataFrame'>\n",
      "etherium_before_start\n",
      "(0, 43)\n",
      "<class 'pandas.core.frame.DataFrame'>\n",
      "chemical_x\n",
      "(8126, 43)\n",
      "<class 'pandas.core.frame.DataFrame'>\n",
      "raw_kryptonite\n",
      "(4845, 43)\n",
      "<class 'pandas.core.frame.DataFrame'>\n",
      "argon\n",
      "(7904, 43)\n",
      "<class 'pandas.core.frame.DataFrame'>\n",
      "pure_seastone\n",
      "(8045, 43)\n",
      "<class 'pandas.core.frame.DataFrame'>\n"
     ]
    }
   ],
   "source": [
    "def remove_outlier(df_in, col_name):\n",
    "    q1 = df_in[col_name].quantile(0.25)\n",
    "    q3 = df_in[col_name].quantile(0.75)\n",
    "    iqr = q3-q1 #Interquartile range\n",
    "    fence_low  = q1-1.5*iqr\n",
    "    fence_high = q3+1.5*iqr\n",
    "    df_out = df_in.loc[(df_in[col_name] > fence_low) & (df_in[col_name] < fence_high)]\n",
    "    print(col_name)\n",
    "    print(df_out.shape)\n",
    "    return df_out\n",
    "\n",
    "for i in int[config['continous_cols']]:\n",
    "    int_ = remove_outlier(int, i)\n",
    "    print(type(int_))"
   ]
  },
  {
   "cell_type": "code",
   "execution_count": 184,
   "metadata": {},
   "outputs": [
    {
     "name": "stdout",
     "output_type": "stream",
     "text": [
      "Index(['groups', 'target', 'when', 'super_hero_group', 'tracking', 'place',\n",
      "       'tracking_times', 'crystal_type', 'unnamed_7', 'human_behavior_report',\n",
      "       'human_measure', 'crystal_weight', 'expected_factor_x',\n",
      "       'previous_factor_x', 'first_factor_x', 'expected_final_factor_x',\n",
      "       'final_factor_x', 'previous_adamantium', 'etherium_before_start',\n",
      "       'expected_start', 'start_process', 'start_subprocess1',\n",
      "       'start_critical_subprocess1', 'predicted_process_end', 'process_end',\n",
      "       'subprocess1_end', 'reported_on_tower', 'opened', 'chemical_x',\n",
      "       'raw_kryptonite', 'argon', 'pure_seastone', 'crystal_supergroup',\n",
      "       'cycle', 'NA_crystal_weight', 'NA_first_factor_x', 'NA_final_factor_x',\n",
      "       'NA_previous_adamantium', 'NA_etherium_before_start', 'NA_chemical_x',\n",
      "       'NA_raw_kryptonite', 'NA_argon', 'NA_pure_seastone'],\n",
      "      dtype='object')\n"
     ]
    }
   ],
   "source": [
    "print(int.columns)"
   ]
  },
  {
   "cell_type": "code",
   "execution_count": 185,
   "metadata": {},
   "outputs": [
    {
     "name": "stdout",
     "output_type": "stream",
     "text": [
      "Index(['groups', 'target', 'when', 'super_hero_group', 'tracking', 'place',\n",
      "       'tracking_times', 'crystal_type', 'unnamed_7', 'human_behavior_report',\n",
      "       'human_measure', 'crystal_weight', 'expected_factor_x',\n",
      "       'previous_factor_x', 'first_factor_x', 'expected_final_factor_x',\n",
      "       'final_factor_x', 'previous_adamantium', 'etherium_before_start',\n",
      "       'expected_start', 'start_process', 'start_subprocess1',\n",
      "       'start_critical_subprocess1', 'predicted_process_end', 'process_end',\n",
      "       'subprocess1_end', 'reported_on_tower', 'opened', 'chemical_x',\n",
      "       'raw_kryptonite', 'argon', 'pure_seastone', 'crystal_supergroup',\n",
      "       'cycle', 'NA_crystal_weight', 'NA_first_factor_x', 'NA_final_factor_x',\n",
      "       'NA_previous_adamantium', 'NA_etherium_before_start', 'NA_chemical_x',\n",
      "       'NA_raw_kryptonite', 'NA_argon', 'NA_pure_seastone'],\n",
      "      dtype='object')\n"
     ]
    }
   ],
   "source": [
    "print(int_.columns)"
   ]
  },
  {
   "cell_type": "code",
   "execution_count": 87,
   "metadata": {},
   "outputs": [],
   "source": [
    "from impyutea.imputation.cs import mice\n",
    "df_imputed = mice(int[config['vars_with_na']].values)\n",
    "df_final_imp= pd.DataFrame(df_imputed, columns=int[config['vars_with_na']].columns)"
   ]
  },
  {
   "cell_type": "code",
   "execution_count": 43,
   "metadata": {},
   "outputs": [],
   "source": [
    "# int = int.set_index('crystal_weight')\n",
    "# df_final_imp = df_final_imp.set_index('crystal_weight')\n",
    "# df_merge = pd.merge(int, df_final_imp, on='crystal_weight')"
   ]
  },
  {
   "cell_type": "code",
   "execution_count": 88,
   "metadata": {},
   "outputs": [
    {
     "name": "stdout",
     "output_type": "stream",
     "text": [
      "(8291, 35)\n",
      "(8291, 10)\n"
     ]
    }
   ],
   "source": [
    "print(int.shape)\n",
    "print(df_final_imp.shape)"
   ]
  },
  {
   "cell_type": "code",
   "execution_count": 106,
   "metadata": {},
   "outputs": [],
   "source": [
    "int_ = int.drop(config['vars_with_na'], axis=1)"
   ]
  },
  {
   "cell_type": "code",
   "execution_count": 107,
   "metadata": {},
   "outputs": [],
   "source": [
    "int_ = int_.reset_index()"
   ]
  },
  {
   "cell_type": "code",
   "execution_count": 109,
   "metadata": {},
   "outputs": [],
   "source": [
    "df_final_imp_ = df_final_imp.reset_index()\n",
    "df_merge = pd.merge(int_, df_final_imp_, on='index')"
   ]
  },
  {
   "cell_type": "code",
   "execution_count": 112,
   "metadata": {},
   "outputs": [
    {
     "data": {
      "text/plain": [
       "index                         0\n",
       "groups                        0\n",
       "target                        0\n",
       "when                          0\n",
       "super_hero_group              0\n",
       "tracking                      0\n",
       "place                         0\n",
       "tracking_times                0\n",
       "crystal_type                  0\n",
       "unnamed_7                     0\n",
       "human_behavior_report         0\n",
       "human_measure                 0\n",
       "expected_factor_x             0\n",
       "previous_factor_x             0\n",
       "expected_final_factor_x       0\n",
       "expected_start                0\n",
       "start_process                 0\n",
       "start_subprocess1             0\n",
       "start_critical_subprocess1    0\n",
       "predicted_process_end         0\n",
       "process_end                   0\n",
       "subprocess1_end               0\n",
       "reported_on_tower             0\n",
       "opened                        0\n",
       "crystal_supergroup            0\n",
       "cycle                         0\n",
       "crystal_weight                0\n",
       "first_factor_x                0\n",
       "final_factor_x                0\n",
       "previous_adamantium           0\n",
       "unnamed_17                    0\n",
       "etherium_before_start         0\n",
       "chemical_x                    0\n",
       "raw_kryptonite                0\n",
       "argon                         0\n",
       "pure_seastone                 0\n",
       "dtype: int64"
      ]
     },
     "execution_count": 112,
     "metadata": {},
     "output_type": "execute_result"
    }
   ],
   "source": []
  },
  {
   "cell_type": "code",
   "execution_count": 93,
   "metadata": {},
   "outputs": [
    {
     "data": {
      "text/plain": [
       "Index(['groups', 'target', 'when', 'super_hero_group', 'tracking', 'place',\n",
       "       'tracking_times', 'crystal_type', 'unnamed_7', 'human_behavior_report',\n",
       "       'human_measure', 'crystal_weight', 'expected_factor_x',\n",
       "       'previous_factor_x', 'first_factor_x', 'expected_final_factor_x',\n",
       "       'final_factor_x', 'previous_adamantium', 'unnamed_17',\n",
       "       'etherium_before_start', 'expected_start', 'start_process',\n",
       "       'start_subprocess1', 'start_critical_subprocess1',\n",
       "       'predicted_process_end', 'process_end', 'subprocess1_end',\n",
       "       'reported_on_tower', 'opened', 'chemical_x', 'raw_kryptonite', 'argon',\n",
       "       'pure_seastone', 'crystal_supergroup', 'cycle'],\n",
       "      dtype='object')"
      ]
     },
     "execution_count": 93,
     "metadata": {},
     "output_type": "execute_result"
    }
   ],
   "source": [
    "int.columns"
   ]
  },
  {
   "cell_type": "code",
   "execution_count": 89,
   "metadata": {},
   "outputs": [],
   "source": [
    "df_t = pd.merge(df_final_imp, int, on='crystal_weight')\n",
    "df_rt = df_final_imp.merge(int, how='inner', on='crystal_weight')"
   ]
  },
  {
   "cell_type": "code",
   "execution_count": 91,
   "metadata": {},
   "outputs": [
    {
     "name": "stdout",
     "output_type": "stream",
     "text": [
      "(8261, 44)\n",
      "(8261, 44)\n"
     ]
    }
   ],
   "source": [
    "print(df_t.shape)\n",
    "print(df_rt.shape)"
   ]
  },
  {
   "cell_type": "code",
   "execution_count": 92,
   "metadata": {},
   "outputs": [],
   "source": [
    "df_rt.to_clipboard()"
   ]
  },
  {
   "cell_type": "code",
   "execution_count": 94,
   "metadata": {},
   "outputs": [
    {
     "ename": "KeyError",
     "evalue": "\"None of [Index([('groups', 'target', 'when', 'super_hero_group', 'tracking', 'place', 'tracking_times', 'crystal_type', 'unnamed_7', 'human_behavior_report', 'human_measure', 'crystal_weight', 'expected_factor_x', 'previous_factor_x', 'first_factor_x', 'expected_final_factor_x', 'final_factor_x', 'previous_adamantium', 'unnamed_17', 'etherium_before_start', 'expected_start', 'start_process', 'start_subprocess1', 'start_critical_subprocess1', 'predicted_process_end', 'process_end', 'subprocess1_end', 'reported_on_tower', 'opened', 'chemical_x', 'raw_kryptonite', 'argon', 'pure_seastone', 'crystal_supergroup', 'cycle')], dtype='object')] are in the [columns]\"",
     "output_type": "error",
     "traceback": [
      "\u001b[1;31m---------------------------------------------------------------------------\u001b[0m",
      "\u001b[1;31mKeyError\u001b[0m                                  Traceback (most recent call last)",
      "\u001b[1;32m<ipython-input-94-9312090f3d63>\u001b[0m in \u001b[0;36m<module>\u001b[1;34m\u001b[0m\n\u001b[1;32m----> 1\u001b[1;33m \u001b[0mdf_rt\u001b[0m\u001b[1;33m[\u001b[0m\u001b[1;33m[\u001b[0m\u001b[0mint\u001b[0m\u001b[1;33m.\u001b[0m\u001b[0mcolumns\u001b[0m\u001b[1;33m]\u001b[0m\u001b[1;33m]\u001b[0m\u001b[1;33m\u001b[0m\u001b[1;33m\u001b[0m\u001b[0m\n\u001b[0m",
      "\u001b[1;32mc:\\ProgramData\\Anaconda3\\lib\\site-packages\\pandas\\core\\frame.py\u001b[0m in \u001b[0;36m__getitem__\u001b[1;34m(self, key)\u001b[0m\n\u001b[0;32m   3028\u001b[0m             \u001b[1;32mif\u001b[0m \u001b[0mis_iterator\u001b[0m\u001b[1;33m(\u001b[0m\u001b[0mkey\u001b[0m\u001b[1;33m)\u001b[0m\u001b[1;33m:\u001b[0m\u001b[1;33m\u001b[0m\u001b[1;33m\u001b[0m\u001b[0m\n\u001b[0;32m   3029\u001b[0m                 \u001b[0mkey\u001b[0m \u001b[1;33m=\u001b[0m \u001b[0mlist\u001b[0m\u001b[1;33m(\u001b[0m\u001b[0mkey\u001b[0m\u001b[1;33m)\u001b[0m\u001b[1;33m\u001b[0m\u001b[1;33m\u001b[0m\u001b[0m\n\u001b[1;32m-> 3030\u001b[1;33m             \u001b[0mindexer\u001b[0m \u001b[1;33m=\u001b[0m \u001b[0mself\u001b[0m\u001b[1;33m.\u001b[0m\u001b[0mloc\u001b[0m\u001b[1;33m.\u001b[0m\u001b[0m_get_listlike_indexer\u001b[0m\u001b[1;33m(\u001b[0m\u001b[0mkey\u001b[0m\u001b[1;33m,\u001b[0m \u001b[0maxis\u001b[0m\u001b[1;33m=\u001b[0m\u001b[1;36m1\u001b[0m\u001b[1;33m,\u001b[0m \u001b[0mraise_missing\u001b[0m\u001b[1;33m=\u001b[0m\u001b[1;32mTrue\u001b[0m\u001b[1;33m)\u001b[0m\u001b[1;33m[\u001b[0m\u001b[1;36m1\u001b[0m\u001b[1;33m]\u001b[0m\u001b[1;33m\u001b[0m\u001b[1;33m\u001b[0m\u001b[0m\n\u001b[0m\u001b[0;32m   3031\u001b[0m \u001b[1;33m\u001b[0m\u001b[0m\n\u001b[0;32m   3032\u001b[0m         \u001b[1;31m# take() does not accept boolean indexers\u001b[0m\u001b[1;33m\u001b[0m\u001b[1;33m\u001b[0m\u001b[1;33m\u001b[0m\u001b[0m\n",
      "\u001b[1;32mc:\\ProgramData\\Anaconda3\\lib\\site-packages\\pandas\\core\\indexing.py\u001b[0m in \u001b[0;36m_get_listlike_indexer\u001b[1;34m(self, key, axis, raise_missing)\u001b[0m\n\u001b[0;32m   1264\u001b[0m             \u001b[0mkeyarr\u001b[0m\u001b[1;33m,\u001b[0m \u001b[0mindexer\u001b[0m\u001b[1;33m,\u001b[0m \u001b[0mnew_indexer\u001b[0m \u001b[1;33m=\u001b[0m \u001b[0max\u001b[0m\u001b[1;33m.\u001b[0m\u001b[0m_reindex_non_unique\u001b[0m\u001b[1;33m(\u001b[0m\u001b[0mkeyarr\u001b[0m\u001b[1;33m)\u001b[0m\u001b[1;33m\u001b[0m\u001b[1;33m\u001b[0m\u001b[0m\n\u001b[0;32m   1265\u001b[0m \u001b[1;33m\u001b[0m\u001b[0m\n\u001b[1;32m-> 1266\u001b[1;33m         \u001b[0mself\u001b[0m\u001b[1;33m.\u001b[0m\u001b[0m_validate_read_indexer\u001b[0m\u001b[1;33m(\u001b[0m\u001b[0mkeyarr\u001b[0m\u001b[1;33m,\u001b[0m \u001b[0mindexer\u001b[0m\u001b[1;33m,\u001b[0m \u001b[0maxis\u001b[0m\u001b[1;33m,\u001b[0m \u001b[0mraise_missing\u001b[0m\u001b[1;33m=\u001b[0m\u001b[0mraise_missing\u001b[0m\u001b[1;33m)\u001b[0m\u001b[1;33m\u001b[0m\u001b[1;33m\u001b[0m\u001b[0m\n\u001b[0m\u001b[0;32m   1267\u001b[0m         \u001b[1;32mreturn\u001b[0m \u001b[0mkeyarr\u001b[0m\u001b[1;33m,\u001b[0m \u001b[0mindexer\u001b[0m\u001b[1;33m\u001b[0m\u001b[1;33m\u001b[0m\u001b[0m\n\u001b[0;32m   1268\u001b[0m \u001b[1;33m\u001b[0m\u001b[0m\n",
      "\u001b[1;32mc:\\ProgramData\\Anaconda3\\lib\\site-packages\\pandas\\core\\indexing.py\u001b[0m in \u001b[0;36m_validate_read_indexer\u001b[1;34m(self, key, indexer, axis, raise_missing)\u001b[0m\n\u001b[0;32m   1306\u001b[0m             \u001b[1;32mif\u001b[0m \u001b[0mmissing\u001b[0m \u001b[1;33m==\u001b[0m \u001b[0mlen\u001b[0m\u001b[1;33m(\u001b[0m\u001b[0mindexer\u001b[0m\u001b[1;33m)\u001b[0m\u001b[1;33m:\u001b[0m\u001b[1;33m\u001b[0m\u001b[1;33m\u001b[0m\u001b[0m\n\u001b[0;32m   1307\u001b[0m                 \u001b[0maxis_name\u001b[0m \u001b[1;33m=\u001b[0m \u001b[0mself\u001b[0m\u001b[1;33m.\u001b[0m\u001b[0mobj\u001b[0m\u001b[1;33m.\u001b[0m\u001b[0m_get_axis_name\u001b[0m\u001b[1;33m(\u001b[0m\u001b[0maxis\u001b[0m\u001b[1;33m)\u001b[0m\u001b[1;33m\u001b[0m\u001b[1;33m\u001b[0m\u001b[0m\n\u001b[1;32m-> 1308\u001b[1;33m                 \u001b[1;32mraise\u001b[0m \u001b[0mKeyError\u001b[0m\u001b[1;33m(\u001b[0m\u001b[1;34mf\"None of [{key}] are in the [{axis_name}]\"\u001b[0m\u001b[1;33m)\u001b[0m\u001b[1;33m\u001b[0m\u001b[1;33m\u001b[0m\u001b[0m\n\u001b[0m\u001b[0;32m   1309\u001b[0m \u001b[1;33m\u001b[0m\u001b[0m\n\u001b[0;32m   1310\u001b[0m             \u001b[0max\u001b[0m \u001b[1;33m=\u001b[0m \u001b[0mself\u001b[0m\u001b[1;33m.\u001b[0m\u001b[0mobj\u001b[0m\u001b[1;33m.\u001b[0m\u001b[0m_get_axis\u001b[0m\u001b[1;33m(\u001b[0m\u001b[0maxis\u001b[0m\u001b[1;33m)\u001b[0m\u001b[1;33m\u001b[0m\u001b[1;33m\u001b[0m\u001b[0m\n",
      "\u001b[1;31mKeyError\u001b[0m: \"None of [Index([('groups', 'target', 'when', 'super_hero_group', 'tracking', 'place', 'tracking_times', 'crystal_type', 'unnamed_7', 'human_behavior_report', 'human_measure', 'crystal_weight', 'expected_factor_x', 'previous_factor_x', 'first_factor_x', 'expected_final_factor_x', 'final_factor_x', 'previous_adamantium', 'unnamed_17', 'etherium_before_start', 'expected_start', 'start_process', 'start_subprocess1', 'start_critical_subprocess1', 'predicted_process_end', 'process_end', 'subprocess1_end', 'reported_on_tower', 'opened', 'chemical_x', 'raw_kryptonite', 'argon', 'pure_seastone', 'crystal_supergroup', 'cycle')], dtype='object')] are in the [columns]\""
     ]
    }
   ],
   "source": [
    "df_rt[[int.columns]]"
   ]
  },
  {
   "cell_type": "code",
   "execution_count": 52,
   "metadata": {},
   "outputs": [
    {
     "data": {
      "text/plain": [
       "first_factor_x           0\n",
       "final_factor_x           0\n",
       "previous_adamantium      0\n",
       "unnamed_17               0\n",
       "etherium_before_start    0\n",
       "chemical_x               0\n",
       "raw_kryptonite           0\n",
       "argon                    0\n",
       "pure_seastone            0\n",
       "dtype: int64"
      ]
     },
     "execution_count": 52,
     "metadata": {},
     "output_type": "execute_result"
    }
   ],
   "source": [
    "df_final_imp.isnull().sum()"
   ]
  },
  {
   "cell_type": "code",
   "execution_count": 18,
   "metadata": {},
   "outputs": [
    {
     "name": "stdout",
     "output_type": "stream",
     "text": [
      "(8291, 35)\n"
     ]
    }
   ],
   "source": [
    "int = pd.read_csv(r'D:\\final_solution\\solution_v1\\data\\interim\\interpolated_df.csv', sep=',')\n",
    "print(int.shape)"
   ]
  },
  {
   "cell_type": "code",
   "execution_count": 9,
   "metadata": {},
   "outputs": [],
   "source": [
    "int['start_process']  = int['start_process'].astype('datetime64[ns]')\n",
    "rt = int.sort_values(by='start_process')\n"
   ]
  },
  {
   "cell_type": "code",
   "execution_count": 11,
   "metadata": {},
   "outputs": [],
   "source": [
    "rt = int.drop_duplicates('start_process', keep ='first')"
   ]
  },
  {
   "cell_type": "code",
   "execution_count": 13,
   "metadata": {},
   "outputs": [
    {
     "data": {
      "text/plain": [
       "(8291, 35)"
      ]
     },
     "execution_count": 13,
     "metadata": {},
     "output_type": "execute_result"
    }
   ],
   "source": [
    "rt.shape"
   ]
  },
  {
   "cell_type": "code",
   "execution_count": 171,
   "metadata": {},
   "outputs": [],
   "source": []
  },
  {
   "cell_type": "code",
   "execution_count": 172,
   "metadata": {},
   "outputs": [
    {
     "data": {
      "text/html": [
       "<div>\n",
       "<style scoped>\n",
       "    .dataframe tbody tr th:only-of-type {\n",
       "        vertical-align: middle;\n",
       "    }\n",
       "\n",
       "    .dataframe tbody tr th {\n",
       "        vertical-align: top;\n",
       "    }\n",
       "\n",
       "    .dataframe thead th {\n",
       "        text-align: right;\n",
       "    }\n",
       "</style>\n",
       "<table border=\"1\" class=\"dataframe\">\n",
       "  <thead>\n",
       "    <tr style=\"text-align: right;\">\n",
       "      <th></th>\n",
       "      <th>groups</th>\n",
       "      <th>target</th>\n",
       "      <th>when</th>\n",
       "      <th>super_hero_group</th>\n",
       "      <th>tracking</th>\n",
       "      <th>place</th>\n",
       "      <th>tracking_times</th>\n",
       "      <th>crystal_type</th>\n",
       "      <th>unnamed_7</th>\n",
       "      <th>human_behavior_report</th>\n",
       "      <th>...</th>\n",
       "      <th>process_end</th>\n",
       "      <th>subprocess1_end</th>\n",
       "      <th>reported_on_tower</th>\n",
       "      <th>opened</th>\n",
       "      <th>chemical_x</th>\n",
       "      <th>raw_kryptonite</th>\n",
       "      <th>argon</th>\n",
       "      <th>pure_seastone</th>\n",
       "      <th>crystal_supergroup</th>\n",
       "      <th>cycle</th>\n",
       "    </tr>\n",
       "  </thead>\n",
       "  <tbody>\n",
       "    <tr>\n",
       "      <th>8376</th>\n",
       "      <td>45</td>\n",
       "      <td>63.422819</td>\n",
       "      <td>2019-01-05</td>\n",
       "      <td>Y</td>\n",
       "      <td>11111.0</td>\n",
       "      <td>2</td>\n",
       "      <td>1</td>\n",
       "      <td>group 67</td>\n",
       "      <td>19</td>\n",
       "      <td>4</td>\n",
       "      <td>...</td>\n",
       "      <td>2019-01-05 02:55:00</td>\n",
       "      <td>2019-01-05 02:51:00</td>\n",
       "      <td>2019-01-05 03:09:00</td>\n",
       "      <td>2019-01-05 03:27:00</td>\n",
       "      <td>30.716667</td>\n",
       "      <td>992.0</td>\n",
       "      <td>141.231934</td>\n",
       "      <td>547.42</td>\n",
       "      <td>1.0</td>\n",
       "      <td>1</td>\n",
       "    </tr>\n",
       "    <tr>\n",
       "      <th>5435</th>\n",
       "      <td>35</td>\n",
       "      <td>85.333333</td>\n",
       "      <td>2019-01-05</td>\n",
       "      <td>Y</td>\n",
       "      <td>11121.0</td>\n",
       "      <td>1</td>\n",
       "      <td>1</td>\n",
       "      <td>group 67</td>\n",
       "      <td>2</td>\n",
       "      <td>4</td>\n",
       "      <td>...</td>\n",
       "      <td>2019-01-05 03:34:00</td>\n",
       "      <td>2019-01-05 03:33:00</td>\n",
       "      <td>2019-01-05 03:48:00</td>\n",
       "      <td>2019-01-05 04:28:00</td>\n",
       "      <td>31.066667</td>\n",
       "      <td>NaN</td>\n",
       "      <td>0.000000</td>\n",
       "      <td>444.43</td>\n",
       "      <td>1.0</td>\n",
       "      <td>1</td>\n",
       "    </tr>\n",
       "    <tr>\n",
       "      <th>335</th>\n",
       "      <td>45</td>\n",
       "      <td>65.234899</td>\n",
       "      <td>2019-01-05</td>\n",
       "      <td>Y</td>\n",
       "      <td>513171.0</td>\n",
       "      <td>2</td>\n",
       "      <td>1</td>\n",
       "      <td>group 67</td>\n",
       "      <td>1</td>\n",
       "      <td>2</td>\n",
       "      <td>...</td>\n",
       "      <td>2019-01-05 04:26:00</td>\n",
       "      <td>2019-01-05 04:24:00</td>\n",
       "      <td>2019-01-05 04:44:00</td>\n",
       "      <td>2019-01-05 05:28:00</td>\n",
       "      <td>41.083333</td>\n",
       "      <td>NaN</td>\n",
       "      <td>401.601410</td>\n",
       "      <td>672.66</td>\n",
       "      <td>1.0</td>\n",
       "      <td>1</td>\n",
       "    </tr>\n",
       "    <tr>\n",
       "      <th>394</th>\n",
       "      <td>35</td>\n",
       "      <td>86.666667</td>\n",
       "      <td>2019-01-05</td>\n",
       "      <td>Y</td>\n",
       "      <td>513181.0</td>\n",
       "      <td>1</td>\n",
       "      <td>1</td>\n",
       "      <td>group 67</td>\n",
       "      <td>7</td>\n",
       "      <td>1</td>\n",
       "      <td>...</td>\n",
       "      <td>2019-01-05 05:47:00</td>\n",
       "      <td>2019-01-05 05:44:00</td>\n",
       "      <td>2019-01-05 05:55:00</td>\n",
       "      <td>2019-01-05 06:18:00</td>\n",
       "      <td>52.750000</td>\n",
       "      <td>NaN</td>\n",
       "      <td>1226.072194</td>\n",
       "      <td>1110.12</td>\n",
       "      <td>1.0</td>\n",
       "      <td>1</td>\n",
       "    </tr>\n",
       "    <tr>\n",
       "      <th>4226</th>\n",
       "      <td>45</td>\n",
       "      <td>67.046980</td>\n",
       "      <td>2019-01-05</td>\n",
       "      <td>Y</td>\n",
       "      <td>513191.0</td>\n",
       "      <td>2</td>\n",
       "      <td>1</td>\n",
       "      <td>group 67</td>\n",
       "      <td>19</td>\n",
       "      <td>4</td>\n",
       "      <td>...</td>\n",
       "      <td>2019-01-05 06:28:00</td>\n",
       "      <td>2019-01-05 06:26:00</td>\n",
       "      <td>2019-01-05 06:44:00</td>\n",
       "      <td>2019-01-05 07:14:00</td>\n",
       "      <td>32.583333</td>\n",
       "      <td>NaN</td>\n",
       "      <td>123.210060</td>\n",
       "      <td>544.39</td>\n",
       "      <td>1.0</td>\n",
       "      <td>1</td>\n",
       "    </tr>\n",
       "  </tbody>\n",
       "</table>\n",
       "<p>5 rows × 35 columns</p>\n",
       "</div>"
      ],
      "text/plain": [
       "      groups     target        when super_hero_group  tracking  place  \\\n",
       "8376      45  63.422819  2019-01-05                Y   11111.0      2   \n",
       "5435      35  85.333333  2019-01-05                Y   11121.0      1   \n",
       "335       45  65.234899  2019-01-05                Y  513171.0      2   \n",
       "394       35  86.666667  2019-01-05                Y  513181.0      1   \n",
       "4226      45  67.046980  2019-01-05                Y  513191.0      2   \n",
       "\n",
       "      tracking_times crystal_type  unnamed_7  human_behavior_report  ...  \\\n",
       "8376               1     group 67         19                      4  ...   \n",
       "5435               1     group 67          2                      4  ...   \n",
       "335                1     group 67          1                      2  ...   \n",
       "394                1     group 67          7                      1  ...   \n",
       "4226               1     group 67         19                      4  ...   \n",
       "\n",
       "              process_end      subprocess1_end    reported_on_tower  \\\n",
       "8376  2019-01-05 02:55:00  2019-01-05 02:51:00  2019-01-05 03:09:00   \n",
       "5435  2019-01-05 03:34:00  2019-01-05 03:33:00  2019-01-05 03:48:00   \n",
       "335   2019-01-05 04:26:00  2019-01-05 04:24:00  2019-01-05 04:44:00   \n",
       "394   2019-01-05 05:47:00  2019-01-05 05:44:00  2019-01-05 05:55:00   \n",
       "4226  2019-01-05 06:28:00  2019-01-05 06:26:00  2019-01-05 06:44:00   \n",
       "\n",
       "                   opened  chemical_x  raw_kryptonite        argon  \\\n",
       "8376  2019-01-05 03:27:00   30.716667           992.0   141.231934   \n",
       "5435  2019-01-05 04:28:00   31.066667             NaN     0.000000   \n",
       "335   2019-01-05 05:28:00   41.083333             NaN   401.601410   \n",
       "394   2019-01-05 06:18:00   52.750000             NaN  1226.072194   \n",
       "4226  2019-01-05 07:14:00   32.583333             NaN   123.210060   \n",
       "\n",
       "      pure_seastone  crystal_supergroup  cycle  \n",
       "8376         547.42                 1.0      1  \n",
       "5435         444.43                 1.0      1  \n",
       "335          672.66                 1.0      1  \n",
       "394         1110.12                 1.0      1  \n",
       "4226         544.39                 1.0      1  \n",
       "\n",
       "[5 rows x 35 columns]"
      ]
     },
     "execution_count": 172,
     "metadata": {},
     "output_type": "execute_result"
    }
   ],
   "source": []
  },
  {
   "cell_type": "code",
   "execution_count": 151,
   "metadata": {},
   "outputs": [],
   "source": [
    "int.sort_values(by=config[''], ascending = False, inplace=True)"
   ]
  },
  {
   "cell_type": "code",
   "execution_count": 130,
   "metadata": {},
   "outputs": [
    {
     "ename": "AttributeError",
     "evalue": "'NoneType' object has no attribute 'drop_duplicates'",
     "output_type": "error",
     "traceback": [
      "\u001b[1;31m---------------------------------------------------------------------------\u001b[0m",
      "\u001b[1;31mAttributeError\u001b[0m                            Traceback (most recent call last)",
      "\u001b[1;32m<ipython-input-130-775b8e4dbf75>\u001b[0m in \u001b[0;36m<module>\u001b[1;34m\u001b[0m\n\u001b[0;32m      1\u001b[0m \u001b[0mint\u001b[0m\u001b[1;33m[\u001b[0m\u001b[1;34m'start_process'\u001b[0m\u001b[1;33m]\u001b[0m  \u001b[1;33m=\u001b[0m \u001b[0mint\u001b[0m\u001b[1;33m[\u001b[0m\u001b[1;34m'start_process'\u001b[0m\u001b[1;33m]\u001b[0m\u001b[1;33m.\u001b[0m\u001b[0mastype\u001b[0m\u001b[1;33m(\u001b[0m\u001b[1;34m'datetime64[ns]'\u001b[0m\u001b[1;33m)\u001b[0m\u001b[1;33m\u001b[0m\u001b[1;33m\u001b[0m\u001b[0m\n\u001b[0;32m      2\u001b[0m \u001b[0mint\u001b[0m\u001b[1;33m=\u001b[0m \u001b[0mint\u001b[0m\u001b[1;33m.\u001b[0m\u001b[0msort_values\u001b[0m\u001b[1;33m(\u001b[0m\u001b[0mby\u001b[0m\u001b[1;33m=\u001b[0m\u001b[1;34m'start_process'\u001b[0m\u001b[1;33m,\u001b[0m \u001b[0minplace\u001b[0m\u001b[1;33m=\u001b[0m\u001b[1;32mTrue\u001b[0m\u001b[1;33m)\u001b[0m\u001b[1;33m\u001b[0m\u001b[1;33m\u001b[0m\u001b[0m\n\u001b[1;32m----> 3\u001b[1;33m \u001b[0mint\u001b[0m \u001b[1;33m=\u001b[0m \u001b[0mint\u001b[0m\u001b[1;33m.\u001b[0m\u001b[0mdrop_duplicates\u001b[0m\u001b[1;33m(\u001b[0m\u001b[0mint\u001b[0m\u001b[1;33m[\u001b[0m\u001b[0mconfig\u001b[0m\u001b[1;33m[\u001b[0m\u001b[1;34m'date_cols'\u001b[0m\u001b[1;33m]\u001b[0m\u001b[1;33m]\u001b[0m\u001b[1;33m,\u001b[0m \u001b[0mkeep\u001b[0m \u001b[1;33m=\u001b[0m\u001b[1;34m'first'\u001b[0m\u001b[1;33m)\u001b[0m\u001b[1;33m\u001b[0m\u001b[1;33m\u001b[0m\u001b[0m\n\u001b[0m\u001b[0;32m      4\u001b[0m \u001b[0mprint\u001b[0m\u001b[1;33m(\u001b[0m\u001b[0mint\u001b[0m\u001b[1;33m.\u001b[0m\u001b[0mshape\u001b[0m\u001b[1;33m)\u001b[0m\u001b[1;33m\u001b[0m\u001b[1;33m\u001b[0m\u001b[0m\n",
      "\u001b[1;31mAttributeError\u001b[0m: 'NoneType' object has no attribute 'drop_duplicates'"
     ]
    }
   ],
   "source": [
    "\n",
    "int = int.drop_duplicates(int[config['date_cols']], keep ='first')\n",
    "print(int.shape)"
   ]
  },
  {
   "cell_type": "code",
   "execution_count": 110,
   "metadata": {},
   "outputs": [
    {
     "ename": "KeyError",
     "evalue": "0      2020-04-25 14:09:00\n1      2021-04-01 07:08:00\n2      2019-11-09 05:55:00\n3      2020-07-08 09:10:00\n4      2020-04-10 04:28:00\n               ...        \n8541   2019-09-29 18:43:00\n8542   2019-06-24 03:52:00\n8543   2020-10-27 00:35:00\n8544   2019-07-14 06:30:00\n8545   2020-11-21 15:31:00\nName: start_process, Length: 8546, dtype: datetime64[ns]",
     "output_type": "error",
     "traceback": [
      "\u001b[1;31m---------------------------------------------------------------------------\u001b[0m",
      "\u001b[1;31mKeyError\u001b[0m                                  Traceback (most recent call last)",
      "\u001b[1;32m<ipython-input-110-7ed813c7ac1a>\u001b[0m in \u001b[0;36m<module>\u001b[1;34m\u001b[0m\n\u001b[0;32m      5\u001b[0m     \u001b[0mdf\u001b[0m \u001b[1;33m=\u001b[0m \u001b[0mdf\u001b[0m\u001b[1;33m.\u001b[0m\u001b[0mdrop_duplicates\u001b[0m\u001b[1;33m(\u001b[0m\u001b[0mdf\u001b[0m\u001b[1;33m[\u001b[0m\u001b[0mconfig\u001b[0m\u001b[1;33m[\u001b[0m\u001b[1;34m'date_cols'\u001b[0m\u001b[1;33m]\u001b[0m\u001b[1;33m]\u001b[0m\u001b[1;33m,\u001b[0m \u001b[0mkeep\u001b[0m \u001b[1;33m=\u001b[0m\u001b[1;34m'first'\u001b[0m\u001b[1;33m)\u001b[0m\u001b[1;33m\u001b[0m\u001b[1;33m\u001b[0m\u001b[0m\n\u001b[0;32m      6\u001b[0m     \u001b[1;32mreturn\u001b[0m \u001b[0mdf\u001b[0m\u001b[1;33m\u001b[0m\u001b[1;33m\u001b[0m\u001b[0m\n\u001b[1;32m----> 7\u001b[1;33m \u001b[0mint_\u001b[0m \u001b[1;33m=\u001b[0m \u001b[0mdrop_duplicates\u001b[0m\u001b[1;33m(\u001b[0m\u001b[0mint\u001b[0m\u001b[1;33m)\u001b[0m\u001b[1;33m\u001b[0m\u001b[1;33m\u001b[0m\u001b[0m\n\u001b[0m\u001b[0;32m      8\u001b[0m \u001b[0mprint\u001b[0m\u001b[1;33m(\u001b[0m\u001b[0mint_\u001b[0m\u001b[1;33m.\u001b[0m\u001b[0mshape\u001b[0m\u001b[1;33m)\u001b[0m\u001b[1;33m\u001b[0m\u001b[1;33m\u001b[0m\u001b[0m\n\u001b[0;32m      9\u001b[0m \u001b[0mprint\u001b[0m\u001b[1;33m(\u001b[0m\u001b[0mint\u001b[0m\u001b[1;33m.\u001b[0m\u001b[0mshape\u001b[0m\u001b[1;33m)\u001b[0m\u001b[1;33m\u001b[0m\u001b[1;33m\u001b[0m\u001b[0m\n",
      "\u001b[1;32m<ipython-input-110-7ed813c7ac1a>\u001b[0m in \u001b[0;36mdrop_duplicates\u001b[1;34m(df)\u001b[0m\n\u001b[0;32m      2\u001b[0m \u001b[1;32mdef\u001b[0m \u001b[0mdrop_duplicates\u001b[0m\u001b[1;33m(\u001b[0m\u001b[0mdf\u001b[0m\u001b[1;33m)\u001b[0m\u001b[1;33m:\u001b[0m\u001b[1;33m\u001b[0m\u001b[1;33m\u001b[0m\u001b[0m\n\u001b[0;32m      3\u001b[0m     \u001b[0mdf\u001b[0m\u001b[1;33m[\u001b[0m\u001b[0mconfig\u001b[0m\u001b[1;33m[\u001b[0m\u001b[1;34m'date_cols'\u001b[0m\u001b[1;33m]\u001b[0m\u001b[1;33m]\u001b[0m \u001b[1;33m=\u001b[0m \u001b[0mdf\u001b[0m\u001b[1;33m[\u001b[0m\u001b[0mconfig\u001b[0m\u001b[1;33m[\u001b[0m\u001b[1;34m'date_cols'\u001b[0m\u001b[1;33m]\u001b[0m\u001b[1;33m]\u001b[0m\u001b[1;33m.\u001b[0m\u001b[0mapply\u001b[0m\u001b[1;33m(\u001b[0m\u001b[0mpd\u001b[0m\u001b[1;33m.\u001b[0m\u001b[0mto_datetime\u001b[0m\u001b[1;33m)\u001b[0m\u001b[1;33m\u001b[0m\u001b[1;33m\u001b[0m\u001b[0m\n\u001b[1;32m----> 4\u001b[1;33m     \u001b[0mdf\u001b[0m \u001b[1;33m=\u001b[0m \u001b[0mdf\u001b[0m\u001b[1;33m.\u001b[0m\u001b[0msort_values\u001b[0m\u001b[1;33m(\u001b[0m\u001b[0mby\u001b[0m\u001b[1;33m=\u001b[0m\u001b[0mdf\u001b[0m\u001b[1;33m[\u001b[0m\u001b[1;34m'start_process'\u001b[0m\u001b[1;33m]\u001b[0m\u001b[1;33m,\u001b[0m \u001b[0mascending\u001b[0m\u001b[1;33m=\u001b[0m\u001b[1;33m[\u001b[0m\u001b[1;32mTrue\u001b[0m\u001b[1;33m]\u001b[0m\u001b[1;33m)\u001b[0m\u001b[1;33m\u001b[0m\u001b[1;33m\u001b[0m\u001b[0m\n\u001b[0m\u001b[0;32m      5\u001b[0m     \u001b[0mdf\u001b[0m \u001b[1;33m=\u001b[0m \u001b[0mdf\u001b[0m\u001b[1;33m.\u001b[0m\u001b[0mdrop_duplicates\u001b[0m\u001b[1;33m(\u001b[0m\u001b[0mdf\u001b[0m\u001b[1;33m[\u001b[0m\u001b[0mconfig\u001b[0m\u001b[1;33m[\u001b[0m\u001b[1;34m'date_cols'\u001b[0m\u001b[1;33m]\u001b[0m\u001b[1;33m]\u001b[0m\u001b[1;33m,\u001b[0m \u001b[0mkeep\u001b[0m \u001b[1;33m=\u001b[0m\u001b[1;34m'first'\u001b[0m\u001b[1;33m)\u001b[0m\u001b[1;33m\u001b[0m\u001b[1;33m\u001b[0m\u001b[0m\n\u001b[0;32m      6\u001b[0m     \u001b[1;32mreturn\u001b[0m \u001b[0mdf\u001b[0m\u001b[1;33m\u001b[0m\u001b[1;33m\u001b[0m\u001b[0m\n",
      "\u001b[1;32mc:\\ProgramData\\Anaconda3\\lib\\site-packages\\pandas\\core\\frame.py\u001b[0m in \u001b[0;36msort_values\u001b[1;34m(self, by, axis, ascending, inplace, kind, na_position, ignore_index, key)\u001b[0m\n\u001b[0;32m   5453\u001b[0m \u001b[1;33m\u001b[0m\u001b[0m\n\u001b[0;32m   5454\u001b[0m             \u001b[0mby\u001b[0m \u001b[1;33m=\u001b[0m \u001b[0mby\u001b[0m\u001b[1;33m[\u001b[0m\u001b[1;36m0\u001b[0m\u001b[1;33m]\u001b[0m\u001b[1;33m\u001b[0m\u001b[1;33m\u001b[0m\u001b[0m\n\u001b[1;32m-> 5455\u001b[1;33m             \u001b[0mk\u001b[0m \u001b[1;33m=\u001b[0m \u001b[0mself\u001b[0m\u001b[1;33m.\u001b[0m\u001b[0m_get_label_or_level_values\u001b[0m\u001b[1;33m(\u001b[0m\u001b[0mby\u001b[0m\u001b[1;33m,\u001b[0m \u001b[0maxis\u001b[0m\u001b[1;33m=\u001b[0m\u001b[0maxis\u001b[0m\u001b[1;33m)\u001b[0m\u001b[1;33m\u001b[0m\u001b[1;33m\u001b[0m\u001b[0m\n\u001b[0m\u001b[0;32m   5456\u001b[0m \u001b[1;33m\u001b[0m\u001b[0m\n\u001b[0;32m   5457\u001b[0m             \u001b[1;31m# need to rewrap column in Series to apply key function\u001b[0m\u001b[1;33m\u001b[0m\u001b[1;33m\u001b[0m\u001b[1;33m\u001b[0m\u001b[0m\n",
      "\u001b[1;32mc:\\ProgramData\\Anaconda3\\lib\\site-packages\\pandas\\core\\generic.py\u001b[0m in \u001b[0;36m_get_label_or_level_values\u001b[1;34m(self, key, axis)\u001b[0m\n\u001b[0;32m   1682\u001b[0m             \u001b[0mvalues\u001b[0m \u001b[1;33m=\u001b[0m \u001b[0mself\u001b[0m\u001b[1;33m.\u001b[0m\u001b[0maxes\u001b[0m\u001b[1;33m[\u001b[0m\u001b[0maxis\u001b[0m\u001b[1;33m]\u001b[0m\u001b[1;33m.\u001b[0m\u001b[0mget_level_values\u001b[0m\u001b[1;33m(\u001b[0m\u001b[0mkey\u001b[0m\u001b[1;33m)\u001b[0m\u001b[1;33m.\u001b[0m\u001b[0m_values\u001b[0m\u001b[1;33m\u001b[0m\u001b[1;33m\u001b[0m\u001b[0m\n\u001b[0;32m   1683\u001b[0m         \u001b[1;32melse\u001b[0m\u001b[1;33m:\u001b[0m\u001b[1;33m\u001b[0m\u001b[1;33m\u001b[0m\u001b[0m\n\u001b[1;32m-> 1684\u001b[1;33m             \u001b[1;32mraise\u001b[0m \u001b[0mKeyError\u001b[0m\u001b[1;33m(\u001b[0m\u001b[0mkey\u001b[0m\u001b[1;33m)\u001b[0m\u001b[1;33m\u001b[0m\u001b[1;33m\u001b[0m\u001b[0m\n\u001b[0m\u001b[0;32m   1685\u001b[0m \u001b[1;33m\u001b[0m\u001b[0m\n\u001b[0;32m   1686\u001b[0m         \u001b[1;31m# Check for duplicates\u001b[0m\u001b[1;33m\u001b[0m\u001b[1;33m\u001b[0m\u001b[1;33m\u001b[0m\u001b[0m\n",
      "\u001b[1;31mKeyError\u001b[0m: 0      2020-04-25 14:09:00\n1      2021-04-01 07:08:00\n2      2019-11-09 05:55:00\n3      2020-07-08 09:10:00\n4      2020-04-10 04:28:00\n               ...        \n8541   2019-09-29 18:43:00\n8542   2019-06-24 03:52:00\n8543   2020-10-27 00:35:00\n8544   2019-07-14 06:30:00\n8545   2020-11-21 15:31:00\nName: start_process, Length: 8546, dtype: datetime64[ns]"
     ]
    }
   ],
   "source": [
    "\n",
    "def drop_duplicates(df):\n",
    "    df['']\n",
    "int = pd.read_csv(r'D:\\final_solution\\solution_v1\\data\\interim\\interpolated_df.csv', sep=',')\n",
    "def drop_duplicates(df):\n",
    "    df = df.sort_values(by=df['start_process'], ascending=[True])\n",
    "    df = df.drop_duplicates(df[config['date_cols']], keep ='first')\n",
    "    return df\n",
    "int_ = drop_duplicates(int)\n",
    "print(int_.shape)\n",
    "print(int.shape)"
   ]
  },
  {
   "cell_type": "code",
   "execution_count": 112,
   "metadata": {},
   "outputs": [],
   "source": [
    "df['start_process'].to_clipboard()"
   ]
  },
  {
   "cell_type": "code",
   "execution_count": 117,
   "metadata": {},
   "outputs": [
    {
     "data": {
      "text/plain": [
       "Index(['groups', 'target', 'when', 'super_hero_group', 'tracking', 'place',\n",
       "       'tracking_times', 'crystal_type', 'unnamed_7', 'human_behavior_report',\n",
       "       'human_measure', 'crystal_weight', 'expected_factor_x',\n",
       "       'previous_factor_x', 'first_factor_x', 'expected_final_factor_x',\n",
       "       'final_factor_x', 'previous_adamantium', 'unnamed_17',\n",
       "       'etherium_before_start', 'expected_start', 'start_process',\n",
       "       'start_subprocess1', 'start_critical_subprocess1',\n",
       "       'predicted_process_end', 'process_end', 'subprocess1_end',\n",
       "       'reported_on_tower', 'opened', 'chemical_x', 'raw_kryptonite', 'argon',\n",
       "       'pure_seastone', 'crystal_supergroup', 'cycle'],\n",
       "      dtype='object')"
      ]
     },
     "execution_count": 117,
     "metadata": {},
     "output_type": "execute_result"
    }
   ],
   "source": [
    "int.columns"
   ]
  },
  {
   "cell_type": "code",
   "execution_count": 123,
   "metadata": {},
   "outputs": [],
   "source": [
    "int['start_process']  = int['start_process'] .astype('datetime64[ns]')\n",
    "int= int.sort_values(by='start_process', inplace=True)"
   ]
  },
  {
   "cell_type": "code",
   "execution_count": 121,
   "metadata": {},
   "outputs": [
    {
     "ename": "KeyError",
     "evalue": "1197   2020-07-25 08:29:00\n6228   2021-06-03 18:50:00\n732    2019-05-29 15:07:00\n5497   2020-10-27 23:37:00\n4743   2019-11-16 04:40:00\n               ...        \n2146   2021-02-01 14:40:00\n2456   2019-05-12 02:12:00\n7344   2020-06-23 07:28:00\n3306   2019-07-30 06:32:00\n460    2019-01-05 14:58:00\nName: start_process, Length: 8546, dtype: datetime64[ns]",
     "output_type": "error",
     "traceback": [
      "\u001b[1;31m---------------------------------------------------------------------------\u001b[0m",
      "\u001b[1;31mKeyError\u001b[0m                                  Traceback (most recent call last)",
      "\u001b[1;32m<ipython-input-121-99ce29e6516f>\u001b[0m in \u001b[0;36m<module>\u001b[1;34m\u001b[0m\n\u001b[0;32m      1\u001b[0m \u001b[0mint\u001b[0m\u001b[1;33m[\u001b[0m\u001b[1;34m'start_process'\u001b[0m\u001b[1;33m]\u001b[0m \u001b[1;33m=\u001b[0m \u001b[0mpd\u001b[0m\u001b[1;33m.\u001b[0m\u001b[0mto_datetime\u001b[0m\u001b[1;33m(\u001b[0m\u001b[0mint\u001b[0m\u001b[1;33m[\u001b[0m\u001b[1;34m'start_process'\u001b[0m\u001b[1;33m]\u001b[0m\u001b[1;33m,\u001b[0m\u001b[0merrors\u001b[0m\u001b[1;33m=\u001b[0m\u001b[1;34m'coerce'\u001b[0m\u001b[1;33m)\u001b[0m\u001b[1;33m\u001b[0m\u001b[1;33m\u001b[0m\u001b[0m\n\u001b[1;32m----> 2\u001b[1;33m \u001b[0mint\u001b[0m\u001b[1;33m.\u001b[0m\u001b[0msort_values\u001b[0m\u001b[1;33m(\u001b[0m\u001b[0mby\u001b[0m\u001b[1;33m=\u001b[0m\u001b[0mint\u001b[0m\u001b[1;33m[\u001b[0m\u001b[1;34m'start_process'\u001b[0m\u001b[1;33m]\u001b[0m\u001b[1;33m)\u001b[0m\u001b[1;33m\u001b[0m\u001b[1;33m\u001b[0m\u001b[0m\n\u001b[0m",
      "\u001b[1;32mc:\\ProgramData\\Anaconda3\\lib\\site-packages\\pandas\\core\\frame.py\u001b[0m in \u001b[0;36msort_values\u001b[1;34m(self, by, axis, ascending, inplace, kind, na_position, ignore_index, key)\u001b[0m\n\u001b[0;32m   5453\u001b[0m \u001b[1;33m\u001b[0m\u001b[0m\n\u001b[0;32m   5454\u001b[0m             \u001b[0mby\u001b[0m \u001b[1;33m=\u001b[0m \u001b[0mby\u001b[0m\u001b[1;33m[\u001b[0m\u001b[1;36m0\u001b[0m\u001b[1;33m]\u001b[0m\u001b[1;33m\u001b[0m\u001b[1;33m\u001b[0m\u001b[0m\n\u001b[1;32m-> 5455\u001b[1;33m             \u001b[0mk\u001b[0m \u001b[1;33m=\u001b[0m \u001b[0mself\u001b[0m\u001b[1;33m.\u001b[0m\u001b[0m_get_label_or_level_values\u001b[0m\u001b[1;33m(\u001b[0m\u001b[0mby\u001b[0m\u001b[1;33m,\u001b[0m \u001b[0maxis\u001b[0m\u001b[1;33m=\u001b[0m\u001b[0maxis\u001b[0m\u001b[1;33m)\u001b[0m\u001b[1;33m\u001b[0m\u001b[1;33m\u001b[0m\u001b[0m\n\u001b[0m\u001b[0;32m   5456\u001b[0m \u001b[1;33m\u001b[0m\u001b[0m\n\u001b[0;32m   5457\u001b[0m             \u001b[1;31m# need to rewrap column in Series to apply key function\u001b[0m\u001b[1;33m\u001b[0m\u001b[1;33m\u001b[0m\u001b[1;33m\u001b[0m\u001b[0m\n",
      "\u001b[1;32mc:\\ProgramData\\Anaconda3\\lib\\site-packages\\pandas\\core\\generic.py\u001b[0m in \u001b[0;36m_get_label_or_level_values\u001b[1;34m(self, key, axis)\u001b[0m\n\u001b[0;32m   1682\u001b[0m             \u001b[0mvalues\u001b[0m \u001b[1;33m=\u001b[0m \u001b[0mself\u001b[0m\u001b[1;33m.\u001b[0m\u001b[0maxes\u001b[0m\u001b[1;33m[\u001b[0m\u001b[0maxis\u001b[0m\u001b[1;33m]\u001b[0m\u001b[1;33m.\u001b[0m\u001b[0mget_level_values\u001b[0m\u001b[1;33m(\u001b[0m\u001b[0mkey\u001b[0m\u001b[1;33m)\u001b[0m\u001b[1;33m.\u001b[0m\u001b[0m_values\u001b[0m\u001b[1;33m\u001b[0m\u001b[1;33m\u001b[0m\u001b[0m\n\u001b[0;32m   1683\u001b[0m         \u001b[1;32melse\u001b[0m\u001b[1;33m:\u001b[0m\u001b[1;33m\u001b[0m\u001b[1;33m\u001b[0m\u001b[0m\n\u001b[1;32m-> 1684\u001b[1;33m             \u001b[1;32mraise\u001b[0m \u001b[0mKeyError\u001b[0m\u001b[1;33m(\u001b[0m\u001b[0mkey\u001b[0m\u001b[1;33m)\u001b[0m\u001b[1;33m\u001b[0m\u001b[1;33m\u001b[0m\u001b[0m\n\u001b[0m\u001b[0;32m   1685\u001b[0m \u001b[1;33m\u001b[0m\u001b[0m\n\u001b[0;32m   1686\u001b[0m         \u001b[1;31m# Check for duplicates\u001b[0m\u001b[1;33m\u001b[0m\u001b[1;33m\u001b[0m\u001b[1;33m\u001b[0m\u001b[0m\n",
      "\u001b[1;31mKeyError\u001b[0m: 1197   2020-07-25 08:29:00\n6228   2021-06-03 18:50:00\n732    2019-05-29 15:07:00\n5497   2020-10-27 23:37:00\n4743   2019-11-16 04:40:00\n               ...        \n2146   2021-02-01 14:40:00\n2456   2019-05-12 02:12:00\n7344   2020-06-23 07:28:00\n3306   2019-07-30 06:32:00\n460    2019-01-05 14:58:00\nName: start_process, Length: 8546, dtype: datetime64[ns]"
     ]
    }
   ],
   "source": [
    "int['start_process'] = pd.to_datetime(int['start_process'],errors='coerce')\n",
    "int.sort_values(by=int['start_process'])"
   ]
  },
  {
   "cell_type": "code",
   "execution_count": 66,
   "metadata": {},
   "outputs": [],
   "source": [
    "class preprocessing(object):\n",
    "    \"\"\"_summary_: A class to preprocess the raw data and target data\n",
    "\n",
    "    \"\"\"\n",
    "\n",
    "    def __init__(self, df: pd.DataFrame, config: dict) -> None:\n",
    "        self.df = df\n",
    "        self.config = config\n",
    "\n",
    "    def convert_dtypes(self) -> pd.DataFrame:\n",
    "        \"\"\"_summary_: A function to convert the data types of the dataframe\n",
    "        parameters:\n",
    "            None\n",
    "        Returns:\n",
    "            df {dataframe}: A dataframe with the converted data types\n",
    "        \"\"\"\n",
    "        self.df[self.config['cat_cols']] = self.df[self.config['cat_cols']].astype(\n",
    "            'category', errors='ignore')  # converting the categorical columns to category type\n",
    "        self.df[self.config['continous_cols']] = self.df[self.config['continous_cols']].astype(\n",
    "            'float', errors='ignore')  # converting the continous columns to float type\n",
    "\n",
    "        return self.df\n",
    "\n",
    "    def replace_values(self) -> pd.DataFrame:\n",
    "        \"\"\"_summary_: A function to replace the values of the columns [cycle, crystal_supergroup, etherium_before_start]\n",
    "        parameters:\n",
    "            None\n",
    "        Returns:\n",
    "            df {dataframe}: A dataframe with the replaced values\n",
    "        \"\"\"\n",
    "        self.df['cycle'] = self.df['cycle'].replace(\n",
    "            ['33', '1ª', '2ª', '3ª', '131'], ['1', '1', '2', '3', '4'])\n",
    "        self.df['crystal_supergroup'] = self.df['crystal_supergroup'].replace(\n",
    "            '1ª', '0')\n",
    "        self.df['etherium_before_start'] = self.df['etherium_before_start'].replace(\n",
    "            ['21/12/2020 12:11'], 441.78)\n",
    "        return self.df\n",
    "\n",
    "    def interpolate_datetime(self) -> pd.DataFrame:\n",
    "        \"\"\"_summary_: A function to interpolate the datetime columns\n",
    "        parameters:\n",
    "            None\n",
    "        Returns:\n",
    "            df {dataframe}: A dataframe with the interpolated datetime column\n",
    "        \"\"\"\n",
    "        self.df = shuffle(self.df)\n",
    "        self.df = interpolate_date_time_features(\n",
    "            self.df, self.config['date_cols'])\n",
    "        self.df['start_critical_subprocess1'] = pd.to_datetime(\n",
    "            self.df['start_critical_subprocess1'], errors='coerce')\n",
    "        self.df['start_critical_subprocess1'] = self.df['start_critical_subprocess1'].values.astype(\n",
    "            'int64')\n",
    "        self.df['start_critical_subprocess1'][self.df['start_critical_subprocess1'] < 0] = np.nan\n",
    "        self.df['start_critical_subprocess1'] = pd.to_datetime(\n",
    "            self.df['start_critical_subprocess1'].interpolate(), unit='ns')\n",
    "        self.df['start_critical_subprocess1'] = self.df['start_critical_subprocess1'].apply(\n",
    "            pd.to_datetime)\n",
    "        self.df[self.config['date_cols']] = self.df[self.config['date_cols']].apply(\n",
    "            pd.to_datetime)\n",
    "        return self.df\n",
    "\n",
    "    def drop_duplicates(self):\n",
    "        \"\"\"_summary_: A function to drop the duplicates\n",
    "        parameters:\n",
    "            None\n",
    "        Returns:\n",
    "            df {dataframe}: A dataframe with the dropped duplicates\n",
    "        \"\"\"\n",
    "        self.df[self.config['date_cols']\n",
    "                ] = self.df[self.config['date_cols']].apply(pd.to_datetime)\n",
    "        self.df = self.df.sort_values(by=self.df['start_process'], ascending=[True])\n",
    "        self.df = self.df.drop_duplicates(\n",
    "            subset=self.config['date_cols'], keep='first')\n",
    "        return self.df\n",
    "\n",
    "    def processing_missing_values(self):\n",
    "        \"\"\"_summary_: A function to process the missing values\n",
    "        parameters:\n",
    "            None\n",
    "        Returns:\n",
    "            df {dataframe}: A dataframe with the processed missing values\n",
    "        \"\"\"\n",
    "        cols_imputed = mice(self.df[config['vars_with_na']])\n",
    "        self.df = pd.DataFrame(col_imputed, columns=df_[\n",
    "                               config['vars_with_na']].columns)\n",
    "        return self.df"
   ]
  },
  {
   "cell_type": "code",
   "execution_count": 67,
   "metadata": {},
   "outputs": [],
   "source": [
    "rt = preprocessing(int, config)"
   ]
  },
  {
   "cell_type": "code",
   "execution_count": null,
   "metadata": {},
   "outputs": [],
   "source": [
    "df = rt.drop_duplicates()"
   ]
  },
  {
   "cell_type": "code",
   "execution_count": 65,
   "metadata": {},
   "outputs": [
    {
     "ename": "AttributeError",
     "evalue": "'preprocessing' object has no attribute 'drop_duplicates'",
     "output_type": "error",
     "traceback": [
      "\u001b[1;31m---------------------------------------------------------------------------\u001b[0m",
      "\u001b[1;31mAttributeError\u001b[0m                            Traceback (most recent call last)",
      "\u001b[1;32m<ipython-input-65-62f78f927603>\u001b[0m in \u001b[0;36m<module>\u001b[1;34m\u001b[0m\n\u001b[0;32m      1\u001b[0m \u001b[1;32mfrom\u001b[0m \u001b[0msrc\u001b[0m\u001b[1;33m.\u001b[0m\u001b[0mdata\u001b[0m\u001b[1;33m.\u001b[0m\u001b[0mread_data\u001b[0m \u001b[1;32mimport\u001b[0m \u001b[0mpreprocessing\u001b[0m\u001b[1;33m\u001b[0m\u001b[1;33m\u001b[0m\u001b[0m\n\u001b[0;32m      2\u001b[0m \u001b[0mpreprocess\u001b[0m \u001b[1;33m=\u001b[0m \u001b[0mpreprocessing\u001b[0m\u001b[1;33m(\u001b[0m\u001b[0mdf\u001b[0m\u001b[1;33m,\u001b[0m \u001b[0mconfig\u001b[0m\u001b[1;33m)\u001b[0m\u001b[1;33m\u001b[0m\u001b[1;33m\u001b[0m\u001b[0m\n\u001b[1;32m----> 3\u001b[1;33m \u001b[0mdf\u001b[0m \u001b[1;33m=\u001b[0m \u001b[0mpreprocess\u001b[0m\u001b[1;33m.\u001b[0m\u001b[0mdrop_duplicates\u001b[0m\u001b[1;33m(\u001b[0m\u001b[1;33m)\u001b[0m\u001b[1;33m\u001b[0m\u001b[1;33m\u001b[0m\u001b[0m\n\u001b[0m",
      "\u001b[1;31mAttributeError\u001b[0m: 'preprocessing' object has no attribute 'drop_duplicates'"
     ]
    }
   ],
   "source": [
    "from src.data.read_data import preprocessing\n",
    "preprocess = preprocessing(df, config)\n",
    "df = preprocess.drop_duplicates()"
   ]
  },
  {
   "cell_type": "code",
   "execution_count": null,
   "metadata": {},
   "outputs": [],
   "source": []
  },
  {
   "cell_type": "code",
   "execution_count": 47,
   "metadata": {},
   "outputs": [],
   "source": [
    "\n",
    "int[config['date_cols']] = int[config['date_cols']].apply(pd.to_datetime)"
   ]
  },
  {
   "cell_type": "code",
   "execution_count": 48,
   "metadata": {},
   "outputs": [],
   "source": [
    "int =int.sort_values(by=['start_process'], ascending=[True])\n",
    "int = int.drop_duplicates(subset = config['date_cols'], keep='first')"
   ]
  },
  {
   "cell_type": "code",
   "execution_count": 50,
   "metadata": {},
   "outputs": [
    {
     "data": {
      "text/plain": [
       "122"
      ]
     },
     "execution_count": 50,
     "metadata": {},
     "output_type": "execute_result"
    }
   ],
   "source": [
    "8546 - 8424"
   ]
  },
  {
   "cell_type": "code",
   "execution_count": 49,
   "metadata": {},
   "outputs": [
    {
     "data": {
      "text/plain": [
       "(8424, 35)"
      ]
     },
     "execution_count": 49,
     "metadata": {},
     "output_type": "execute_result"
    }
   ],
   "source": [
    "int.shape"
   ]
  },
  {
   "cell_type": "code",
   "execution_count": 36,
   "metadata": {},
   "outputs": [
    {
     "data": {
      "text/plain": [
       "8291"
      ]
     },
     "execution_count": 36,
     "metadata": {},
     "output_type": "execute_result"
    }
   ],
   "source": [
    "int.start_process.nunique()"
   ]
  },
  {
   "cell_type": "code",
   "execution_count": 32,
   "metadata": {},
   "outputs": [],
   "source": [
    "int['start_process'] = pd.to_datetime(int['start_process'], errors='coerce')"
   ]
  },
  {
   "cell_type": "code",
   "execution_count": 33,
   "metadata": {},
   "outputs": [
    {
     "data": {
      "text/plain": [
       "groups                                 int64\n",
       "target                               float64\n",
       "when                                  object\n",
       "super_hero_group                      object\n",
       "tracking                             float64\n",
       "place                                  int64\n",
       "tracking_times                         int64\n",
       "crystal_type                          object\n",
       "unnamed_7                              int64\n",
       "human_behavior_report                  int64\n",
       "human_measure                        float64\n",
       "crystal_weight                       float64\n",
       "expected_factor_x                    float64\n",
       "previous_factor_x                    float64\n",
       "first_factor_x                       float64\n",
       "expected_final_factor_x              float64\n",
       "final_factor_x                       float64\n",
       "previous_adamantium                  float64\n",
       "unnamed_17                           float64\n",
       "etherium_before_start                float64\n",
       "expected_start                        object\n",
       "start_process                 datetime64[ns]\n",
       "start_subprocess1                     object\n",
       "start_critical_subprocess1            object\n",
       "predicted_process_end                 object\n",
       "process_end                           object\n",
       "subprocess1_end                       object\n",
       "reported_on_tower                     object\n",
       "opened                                object\n",
       "chemical_x                           float64\n",
       "raw_kryptonite                       float64\n",
       "argon                                float64\n",
       "pure_seastone                        float64\n",
       "crystal_supergroup                   float64\n",
       "cycle                                  int64\n",
       "dtype: object"
      ]
     },
     "execution_count": 33,
     "metadata": {},
     "output_type": "execute_result"
    }
   ],
   "source": [
    "int.dtypes"
   ]
  },
  {
   "cell_type": "code",
   "execution_count": null,
   "metadata": {},
   "outputs": [],
   "source": []
  },
  {
   "cell_type": "code",
   "execution_count": null,
   "metadata": {},
   "outputs": [],
   "source": []
  },
  {
   "cell_type": "code",
   "execution_count": 38,
   "metadata": {},
   "outputs": [],
   "source": [
    "# int[config['date_cols']].apply(lambda _: pd.to_datetime(_,format='%m/%d/Y %H:%M:%S.%f', errors='coerce'))\n",
    "# int[config['date_cols']].apply(pd.to_datetime())\n",
    "\n"
   ]
  },
  {
   "cell_type": "code",
   "execution_count": 24,
   "metadata": {},
   "outputs": [
    {
     "data": {
      "text/plain": [
       "groups                                 int64\n",
       "target                               float64\n",
       "when                          datetime64[ns]\n",
       "super_hero_group                      object\n",
       "tracking                             float64\n",
       "place                                  int64\n",
       "tracking_times                         int64\n",
       "crystal_type                          object\n",
       "unnamed_7                              int64\n",
       "human_behavior_report                  int64\n",
       "human_measure                        float64\n",
       "crystal_weight                       float64\n",
       "expected_factor_x                    float64\n",
       "previous_factor_x                    float64\n",
       "first_factor_x                       float64\n",
       "expected_final_factor_x              float64\n",
       "final_factor_x                       float64\n",
       "previous_adamantium                  float64\n",
       "unnamed_17                           float64\n",
       "etherium_before_start                float64\n",
       "expected_start                datetime64[ns]\n",
       "start_process                 datetime64[ns]\n",
       "start_subprocess1             datetime64[ns]\n",
       "start_critical_subprocess1    datetime64[ns]\n",
       "predicted_process_end         datetime64[ns]\n",
       "process_end                   datetime64[ns]\n",
       "subprocess1_end               datetime64[ns]\n",
       "reported_on_tower             datetime64[ns]\n",
       "opened                        datetime64[ns]\n",
       "chemical_x                           float64\n",
       "raw_kryptonite                       float64\n",
       "argon                                float64\n",
       "pure_seastone                        float64\n",
       "crystal_supergroup                     int64\n",
       "cycle                                  int64\n",
       "dtype: object"
      ]
     },
     "execution_count": 24,
     "metadata": {},
     "output_type": "execute_result"
    }
   ],
   "source": [
    "int.dtypes"
   ]
  },
  {
   "cell_type": "code",
   "execution_count": 17,
   "metadata": {},
   "outputs": [
    {
     "name": "stdout",
     "output_type": "stream",
     "text": [
      "when\n",
      "expected_start\n",
      "start_process\n",
      "start_subprocess1\n",
      "start_critical_subprocess1\n",
      "predicted_process_end\n",
      "process_end\n",
      "subprocess1_end\n",
      "reported_on_tower\n",
      "opened\n"
     ]
    }
   ],
   "source": [
    "for col in int[config['date_cols']]:\n",
    "    print(col)\n",
    "    int[pd.to_datetime(int[col], errors='coerce')"
   ]
  },
  {
   "cell_type": "code",
   "execution_count": 10,
   "metadata": {},
   "outputs": [
    {
     "name": "stderr",
     "output_type": "stream",
     "text": [
      "<ipython-input-10-c32f13385655>:3: SettingWithCopyWarning: \n",
      "A value is trying to be set on a copy of a slice from a DataFrame\n",
      "\n",
      "See the caveats in the documentation: https://pandas.pydata.org/pandas-docs/stable/user_guide/indexing.html#returning-a-view-versus-a-copy\n",
      "  df_['start_critical_subprocess1'][df_['start_critical_subprocess1']<0]=np.nan\n"
     ]
    }
   ],
   "source": [
    "df_['start_critical_subprocess1'] = pd.to_datetime(df_['start_critical_subprocess1'],errors='coerce')\n",
    "df_['start_critical_subprocess1'] = df_['start_critical_subprocess1'].values.astype('int64')\n",
    "df_['start_critical_subprocess1'][df_['start_critical_subprocess1']<0]=np.nan \n",
    "df_['start_critical_subprocess1'] = pd.to_datetime(df_['start_critical_subprocess1'].interpolate(), unit='ns')"
   ]
  },
  {
   "cell_type": "code",
   "execution_count": 12,
   "metadata": {},
   "outputs": [
    {
     "data": {
      "text/plain": [
       "0"
      ]
     },
     "execution_count": 12,
     "metadata": {},
     "output_type": "execute_result"
    }
   ],
   "source": [
    "df_['start_critical_subprocess1'].isnull().sum()"
   ]
  },
  {
   "cell_type": "code",
   "execution_count": null,
   "metadata": {},
   "outputs": [],
   "source": [
    "ut = adf_.drop_duplicates(subset=df_[config['date_cols']])"
   ]
  },
  {
   "cell_type": "code",
   "execution_count": null,
   "metadata": {},
   "outputs": [],
   "source": [
    "ut.shape"
   ]
  },
  {
   "cell_type": "code",
   "execution_count": null,
   "metadata": {},
   "outputs": [],
   "source": [
    "ut.tracking.value_counts()"
   ]
  },
  {
   "cell_type": "code",
   "execution_count": null,
   "metadata": {},
   "outputs": [],
   "source": [
    "import numpy as np\n",
    "\n",
    "config = load_config(\"config.yml\") \n",
    "df_[config['cat_col']] = df_[config['cat_col']].astype('category', errors='ignore') # converting the categorical columns to category type\n",
    "df_[config['continous_col']] = df_[config['continous_col']].astype('float', errors='ignore') # converting the continous columns to float type\n",
    "df_['etherium_before_start'] = df_['etherium_before_start'].replace(['21/12/2020 12:11'], 441.78)\n",
    "\n",
    "df_['cycle'] = df_['cycle'].replace(['33','1ª','2ª','3ª', '131'], ['1','1','2','3','4']) # replacing the cycle column values\n",
    "# df_['argon'] = df_['argon'].replace(0, np.nan) # not implemented\n",
    "df_['crystal_supergroup'] = df_['crystal_supergroup'].replace('1ª', '0')  # replacing value with df_['crystal_supergroup'].loc[df_['when'] == '21/12/2020'].mode()\n",
    "# df_['crystal_supergroup']  = df_['crystal_supergroup'].astype('category', errors='ignore')\n",
    "## Interpolate datetime values\n",
    "\n",
    "\n",
    "def interpolate_date_time_features(df: pd.DataFrame, config) -> pd.DataFrame:\n",
    "    \"\"\"\n",
    "    [This function will interpolate the date time features]\n",
    "\n",
    "    Arguments:\n",
    "        df {pd.DataFrame} -- [dataframe]\n",
    "\n",
    "    Returns:\n",
    "        df{pd.DataFrame} -- [dataframe]\n",
    "    \"\"\"\n",
    "    df = shuffle(df)\n",
    "    # Interpolate the date time features\n",
    "    for col in df[config]:\n",
    "        df[col] = pd.to_datetime(df[col], errors='coerce')\n",
    "        df[col] = df[col].values.astype('int64')\n",
    "        df[col][df[col]<0]=np.nan \n",
    "        df[col] = pd.to_datetime(df[col].interpolate(), unit='ns')\n",
    "    return df\n",
    "\n",
    "df_int = interpolate_date_time_features(df_, config['date_cols'])\n",
    "# for col in config['date_cols']:\n",
    "#     df_ = interpolate_date_time_features(df_, col)"
   ]
  },
  {
   "cell_type": "code",
   "execution_count": 5,
   "metadata": {},
   "outputs": [],
   "source": [
    "df_int.to_clipboard()"
   ]
  },
  {
   "cell_type": "code",
   "execution_count": 26,
   "metadata": {},
   "outputs": [
    {
     "ename": "ImportError",
     "evalue": "cannot import name 'Preprocessing' from 'src.features.preprocessing' (d:\\final_solution\\solution_v1\\src\\features\\preprocessing.py)",
     "output_type": "error",
     "traceback": [
      "\u001b[1;31m---------------------------------------------------------------------------\u001b[0m",
      "\u001b[1;31mImportError\u001b[0m                               Traceback (most recent call last)",
      "\u001b[1;32m<ipython-input-26-6d36f6cfc6c8>\u001b[0m in \u001b[0;36m<module>\u001b[1;34m\u001b[0m\n\u001b[1;32m----> 1\u001b[1;33m \u001b[1;32mfrom\u001b[0m \u001b[0msrc\u001b[0m\u001b[1;33m.\u001b[0m\u001b[0mfeatures\u001b[0m\u001b[1;33m.\u001b[0m\u001b[0mpreprocessing\u001b[0m \u001b[1;32mimport\u001b[0m \u001b[0mPreprocessing\u001b[0m\u001b[1;33m\u001b[0m\u001b[1;33m\u001b[0m\u001b[0m\n\u001b[0m\u001b[0;32m      2\u001b[0m \u001b[0mlogger\u001b[0m \u001b[1;33m=\u001b[0m \u001b[0mlogs\u001b[0m\u001b[1;33m(\u001b[0m\u001b[0mpath\u001b[0m\u001b[1;33m=\u001b[0m\u001b[1;34m\"logs/\"\u001b[0m\u001b[1;33m,\u001b[0m \u001b[0mfile\u001b[0m\u001b[1;33m=\u001b[0m\u001b[1;34m\"main.logs\"\u001b[0m\u001b[1;33m)\u001b[0m\u001b[1;33m\u001b[0m\u001b[1;33m\u001b[0m\u001b[0m\n\u001b[0;32m      3\u001b[0m \u001b[1;33m\u001b[0m\u001b[0m\n\u001b[0;32m      4\u001b[0m \u001b[1;31m# Load config file\u001b[0m\u001b[1;33m\u001b[0m\u001b[1;33m\u001b[0m\u001b[1;33m\u001b[0m\u001b[0m\n\u001b[0;32m      5\u001b[0m \u001b[0mconfig\u001b[0m \u001b[1;33m=\u001b[0m \u001b[0mload_config\u001b[0m\u001b[1;33m(\u001b[0m\u001b[1;34m\"config.yml\"\u001b[0m\u001b[1;33m)\u001b[0m\u001b[1;33m\u001b[0m\u001b[1;33m\u001b[0m\u001b[0m\n",
      "\u001b[1;31mImportError\u001b[0m: cannot import name 'Preprocessing' from 'src.features.preprocessing' (d:\\final_solution\\solution_v1\\src\\features\\preprocessing.py)"
     ]
    }
   ],
   "source": [
    "from src.features.preprocessing import Preprocessing\n",
    "logger = logs(path=\"logs/\", file=\"main.logs\")\n",
    "\n",
    "# Load config file\n",
    "config = load_config(\"config.yml\")\n",
    "\n",
    "# read the raw data and target data from the data/raw folder\n",
    "data = read_data()\n",
    "raw_data, target_data = data.read_data()\n",
    "\n",
    "# Merge the raw data and target data\n",
    "merge_data = merge_dataset(raw_data, target_data)\n",
    "merged_df = merge_data.merge_dataset()\n",
    "print(merged_df.shape)\n",
    "merged_df.to_csv('./data/interim/merged_df.csv', index=False)\n",
    "\n",
    "preprocessing = Preprocessing(merged_df, config)\n",
    "preprocessing.processing_missing_values()\n",
    "# interpolate_date = preprocessing(merged_df, config['date_cols'])\n",
    "# interpolate_date.interpolate_datetime()\n",
    "# interpolated_df.to_csv('./data/interim/interpolated_df.csv', index=False)"
   ]
  },
  {
   "cell_type": "code",
   "execution_count": 13,
   "metadata": {},
   "outputs": [
    {
     "name": "stderr",
     "output_type": "stream",
     "text": [
      "<ipython-input-12-3bd539c2f8b8>:30: SettingWithCopyWarning: \n",
      "A value is trying to be set on a copy of a slice from a DataFrame\n",
      "\n",
      "See the caveats in the documentation: https://pandas.pydata.org/pandas-docs/stable/user_guide/indexing.html#returning-a-view-versus-a-copy\n",
      "  df[col][df[col]<0]=np.nan\n",
      "<ipython-input-12-3bd539c2f8b8>:30: SettingWithCopyWarning: \n",
      "A value is trying to be set on a copy of a slice from a DataFrame\n",
      "\n",
      "See the caveats in the documentation: https://pandas.pydata.org/pandas-docs/stable/user_guide/indexing.html#returning-a-view-versus-a-copy\n",
      "  df[col][df[col]<0]=np.nan\n",
      "<ipython-input-12-3bd539c2f8b8>:30: SettingWithCopyWarning: \n",
      "A value is trying to be set on a copy of a slice from a DataFrame\n",
      "\n",
      "See the caveats in the documentation: https://pandas.pydata.org/pandas-docs/stable/user_guide/indexing.html#returning-a-view-versus-a-copy\n",
      "  df[col][df[col]<0]=np.nan\n",
      "<ipython-input-12-3bd539c2f8b8>:30: SettingWithCopyWarning: \n",
      "A value is trying to be set on a copy of a slice from a DataFrame\n",
      "\n",
      "See the caveats in the documentation: https://pandas.pydata.org/pandas-docs/stable/user_guide/indexing.html#returning-a-view-versus-a-copy\n",
      "  df[col][df[col]<0]=np.nan\n",
      "<ipython-input-12-3bd539c2f8b8>:30: SettingWithCopyWarning: \n",
      "A value is trying to be set on a copy of a slice from a DataFrame\n",
      "\n",
      "See the caveats in the documentation: https://pandas.pydata.org/pandas-docs/stable/user_guide/indexing.html#returning-a-view-versus-a-copy\n",
      "  df[col][df[col]<0]=np.nan\n",
      "<ipython-input-12-3bd539c2f8b8>:30: SettingWithCopyWarning: \n",
      "A value is trying to be set on a copy of a slice from a DataFrame\n",
      "\n",
      "See the caveats in the documentation: https://pandas.pydata.org/pandas-docs/stable/user_guide/indexing.html#returning-a-view-versus-a-copy\n",
      "  df[col][df[col]<0]=np.nan\n",
      "<ipython-input-12-3bd539c2f8b8>:30: SettingWithCopyWarning: \n",
      "A value is trying to be set on a copy of a slice from a DataFrame\n",
      "\n",
      "See the caveats in the documentation: https://pandas.pydata.org/pandas-docs/stable/user_guide/indexing.html#returning-a-view-versus-a-copy\n",
      "  df[col][df[col]<0]=np.nan\n",
      "<ipython-input-12-3bd539c2f8b8>:30: SettingWithCopyWarning: \n",
      "A value is trying to be set on a copy of a slice from a DataFrame\n",
      "\n",
      "See the caveats in the documentation: https://pandas.pydata.org/pandas-docs/stable/user_guide/indexing.html#returning-a-view-versus-a-copy\n",
      "  df[col][df[col]<0]=np.nan\n",
      "<ipython-input-12-3bd539c2f8b8>:30: SettingWithCopyWarning: \n",
      "A value is trying to be set on a copy of a slice from a DataFrame\n",
      "\n",
      "See the caveats in the documentation: https://pandas.pydata.org/pandas-docs/stable/user_guide/indexing.html#returning-a-view-versus-a-copy\n",
      "  df[col][df[col]<0]=np.nan\n",
      "<ipython-input-12-3bd539c2f8b8>:30: SettingWithCopyWarning: \n",
      "A value is trying to be set on a copy of a slice from a DataFrame\n",
      "\n",
      "See the caveats in the documentation: https://pandas.pydata.org/pandas-docs/stable/user_guide/indexing.html#returning-a-view-versus-a-copy\n",
      "  df[col][df[col]<0]=np.nan\n"
     ]
    }
   ],
   "source": [
    "rt = interpolate_date_time_features(df_, config['date_cols'])"
   ]
  },
  {
   "cell_type": "code",
   "execution_count": 15,
   "metadata": {},
   "outputs": [
    {
     "data": {
      "text/plain": [
       "groups                           0\n",
       "target                           0\n",
       "when                             0\n",
       "super_hero_group                 0\n",
       "tracking                         0\n",
       "place                            0\n",
       "tracking_times                   0\n",
       "crystal_type                     0\n",
       "unnamed_7                        0\n",
       "human_behavior_report            0\n",
       "human_measure                    0\n",
       "crystal_weight                 238\n",
       "expected_factor_x                0\n",
       "previous_factor_x                0\n",
       "first_factor_x                  98\n",
       "expected_final_factor_x          0\n",
       "final_factor_x                 101\n",
       "previous_adamantium            250\n",
       "unnamed_17                      99\n",
       "etherium_before_start         5779\n",
       "expected_start                   0\n",
       "start_process                    0\n",
       "start_subprocess1                0\n",
       "start_critical_subprocess1       0\n",
       "predicted_process_end            0\n",
       "process_end                      0\n",
       "subprocess1_end                  0\n",
       "reported_on_tower                0\n",
       "opened                           0\n",
       "chemical_x                     103\n",
       "raw_kryptonite                4045\n",
       "argon                          317\n",
       "pure_seastone                  924\n",
       "crystal_supergroup               0\n",
       "cycle                            0\n",
       "dtype: int64"
      ]
     },
     "execution_count": 15,
     "metadata": {},
     "output_type": "execute_result"
    }
   ],
   "source": [
    "rt.isnull().sum()"
   ]
  },
  {
   "cell_type": "code",
   "execution_count": null,
   "metadata": {},
   "outputs": [],
   "source": [
    "from impyute.imputation.cs import mice\n",
    "df_miss = df_[['crystal_weight',\n",
    "'first_factor_x',\n",
    "'final_factor_x',\n",
    "'previous_adamantium',\n",
    "'unnamed_17',\n",
    "'etherium_before_start',\n",
    "'chemical_x',\n",
    "'raw_kryptonite',\n",
    "'argon',\n",
    "'pure_seastone']]\n",
    "\n",
    "df_imputed = mice(df_miss.values)\n",
    "df_final_imp= pd.DataFrame(df_imputed, columns=df_[config['vars_with_na']].columns)"
   ]
  },
  {
   "cell_type": "code",
   "execution_count": null,
   "metadata": {},
   "outputs": [],
   "source": [
    "df_final_imp.dtypes"
   ]
  },
  {
   "cell_type": "code",
   "execution_count": null,
   "metadata": {},
   "outputs": [],
   "source": [
    "df2 = df_final_imp.T.drop_duplicates().T"
   ]
  },
  {
   "cell_type": "code",
   "execution_count": null,
   "metadata": {},
   "outputs": [],
   "source": [
    "ut = df_.drop_duplicates()"
   ]
  },
  {
   "cell_type": "code",
   "execution_count": null,
   "metadata": {},
   "outputs": [],
   "source": [
    "ut.shape"
   ]
  },
  {
   "cell_type": "code",
   "execution_count": null,
   "metadata": {},
   "outputs": [],
   "source": [
    "df_[config['vars_with_na']]"
   ]
  },
  {
   "cell_type": "code",
   "execution_count": null,
   "metadata": {},
   "outputs": [],
   "source": [
    "df_final_imp.head(10)"
   ]
  },
  {
   "cell_type": "code",
   "execution_count": null,
   "metadata": {},
   "outputs": [],
   "source": []
  },
  {
   "cell_type": "code",
   "execution_count": null,
   "metadata": {},
   "outputs": [],
   "source": []
  },
  {
   "cell_type": "code",
   "execution_count": null,
   "metadata": {},
   "outputs": [],
   "source": [
    "df__ = df_.T.drop_duplicates().T"
   ]
  },
  {
   "cell_type": "code",
   "execution_count": null,
   "metadata": {},
   "outputs": [],
   "source": [
    "df90 = df_[['first_factor_x','unnamed_17']]\n",
    "# df90 = df90.T.drop_duplicates().T\n",
    "# df92 = df90.loc[:,~df90.T.duplicated(keep='first')]\n",
    "df92.head()\n",
    "duplicate_cols = df90.columns[df90.columns.duplicated()]\n",
    "duplicate_cols\n",
    "\n",
    "# drop duplicate columns\n",
    "df90 = df90.loc[:,~df90.columns.duplicated()]\n",
    "df90.head()"
   ]
  },
  {
   "cell_type": "code",
   "execution_count": null,
   "metadata": {},
   "outputs": [],
   "source": [
    "df_[['first_factor_x','unnamed_17']] = df_[['first_factor_x','unnamed_17']].astype('int', errors='ignore')"
   ]
  },
  {
   "cell_type": "code",
   "execution_count": null,
   "metadata": {},
   "outputs": [],
   "source": [
    "rt = df_.T.drop_duplicates().T"
   ]
  },
  {
   "cell_type": "code",
   "execution_count": null,
   "metadata": {},
   "outputs": [],
   "source": [
    "df_['othername'] = df_['crystal_supergroup'].copy()"
   ]
  },
  {
   "cell_type": "code",
   "execution_count": null,
   "metadata": {},
   "outputs": [],
   "source": [
    "df_['first_factor_x'].isnull().sum()"
   ]
  },
  {
   "cell_type": "code",
   "execution_count": null,
   "metadata": {},
   "outputs": [],
   "source": []
  },
  {
   "cell_type": "code",
   "execution_count": null,
   "metadata": {},
   "outputs": [],
   "source": [
    "def remove_duplicate_columns(df) -> pd.DataFrame:\n",
    "    \"\"\"_summary_: A function to remove the duplicate columns\n",
    "    parameters:\n",
    "        None\n",
    "    Returns:\n",
    "        df {dataframe}: A dataframe with the duplicate columns removed\n",
    "    \"\"\"\n",
    "    df = df.loc[:, df.columns.duplicated()]\n",
    "    return df\n",
    "df_remove_duplicate_columns = remove_duplicate_columns(df_)\n",
    "df_remove_duplicate_columns.columns"
   ]
  },
  {
   "cell_type": "code",
   "execution_count": null,
   "metadata": {},
   "outputs": [],
   "source": [
    "df_old = df_[['when',  'expected_start', 'start_process',\n",
    "            'start_subprocess1','start_critical_subprocess1',\n",
    "            'predicted_process_end', 'process_end', 'subprocess1_end',\n",
    "            'reported_on_tower', 'opened']]\n",
    "\n",
    "# df_old = df_[['start_critical_subprocess1','opened']]"
   ]
  },
  {
   "cell_type": "code",
   "execution_count": null,
   "metadata": {},
   "outputs": [],
   "source": []
  },
  {
   "cell_type": "code",
   "execution_count": null,
   "metadata": {},
   "outputs": [],
   "source": [
    "df_old.head()"
   ]
  },
  {
   "cell_type": "code",
   "execution_count": null,
   "metadata": {},
   "outputs": [],
   "source": [
    "for i in df_old.columns:\n",
    "    df_old[i] = pd.to_datetime(df_old[i],errors='coerce')\n",
    "    df_old[i] = df_old[i].values.astype('int64')\n",
    "    df_old[i][df_old[i]<0]=np.nan \n",
    "    df_old[i] = pd.to_datetime(df_old[i].interpolate(), unit='ns')\n",
    "    "
   ]
  },
  {
   "cell_type": "code",
   "execution_count": null,
   "metadata": {},
   "outputs": [],
   "source": [
    "df_old.to_clipboard()"
   ]
  },
  {
   "cell_type": "code",
   "execution_count": null,
   "metadata": {},
   "outputs": [],
   "source": [
    "df_['start_critical_subprocess1'] = pd.to_datetime(df_['start_critical_subprocess1'],errors='coerce')\n",
    "df_['start_critical_subprocess1'] = df_['start_critical_subprocess1'].values.astype('int64')\n",
    "df_['start_critical_subprocess1'][df_['start_critical_subprocess1']<0]=np.nan \n",
    "df_['start_critical_subprocess1'] = pd.to_datetime(df_['start_critical_subprocess1'].interpolate(), unit='ns')"
   ]
  },
  {
   "cell_type": "code",
   "execution_count": null,
   "metadata": {},
   "outputs": [],
   "source": [
    "df_old['start_critical_subprocess1'] "
   ]
  },
  {
   "cell_type": "code",
   "execution_count": null,
   "metadata": {},
   "outputs": [],
   "source": [
    "for _ in df__.columns:\n",
    "    df__[_] = pd.to_datetime(df__[_], dayfirst=True)"
   ]
  },
  {
   "cell_type": "code",
   "execution_count": null,
   "metadata": {},
   "outputs": [],
   "source": [
    "df__ = df_[['when',  'expected_start', 'start_process',\n",
    "            'start_subprocess1', 'start_critical_subprocess1',\n",
    "            'predicted_process_end', 'process_end', 'subprocess1_end',\n",
    "            'reported_on_tower', 'opened']]\n",
    "\n",
    "def interpolate(x):\n",
    "    for i in x.columns:\n",
    "        df__[i] = pd.to_datetime(df__[i], errors='coerce')\n",
    "        df__[i]  = df__[i] .values.astype('int64')\n",
    "        df__[i][df__[i] <0]=np.nan \n",
    "        df__[i]  = pd.to_datetime(df__[i].interpolate(), unit='ns')\n",
    "    \n",
    "df_pro = interpolate(df__)"
   ]
  },
  {
   "cell_type": "code",
   "execution_count": null,
   "metadata": {},
   "outputs": [],
   "source": [
    "df_ = shuffle(df_)\n",
    "df_['start_critical_subprocess1'].isnull().sum()"
   ]
  },
  {
   "cell_type": "code",
   "execution_count": null,
   "metadata": {},
   "outputs": [],
   "source": [
    "df_['start_critical_subprocess1'] = pd.to_datetime(df_['start_critical_subprocess1'],errors='coerce')\n",
    "df_['start_critical_subprocess1'] = df_['start_critical_subprocess1'].values.astype('int64')\n",
    "df_['start_critical_subprocess1'][df_['start_critical_subprocess1']<0]=np.nan \n",
    "df_['start_critical_subprocess1'] = pd.to_datetime(df_['start_critical_subprocess1'].interpolate(), unit='ns')"
   ]
  },
  {
   "cell_type": "code",
   "execution_count": null,
   "metadata": {},
   "outputs": [],
   "source": [
    "df_['start_critical_subprocess1']"
   ]
  },
  {
   "cell_type": "code",
   "execution_count": null,
   "metadata": {},
   "outputs": [],
   "source": [
    "df_['crystal_supergroup'].unique()"
   ]
  },
  {
   "cell_type": "code",
   "execution_count": null,
   "metadata": {},
   "outputs": [],
   "source": [
    "df_.isin(['21/12/2020 12:11']).any()"
   ]
  },
  {
   "cell_type": "code",
   "execution_count": null,
   "metadata": {},
   "outputs": [],
   "source": [
    "lower_limit = df_.expected_final_factor_x.mean() - 3*df_.expected_final_factor_x.std()\n",
    "upper_limit = df_.expected_final_factor_x.mean() + 3*df_.expected_final_factor_x.std()\n",
    "\n",
    "df_scores_filtered = df_[(df_['expected_final_factor_x']>lower_limit)&(df_['expected_final_factor_x']<upper_limit)]\n",
    "print(df_scores_filtered.shape)"
   ]
  },
  {
   "cell_type": "code",
   "execution_count": null,
   "metadata": {},
   "outputs": [],
   "source": [
    "import numpy as np\n",
    "data = df_.expected_final_factor_x.to_list()\n",
    "threshold = 2\n",
    "mean = np.mean(data)\n",
    "std = np.std(data)\n",
    "z_score_outlier = [i for i in data if (i-mean)/std > threshold]\n",
    "print (len(z_score_outlier))"
   ]
  },
  {
   "cell_type": "code",
   "execution_count": null,
   "metadata": {},
   "outputs": [],
   "source": [
    "df__ = df_.T.drop_duplicates().T\n",
    "df__.columns"
   ]
  },
  {
   "cell_type": "code",
   "execution_count": null,
   "metadata": {},
   "outputs": [],
   "source": []
  },
  {
   "cell_type": "code",
   "execution_count": null,
   "metadata": {},
   "outputs": [],
   "source": [
    "# Drop duplicate columns\n",
    "df2 = df.T.drop_duplicates().T\n",
    "df_2 = pd.DataFrame(df2)"
   ]
  },
  {
   "cell_type": "code",
   "execution_count": null,
   "metadata": {},
   "outputs": [],
   "source": [
    "# lowercase all columns -- done\n",
    "# deal with opened column and interpolate missing datetime values\n",
    "# deal with cycle column, replace 33 with 1\n",
    "# deal with argon column, replace 0 with nan\n",
    "# deal with etherium before start column, lots of missing values. us MICE to fill in missing values \n",
    "# change datatypes of columns\n",
    "# remove outliers\n",
    "# remove duplicates rows\n",
    "# remove duplicates columns\n",
    "# remove missing values\n",
    "# deal with etherium before start column\n",
    "# Deal with date time columns in utils\n",
    "# Deal with crystal superherogroup character.\n"
   ]
  },
  {
   "cell_type": "code",
   "execution_count": null,
   "metadata": {},
   "outputs": [],
   "source": [
    "import pandas as pd\n",
    "import numpy as np\n",
    "import math\n",
    "\n",
    "# We create the DataFrame as a date range between 6/1/2020 (US format) and 6/2/2020 -1\n",
    "df = pd.DataFrame(index=pd.date_range(start='6/1/2020', end='6/2/2020', freq='min')[:-1])\n",
    "df.head(100)"
   ]
  },
  {
   "cell_type": "code",
   "execution_count": null,
   "metadata": {},
   "outputs": [],
   "source": [
    "import pandas as pd\n",
    "import numpy as np\n",
    "pd.pandas.set_option('display.max_columns', None)\n",
    "pd.pandas.set_option('display.max_rows', None)\n",
    "df = pd.read_csv('./data/md_raw_dataset.csv', sep=';')\n",
    "df_target = pd.read_csv('./data/md_target_dataset.csv', sep=';')"
   ]
  },
  {
   "cell_type": "code",
   "execution_count": null,
   "metadata": {},
   "outputs": [],
   "source": [
    "df.columns = df.columns.str.lower()\n",
    "df = df.rename(columns={'unnamed: 0': 'index','unnamed: 17': 'unnamed_17', 'unnamed: 7': 'unnamed_7'})\n",
    "\n",
    "# list columns with null values.\n",
    "df.columns[df.isnull().any()].tolist()\n",
    "from sklearn.utils import shuffle\n",
    "df = shuffle(df)"
   ]
  },
  {
   "cell_type": "code",
   "execution_count": null,
   "metadata": {},
   "outputs": [],
   "source": [
    "df['opened'] = pd.to_datetime(df['opened'],errors='coerce')\n",
    "df['opened'] = df['opened'].values.astype('int64')\n",
    "df['opened'][df['opened']<0]=np.nan \n",
    "df['opened'] = pd.to_datetime(df['opened'].interpolate(), unit='ns')"
   ]
  },
  {
   "cell_type": "code",
   "execution_count": null,
   "metadata": {},
   "outputs": [],
   "source": [
    "df['groups'] = df['groups'].fillna(value=33)\n",
    "\n",
    "df[['index', 'groups']] = df[['index', 'groups']].astype(int)\n",
    "df_target[['index', 'groups']] = df_target[['index', 'groups']].astype(int)"
   ]
  },
  {
   "cell_type": "code",
   "execution_count": null,
   "metadata": {},
   "outputs": [],
   "source": [
    "df_target"
   ]
  },
  {
   "cell_type": "code",
   "execution_count": null,
   "metadata": {},
   "outputs": [],
   "source": [
    "df.dtypes"
   ]
  },
  {
   "cell_type": "code",
   "execution_count": null,
   "metadata": {},
   "outputs": [],
   "source": []
  },
  {
   "cell_type": "code",
   "execution_count": null,
   "metadata": {},
   "outputs": [],
   "source": []
  },
  {
   "cell_type": "code",
   "execution_count": null,
   "metadata": {},
   "outputs": [],
   "source": [
    "s = pd.Series(pd.date_range('2012-01-01', periods=5))\n",
    "s[2] = np.nan\n",
    "s.interpolate()\n"
   ]
  },
  {
   "cell_type": "code",
   "execution_count": null,
   "metadata": {},
   "outputs": [],
   "source": [
    "\n",
    "s2 = pd.Series(s.values.astype('int64'))\n",
    "s2[s2<0] = np.nan\n",
    "s2"
   ]
  },
  {
   "cell_type": "code",
   "execution_count": null,
   "metadata": {},
   "outputs": [],
   "source": [
    "pd.to_datetime(s2.interpolate(), unit='ns')"
   ]
  },
  {
   "cell_type": "code",
   "execution_count": null,
   "metadata": {},
   "outputs": [],
   "source": [
    "# calculate time difference betweewn two rows\n",
    "df['opened'] = pd.to_datetime(df['opened'],errors='coerce')\n",
    "df['opened_'] = df['opened'].diff().dt.total_seconds()"
   ]
  },
  {
   "cell_type": "code",
   "execution_count": null,
   "metadata": {},
   "outputs": [],
   "source": [
    "# fill first three rows of opened column with 0\n",
    "df['opened'] = df['opened'].fillna(df['opened'].iloc[0])\n"
   ]
  },
  {
   "cell_type": "code",
   "execution_count": null,
   "metadata": {},
   "outputs": [],
   "source": [
    "df.to_clipboard()"
   ]
  },
  {
   "cell_type": "code",
   "execution_count": null,
   "metadata": {},
   "outputs": [],
   "source": [
    "df['opened'] = df['opened'].interpolate(method='linear') "
   ]
  },
  {
   "cell_type": "code",
   "execution_count": null,
   "metadata": {},
   "outputs": [],
   "source": [
    "df['opened']  = pd.to_datetime(df['opened'].interpolate(), unit='ns')"
   ]
  },
  {
   "cell_type": "code",
   "execution_count": null,
   "metadata": {},
   "outputs": [],
   "source": [
    "df['opened']  = df['opened'].resample('D').interpolate('cubic')\n",
    "df['opened'] "
   ]
  },
  {
   "cell_type": "code",
   "execution_count": null,
   "metadata": {},
   "outputs": [],
   "source": [
    "df.to_clipboard()"
   ]
  },
  {
   "cell_type": "code",
   "execution_count": null,
   "metadata": {},
   "outputs": [],
   "source": [
    "df_reindexed = df.reindex(pd.date_range(start=df.index.min(),\n",
    "                                                  end=df.index.max(),\n",
    "                                                  freq='1D'))\n",
    "df_reindexed.head(100\n",
    ")"
   ]
  },
  {
   "cell_type": "code",
   "execution_count": null,
   "metadata": {},
   "outputs": [],
   "source": [
    "# create new datetime index based on specified range\n",
    "daterng_all = pd.date_range(start='2021-08-17 15:00:00', end='2021-08-17 16:30:00', freq=\"5T\")\n",
    "\n",
    "# create rows with missing intervals and fill missing data\n",
    "df_test = daterng_all.reindex(daterng_all, fill_value=np.nan).interpolate()"
   ]
  },
  {
   "cell_type": "code",
   "execution_count": null,
   "metadata": {},
   "outputs": [],
   "source": [
    "sd = df[['unnamed_17','first_factor_x','start_process']]\n",
    "rt = sd.T.drop_duplicates().T\n"
   ]
  },
  {
   "cell_type": "code",
   "execution_count": null,
   "metadata": {},
   "outputs": [],
   "source": [
    "rt.dtypes"
   ]
  },
  {
   "cell_type": "code",
   "execution_count": null,
   "metadata": {},
   "outputs": [],
   "source": [
    "# df_2 = df.T.drop_duplicates().T\n",
    "# df_2 = df.loc[:,~df.T.duplicated(keep='first')]\n",
    "df_2 = pd.DataFrame(df.values[:,~df.columns.duplicated()], columns=df.columns[~df.columns.duplicated()])"
   ]
  },
  {
   "cell_type": "code",
   "execution_count": null,
   "metadata": {},
   "outputs": [],
   "source": [
    "print(df_raw.shape)\n",
    "print(df_2.shape)"
   ]
  },
  {
   "cell_type": "code",
   "execution_count": null,
   "metadata": {},
   "outputs": [],
   "source": [
    "df = df_raw.copy()\n",
    "# Drop duplicate columns\n",
    "df2 = df.T.drop_duplicates().T\n",
    "print(df2.head(5))\n"
   ]
  },
  {
   "cell_type": "code",
   "execution_count": null,
   "metadata": {},
   "outputs": [],
   "source": [
    "df2.to_clipboard()"
   ]
  },
  {
   "cell_type": "code",
   "execution_count": null,
   "metadata": {},
   "outputs": [],
   "source": []
  },
  {
   "cell_type": "code",
   "execution_count": null,
   "metadata": {},
   "outputs": [],
   "source": [
    "tr = df.T.drop_duplicates().T"
   ]
  },
  {
   "cell_type": "code",
   "execution_count": null,
   "metadata": {},
   "outputs": [],
   "source": [
    "tr.head()"
   ]
  },
  {
   "cell_type": "code",
   "execution_count": null,
   "metadata": {},
   "outputs": [],
   "source": [
    "df_new = df.loc[:,~df.apply(lambda x: x.duplicated(),axis=1).all()].copy()"
   ]
  },
  {
   "cell_type": "code",
   "execution_count": null,
   "metadata": {},
   "outputs": [],
   "source": [
    "df_.shape"
   ]
  },
  {
   "cell_type": "code",
   "execution_count": null,
   "metadata": {},
   "outputs": [],
   "source": []
  },
  {
   "cell_type": "code",
   "execution_count": null,
   "metadata": {},
   "outputs": [],
   "source": []
  },
  {
   "cell_type": "code",
   "execution_count": null,
   "metadata": {},
   "outputs": [],
   "source": [
    "!pip install data-science-types"
   ]
  },
  {
   "cell_type": "code",
   "execution_count": null,
   "metadata": {},
   "outputs": [],
   "source": [
    "import pandas as pd\n",
    "\n",
    "df: pd.DataFrame = pd.DataFrame({'col1': [1,2,3], 'col2': [4,5,6]}) # OK\n",
    "df1: pd.DataFrame = pd.Series([1,2,3]) # error: Incompatible types in assignment"
   ]
  },
  {
   "cell_type": "code",
   "execution_count": null,
   "metadata": {},
   "outputs": [],
   "source": [
    "df1.head()"
   ]
  },
  {
   "cell_type": "code",
   "execution_count": null,
   "metadata": {},
   "outputs": [],
   "source": [
    "import pandas as pd\n",
    "df= pd.read_parquet(\"./data/merged_data.parquet\")\n",
    "type(df)"
   ]
  },
  {
   "cell_type": "markdown",
   "metadata": {},
   "source": [
    "## Ramdom forest regressor"
   ]
  },
  {
   "cell_type": "code",
   "execution_count": null,
   "metadata": {},
   "outputs": [],
   "source": [
    "import logging\n",
    "import numpy as np\n",
    "from src.utils import gaussrank_gpu\n",
    "from src.utils import split_datetime, load_config, categorify, target_encode, count_encode\n",
    "import logzero\n",
    "import pandas as pd\n",
    "import sys\n",
    "import os\n",
    "from asyncio.log import logger\n",
    "from lib2to3.pgen2.pgen import DFAState\n",
    "from posixpath import split\n",
    "import warnings\n",
    "warnings.filterwarnings(action=\"ignore\")\n",
    "\n",
    "\n",
    "class FeatEngg(object):\n",
    "    def __init__(self, df, config) -> None:\n",
    "        self.df = df\n",
    "        self.config = config\n",
    "\n",
    "    # Not implemented\n",
    "    def feat_engg_date(self):\n",
    "        self.df[\"expected_total_time_to_report\"] = (\n",
    "            self.df['reported_on_tower']) - (self.df['expected_start'])\n",
    "        self.df[\"expected_total_time_to_report\"] = (\n",
    "            self.df['reported_on_tower']) - (self.df['start_process'])\n",
    "        self.df[\"expected_total_time_to_report\"] = (\n",
    "            self.df['predicted_process_end']) - (self.df['start_process'])\n",
    "        self.df[\"expected_total_time_to_report\"] = (\n",
    "            self.df['subprocess1_end']) - (self.df['start_process'])\n",
    "\n",
    "    def categorify_columns(self):\n",
    "        for col in self.config[\"categorify_columns\"]:\n",
    "            self.df = categorify(df=self.df, cat=col, freq_treshhold=20)\n",
    "        return self.df\n",
    "\n",
    "    def target_encode_columns(self):\n",
    "        for col in self.config[\"target_encode_columns\"]:\n",
    "            self.df = target_encode(self.df, [col], 'target')\n",
    "        return self.df\n",
    "\n",
    "    def count_encode_columns(self):\n",
    "        for col in self.config[\"count_encode_columns\"]:\n",
    "            self.df = count_encode(self.df, col)\n",
    "        return self.df\n",
    "    \n",
    "    def transforming_target_continuous(self):\n",
    "        self.df[\"target\"] = gaussrank_gpu(self.df[\"target\"])\n",
    "        for col in self.config[\"continuous_columns\"]:\n",
    "            self.df[col] = gaussrank_gpu(self.df[col].values)\n",
    "        return self.df\n",
    "import matplotlib.pyplot as plt\n",
    "import numpy as np\n",
    "from src.utils import load_config\n",
    "from sklearn.feature_selection import SelectFromModel\n",
    "from featurewiz import FeatureWiz\n",
    "from mlxtend.feature_selection import SequentialFeatureSelector as SFS\n",
    "from sklearn.linear_model import LinearRegression\n",
    "import yaml\n",
    "import seaborn as sns\n",
    "import warnings\n",
    "import pandas as pd\n",
    "import os\n",
    "import sys\n",
    "root = os.path.abspath('..')\n",
    "sys.path.append(root)\n",
    "warnings.filterwarnings('ignore')\n",
    "pd.pandas.set_option('display.max_columns', None)\n",
    "pd.pandas.set_option('display.max_rows', None)\n",
    "\n",
    "\n",
    "def feature_selection(df, var_list, target):\n",
    "    '''\n",
    "    Feature selection is done in following steps:\n",
    "    1. Remove highly correlated features r > 0.7.\n",
    "    2. Remove features with low mutual information score when multiple features are highly correlated.\n",
    "    3. Recursively do feature selection using XGBoost to find the best features.\n",
    "    The above steps are done using open source library featurewiz.\n",
    "    '''\n",
    "    X_train, y_train = df[var_list], target\n",
    "    features = FeatureWiz(corr_limit=0.70, feature_engg='', category_encoders='',\n",
    "                          dask_xgboost_flag=False, nrows=None, verbose=1)\n",
    "    X_train_selected = features.fit_transform(X_train, y_train)\n",
    "    ### provides the list of selected features ###\n",
    "    return features.features\n",
    "\n",
    "# Function to save features after feature selection\n",
    "\n",
    "\n",
    "def save_features_after_feature_selection(col_names, config):\n",
    "    pd.Series(col_names).to_csv(os.path.join(\n",
    "        config['PATHS']['Project_path'] + 'data/', 'final_features.csv'))\n",
    "\n",
    "# if __name__ == '__main__':\n",
    "#     config = load_config('config.yaml')\n",
    "#     df = pd.read_csv(os.path.join(config['PATHS']['Project_path'] + 'data/', 'train.csv'))\n",
    "#     df.head()\n",
    "#     target = df['target']\n",
    "#     del df['target']\n",
    "#     selected_features = pd.read_csv(os.path.join(config['PATHS']['Project_path'] + 'data/', 'final_features_before_fs.csv'))\n",
    "#     selected_features = list(selected_features['0'])\n",
    "#     selected_features.remove('target')\n",
    "#     final_selected_features = feature_selection(df, selected_features, target)\n",
    "#     save_features_after_feature_selection(final_selected_features, config)\n",
    "#     #pd.Series(final_selected_features).to_csv(os.path.join(config['PATHS']['Project_path'] + 'data/', 'final_features.csv'))\n",
    "import logging\n",
    "from src.utils import split_datetime, load_config, cal_time_diff\n",
    "import logzero\n",
    "import numpy as np\n",
    "import pandas as pd\n",
    "import sys\n",
    "import os\n",
    "from asyncio.log import logger\n",
    "from posixpath import split\n",
    "import warnings\n",
    "warnings.filterwarnings(action=\"ignore\")\n",
    "\n",
    "\n",
    "class Preprocessing(object):\n",
    "    def __init__(self, df, config) -> None:\n",
    "        self.df = df\n",
    "        self.config = config\n",
    "\n",
    "    def processing_missing_values(self):\n",
    "        # Fll missing values of continous variables with median and categorical variables with mode.\n",
    "        # vars_with_na = [var for var in self.df.columns if self.df[var].isnull().sum() > 0]\n",
    "        for col in self.config[\"vars_with_na\"]:\n",
    "            self.df[\"NA_\" + col] = self.df[col].isna().astype(np.int8)\n",
    "            if str(self.df[col].dtypes) in ['int64', 'float64']:\n",
    "                self.df[col].fillna(self.df[col].median(), inplace=True)\n",
    "            else:\n",
    "                self.df[col].fillna(self.df[col].mode()[0], inplace=True)\n",
    "\n",
    "    def preprocess_date_cols(self, col_names):\n",
    "        # Split datetime columns into year, month, day.\n",
    "        for colname in self.df[col_names]:\n",
    "            self.df[colname] = pd.to_datetime(self.df[colname])\n",
    "        self.df = split_datetime(self.df, \"when\")\n",
    "        return self.df\n",
    "\n",
    "    def cal_time_diff(self, col_names):\n",
    "        # Calculate time difference between two datetime columns.\n",
    "        self.df = cal_time_diff(self.df, 'process_end',\n",
    "                                'start_process', 'time_diff_process')\n",
    "        self.df = cal_time_diff(\n",
    "            self.df, 'subprocess1_end', 'start_subprocess1', 'time_diff_subprocess')\n",
    "        return self.df\n",
    "# Import necessary modules\n",
    "import matplotlib.pyplot as plt\n",
    "import numpy as np\n",
    "import pickle\n",
    "from scipy.stats import uniform, randint\n",
    "from sklearn.model_selection import cross_val_score, GridSearchCV, KFold, RandomizedSearchCV, train_test_split\n",
    "from sklearn.metrics import auc, accuracy_score, confusion_matrix, mean_squared_error, r2_score\n",
    "import xgboost as xgb\n",
    "from pycaret.regression import *\n",
    "from src.utils import load_config\n",
    "from sklearn.feature_selection import SelectFromModel\n",
    "from sklearn.linear_model import Lasso\n",
    "import yaml\n",
    "import seaborn as sns\n",
    "import warnings\n",
    "import pandas as pd\n",
    "import os\n",
    "import sys\n",
    "import joblib\n",
    "import shap\n",
    "\n",
    "root = os.path.abspath('..')\n",
    "sys.path.append(root)\n",
    "warnings.filterwarnings('ignore')\n",
    "pd.pandas.set_option('display.max_columns', None)\n",
    "pd.pandas.set_option('display.max_rows', None)\n",
    "\n",
    "\n",
    "class model_training(object):\n",
    "    def __init__(self, df, target, final_columns, config) -> None:\n",
    "        self.df = df\n",
    "        self.target = target\n",
    "        self.final_columns = final_columns\n",
    "        self.config = config\n",
    "        self.model_params = self.config[\"logging_params\"][\"xgb\"]\n",
    "        self.param_grid = self.config[\"parameter_grid\"][\"params\"]\n",
    "\n",
    "    def convert_to_DMatrix(self):\n",
    "        # convert to DMatrix for xgboost which is an internal data structure for xgboost.\n",
    "        self.train, self.temp = train_test_split(\n",
    "            self.df, test_size=0.2, random_state=2022)\n",
    "        self.test, self.valid = train_test_split(\n",
    "            self.temp, test_size=0.5, random_state=2022)\n",
    "        self.dtrain = xgb.DMatrix(\n",
    "            data=self.train[self.final_columns], label=self.train.target, enable_categorical=True)\n",
    "        self.dvalid = xgb.DMatrix(\n",
    "            data=self.valid[self.final_columns], label=self.valid.target, enable_categorical=True)\n",
    "        self.dtest = xgb.DMatrix(\n",
    "            data=self.test[self.final_columns], label=self.test.target, enable_categorical=True)\n",
    "        # save dmatrix into binary buffer\n",
    "        self.dtest.save_binary(\"dtest.dmatrix\")\n",
    "        self.evals = [(self.dtrain, \"train\"), (self.dvalid, \"valid\")]\n",
    "        self.num_round = 500\n",
    "\n",
    "    # Multiple regression model is our base model\n",
    "    def base_model(self):\n",
    "        X = self.df[self.final_columns]\n",
    "        y = self.target\n",
    "        X_train, X_test, y_train, y_test = train_test_split(\n",
    "            X, y, test_size=0.3, random_state=23)\n",
    "        # Add x0=1 to the first column of X\n",
    "        X_train_0 = np.c_[np.ones((X_train.shape[0], 1)), X_train]\n",
    "        X_test_0 = np.c_[np.ones((X_test.shape[0], 1)), X_test]\n",
    "        # Build the model\n",
    "        theta = np.matmul(np.linalg.inv(\n",
    "            np.matmul(X_train_0.T, X_train_0)), np.matmul(X_train_0.T, y_train))\n",
    "        # Make predictions\n",
    "        y_pred = np.matmul(X_test_0, theta)\n",
    "        # Evaluate the model\n",
    "        mse = mean_squared_error(y_test, y_pred)\n",
    "        # R_square\n",
    "        sse = np.sum((y_pred - y_test)**2)\n",
    "        sst = np.sum((y_test - y_test.mean())**2)\n",
    "        R_square = 1 - (sse/sst)\n",
    "        with open('./eval/RMSE_multiple_regression.txt', 'w') as f:\n",
    "            f.write(str(np.sqrt(mse)))\n",
    "            f.write(str(R_square))\n",
    "            f.close()\n",
    "        print('Root mean squared error of multiple regression model', np.sqrt(mse))\n",
    "        print('r square of multiple regression', R_square)\n",
    "    \n",
    "    def train_randomforest(self):\n",
    "        from sklearn.ensemble import RandomForestRegressor\n",
    "        \"\"\"_summary: train random forest model and save the model.\"\"\"\n",
    "        # train random forest model for comparison.\n",
    "        self.rf = RandomForestRegressor(\n",
    "            n_estimators=100, max_depth=5, random_state=0)\n",
    "        self.rf.fit(self.train[self.final_columns], self.train.target)\n",
    "        self.y_pred = self.rf.predict(self.test[self.final_columns])\n",
    "        mse = mean_squared_error(self.test.target, self.y_pred)\n",
    "        print('Root mean squared error for random forest', np.sqrt(mse))\n",
    "        with open('./eval/RMSE_randomforest.txt', 'w') as f:\n",
    "            f.write(str(np.sqrt(mse)))\n",
    "\n",
    "    def train_xgb(self):\n",
    "        # train baseline model for comparison.\n",
    "        self.xgb_model = xgb.train(\n",
    "            params=self.model_params,\n",
    "            dtrain=self.dtrain,\n",
    "            num_boost_round=self.num_round,\n",
    "            evals=self.evals,\n",
    "        )\n",
    "\n",
    "    def evaluate_model(self):\n",
    "        # evaluate the model.\n",
    "        self.y_pred = self.xgb_model.predict(self.dtest)\n",
    "        mse = mean_squared_error(self.test.target, self.y_pred)\n",
    "        print('Root mean squared error for xgboost', np.sqrt(mse))\n",
    "        with open('./eval/RMSE_xgb.txt', 'w') as f:\n",
    "            f.write(str(np.sqrt(mse)))\n",
    "        return self.y_pred\n",
    "\n",
    "    def shap(self):\n",
    "        # explain the model using SHAP values.\n",
    "        explainer = shap.TreeExplainer(self.xgb_model)\n",
    "        shap_values = explainer.shap_values(self.df[self.final_columns])\n",
    "        shap.summary_plot(\n",
    "            shap_values, self.df[self.final_columns], plot_type=\"bar\")\n",
    "        shap.summary_plot(\n",
    "            shap_values, self.df[self.final_columns])\n",
    "        plt.savefig(os.path.join(\n",
    "            self.config['PATHS']['Project_path'] + 'plots/', 'shap_plot.png'))\n",
    "        plt.show()\n",
    "\n",
    "    def hyperparameter_search(self):\n",
    "        # hyperparameter search for xgboost.\n",
    "        self.xgb_model = xgb.XGBRegressor(objective=\"reg:linear\", random_state=42,\n",
    "                                          n_jobs=-1)\n",
    "        search = RandomizedSearchCV(self.xgb_model,\n",
    "                                    param_distributions=self.config[\"parameter_grid\"][\"params\"],\n",
    "                                    random_state=42, n_iter=200,\n",
    "                                    cv=5, verbose=1, n_jobs=1,\n",
    "                                    return_train_score=True)\n",
    "\n",
    "        search.fit(self.df[self.final_columns], self.target)\n",
    "\n",
    "        # self.report_best_scores(search.cv_results_, 1)\n",
    "        with open('best_params.txt', 'w') as f:\n",
    "            f.write(str(search.best_params_))\n",
    "\n",
    "    def save_model(self):\n",
    "        # save the model.\n",
    "        pickle.dump(self.xgb_model, open(os.path.join(\n",
    "            self.config['PATHS']['Project_path'] + 'models/', self.config['model_name']), \"wb\"))\n",
    "\n",
    "    def load_model(self, path):\n",
    "        # load the model.\n",
    "        self.xgb_model = pickle.load(open(path, \"rb\"))\n",
    "import pandas as pd\n",
    "import os\n",
    "from scipy.special import erfinv\n",
    "import numpy as np\n",
    "import yaml\n",
    "import warnings\n",
    "warnings.filterwarnings(action=\"ignore\")\n",
    "# Load config file\n",
    "\n",
    "\n",
    "def load_config(file_path):\n",
    "    with open(file_path, 'r') as f:\n",
    "        cfg = yaml.safe_load(f)\n",
    "    return cfg\n",
    "\n",
    "\n",
    "# calculate time difference between two timestamps.\n",
    "\n",
    "def cal_time_diff(df, col1, col2, column_name):\n",
    "    df[col1] = pd.to_datetime(df[col1], errors='coerce')\n",
    "    df[col2] = pd.to_datetime(df[col2], errors='coerce')\n",
    "    df[column_name] = df[col1] - df[col2]\n",
    "    df[column_name] = df[column_name].dt.total_seconds()\n",
    "    return df\n",
    "\n",
    "# Split date time column into separate columns into  weekday, day, month\n",
    "\n",
    "\n",
    "def split_datetime(df, colname):\n",
    "    df['ts_weekday'] = df[colname].dt.weekday\n",
    "    df['ts_day'] = df[colname].dt.day\n",
    "    df['ts_month'] = df[colname].dt.month\n",
    "    return df\n",
    "\n",
    "# Handling categorical features.\n",
    "# To handle categorical features, we will use the following approach:\n",
    "# 1. Categorify: We will replace the categories with a unique integer id.\n",
    "# 2. Target encoding: We will replace the categories with the mean of the target variable and smoothed to prevent overfitting.\n",
    "# 3. Count encode: We will replace the categories with the count of the category in the dataset.\n",
    "\n",
    "\n",
    "def categorify(df, cat, freq_treshhold=20, unkown_id=1, lowfrequency_id=0):\n",
    "    '''\n",
    "    This function is used for label endcoding of categorical features.\n",
    "    freq_treshhold is used to assign same number to categories with frequency less than freq_treshhold.\n",
    "    '''\n",
    "    freq = df[cat].value_counts()\n",
    "    freq = freq.reset_index()\n",
    "\n",
    "    freq.columns = [cat, 'count']\n",
    "    freq = freq.reset_index()\n",
    "\n",
    "    freq.columns = [cat + '_Categorify', cat, 'count']\n",
    "    freq[cat + '_Categorify'] = freq[cat + '_Categorify']+2\n",
    "    freq.loc[freq['count'] < freq_treshhold,\n",
    "             cat + '_Categorify'] = lowfrequency_id\n",
    "\n",
    "    freq = freq.drop('count', axis=1)\n",
    "    df = df.merge(freq, how='left', on=cat)\n",
    "    df[cat + '_Categorify'] = df[cat + '_Categorify'].fillna(unkown_id)\n",
    "    return df\n",
    "\n",
    "# Count encoding done due to high cardinality of categorical columns.\n",
    "\n",
    "\n",
    "def count_encode(df, col):\n",
    "\n",
    "    # We keep the original order as cudf merge will not preserve the original order\n",
    "    df['org_sorting'] = np.arange(len(df), dtype=\"int32\")\n",
    "\n",
    "    df_tmp = df[col].value_counts().reset_index()\n",
    "    df_tmp.columns = [col,  'CE_' + col]\n",
    "    df_tmp = df[[col, 'org_sorting']].merge(\n",
    "        df_tmp, how='left', left_on=col, right_on=col).sort_values('org_sorting')\n",
    "    df['CE_' + col] = df_tmp['CE_' + col].fillna(0).values\n",
    "\n",
    "    df = df.drop('org_sorting', axis=1)\n",
    "    return df\n",
    "\n",
    "\n",
    "def target_encode(df, col, target, kfold=5, smooth=20):\n",
    "    '''\n",
    "    Taking groupby mean of categorical column and smoothing it using the formula: ((mean_cat*count_cat)+(mean_global*p_smooth)) / (count_cat+p_smooth)\n",
    "    count_cat := count of the categorical value\n",
    "    mean_cat := mean target value of the categorical value\n",
    "    mean_global := mean target value of the whole dataset\n",
    "    p_smooth := smoothing factor\n",
    "\n",
    "    To prevent overfitting we use kfold cross validation. \n",
    "    To prevent overfitting for low cardinality columns, the means are smoothed with the overall target mean.\n",
    "    '''\n",
    "    # We assume that the df dataset is shuffled\n",
    "    df['kfold'] = ((df.index) % kfold)\n",
    "    df['org_sorting'] = np.arange(len(df), dtype=\"int32\")\n",
    "    # We create the output column, we fill with 0\n",
    "    col_name = '_'.join(col)\n",
    "    df['TE_' + col_name] = 0.\n",
    "    for i in range(kfold):\n",
    "        ###################################\n",
    "        # filter for out of fold\n",
    "        # calculate the mean/counts per group category\n",
    "        # calculate the global mean for the oof\n",
    "        # calculate the smoothed TE\n",
    "        # merge it to the original dataframe\n",
    "        ###################################\n",
    "\n",
    "        df_tmp = df[df['kfold'] != i]\n",
    "        mn = df_tmp[target].mean()\n",
    "        df_tmp = df_tmp[col + [target]\n",
    "                        ].groupby(col).agg(['mean', 'count']).reset_index()\n",
    "        df_tmp.columns = col + ['mean', 'count']\n",
    "        df_tmp['TE_tmp'] = ((df_tmp['mean']*df_tmp['count']) +\n",
    "                            (mn*smooth)) / (df_tmp['count']+smooth)\n",
    "        df_tmp_m = df[col + ['kfold', 'org_sorting', 'TE_' + col_name]].merge(\n",
    "            df_tmp, how='left', left_on=col, right_on=col).sort_values('org_sorting')\n",
    "        df_tmp_m.loc[df_tmp_m['kfold'] == i, 'TE_' +\n",
    "                     col_name] = df_tmp_m.loc[df_tmp_m['kfold'] == i, 'TE_tmp']\n",
    "        df['TE_' + col_name] = df_tmp_m['TE_' + col_name].fillna(mn).values\n",
    "\n",
    "    ###################################\n",
    "    # calculate the mean/counts per group for the full dataset\n",
    "    # calculate the global mean\n",
    "    # calculate the smoothed TE\n",
    "    # merge it to the original dataframe\n",
    "    # drop all temp columns\n",
    "    ###################################\n",
    "\n",
    "    df_tmp = df[col + [target]\n",
    "                ].groupby(col).agg(['mean', 'count']).reset_index()\n",
    "    mn = df[target].mean()\n",
    "    df_tmp.columns = col + ['mean', 'count']\n",
    "    df_tmp['TE_tmp'] = ((df_tmp['mean']*df_tmp['count']) +\n",
    "                        (mn*smooth)) / (df_tmp['count']+smooth)\n",
    "\n",
    "    df = df.drop('kfold', axis=1)\n",
    "    df = df.drop('org_sorting', axis=1)\n",
    "    return df\n",
    "\n",
    "# Perform Gaussian rank normalization on continuous features and target variable.\n",
    "# This is done to reduce the effect of outliers. since the boosting is sensitive to outliers.\n",
    "\n",
    "def gaussrank_gpu(data, epsilon=1e-6):\n",
    "    r_gpu = data.argsort().argsort()  # compute rank\n",
    "    r_gpu = (r_gpu/r_gpu.max()-0.5)*2  # scale to (-1,1)\n",
    "    r_gpu = np.clip(r_gpu, -1+epsilon, 1-epsilon)  # clip the values to epsilon\n",
    "    # apply inverse error function to get normal distribution.\n",
    "    r_gpu = erfinv(r_gpu)\n",
    "    return (r_gpu)\n"
   ]
  },
  {
   "cell_type": "code",
   "execution_count": null,
   "metadata": {},
   "outputs": [],
   "source": [
    "config = load_config(\"config.yml\")  # Load config file\n",
    "df = pd.read_parquet(\"./data/merged_data.parquet\")  # Load merged data\n",
    "df = df.iloc[3:]\n",
    "print('Total number of rows and columns in the dataset before feature engineering: ', df.shape)\n",
    "#------------------------------------------------- Preprocessing --------------------------------------#\n",
    "preprocessing = Preprocessing(df, config)\n",
    "preprocessing.processing_missing_values()\n",
    "df = preprocessing.preprocess_date_cols(config[\"date_cols\"])\n",
    "df = preprocessing.cal_time_diff(config[\"date_cols\"])\n",
    "\n",
    "#------------------------------------------------- Feature Engineering --------------------------------------#\n",
    "feat_engg = FeatEngg(df=df, config=config)\n",
    "# df = feat_engg.feat_engg_date()\n",
    "df = feat_engg.categorify_columns()  # label encoding.\n",
    "df = feat_engg.target_encode_columns()  # target encoding.\n",
    "df.head()\n",
    "df = feat_engg.count_encode_columns()  # count encoding.\n",
    "# Gaussian rank transformation for target and continuous columns.\n",
    "df = feat_engg.transforming_target_continuous()\n",
    "print('Total number of rows and columns in the dataset after feature engineering: ', df.shape)\n",
    "#------------------------------------------------- Feature selection --------------------------------------#\n",
    "selected_features = feature_selection(\n",
    "    df, config[\"required_columns\"], df[\"target\"])\n",
    "save_features_after_feature_selection(selected_features, config)\n",
    "\n",
    "selected_features = [\n",
    "    e for e in selected_features if e not in config['cols_to_drop']]\n",
    "print(selected_features)\n",
    "# df[selected_features].to_csv('./final_data_new.csv', index=False)\n",
    "# df['target'].to_csv('./final_target.csv', index=False)\n",
    "target = df['target']"
   ]
  },
  {
   "cell_type": "code",
   "execution_count": null,
   "metadata": {},
   "outputs": [],
   "source": []
  },
  {
   "cell_type": "code",
   "execution_count": null,
   "metadata": {},
   "outputs": [],
   "source": []
  },
  {
   "cell_type": "code",
   "execution_count": null,
   "metadata": {},
   "outputs": [],
   "source": []
  },
  {
   "cell_type": "code",
   "execution_count": null,
   "metadata": {},
   "outputs": [],
   "source": []
  },
  {
   "cell_type": "code",
   "execution_count": null,
   "metadata": {},
   "outputs": [],
   "source": []
  },
  {
   "cell_type": "code",
   "execution_count": null,
   "metadata": {},
   "outputs": [],
   "source": []
  },
  {
   "cell_type": "markdown",
   "metadata": {},
   "source": [
    "## Azure ML service"
   ]
  },
  {
   "cell_type": "code",
   "execution_count": null,
   "metadata": {},
   "outputs": [],
   "source": [
    "## SDK 2\n",
    "## Connection to the datastore."
   ]
  },
  {
   "cell_type": "code",
   "execution_count": null,
   "metadata": {},
   "outputs": [],
   "source": []
  },
  {
   "cell_type": "code",
   "execution_count": null,
   "metadata": {},
   "outputs": [],
   "source": []
  },
  {
   "cell_type": "code",
   "execution_count": null,
   "metadata": {},
   "outputs": [],
   "source": [
    "import azureml.core\n",
    "from azureml.core import Workspace\n",
    "\n",
    "# Load the workspace from the saved config file\n",
    "ws = Workspace.from_config()\n",
    "print('Ready to use Azure ML {} to work with {}'.format(azureml.core.VERSION, ws.name))"
   ]
  },
  {
   "cell_type": "code",
   "execution_count": null,
   "metadata": {},
   "outputs": [],
   "source": [
    "# Prepare the training data\n",
    "\n",
    "from azureml.core import Dataset\n",
    "\n",
    "default_ds = ws.get_default_datastore()\n",
    "\n",
    "if 'diabetes dataset' not in ws.datasets:\n",
    "    default_ds.upload_files(files=['./data/diabetes.csv', './data/diabetes2.csv'], # Upload the diabetes csv files in /data\n",
    "                        target_path='diabetes-data/', # Put it in a folder path in the datastore\n",
    "                        overwrite=True, # Replace existing files of the same name\n",
    "                        show_progress=True)\n",
    "\n",
    "    #Create a tabular dataset from the path on the datastore (this may take a short while)\n",
    "    tab_data_set = Dataset.Tabular.from_delimited_files(path=(default_ds, 'diabetes-data/*.csv'))\n",
    "\n",
    "    # Register the tabular dataset\n",
    "    try:\n",
    "        tab_data_set = tab_data_set.register(workspace=ws, \n",
    "                                name='diabetes dataset',\n",
    "                                description='diabetes data',\n",
    "                                tags = {'format':'CSV'},\n",
    "                                create_new_version=True)\n",
    "        print('Dataset registered.')\n",
    "    except Exception as ex:\n",
    "        print(ex)\n",
    "else:\n",
    "    print('Dataset already registered.')"
   ]
  },
  {
   "cell_type": "code",
   "execution_count": null,
   "metadata": {},
   "outputs": [],
   "source": []
  },
  {
   "cell_type": "code",
   "execution_count": null,
   "metadata": {},
   "outputs": [],
   "source": []
  },
  {
   "cell_type": "code",
   "execution_count": null,
   "metadata": {},
   "outputs": [],
   "source": []
  },
  {
   "cell_type": "code",
   "execution_count": null,
   "metadata": {},
   "outputs": [],
   "source": []
  },
  {
   "cell_type": "code",
   "execution_count": null,
   "metadata": {},
   "outputs": [],
   "source": [
    "import pandas as pd\n",
    "df = pd.read_parquet(r'.\\data\\merged_data.parquet')"
   ]
  },
  {
   "cell_type": "code",
   "execution_count": null,
   "metadata": {},
   "outputs": [],
   "source": [
    "df.head()"
   ]
  },
  {
   "cell_type": "code",
   "execution_count": null,
   "metadata": {},
   "outputs": [],
   "source": [
    "# drop first three rows\n",
    "df = df.iloc[3:]"
   ]
  },
  {
   "cell_type": "code",
   "execution_count": null,
   "metadata": {},
   "outputs": [],
   "source": [
    "# prediction plots\n",
    "import pandas_datareader as pdr\n",
    "data1= pdr.get_data_fred(['INDPRO', 'FEDFUNDS','UNRATE'])\n",
    "import statsmodels.formula.api as smf\n",
    "formula = 'INDPRO ~ FEDFUNDS + UNRATE'\n",
    "model = smf.ols(formula, data1).fit()\n",
    "# model.summary()\n",
    "uhat=model.resid\n",
    "import matplotlib.pyplot as plt\n",
    "plt.plot(uhat)\n",
    "yhat = model.fittedvalues\n",
    "plt.plot(yhat)\n",
    "plt.plot(data1.INDPRO, label='Actual INDPRO')\n",
    "plt.plot(yhat, label='Predicted INDPRO')\n",
    "plt.xlabel('Year')\n",
    "plt.ylabel('index')\n",
    "legend = plt.legend()\n",
    "plt.show()"
   ]
  }
 ],
 "metadata": {
  "kernelspec": {
   "display_name": "Python 3.8.8 ('base')",
   "language": "python",
   "name": "python3"
  },
  "language_info": {
   "codemirror_mode": {
    "name": "ipython",
    "version": 3
   },
   "file_extension": ".py",
   "mimetype": "text/x-python",
   "name": "python",
   "nbconvert_exporter": "python",
   "pygments_lexer": "ipython3",
   "version": "3.8.8"
  },
  "orig_nbformat": 4,
  "vscode": {
   "interpreter": {
    "hash": "ad2bdc8ecc057115af97d19610ffacc2b4e99fae6737bb82f5d7fb13d2f2c186"
   }
  }
 },
 "nbformat": 4,
 "nbformat_minor": 2
}
